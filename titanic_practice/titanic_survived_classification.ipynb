{
 "cells": [
  {
   "cell_type": "code",
   "execution_count": 1,
   "id": "1bc79fab",
   "metadata": {},
   "outputs": [],
   "source": [
    "import pandas as pd\n",
    "import numpy as np\n",
    "import matplotlib.pyplot as plt\n",
    "import seaborn as sns\n",
    "from scipy import stats\n",
    "\n",
    "from sklearn.manifold import TSNE\n",
    "from sklearn.impute import SimpleImputer\n",
    "from sklearn.preprocessing import KBinsDiscretizer\n",
    "from sklearn.preprocessing import OneHotEncoder\n",
    "from sklearn.preprocessing import OrdinalEncoder\n",
    "from sklearn.compose import ColumnTransformer\n",
    "from sklearn.pipeline import Pipeline\n",
    "from sklearn.base import BaseEstimator, TransformerMixin\n",
    "from sklearn.cluster import KMeans\n",
    "from sklearn.preprocessing import FunctionTransformer\n",
    "from sklearn.preprocessing import Normalizer\n",
    "from sklearn.model_selection import GridSearchCV\n",
    "from sklearn.model_selection import cross_val_score\n",
    "\n",
    "from numpy import inf"
   ]
  },
  {
   "cell_type": "code",
   "execution_count": 2,
   "id": "6c3794e5",
   "metadata": {},
   "outputs": [],
   "source": [
    "from sklearn.preprocessing import StandardScaler"
   ]
  },
  {
   "cell_type": "code",
   "execution_count": 3,
   "id": "1705eee6",
   "metadata": {},
   "outputs": [],
   "source": [
    "pd.set_option('max_columns', None)\n",
    "pd.set_option('display.max_rows', 200)\n",
    "pd.options.display.float_format = \"{:,.2f}\".format\n",
    "np.set_printoptions(formatter={'float': lambda x: \"{0:0.2f}\".format(x)})"
   ]
  },
  {
   "cell_type": "code",
   "execution_count": 4,
   "id": "b2afa14c",
   "metadata": {},
   "outputs": [],
   "source": [
    "test_df = pd.read_csv('test.csv')\n",
    "test_df_indeces = test_df.PassengerId"
   ]
  },
  {
   "cell_type": "code",
   "execution_count": 5,
   "id": "cd083707",
   "metadata": {},
   "outputs": [],
   "source": [
    "test_df = test_df.drop('PassengerId', axis=1)"
   ]
  },
  {
   "cell_type": "code",
   "execution_count": 6,
   "id": "55cd0edc",
   "metadata": {},
   "outputs": [],
   "source": [
    "test_numerical_data = test_df.select_dtypes(['int64', 'float64'])\n",
    "test_categorical_data = test_df.select_dtypes(['object'])"
   ]
  },
  {
   "cell_type": "code",
   "execution_count": 7,
   "id": "2e4ae8a9",
   "metadata": {},
   "outputs": [
    {
     "data": {
      "text/html": [
       "<div>\n",
       "<style scoped>\n",
       "    .dataframe tbody tr th:only-of-type {\n",
       "        vertical-align: middle;\n",
       "    }\n",
       "\n",
       "    .dataframe tbody tr th {\n",
       "        vertical-align: top;\n",
       "    }\n",
       "\n",
       "    .dataframe thead th {\n",
       "        text-align: right;\n",
       "    }\n",
       "</style>\n",
       "<table border=\"1\" class=\"dataframe\">\n",
       "  <thead>\n",
       "    <tr style=\"text-align: right;\">\n",
       "      <th></th>\n",
       "      <th>Name</th>\n",
       "      <th>Sex</th>\n",
       "      <th>Ticket</th>\n",
       "      <th>Cabin</th>\n",
       "      <th>Embarked</th>\n",
       "    </tr>\n",
       "  </thead>\n",
       "  <tbody>\n",
       "    <tr>\n",
       "      <th>0</th>\n",
       "      <td>Kelly, Mr. James</td>\n",
       "      <td>male</td>\n",
       "      <td>330911</td>\n",
       "      <td>NaN</td>\n",
       "      <td>Q</td>\n",
       "    </tr>\n",
       "    <tr>\n",
       "      <th>1</th>\n",
       "      <td>Wilkes, Mrs. James (Ellen Needs)</td>\n",
       "      <td>female</td>\n",
       "      <td>363272</td>\n",
       "      <td>NaN</td>\n",
       "      <td>S</td>\n",
       "    </tr>\n",
       "    <tr>\n",
       "      <th>2</th>\n",
       "      <td>Myles, Mr. Thomas Francis</td>\n",
       "      <td>male</td>\n",
       "      <td>240276</td>\n",
       "      <td>NaN</td>\n",
       "      <td>Q</td>\n",
       "    </tr>\n",
       "    <tr>\n",
       "      <th>3</th>\n",
       "      <td>Wirz, Mr. Albert</td>\n",
       "      <td>male</td>\n",
       "      <td>315154</td>\n",
       "      <td>NaN</td>\n",
       "      <td>S</td>\n",
       "    </tr>\n",
       "    <tr>\n",
       "      <th>4</th>\n",
       "      <td>Hirvonen, Mrs. Alexander (Helga E Lindqvist)</td>\n",
       "      <td>female</td>\n",
       "      <td>3101298</td>\n",
       "      <td>NaN</td>\n",
       "      <td>S</td>\n",
       "    </tr>\n",
       "  </tbody>\n",
       "</table>\n",
       "</div>"
      ],
      "text/plain": [
       "                                           Name     Sex   Ticket Cabin  \\\n",
       "0                              Kelly, Mr. James    male   330911   NaN   \n",
       "1              Wilkes, Mrs. James (Ellen Needs)  female   363272   NaN   \n",
       "2                     Myles, Mr. Thomas Francis    male   240276   NaN   \n",
       "3                              Wirz, Mr. Albert    male   315154   NaN   \n",
       "4  Hirvonen, Mrs. Alexander (Helga E Lindqvist)  female  3101298   NaN   \n",
       "\n",
       "  Embarked  \n",
       "0        Q  \n",
       "1        S  \n",
       "2        Q  \n",
       "3        S  \n",
       "4        S  "
      ]
     },
     "execution_count": 7,
     "metadata": {},
     "output_type": "execute_result"
    }
   ],
   "source": [
    "test_categorical_data.head()"
   ]
  },
  {
   "cell_type": "code",
   "execution_count": 8,
   "id": "4492ac6a",
   "metadata": {},
   "outputs": [
    {
     "data": {
      "text/html": [
       "<div>\n",
       "<style scoped>\n",
       "    .dataframe tbody tr th:only-of-type {\n",
       "        vertical-align: middle;\n",
       "    }\n",
       "\n",
       "    .dataframe tbody tr th {\n",
       "        vertical-align: top;\n",
       "    }\n",
       "\n",
       "    .dataframe thead th {\n",
       "        text-align: right;\n",
       "    }\n",
       "</style>\n",
       "<table border=\"1\" class=\"dataframe\">\n",
       "  <thead>\n",
       "    <tr style=\"text-align: right;\">\n",
       "      <th></th>\n",
       "      <th>Pclass</th>\n",
       "      <th>Age</th>\n",
       "      <th>SibSp</th>\n",
       "      <th>Parch</th>\n",
       "      <th>Fare</th>\n",
       "    </tr>\n",
       "  </thead>\n",
       "  <tbody>\n",
       "    <tr>\n",
       "      <th>0</th>\n",
       "      <td>3</td>\n",
       "      <td>34.50</td>\n",
       "      <td>0</td>\n",
       "      <td>0</td>\n",
       "      <td>7.83</td>\n",
       "    </tr>\n",
       "    <tr>\n",
       "      <th>1</th>\n",
       "      <td>3</td>\n",
       "      <td>47.00</td>\n",
       "      <td>1</td>\n",
       "      <td>0</td>\n",
       "      <td>7.00</td>\n",
       "    </tr>\n",
       "    <tr>\n",
       "      <th>2</th>\n",
       "      <td>2</td>\n",
       "      <td>62.00</td>\n",
       "      <td>0</td>\n",
       "      <td>0</td>\n",
       "      <td>9.69</td>\n",
       "    </tr>\n",
       "    <tr>\n",
       "      <th>3</th>\n",
       "      <td>3</td>\n",
       "      <td>27.00</td>\n",
       "      <td>0</td>\n",
       "      <td>0</td>\n",
       "      <td>8.66</td>\n",
       "    </tr>\n",
       "    <tr>\n",
       "      <th>4</th>\n",
       "      <td>3</td>\n",
       "      <td>22.00</td>\n",
       "      <td>1</td>\n",
       "      <td>1</td>\n",
       "      <td>12.29</td>\n",
       "    </tr>\n",
       "  </tbody>\n",
       "</table>\n",
       "</div>"
      ],
      "text/plain": [
       "   Pclass   Age  SibSp  Parch  Fare\n",
       "0       3 34.50      0      0  7.83\n",
       "1       3 47.00      1      0  7.00\n",
       "2       2 62.00      0      0  9.69\n",
       "3       3 27.00      0      0  8.66\n",
       "4       3 22.00      1      1 12.29"
      ]
     },
     "execution_count": 8,
     "metadata": {},
     "output_type": "execute_result"
    }
   ],
   "source": [
    "test_numerical_data.head()"
   ]
  },
  {
   "cell_type": "code",
   "execution_count": 9,
   "id": "6d44d73c",
   "metadata": {},
   "outputs": [],
   "source": [
    "df = pd.read_csv('train.csv')\n",
    "df_indeces = df.PassengerId"
   ]
  },
  {
   "cell_type": "code",
   "execution_count": 10,
   "id": "fe9806c4",
   "metadata": {},
   "outputs": [
    {
     "data": {
      "text/plain": [
       "(891, 12)"
      ]
     },
     "execution_count": 10,
     "metadata": {},
     "output_type": "execute_result"
    }
   ],
   "source": [
    "df.shape"
   ]
  },
  {
   "cell_type": "code",
   "execution_count": 11,
   "id": "e6f9891c",
   "metadata": {},
   "outputs": [
    {
     "data": {
      "text/html": [
       "<div>\n",
       "<style scoped>\n",
       "    .dataframe tbody tr th:only-of-type {\n",
       "        vertical-align: middle;\n",
       "    }\n",
       "\n",
       "    .dataframe tbody tr th {\n",
       "        vertical-align: top;\n",
       "    }\n",
       "\n",
       "    .dataframe thead th {\n",
       "        text-align: right;\n",
       "    }\n",
       "</style>\n",
       "<table border=\"1\" class=\"dataframe\">\n",
       "  <thead>\n",
       "    <tr style=\"text-align: right;\">\n",
       "      <th></th>\n",
       "      <th>PassengerId</th>\n",
       "      <th>Survived</th>\n",
       "      <th>Pclass</th>\n",
       "      <th>Name</th>\n",
       "      <th>Sex</th>\n",
       "      <th>Age</th>\n",
       "      <th>SibSp</th>\n",
       "      <th>Parch</th>\n",
       "      <th>Ticket</th>\n",
       "      <th>Fare</th>\n",
       "      <th>Cabin</th>\n",
       "      <th>Embarked</th>\n",
       "    </tr>\n",
       "  </thead>\n",
       "  <tbody>\n",
       "    <tr>\n",
       "      <th>0</th>\n",
       "      <td>1</td>\n",
       "      <td>0</td>\n",
       "      <td>3</td>\n",
       "      <td>Braund, Mr. Owen Harris</td>\n",
       "      <td>male</td>\n",
       "      <td>22.00</td>\n",
       "      <td>1</td>\n",
       "      <td>0</td>\n",
       "      <td>A/5 21171</td>\n",
       "      <td>7.25</td>\n",
       "      <td>NaN</td>\n",
       "      <td>S</td>\n",
       "    </tr>\n",
       "    <tr>\n",
       "      <th>1</th>\n",
       "      <td>2</td>\n",
       "      <td>1</td>\n",
       "      <td>1</td>\n",
       "      <td>Cumings, Mrs. John Bradley (Florence Briggs Th...</td>\n",
       "      <td>female</td>\n",
       "      <td>38.00</td>\n",
       "      <td>1</td>\n",
       "      <td>0</td>\n",
       "      <td>PC 17599</td>\n",
       "      <td>71.28</td>\n",
       "      <td>C85</td>\n",
       "      <td>C</td>\n",
       "    </tr>\n",
       "    <tr>\n",
       "      <th>2</th>\n",
       "      <td>3</td>\n",
       "      <td>1</td>\n",
       "      <td>3</td>\n",
       "      <td>Heikkinen, Miss. Laina</td>\n",
       "      <td>female</td>\n",
       "      <td>26.00</td>\n",
       "      <td>0</td>\n",
       "      <td>0</td>\n",
       "      <td>STON/O2. 3101282</td>\n",
       "      <td>7.92</td>\n",
       "      <td>NaN</td>\n",
       "      <td>S</td>\n",
       "    </tr>\n",
       "    <tr>\n",
       "      <th>3</th>\n",
       "      <td>4</td>\n",
       "      <td>1</td>\n",
       "      <td>1</td>\n",
       "      <td>Futrelle, Mrs. Jacques Heath (Lily May Peel)</td>\n",
       "      <td>female</td>\n",
       "      <td>35.00</td>\n",
       "      <td>1</td>\n",
       "      <td>0</td>\n",
       "      <td>113803</td>\n",
       "      <td>53.10</td>\n",
       "      <td>C123</td>\n",
       "      <td>S</td>\n",
       "    </tr>\n",
       "    <tr>\n",
       "      <th>4</th>\n",
       "      <td>5</td>\n",
       "      <td>0</td>\n",
       "      <td>3</td>\n",
       "      <td>Allen, Mr. William Henry</td>\n",
       "      <td>male</td>\n",
       "      <td>35.00</td>\n",
       "      <td>0</td>\n",
       "      <td>0</td>\n",
       "      <td>373450</td>\n",
       "      <td>8.05</td>\n",
       "      <td>NaN</td>\n",
       "      <td>S</td>\n",
       "    </tr>\n",
       "  </tbody>\n",
       "</table>\n",
       "</div>"
      ],
      "text/plain": [
       "   PassengerId  Survived  Pclass  \\\n",
       "0            1         0       3   \n",
       "1            2         1       1   \n",
       "2            3         1       3   \n",
       "3            4         1       1   \n",
       "4            5         0       3   \n",
       "\n",
       "                                                Name     Sex   Age  SibSp  \\\n",
       "0                            Braund, Mr. Owen Harris    male 22.00      1   \n",
       "1  Cumings, Mrs. John Bradley (Florence Briggs Th...  female 38.00      1   \n",
       "2                             Heikkinen, Miss. Laina  female 26.00      0   \n",
       "3       Futrelle, Mrs. Jacques Heath (Lily May Peel)  female 35.00      1   \n",
       "4                           Allen, Mr. William Henry    male 35.00      0   \n",
       "\n",
       "   Parch            Ticket  Fare Cabin Embarked  \n",
       "0      0         A/5 21171  7.25   NaN        S  \n",
       "1      0          PC 17599 71.28   C85        C  \n",
       "2      0  STON/O2. 3101282  7.92   NaN        S  \n",
       "3      0            113803 53.10  C123        S  \n",
       "4      0            373450  8.05   NaN        S  "
      ]
     },
     "execution_count": 11,
     "metadata": {},
     "output_type": "execute_result"
    }
   ],
   "source": [
    "df.head()"
   ]
  },
  {
   "cell_type": "code",
   "execution_count": 12,
   "id": "a6aafceb",
   "metadata": {},
   "outputs": [],
   "source": [
    "numerical_data = df.drop(['Survived', 'PassengerId'], axis=1).select_dtypes(['int64', 'float64'])\n",
    "categorical_data = df.select_dtypes(['object'])"
   ]
  },
  {
   "cell_type": "code",
   "execution_count": 13,
   "id": "63179ac5",
   "metadata": {},
   "outputs": [
    {
     "data": {
      "text/html": [
       "<div>\n",
       "<style scoped>\n",
       "    .dataframe tbody tr th:only-of-type {\n",
       "        vertical-align: middle;\n",
       "    }\n",
       "\n",
       "    .dataframe tbody tr th {\n",
       "        vertical-align: top;\n",
       "    }\n",
       "\n",
       "    .dataframe thead th {\n",
       "        text-align: right;\n",
       "    }\n",
       "</style>\n",
       "<table border=\"1\" class=\"dataframe\">\n",
       "  <thead>\n",
       "    <tr style=\"text-align: right;\">\n",
       "      <th></th>\n",
       "      <th>Pclass</th>\n",
       "      <th>Age</th>\n",
       "      <th>SibSp</th>\n",
       "      <th>Parch</th>\n",
       "      <th>Fare</th>\n",
       "    </tr>\n",
       "  </thead>\n",
       "  <tbody>\n",
       "    <tr>\n",
       "      <th>0</th>\n",
       "      <td>3</td>\n",
       "      <td>22.00</td>\n",
       "      <td>1</td>\n",
       "      <td>0</td>\n",
       "      <td>7.25</td>\n",
       "    </tr>\n",
       "    <tr>\n",
       "      <th>1</th>\n",
       "      <td>1</td>\n",
       "      <td>38.00</td>\n",
       "      <td>1</td>\n",
       "      <td>0</td>\n",
       "      <td>71.28</td>\n",
       "    </tr>\n",
       "    <tr>\n",
       "      <th>2</th>\n",
       "      <td>3</td>\n",
       "      <td>26.00</td>\n",
       "      <td>0</td>\n",
       "      <td>0</td>\n",
       "      <td>7.92</td>\n",
       "    </tr>\n",
       "    <tr>\n",
       "      <th>3</th>\n",
       "      <td>1</td>\n",
       "      <td>35.00</td>\n",
       "      <td>1</td>\n",
       "      <td>0</td>\n",
       "      <td>53.10</td>\n",
       "    </tr>\n",
       "    <tr>\n",
       "      <th>4</th>\n",
       "      <td>3</td>\n",
       "      <td>35.00</td>\n",
       "      <td>0</td>\n",
       "      <td>0</td>\n",
       "      <td>8.05</td>\n",
       "    </tr>\n",
       "  </tbody>\n",
       "</table>\n",
       "</div>"
      ],
      "text/plain": [
       "   Pclass   Age  SibSp  Parch  Fare\n",
       "0       3 22.00      1      0  7.25\n",
       "1       1 38.00      1      0 71.28\n",
       "2       3 26.00      0      0  7.92\n",
       "3       1 35.00      1      0 53.10\n",
       "4       3 35.00      0      0  8.05"
      ]
     },
     "execution_count": 13,
     "metadata": {},
     "output_type": "execute_result"
    }
   ],
   "source": [
    "numerical_data.head()"
   ]
  },
  {
   "cell_type": "code",
   "execution_count": 14,
   "id": "18091ac4",
   "metadata": {},
   "outputs": [
    {
     "data": {
      "text/html": [
       "<div>\n",
       "<style scoped>\n",
       "    .dataframe tbody tr th:only-of-type {\n",
       "        vertical-align: middle;\n",
       "    }\n",
       "\n",
       "    .dataframe tbody tr th {\n",
       "        vertical-align: top;\n",
       "    }\n",
       "\n",
       "    .dataframe thead th {\n",
       "        text-align: right;\n",
       "    }\n",
       "</style>\n",
       "<table border=\"1\" class=\"dataframe\">\n",
       "  <thead>\n",
       "    <tr style=\"text-align: right;\">\n",
       "      <th></th>\n",
       "      <th>Name</th>\n",
       "      <th>Sex</th>\n",
       "      <th>Ticket</th>\n",
       "      <th>Cabin</th>\n",
       "      <th>Embarked</th>\n",
       "    </tr>\n",
       "  </thead>\n",
       "  <tbody>\n",
       "    <tr>\n",
       "      <th>0</th>\n",
       "      <td>Braund, Mr. Owen Harris</td>\n",
       "      <td>male</td>\n",
       "      <td>A/5 21171</td>\n",
       "      <td>NaN</td>\n",
       "      <td>S</td>\n",
       "    </tr>\n",
       "    <tr>\n",
       "      <th>1</th>\n",
       "      <td>Cumings, Mrs. John Bradley (Florence Briggs Th...</td>\n",
       "      <td>female</td>\n",
       "      <td>PC 17599</td>\n",
       "      <td>C85</td>\n",
       "      <td>C</td>\n",
       "    </tr>\n",
       "    <tr>\n",
       "      <th>2</th>\n",
       "      <td>Heikkinen, Miss. Laina</td>\n",
       "      <td>female</td>\n",
       "      <td>STON/O2. 3101282</td>\n",
       "      <td>NaN</td>\n",
       "      <td>S</td>\n",
       "    </tr>\n",
       "    <tr>\n",
       "      <th>3</th>\n",
       "      <td>Futrelle, Mrs. Jacques Heath (Lily May Peel)</td>\n",
       "      <td>female</td>\n",
       "      <td>113803</td>\n",
       "      <td>C123</td>\n",
       "      <td>S</td>\n",
       "    </tr>\n",
       "    <tr>\n",
       "      <th>4</th>\n",
       "      <td>Allen, Mr. William Henry</td>\n",
       "      <td>male</td>\n",
       "      <td>373450</td>\n",
       "      <td>NaN</td>\n",
       "      <td>S</td>\n",
       "    </tr>\n",
       "  </tbody>\n",
       "</table>\n",
       "</div>"
      ],
      "text/plain": [
       "                                                Name     Sex  \\\n",
       "0                            Braund, Mr. Owen Harris    male   \n",
       "1  Cumings, Mrs. John Bradley (Florence Briggs Th...  female   \n",
       "2                             Heikkinen, Miss. Laina  female   \n",
       "3       Futrelle, Mrs. Jacques Heath (Lily May Peel)  female   \n",
       "4                           Allen, Mr. William Henry    male   \n",
       "\n",
       "             Ticket Cabin Embarked  \n",
       "0         A/5 21171   NaN        S  \n",
       "1          PC 17599   C85        C  \n",
       "2  STON/O2. 3101282   NaN        S  \n",
       "3            113803  C123        S  \n",
       "4            373450   NaN        S  "
      ]
     },
     "execution_count": 14,
     "metadata": {},
     "output_type": "execute_result"
    }
   ],
   "source": [
    "categorical_data.head()"
   ]
  },
  {
   "cell_type": "code",
   "execution_count": 15,
   "id": "8b41689b",
   "metadata": {},
   "outputs": [
    {
     "name": "stdout",
     "output_type": "stream",
     "text": [
      "(891, 5) (891, 5)\n"
     ]
    }
   ],
   "source": [
    "print(categorical_data.shape, numerical_data.shape)"
   ]
  },
  {
   "cell_type": "code",
   "execution_count": 16,
   "id": "be0485fc",
   "metadata": {},
   "outputs": [
    {
     "data": {
      "text/html": [
       "<div>\n",
       "<style scoped>\n",
       "    .dataframe tbody tr th:only-of-type {\n",
       "        vertical-align: middle;\n",
       "    }\n",
       "\n",
       "    .dataframe tbody tr th {\n",
       "        vertical-align: top;\n",
       "    }\n",
       "\n",
       "    .dataframe thead th {\n",
       "        text-align: right;\n",
       "    }\n",
       "</style>\n",
       "<table border=\"1\" class=\"dataframe\">\n",
       "  <thead>\n",
       "    <tr style=\"text-align: right;\">\n",
       "      <th></th>\n",
       "      <th>Pclass</th>\n",
       "      <th>Age</th>\n",
       "      <th>SibSp</th>\n",
       "      <th>Parch</th>\n",
       "      <th>Fare</th>\n",
       "    </tr>\n",
       "  </thead>\n",
       "  <tbody>\n",
       "    <tr>\n",
       "      <th>count</th>\n",
       "      <td>891.00</td>\n",
       "      <td>714.00</td>\n",
       "      <td>891.00</td>\n",
       "      <td>891.00</td>\n",
       "      <td>891.00</td>\n",
       "    </tr>\n",
       "    <tr>\n",
       "      <th>mean</th>\n",
       "      <td>2.31</td>\n",
       "      <td>29.70</td>\n",
       "      <td>0.52</td>\n",
       "      <td>0.38</td>\n",
       "      <td>32.20</td>\n",
       "    </tr>\n",
       "    <tr>\n",
       "      <th>std</th>\n",
       "      <td>0.84</td>\n",
       "      <td>14.53</td>\n",
       "      <td>1.10</td>\n",
       "      <td>0.81</td>\n",
       "      <td>49.69</td>\n",
       "    </tr>\n",
       "    <tr>\n",
       "      <th>min</th>\n",
       "      <td>1.00</td>\n",
       "      <td>0.42</td>\n",
       "      <td>0.00</td>\n",
       "      <td>0.00</td>\n",
       "      <td>0.00</td>\n",
       "    </tr>\n",
       "    <tr>\n",
       "      <th>25%</th>\n",
       "      <td>2.00</td>\n",
       "      <td>20.12</td>\n",
       "      <td>0.00</td>\n",
       "      <td>0.00</td>\n",
       "      <td>7.91</td>\n",
       "    </tr>\n",
       "    <tr>\n",
       "      <th>50%</th>\n",
       "      <td>3.00</td>\n",
       "      <td>28.00</td>\n",
       "      <td>0.00</td>\n",
       "      <td>0.00</td>\n",
       "      <td>14.45</td>\n",
       "    </tr>\n",
       "    <tr>\n",
       "      <th>75%</th>\n",
       "      <td>3.00</td>\n",
       "      <td>38.00</td>\n",
       "      <td>1.00</td>\n",
       "      <td>0.00</td>\n",
       "      <td>31.00</td>\n",
       "    </tr>\n",
       "    <tr>\n",
       "      <th>max</th>\n",
       "      <td>3.00</td>\n",
       "      <td>80.00</td>\n",
       "      <td>8.00</td>\n",
       "      <td>6.00</td>\n",
       "      <td>512.33</td>\n",
       "    </tr>\n",
       "  </tbody>\n",
       "</table>\n",
       "</div>"
      ],
      "text/plain": [
       "       Pclass    Age  SibSp  Parch   Fare\n",
       "count  891.00 714.00 891.00 891.00 891.00\n",
       "mean     2.31  29.70   0.52   0.38  32.20\n",
       "std      0.84  14.53   1.10   0.81  49.69\n",
       "min      1.00   0.42   0.00   0.00   0.00\n",
       "25%      2.00  20.12   0.00   0.00   7.91\n",
       "50%      3.00  28.00   0.00   0.00  14.45\n",
       "75%      3.00  38.00   1.00   0.00  31.00\n",
       "max      3.00  80.00   8.00   6.00 512.33"
      ]
     },
     "execution_count": 16,
     "metadata": {},
     "output_type": "execute_result"
    }
   ],
   "source": [
    "numerical_data.describe()"
   ]
  },
  {
   "cell_type": "markdown",
   "id": "911048c4",
   "metadata": {},
   "source": [
    "# Numerical data. EDA "
   ]
  },
  {
   "cell_type": "code",
   "execution_count": 17,
   "id": "84ce8ba8",
   "metadata": {},
   "outputs": [
    {
     "data": {
      "image/png": "[encoded data removed]",
      "text/plain": [
       "<Figure size 432x288 with 2 Axes>"
      ]
     },
     "metadata": {
      "needs_background": "light"
     },
     "output_type": "display_data"
    }
   ],
   "source": [
    "corr = numerical_data.corr()\n",
    "sns.heatmap(corr, annot=True);"
   ]
  },
  {
   "cell_type": "code",
   "execution_count": 18,
   "id": "36c708da",
   "metadata": {},
   "outputs": [],
   "source": [
    "std = StandardScaler()\n",
    "std_numerical_data = pd.DataFrame(std.fit_transform(numerical_data), columns=numerical_data.columns)"
   ]
  },
  {
   "cell_type": "code",
   "execution_count": 19,
   "id": "ca96e8a4",
   "metadata": {},
   "outputs": [
    {
     "data": {
      "text/html": [
       "<div>\n",
       "<style scoped>\n",
       "    .dataframe tbody tr th:only-of-type {\n",
       "        vertical-align: middle;\n",
       "    }\n",
       "\n",
       "    .dataframe tbody tr th {\n",
       "        vertical-align: top;\n",
       "    }\n",
       "\n",
       "    .dataframe thead th {\n",
       "        text-align: right;\n",
       "    }\n",
       "</style>\n",
       "<table border=\"1\" class=\"dataframe\">\n",
       "  <thead>\n",
       "    <tr style=\"text-align: right;\">\n",
       "      <th></th>\n",
       "      <th>Pclass</th>\n",
       "      <th>Age</th>\n",
       "      <th>SibSp</th>\n",
       "      <th>Parch</th>\n",
       "      <th>Fare</th>\n",
       "    </tr>\n",
       "  </thead>\n",
       "  <tbody>\n",
       "    <tr>\n",
       "      <th>0</th>\n",
       "      <td>0.83</td>\n",
       "      <td>-0.53</td>\n",
       "      <td>0.43</td>\n",
       "      <td>-0.47</td>\n",
       "      <td>-0.50</td>\n",
       "    </tr>\n",
       "    <tr>\n",
       "      <th>1</th>\n",
       "      <td>-1.57</td>\n",
       "      <td>0.57</td>\n",
       "      <td>0.43</td>\n",
       "      <td>-0.47</td>\n",
       "      <td>0.79</td>\n",
       "    </tr>\n",
       "    <tr>\n",
       "      <th>2</th>\n",
       "      <td>0.83</td>\n",
       "      <td>-0.25</td>\n",
       "      <td>-0.47</td>\n",
       "      <td>-0.47</td>\n",
       "      <td>-0.49</td>\n",
       "    </tr>\n",
       "    <tr>\n",
       "      <th>3</th>\n",
       "      <td>-1.57</td>\n",
       "      <td>0.37</td>\n",
       "      <td>0.43</td>\n",
       "      <td>-0.47</td>\n",
       "      <td>0.42</td>\n",
       "    </tr>\n",
       "    <tr>\n",
       "      <th>4</th>\n",
       "      <td>0.83</td>\n",
       "      <td>0.37</td>\n",
       "      <td>-0.47</td>\n",
       "      <td>-0.47</td>\n",
       "      <td>-0.49</td>\n",
       "    </tr>\n",
       "  </tbody>\n",
       "</table>\n",
       "</div>"
      ],
      "text/plain": [
       "   Pclass   Age  SibSp  Parch  Fare\n",
       "0    0.83 -0.53   0.43  -0.47 -0.50\n",
       "1   -1.57  0.57   0.43  -0.47  0.79\n",
       "2    0.83 -0.25  -0.47  -0.47 -0.49\n",
       "3   -1.57  0.37   0.43  -0.47  0.42\n",
       "4    0.83  0.37  -0.47  -0.47 -0.49"
      ]
     },
     "execution_count": 19,
     "metadata": {},
     "output_type": "execute_result"
    }
   ],
   "source": [
    "std_numerical_data.head()"
   ]
  },
  {
   "cell_type": "code",
   "execution_count": 20,
   "id": "e134f398",
   "metadata": {},
   "outputs": [
    {
     "data": {
      "image/png": "[encoded data removed]",
      "text/plain": [
       "<Figure size 720x288 with 1 Axes>"
      ]
     },
     "metadata": {
      "needs_background": "light"
     },
     "output_type": "display_data"
    }
   ],
   "source": [
    "plt.figure(figsize=(10, 4))\n",
    "sns.set_palette(sns.color_palette(\"rocket_r\"))\n",
    "sns.boxplot(data=std_numerical_data, orient='horizontal');"
   ]
  },
  {
   "cell_type": "markdown",
   "id": "d2c44840",
   "metadata": {},
   "source": [
    "There is a problem with outliers.\n",
    "\n",
    "**Generaly there are three options to handle outliers:** \n",
    "\n",
    "1. Remove them. \n",
    "2. Add additional feature that indicates whether records has outliers. \n",
    "3. Use log to dicrease the influence of."
   ]
  },
  {
   "cell_type": "markdown",
   "id": "17ea6972",
   "metadata": {},
   "source": [
    "### Missing values"
   ]
  },
  {
   "cell_type": "code",
   "execution_count": 21,
   "id": "6cc5e671",
   "metadata": {},
   "outputs": [
    {
     "data": {
      "text/plain": [
       "Pclass      0\n",
       "Age       177\n",
       "SibSp       0\n",
       "Parch       0\n",
       "Fare        0\n",
       "dtype: int64"
      ]
     },
     "execution_count": 21,
     "metadata": {},
     "output_type": "execute_result"
    }
   ],
   "source": [
    "numerical_data.isna().sum()"
   ]
  },
  {
   "cell_type": "code",
   "execution_count": 22,
   "id": "57c27dcd",
   "metadata": {},
   "outputs": [],
   "source": [
    "imputer = SimpleImputer(strategy='median')"
   ]
  },
  {
   "cell_type": "code",
   "execution_count": 23,
   "id": "dbbade36",
   "metadata": {},
   "outputs": [],
   "source": [
    "filled_numerical_data = pd.DataFrame(imputer.fit_transform(numerical_data), columns=numerical_data.columns)"
   ]
  },
  {
   "cell_type": "code",
   "execution_count": 24,
   "id": "cb599760",
   "metadata": {},
   "outputs": [
    {
     "data": {
      "text/plain": [
       "(891, 5)"
      ]
     },
     "execution_count": 24,
     "metadata": {},
     "output_type": "execute_result"
    }
   ],
   "source": [
    "filled_numerical_data.shape"
   ]
  },
  {
   "cell_type": "code",
   "execution_count": 25,
   "id": "e7099807",
   "metadata": {},
   "outputs": [
    {
     "data": {
      "text/plain": [
       "Pclass    0\n",
       "Age       0\n",
       "SibSp     0\n",
       "Parch     0\n",
       "Fare      0\n",
       "dtype: int64"
      ]
     },
     "execution_count": 25,
     "metadata": {},
     "output_type": "execute_result"
    }
   ],
   "source": [
    "filled_numerical_data.isna().sum()"
   ]
  },
  {
   "cell_type": "markdown",
   "id": "dd864d04",
   "metadata": {},
   "source": [
    "### Age feature analysis"
   ]
  },
  {
   "cell_type": "code",
   "execution_count": 26,
   "id": "d551f132",
   "metadata": {},
   "outputs": [],
   "source": [
    "age_attribute = numerical_data.Age"
   ]
  },
  {
   "cell_type": "code",
   "execution_count": 27,
   "id": "8a6dc199",
   "metadata": {},
   "outputs": [
    {
     "data": {
      "text/plain": [
       "0   22.00\n",
       "1   38.00\n",
       "2   26.00\n",
       "3   35.00\n",
       "4   35.00\n",
       "Name: Age, dtype: float64"
      ]
     },
     "execution_count": 27,
     "metadata": {},
     "output_type": "execute_result"
    }
   ],
   "source": [
    "age_attribute.head()"
   ]
  },
  {
   "cell_type": "code",
   "execution_count": 28,
   "id": "82a02870",
   "metadata": {},
   "outputs": [
    {
     "data": {
      "text/plain": [
       "count   714.00\n",
       "mean     29.70\n",
       "std      14.53\n",
       "min       0.42\n",
       "25%      20.12\n",
       "50%      28.00\n",
       "75%      38.00\n",
       "max      80.00\n",
       "Name: Age, dtype: float64"
      ]
     },
     "execution_count": 28,
     "metadata": {},
     "output_type": "execute_result"
    }
   ],
   "source": [
    "age_attribute.describe()"
   ]
  },
  {
   "cell_type": "code",
   "execution_count": 29,
   "id": "b9bd9aef",
   "metadata": {},
   "outputs": [
    {
     "data": {
      "image/png": "[encoded data removed]",
      "text/plain": [
       "<Figure size 576x72 with 1 Axes>"
      ]
     },
     "metadata": {
      "needs_background": "light"
     },
     "output_type": "display_data"
    }
   ],
   "source": [
    "sns.set_palette(sns.color_palette(\"rocket_r\"))\n",
    "plt.figure(figsize=(8, 1))\n",
    "sns.boxplot(data=age_attribute, orient='horizontal');"
   ]
  },
  {
   "cell_type": "markdown",
   "id": "720e58cb",
   "metadata": {},
   "source": [
    "There are some outliers. I think the best solution will be to use IQR * 1.5 to manage them."
   ]
  },
  {
   "cell_type": "code",
   "execution_count": 30,
   "id": "c917be8e",
   "metadata": {},
   "outputs": [
    {
     "data": {
      "image/png": "[encoded data removed]",
      "text/plain": [
       "<Figure size 432x288 with 1 Axes>"
      ]
     },
     "metadata": {
      "needs_background": "light"
     },
     "output_type": "display_data"
    }
   ],
   "source": [
    "sns.histplot(age_attribute);"
   ]
  },
  {
   "cell_type": "code",
   "execution_count": 31,
   "id": "39e0d2e2",
   "metadata": {},
   "outputs": [],
   "source": [
    "k2_score, pvalue = stats.normaltest(age_attribute.fillna(age_attribute.median()))"
   ]
  },
  {
   "cell_type": "markdown",
   "id": "3a896aa8",
   "metadata": {},
   "source": [
    "This function tests the null hypothesis that a sample comes from a normal distribution. "
   ]
  },
  {
   "cell_type": "code",
   "execution_count": 32,
   "id": "76cd52b2",
   "metadata": {},
   "outputs": [],
   "source": [
    "alpha = 0.05"
   ]
  },
  {
   "cell_type": "code",
   "execution_count": 33,
   "id": "b54a5701",
   "metadata": {},
   "outputs": [
    {
     "name": "stdout",
     "output_type": "stream",
     "text": [
      "53.46581133311897 2.454972229498001e-12\n"
     ]
    }
   ],
   "source": [
    "print(k2_score, pvalue)"
   ]
  },
  {
   "cell_type": "code",
   "execution_count": 34,
   "id": "7ffb896d",
   "metadata": {},
   "outputs": [
    {
     "name": "stdout",
     "output_type": "stream",
     "text": [
      "The null hypothesis can be rejected. We can assume that this data isn't normaly distributed.\n"
     ]
    }
   ],
   "source": [
    "if pvalue < alpha:\n",
    "    print(\"The null hypothesis can be rejected. We can assume that this data isn't normaly distributed.\")\n",
    "else:\n",
    "    print(\"The null hypothesis cannot be rejected\")"
   ]
  },
  {
   "cell_type": "markdown",
   "id": "2395dcac",
   "metadata": {},
   "source": [
    "The age data distributed pretty close to normal distribution so I can assume that if we get rid of outliers it will be normaly distributed"
   ]
  },
  {
   "cell_type": "code",
   "execution_count": 35,
   "id": "436986ec",
   "metadata": {},
   "outputs": [],
   "source": [
    "IQR = age_attribute.quantile(0.75) - age_attribute.quantile(0.25)"
   ]
  },
  {
   "cell_type": "code",
   "execution_count": 36,
   "id": "84ab6e90",
   "metadata": {},
   "outputs": [],
   "source": [
    "threshold = IQR * 1.5"
   ]
  },
  {
   "cell_type": "code",
   "execution_count": 37,
   "id": "34ea7de5",
   "metadata": {},
   "outputs": [],
   "source": [
    "lower_bound = age_attribute.quantile(0.25) - threshold\n",
    "upper_bound = age_attribute.quantile(0.75) + threshold\n",
    "age_attribute_without_outliers = age_attribute[(age_attribute > lower_bound) & (age_attribute < upper_bound)]"
   ]
  },
  {
   "cell_type": "code",
   "execution_count": 38,
   "id": "9608f95b",
   "metadata": {},
   "outputs": [
    {
     "name": "stdout",
     "output_type": "stream",
     "text": [
      "(891,) (703,)\n"
     ]
    }
   ],
   "source": [
    "print(age_attribute.shape, age_attribute_without_outliers.shape)"
   ]
  },
  {
   "cell_type": "code",
   "execution_count": 39,
   "id": "51d2c3ef",
   "metadata": {},
   "outputs": [
    {
     "data": {
      "image/png": "[encoded data removed]",
      "text/plain": [
       "<Figure size 432x288 with 1 Axes>"
      ]
     },
     "metadata": {
      "needs_background": "light"
     },
     "output_type": "display_data"
    }
   ],
   "source": [
    "sns.set_palette(sns.color_palette(\"rocket\"))\n",
    "sns.histplot(age_attribute_without_outliers);"
   ]
  },
  {
   "cell_type": "code",
   "execution_count": 40,
   "id": "99627063",
   "metadata": {},
   "outputs": [],
   "source": [
    "def check_normal_distribution(data):\n",
    "    k2_score, pvalue = stats.normaltest(data.fillna(data.median()))\n",
    "    alpha = 0.05\n",
    "    \n",
    "    print('Alpha level: ' + str(alpha))\n",
    "    if pvalue < alpha:\n",
    "        print(\"The null hypothesis can be rejected. We can assume that this data isn't normaly distributed.\")\n",
    "    else:\n",
    "        print(\"The null hypothesis cannot be rejected. The data is normaly distributed\")"
   ]
  },
  {
   "cell_type": "code",
   "execution_count": 41,
   "id": "b01cce72",
   "metadata": {},
   "outputs": [
    {
     "name": "stdout",
     "output_type": "stream",
     "text": [
      "Alpha level: 0.05\n",
      "The null hypothesis cannot be rejected. The data is normaly distributed\n"
     ]
    }
   ],
   "source": [
    "check_normal_distribution(age_attribute_without_outliers)"
   ]
  },
  {
   "cell_type": "code",
   "execution_count": 42,
   "id": "bbb2df50",
   "metadata": {},
   "outputs": [
    {
     "data": {
      "image/png": "[encoded data removed]",
      "text/plain": [
       "<Figure size 576x72 with 1 Axes>"
      ]
     },
     "metadata": {
      "needs_background": "light"
     },
     "output_type": "display_data"
    }
   ],
   "source": [
    "sns.set_palette(sns.color_palette(\"rocket_r\"))\n",
    "plt.figure(figsize=(8, 1))\n",
    "sns.boxplot(data=age_attribute_without_outliers, orient='horizontal');"
   ]
  },
  {
   "cell_type": "code",
   "execution_count": 43,
   "id": "564f2812",
   "metadata": {},
   "outputs": [
    {
     "data": {
      "text/plain": [
       "188"
      ]
     },
     "execution_count": 43,
     "metadata": {},
     "output_type": "execute_result"
    }
   ],
   "source": [
    "age_attribute.shape[0] - age_attribute_without_outliers.shape[0]"
   ]
  },
  {
   "cell_type": "markdown",
   "id": "6b43895f",
   "metadata": {},
   "source": [
    "Using first strategy we lose a lot of data. So it will be better to use second or third stategy"
   ]
  },
  {
   "cell_type": "markdown",
   "id": "70110c7a",
   "metadata": {},
   "source": [
    "### Pclass feature analysis"
   ]
  },
  {
   "cell_type": "code",
   "execution_count": 44,
   "id": "da7d10af",
   "metadata": {},
   "outputs": [],
   "source": [
    "pclass_attribute = numerical_data.Pclass"
   ]
  },
  {
   "cell_type": "code",
   "execution_count": 45,
   "id": "8e3cef02",
   "metadata": {},
   "outputs": [
    {
     "data": {
      "text/plain": [
       "0    3\n",
       "1    1\n",
       "2    3\n",
       "3    1\n",
       "4    3\n",
       "Name: Pclass, dtype: int64"
      ]
     },
     "execution_count": 45,
     "metadata": {},
     "output_type": "execute_result"
    }
   ],
   "source": [
    "pclass_attribute.head()"
   ]
  },
  {
   "cell_type": "code",
   "execution_count": 46,
   "id": "48b5ef26",
   "metadata": {},
   "outputs": [
    {
     "data": {
      "text/plain": [
       "3    491\n",
       "1    216\n",
       "2    184\n",
       "Name: Pclass, dtype: int64"
      ]
     },
     "execution_count": 46,
     "metadata": {},
     "output_type": "execute_result"
    }
   ],
   "source": [
    "pclass_attribute.value_counts()"
   ]
  },
  {
   "cell_type": "markdown",
   "id": "f56f90f0",
   "metadata": {},
   "source": [
    "I would say that is categorical ordered data, because it represents ticket class (1 - Upper, 2 - Middle, 3 - Lower)"
   ]
  },
  {
   "cell_type": "code",
   "execution_count": 47,
   "id": "7bd4e5aa",
   "metadata": {},
   "outputs": [
    {
     "data": {
      "image/png": "[encoded data removed]",
      "text/plain": [
       "<Figure size 360x144 with 1 Axes>"
      ]
     },
     "metadata": {
      "needs_background": "light"
     },
     "output_type": "display_data"
    }
   ],
   "source": [
    "plt.figure(figsize=(5, 2))\n",
    "sns.set_palette(sns.color_palette(\"ch:s=-.2,r=.6\"))\n",
    "sns.countplot(x=pclass_attribute);"
   ]
  },
  {
   "cell_type": "markdown",
   "id": "0f04a0bf",
   "metadata": {},
   "source": [
    "### SibSp feature analysis\n",
    "\n",
    "Number of siblings / spouses aboard the Titanic"
   ]
  },
  {
   "cell_type": "code",
   "execution_count": 48,
   "id": "e0aa9bfc",
   "metadata": {},
   "outputs": [],
   "source": [
    "sib_sp_attribute = numerical_data.SibSp"
   ]
  },
  {
   "cell_type": "code",
   "execution_count": 49,
   "id": "83e7f644",
   "metadata": {},
   "outputs": [
    {
     "data": {
      "text/plain": [
       "0    1\n",
       "1    1\n",
       "2    0\n",
       "3    1\n",
       "4    0\n",
       "Name: SibSp, dtype: int64"
      ]
     },
     "execution_count": 49,
     "metadata": {},
     "output_type": "execute_result"
    }
   ],
   "source": [
    "sib_sp_attribute.head()"
   ]
  },
  {
   "cell_type": "code",
   "execution_count": 50,
   "id": "61bad514",
   "metadata": {},
   "outputs": [
    {
     "data": {
      "text/plain": [
       "0    608\n",
       "1    209\n",
       "2     28\n",
       "4     18\n",
       "3     16\n",
       "8      7\n",
       "5      5\n",
       "Name: SibSp, dtype: int64"
      ]
     },
     "execution_count": 50,
     "metadata": {},
     "output_type": "execute_result"
    }
   ],
   "source": [
    "sib_sp_attribute.value_counts()"
   ]
  },
  {
   "cell_type": "code",
   "execution_count": 51,
   "id": "574a1b8b",
   "metadata": {},
   "outputs": [
    {
     "data": {
      "image/png": "[encoded data removed]",
      "text/plain": [
       "<Figure size 360x216 with 1 Axes>"
      ]
     },
     "metadata": {
      "needs_background": "light"
     },
     "output_type": "display_data"
    }
   ],
   "source": [
    "plt.figure(figsize=(5, 3))\n",
    "sns.set_palette(sns.color_palette(\"rocket_r\", n_colors=8))\n",
    "sns.countplot(x=sib_sp_attribute);"
   ]
  },
  {
   "cell_type": "code",
   "execution_count": 52,
   "id": "9bb560bb",
   "metadata": {},
   "outputs": [
    {
     "data": {
      "text/plain": [
       "1.0"
      ]
     },
     "execution_count": 52,
     "metadata": {},
     "output_type": "execute_result"
    }
   ],
   "source": [
    "Q3 = sib_sp_attribute.quantile(0.75)\n",
    "Q1 = sib_sp_attribute.quantile(0.25)\n",
    "IQR = Q3 - Q1\n",
    "IQR"
   ]
  },
  {
   "cell_type": "code",
   "execution_count": 53,
   "id": "ca027641",
   "metadata": {},
   "outputs": [],
   "source": [
    "lower_bound = Q1 - IQR * 1.5\n",
    "upper_bound = Q3 + IQR * 1.5"
   ]
  },
  {
   "cell_type": "code",
   "execution_count": 54,
   "id": "717c3e59",
   "metadata": {},
   "outputs": [
    {
     "data": {
      "text/plain": [
       "(891,)"
      ]
     },
     "execution_count": 54,
     "metadata": {},
     "output_type": "execute_result"
    }
   ],
   "source": [
    "sib_sp_attribute.shape"
   ]
  },
  {
   "cell_type": "code",
   "execution_count": 55,
   "id": "54830d62",
   "metadata": {},
   "outputs": [],
   "source": [
    "sib_sp_attribute_without_outliers = sib_sp_attribute[(sib_sp_attribute > lower_bound) & (sib_sp_attribute < upper_bound)]"
   ]
  },
  {
   "cell_type": "code",
   "execution_count": 56,
   "id": "aeedbbee",
   "metadata": {},
   "outputs": [
    {
     "data": {
      "text/plain": [
       "46"
      ]
     },
     "execution_count": 56,
     "metadata": {},
     "output_type": "execute_result"
    }
   ],
   "source": [
    "loss = sib_sp_attribute.shape[0] - sib_sp_attribute_without_outliers.shape[0]\n",
    "loss"
   ]
  },
  {
   "cell_type": "code",
   "execution_count": 57,
   "id": "f1b2bcc2",
   "metadata": {},
   "outputs": [
    {
     "data": {
      "text/plain": [
       "2.5"
      ]
     },
     "execution_count": 57,
     "metadata": {},
     "output_type": "execute_result"
    }
   ],
   "source": [
    "upper_bound"
   ]
  },
  {
   "cell_type": "code",
   "execution_count": 58,
   "id": "e3122b0f",
   "metadata": {},
   "outputs": [
    {
     "data": {
      "image/png": "[encoded data removed]",
      "text/plain": [
       "<Figure size 360x144 with 1 Axes>"
      ]
     },
     "metadata": {
      "needs_background": "light"
     },
     "output_type": "display_data"
    }
   ],
   "source": [
    "plt.figure(figsize=(5, 2))\n",
    "sns.set_palette(sns.color_palette(\"vlag\", 8))\n",
    "sns.countplot(x=sib_sp_attribute_without_outliers);"
   ]
  },
  {
   "cell_type": "markdown",
   "id": "da2ca066",
   "metadata": {},
   "source": [
    "I will add new feature which will indicate whether it is outlier or not"
   ]
  },
  {
   "cell_type": "markdown",
   "id": "4f806e27",
   "metadata": {},
   "source": [
    "### Parch \n",
    "\n",
    "Number of parents / children aboard the Titanic"
   ]
  },
  {
   "cell_type": "code",
   "execution_count": 59,
   "id": "0880257a",
   "metadata": {},
   "outputs": [],
   "source": [
    "parch_attribute = numerical_data.Parch"
   ]
  },
  {
   "cell_type": "code",
   "execution_count": 60,
   "id": "aa768935",
   "metadata": {},
   "outputs": [
    {
     "data": {
      "text/plain": [
       "0    678\n",
       "1    118\n",
       "2     80\n",
       "5      5\n",
       "3      5\n",
       "4      4\n",
       "6      1\n",
       "Name: Parch, dtype: int64"
      ]
     },
     "execution_count": 60,
     "metadata": {},
     "output_type": "execute_result"
    }
   ],
   "source": [
    "parch_attribute.value_counts()"
   ]
  },
  {
   "cell_type": "code",
   "execution_count": 61,
   "id": "46a95dd1",
   "metadata": {},
   "outputs": [
    {
     "data": {
      "image/png": "[encoded data removed]",
      "text/plain": [
       "<Figure size 360x216 with 1 Axes>"
      ]
     },
     "metadata": {
      "needs_background": "light"
     },
     "output_type": "display_data"
    }
   ],
   "source": [
    "plt.figure(figsize=(5, 3))\n",
    "sns.set_palette(sns.color_palette(\"coolwarm\", 7))\n",
    "sns.countplot(x=parch_attribute);"
   ]
  },
  {
   "cell_type": "code",
   "execution_count": 62,
   "id": "9da9fedc",
   "metadata": {},
   "outputs": [
    {
     "data": {
      "text/plain": [
       "0.0"
      ]
     },
     "execution_count": 62,
     "metadata": {},
     "output_type": "execute_result"
    }
   ],
   "source": [
    "Q3 = parch_attribute.quantile(0.75)\n",
    "Q1 = parch_attribute.quantile(0.25)\n",
    "IQR = Q3 - Q1\n",
    "IQR"
   ]
  },
  {
   "cell_type": "markdown",
   "id": "c2dc6fb3",
   "metadata": {},
   "source": [
    "### Fare feature analysis\n",
    "\n",
    "Passenger fare"
   ]
  },
  {
   "cell_type": "code",
   "execution_count": 63,
   "id": "6720a8d2",
   "metadata": {},
   "outputs": [],
   "source": [
    "fare_attribute = numerical_data.Fare"
   ]
  },
  {
   "cell_type": "code",
   "execution_count": 64,
   "id": "c1320650",
   "metadata": {},
   "outputs": [
    {
     "data": {
      "text/plain": [
       "0    7.25\n",
       "1   71.28\n",
       "2    7.92\n",
       "3   53.10\n",
       "4    8.05\n",
       "Name: Fare, dtype: float64"
      ]
     },
     "execution_count": 64,
     "metadata": {},
     "output_type": "execute_result"
    }
   ],
   "source": [
    "fare_attribute.head()"
   ]
  },
  {
   "cell_type": "code",
   "execution_count": 65,
   "id": "f868a6b7",
   "metadata": {},
   "outputs": [
    {
     "data": {
      "text/plain": [
       "count   891.00\n",
       "mean     32.20\n",
       "std      49.69\n",
       "min       0.00\n",
       "25%       7.91\n",
       "50%      14.45\n",
       "75%      31.00\n",
       "max     512.33\n",
       "Name: Fare, dtype: float64"
      ]
     },
     "execution_count": 65,
     "metadata": {},
     "output_type": "execute_result"
    }
   ],
   "source": [
    "fare_attribute.describe()"
   ]
  },
  {
   "cell_type": "code",
   "execution_count": 66,
   "id": "e450b4a9",
   "metadata": {},
   "outputs": [
    {
     "data": {
      "image/png": "[encoded data removed]",
      "text/plain": [
       "<Figure size 432x288 with 1 Axes>"
      ]
     },
     "metadata": {
      "needs_background": "light"
     },
     "output_type": "display_data"
    }
   ],
   "source": [
    "sns.set_palette(sns.color_palette(\"coolwarm\", 7))\n",
    "sns.histplot(fare_attribute, bins=20);"
   ]
  },
  {
   "cell_type": "code",
   "execution_count": 67,
   "id": "93ace2ce",
   "metadata": {},
   "outputs": [
    {
     "data": {
      "image/png": "[encoded data removed]",
      "text/plain": [
       "<Figure size 1080x72 with 1 Axes>"
      ]
     },
     "metadata": {
      "needs_background": "light"
     },
     "output_type": "display_data"
    }
   ],
   "source": [
    "plt.figure(figsize=(15, 1))\n",
    "sns.boxplot(x=fare_attribute);"
   ]
  },
  {
   "cell_type": "code",
   "execution_count": 68,
   "id": "efbc1e29",
   "metadata": {},
   "outputs": [],
   "source": [
    "def get_outliers_boundaries(data):\n",
    "    Q3 = data.quantile(0.75)\n",
    "    Q1 = data.quantile(0.25)\n",
    "    IQR = Q3 - Q1\n",
    "    \n",
    "    lower_bound = Q1 - IQR * 1.5\n",
    "    upper_bound = Q3 + IQR * 1.5\n",
    "    \n",
    "    return lower_bound, upper_bound"
   ]
  },
  {
   "cell_type": "code",
   "execution_count": 69,
   "id": "d81aa4df",
   "metadata": {},
   "outputs": [],
   "source": [
    "lower_bound, upper_bound = get_outliers_boundaries(fare_attribute)"
   ]
  },
  {
   "cell_type": "code",
   "execution_count": 70,
   "id": "be0a4e84",
   "metadata": {},
   "outputs": [
    {
     "name": "stdout",
     "output_type": "stream",
     "text": [
      "-26.724 65.6344\n"
     ]
    }
   ],
   "source": [
    "print(lower_bound, upper_bound)"
   ]
  },
  {
   "cell_type": "code",
   "execution_count": 71,
   "id": "a5f347d5",
   "metadata": {},
   "outputs": [],
   "source": [
    "fare_attribute_without_outliers = fare_attribute[(fare_attribute > lower_bound) & (fare_attribute < upper_bound)]"
   ]
  },
  {
   "cell_type": "code",
   "execution_count": 72,
   "id": "15f6ccdf",
   "metadata": {},
   "outputs": [],
   "source": [
    "loss = fare_attribute.shape[0] - fare_attribute_without_outliers.shape[0]"
   ]
  },
  {
   "cell_type": "code",
   "execution_count": 73,
   "id": "36bcda8b",
   "metadata": {},
   "outputs": [
    {
     "data": {
      "text/plain": [
       "116"
      ]
     },
     "execution_count": 73,
     "metadata": {},
     "output_type": "execute_result"
    }
   ],
   "source": [
    "loss"
   ]
  },
  {
   "cell_type": "markdown",
   "id": "f2ea2cf8",
   "metadata": {},
   "source": [
    "There is a big part of outliers in this series. I can't just remove them, so I'm going to use 2 or 3 strategy (additional attribute or put it under the log)."
   ]
  },
  {
   "cell_type": "code",
   "execution_count": 74,
   "id": "01a00024",
   "metadata": {},
   "outputs": [
    {
     "data": {
      "image/png": "[encoded data removed]",
      "text/plain": [
       "<Figure size 720x288 with 1 Axes>"
      ]
     },
     "metadata": {
      "needs_background": "light"
     },
     "output_type": "display_data"
    }
   ],
   "source": [
    "plt.figure(figsize=(10, 4))\n",
    "sns.set_palette(sns.color_palette(\"rocket_r\"))\n",
    "sns.boxplot(data=std_numerical_data, orient='horizontal');"
   ]
  },
  {
   "cell_type": "markdown",
   "id": "4e6cb468",
   "metadata": {},
   "source": [
    "## Clustering numerical data using t-SNE"
   ]
  },
  {
   "cell_type": "code",
   "execution_count": 75,
   "id": "79275b95",
   "metadata": {},
   "outputs": [],
   "source": [
    "tsne = TSNE(random_state=17)\n",
    "tsne_representation = tsne.fit_transform(numerical_data.fillna(age_attribute.median()))"
   ]
  },
  {
   "cell_type": "code",
   "execution_count": 76,
   "id": "2721111b",
   "metadata": {},
   "outputs": [
    {
     "data": {
      "image/png": "[encoded data removed]",
      "text/plain": [
       "<Figure size 720x720 with 1 Axes>"
      ]
     },
     "metadata": {
      "needs_background": "light"
     },
     "output_type": "display_data"
    }
   ],
   "source": [
    "plt.figure(figsize=(10, 10))\n",
    "sns.set_palette(sns.color_palette(['red', 'blue']))\n",
    "sns.scatterplot(x=tsne_representation[:, 0], y=tsne_representation[:, 1], alpha=0.6, s=500, hue=df.Survived);"
   ]
  },
  {
   "cell_type": "markdown",
   "id": "25005a97",
   "metadata": {},
   "source": [
    "There are for sure some clusters, so I can use them to create a custom attribute which will define the cluster number and hopefully will improme the classification accuracy"
   ]
  },
  {
   "cell_type": "markdown",
   "id": "5e1e17f6",
   "metadata": {},
   "source": [
    "## Feature Engineering using clustering"
   ]
  },
  {
   "cell_type": "code",
   "execution_count": 77,
   "id": "f434788c",
   "metadata": {},
   "outputs": [
    {
     "data": {
      "text/plain": [
       "KMeans(n_clusters=3)"
      ]
     },
     "execution_count": 77,
     "metadata": {},
     "output_type": "execute_result"
    }
   ],
   "source": [
    "kmeans = KMeans(3)\n",
    "kmeans.fit(filled_numerical_data.to_numpy())"
   ]
  },
  {
   "cell_type": "code",
   "execution_count": 78,
   "id": "23b918b1",
   "metadata": {},
   "outputs": [
    {
     "data": {
      "text/html": [
       "<div>\n",
       "<style scoped>\n",
       "    .dataframe tbody tr th:only-of-type {\n",
       "        vertical-align: middle;\n",
       "    }\n",
       "\n",
       "    .dataframe tbody tr th {\n",
       "        vertical-align: top;\n",
       "    }\n",
       "\n",
       "    .dataframe thead th {\n",
       "        text-align: right;\n",
       "    }\n",
       "</style>\n",
       "<table border=\"1\" class=\"dataframe\">\n",
       "  <thead>\n",
       "    <tr style=\"text-align: right;\">\n",
       "      <th></th>\n",
       "      <th>Pclass</th>\n",
       "      <th>Age</th>\n",
       "      <th>SibSp</th>\n",
       "      <th>Parch</th>\n",
       "      <th>Fare</th>\n",
       "    </tr>\n",
       "  </thead>\n",
       "  <tbody>\n",
       "    <tr>\n",
       "      <th>0</th>\n",
       "      <td>3.00</td>\n",
       "      <td>22.00</td>\n",
       "      <td>1.00</td>\n",
       "      <td>0.00</td>\n",
       "      <td>7.25</td>\n",
       "    </tr>\n",
       "    <tr>\n",
       "      <th>1</th>\n",
       "      <td>1.00</td>\n",
       "      <td>38.00</td>\n",
       "      <td>1.00</td>\n",
       "      <td>0.00</td>\n",
       "      <td>71.28</td>\n",
       "    </tr>\n",
       "    <tr>\n",
       "      <th>2</th>\n",
       "      <td>3.00</td>\n",
       "      <td>26.00</td>\n",
       "      <td>0.00</td>\n",
       "      <td>0.00</td>\n",
       "      <td>7.92</td>\n",
       "    </tr>\n",
       "    <tr>\n",
       "      <th>3</th>\n",
       "      <td>1.00</td>\n",
       "      <td>35.00</td>\n",
       "      <td>1.00</td>\n",
       "      <td>0.00</td>\n",
       "      <td>53.10</td>\n",
       "    </tr>\n",
       "    <tr>\n",
       "      <th>4</th>\n",
       "      <td>3.00</td>\n",
       "      <td>35.00</td>\n",
       "      <td>0.00</td>\n",
       "      <td>0.00</td>\n",
       "      <td>8.05</td>\n",
       "    </tr>\n",
       "  </tbody>\n",
       "</table>\n",
       "</div>"
      ],
      "text/plain": [
       "   Pclass   Age  SibSp  Parch  Fare\n",
       "0    3.00 22.00   1.00   0.00  7.25\n",
       "1    1.00 38.00   1.00   0.00 71.28\n",
       "2    3.00 26.00   0.00   0.00  7.92\n",
       "3    1.00 35.00   1.00   0.00 53.10\n",
       "4    3.00 35.00   0.00   0.00  8.05"
      ]
     },
     "execution_count": 78,
     "metadata": {},
     "output_type": "execute_result"
    }
   ],
   "source": [
    "filled_numerical_data.head()"
   ]
  },
  {
   "cell_type": "code",
   "execution_count": 79,
   "id": "8d3e893f",
   "metadata": {},
   "outputs": [],
   "source": [
    "class Clusterizer(BaseEstimator, TransformerMixin):\n",
    "    \n",
    "    def __init__(self, train_data):\n",
    "        self.train_data = train_data\n",
    "    \n",
    "    def fit(self, X, y=None):\n",
    "        return self\n",
    "    \n",
    "    def transform(self, X):\n",
    "        X = X.copy()\n",
    "        \n",
    "        kmeans = KMeans(3)\n",
    "        kmeans.fit(self.train_data.to_numpy())\n",
    "        \n",
    "        cluster_feature = pd.DataFrame(kmeans.predict(X), columns=['Cluster'])\n",
    "        \n",
    "        return cluster_feature"
   ]
  },
  {
   "cell_type": "code",
   "execution_count": 80,
   "id": "88eac8e1",
   "metadata": {},
   "outputs": [],
   "source": [
    "clusterizer = Clusterizer(filled_numerical_data)"
   ]
  },
  {
   "cell_type": "code",
   "execution_count": 81,
   "id": "9fa15b5c",
   "metadata": {},
   "outputs": [
    {
     "data": {
      "text/html": [
       "<div>\n",
       "<style scoped>\n",
       "    .dataframe tbody tr th:only-of-type {\n",
       "        vertical-align: middle;\n",
       "    }\n",
       "\n",
       "    .dataframe tbody tr th {\n",
       "        vertical-align: top;\n",
       "    }\n",
       "\n",
       "    .dataframe thead th {\n",
       "        text-align: right;\n",
       "    }\n",
       "</style>\n",
       "<table border=\"1\" class=\"dataframe\">\n",
       "  <thead>\n",
       "    <tr style=\"text-align: right;\">\n",
       "      <th></th>\n",
       "      <th>Cluster</th>\n",
       "    </tr>\n",
       "  </thead>\n",
       "  <tbody>\n",
       "    <tr>\n",
       "      <th>0</th>\n",
       "      <td>0</td>\n",
       "    </tr>\n",
       "    <tr>\n",
       "      <th>1</th>\n",
       "      <td>2</td>\n",
       "    </tr>\n",
       "    <tr>\n",
       "      <th>2</th>\n",
       "      <td>0</td>\n",
       "    </tr>\n",
       "    <tr>\n",
       "      <th>3</th>\n",
       "      <td>2</td>\n",
       "    </tr>\n",
       "    <tr>\n",
       "      <th>4</th>\n",
       "      <td>0</td>\n",
       "    </tr>\n",
       "  </tbody>\n",
       "</table>\n",
       "</div>"
      ],
      "text/plain": [
       "   Cluster\n",
       "0        0\n",
       "1        2\n",
       "2        0\n",
       "3        2\n",
       "4        0"
      ]
     },
     "execution_count": 81,
     "metadata": {},
     "output_type": "execute_result"
    }
   ],
   "source": [
    "clusterizer.fit_transform(filled_numerical_data.to_numpy()).head()"
   ]
  },
  {
   "cell_type": "markdown",
   "id": "5a981dfc",
   "metadata": {},
   "source": [
    "## Age Feature Discretization\n",
    "\n",
    "1. Child = 0-12 yrs\n",
    "2. Teen = 13-19 yrs\n",
    "3. Adult = 20-39 yrs\n",
    "4. Middle Age Adult = 40-59 yrs\n",
    "5. Senior Adult = 60+"
   ]
  },
  {
   "cell_type": "code",
   "execution_count": 82,
   "id": "e5b4dd29",
   "metadata": {},
   "outputs": [
    {
     "data": {
      "text/plain": [
       "0   22.00\n",
       "1   38.00\n",
       "2   26.00\n",
       "3   35.00\n",
       "4   35.00\n",
       "Name: Age, dtype: float64"
      ]
     },
     "execution_count": 82,
     "metadata": {},
     "output_type": "execute_result"
    }
   ],
   "source": [
    "age_attribute.head()"
   ]
  },
  {
   "cell_type": "code",
   "execution_count": 83,
   "id": "0bdfd532",
   "metadata": {},
   "outputs": [],
   "source": [
    "filled_age_attribute = age_attribute.fillna(age_attribute.median())"
   ]
  },
  {
   "cell_type": "code",
   "execution_count": 84,
   "id": "c90a9103",
   "metadata": {},
   "outputs": [],
   "source": [
    "digitized_age_attribute = pd.DataFrame(np.digitize(filled_age_attribute, bins=[12, 19, 39, 59, 150], right=True).astype('str'),\n",
    "                                      columns=['Age'])"
   ]
  },
  {
   "cell_type": "code",
   "execution_count": 85,
   "id": "9c7da349",
   "metadata": {},
   "outputs": [
    {
     "data": {
      "text/html": [
       "<div>\n",
       "<style scoped>\n",
       "    .dataframe tbody tr th:only-of-type {\n",
       "        vertical-align: middle;\n",
       "    }\n",
       "\n",
       "    .dataframe tbody tr th {\n",
       "        vertical-align: top;\n",
       "    }\n",
       "\n",
       "    .dataframe thead th {\n",
       "        text-align: right;\n",
       "    }\n",
       "</style>\n",
       "<table border=\"1\" class=\"dataframe\">\n",
       "  <thead>\n",
       "    <tr style=\"text-align: right;\">\n",
       "      <th></th>\n",
       "      <th>Age</th>\n",
       "    </tr>\n",
       "  </thead>\n",
       "  <tbody>\n",
       "    <tr>\n",
       "      <th>0</th>\n",
       "      <td>2</td>\n",
       "    </tr>\n",
       "    <tr>\n",
       "      <th>1</th>\n",
       "      <td>2</td>\n",
       "    </tr>\n",
       "    <tr>\n",
       "      <th>2</th>\n",
       "      <td>2</td>\n",
       "    </tr>\n",
       "    <tr>\n",
       "      <th>3</th>\n",
       "      <td>2</td>\n",
       "    </tr>\n",
       "    <tr>\n",
       "      <th>4</th>\n",
       "      <td>2</td>\n",
       "    </tr>\n",
       "  </tbody>\n",
       "</table>\n",
       "</div>"
      ],
      "text/plain": [
       "  Age\n",
       "0   2\n",
       "1   2\n",
       "2   2\n",
       "3   2\n",
       "4   2"
      ]
     },
     "execution_count": 85,
     "metadata": {},
     "output_type": "execute_result"
    }
   ],
   "source": [
    "digitized_age_attribute.head()"
   ]
  },
  {
   "cell_type": "code",
   "execution_count": 86,
   "id": "8e664f25",
   "metadata": {},
   "outputs": [],
   "source": [
    "encoder = OneHotEncoder()"
   ]
  },
  {
   "cell_type": "code",
   "execution_count": 87,
   "id": "0910b2ac",
   "metadata": {},
   "outputs": [],
   "source": [
    "discretized_age_attribute = encoder.fit_transform(digitized_age_attribute).todense()"
   ]
  },
  {
   "cell_type": "code",
   "execution_count": 88,
   "id": "eca556f8",
   "metadata": {},
   "outputs": [],
   "source": [
    "age_catigories = ['Child', 'Teen', 'Adult', 'MiddleAgeAdult', 'SeniorAdult'] \n",
    "discretized_age_attribute = pd.DataFrame(discretized_age_attribute, columns=age_catigories)"
   ]
  },
  {
   "cell_type": "code",
   "execution_count": 89,
   "id": "1efce37e",
   "metadata": {},
   "outputs": [
    {
     "data": {
      "text/html": [
       "<div>\n",
       "<style scoped>\n",
       "    .dataframe tbody tr th:only-of-type {\n",
       "        vertical-align: middle;\n",
       "    }\n",
       "\n",
       "    .dataframe tbody tr th {\n",
       "        vertical-align: top;\n",
       "    }\n",
       "\n",
       "    .dataframe thead th {\n",
       "        text-align: right;\n",
       "    }\n",
       "</style>\n",
       "<table border=\"1\" class=\"dataframe\">\n",
       "  <thead>\n",
       "    <tr style=\"text-align: right;\">\n",
       "      <th></th>\n",
       "      <th>Child</th>\n",
       "      <th>Teen</th>\n",
       "      <th>Adult</th>\n",
       "      <th>MiddleAgeAdult</th>\n",
       "      <th>SeniorAdult</th>\n",
       "    </tr>\n",
       "  </thead>\n",
       "  <tbody>\n",
       "    <tr>\n",
       "      <th>0</th>\n",
       "      <td>0.00</td>\n",
       "      <td>0.00</td>\n",
       "      <td>1.00</td>\n",
       "      <td>0.00</td>\n",
       "      <td>0.00</td>\n",
       "    </tr>\n",
       "    <tr>\n",
       "      <th>1</th>\n",
       "      <td>0.00</td>\n",
       "      <td>0.00</td>\n",
       "      <td>1.00</td>\n",
       "      <td>0.00</td>\n",
       "      <td>0.00</td>\n",
       "    </tr>\n",
       "    <tr>\n",
       "      <th>2</th>\n",
       "      <td>0.00</td>\n",
       "      <td>0.00</td>\n",
       "      <td>1.00</td>\n",
       "      <td>0.00</td>\n",
       "      <td>0.00</td>\n",
       "    </tr>\n",
       "    <tr>\n",
       "      <th>3</th>\n",
       "      <td>0.00</td>\n",
       "      <td>0.00</td>\n",
       "      <td>1.00</td>\n",
       "      <td>0.00</td>\n",
       "      <td>0.00</td>\n",
       "    </tr>\n",
       "    <tr>\n",
       "      <th>4</th>\n",
       "      <td>0.00</td>\n",
       "      <td>0.00</td>\n",
       "      <td>1.00</td>\n",
       "      <td>0.00</td>\n",
       "      <td>0.00</td>\n",
       "    </tr>\n",
       "  </tbody>\n",
       "</table>\n",
       "</div>"
      ],
      "text/plain": [
       "   Child  Teen  Adult  MiddleAgeAdult  SeniorAdult\n",
       "0   0.00  0.00   1.00            0.00         0.00\n",
       "1   0.00  0.00   1.00            0.00         0.00\n",
       "2   0.00  0.00   1.00            0.00         0.00\n",
       "3   0.00  0.00   1.00            0.00         0.00\n",
       "4   0.00  0.00   1.00            0.00         0.00"
      ]
     },
     "execution_count": 89,
     "metadata": {},
     "output_type": "execute_result"
    }
   ],
   "source": [
    "discretized_age_attribute.head()"
   ]
  },
  {
   "cell_type": "code",
   "execution_count": 90,
   "id": "18ede0ba",
   "metadata": {},
   "outputs": [],
   "source": [
    "class AgeDiscretizer(BaseEstimator, TransformerMixin):\n",
    "    \n",
    "    def __init__(self, encoder):\n",
    "        self.age_categories = ['Child', 'Teen', 'Adult', 'MiddleAgeAdult', 'SeniorAdult']\n",
    "        self.age_groups = [12, 19, 39, 59, 250]\n",
    "        self.encoder = encoder\n",
    "        self.dependent_feature_to_drop = 'Child'\n",
    "    \n",
    "    def fit(self, X, y=None):\n",
    "        return self\n",
    "    \n",
    "    def transform(self, age_feature):\n",
    "        \n",
    "        discretized_data = pd.DataFrame(np.digitize(age_feature, bins=self.age_groups, right=True).astype('str'),\n",
    "                                       columns=['Age'])\n",
    "        \n",
    "        discretized_data = pd.DataFrame(self.encoder.fit_transform(discretized_data).todense(),\n",
    "                                        columns=self.age_categories)\n",
    "\n",
    "        discretized_data = discretized_data.drop('Child', axis=1)\n",
    "\n",
    "        return discretized_data"
   ]
  },
  {
   "cell_type": "code",
   "execution_count": 91,
   "id": "78ce2c61",
   "metadata": {},
   "outputs": [],
   "source": [
    "age_discretizer = AgeDiscretizer(encoder)"
   ]
  },
  {
   "cell_type": "code",
   "execution_count": 92,
   "id": "b8433256",
   "metadata": {},
   "outputs": [
    {
     "data": {
      "text/html": [
       "<div>\n",
       "<style scoped>\n",
       "    .dataframe tbody tr th:only-of-type {\n",
       "        vertical-align: middle;\n",
       "    }\n",
       "\n",
       "    .dataframe tbody tr th {\n",
       "        vertical-align: top;\n",
       "    }\n",
       "\n",
       "    .dataframe thead th {\n",
       "        text-align: right;\n",
       "    }\n",
       "</style>\n",
       "<table border=\"1\" class=\"dataframe\">\n",
       "  <thead>\n",
       "    <tr style=\"text-align: right;\">\n",
       "      <th></th>\n",
       "      <th>Teen</th>\n",
       "      <th>Adult</th>\n",
       "      <th>MiddleAgeAdult</th>\n",
       "      <th>SeniorAdult</th>\n",
       "    </tr>\n",
       "  </thead>\n",
       "  <tbody>\n",
       "    <tr>\n",
       "      <th>0</th>\n",
       "      <td>0.00</td>\n",
       "      <td>1.00</td>\n",
       "      <td>0.00</td>\n",
       "      <td>0.00</td>\n",
       "    </tr>\n",
       "    <tr>\n",
       "      <th>1</th>\n",
       "      <td>0.00</td>\n",
       "      <td>1.00</td>\n",
       "      <td>0.00</td>\n",
       "      <td>0.00</td>\n",
       "    </tr>\n",
       "    <tr>\n",
       "      <th>2</th>\n",
       "      <td>0.00</td>\n",
       "      <td>1.00</td>\n",
       "      <td>0.00</td>\n",
       "      <td>0.00</td>\n",
       "    </tr>\n",
       "    <tr>\n",
       "      <th>3</th>\n",
       "      <td>0.00</td>\n",
       "      <td>1.00</td>\n",
       "      <td>0.00</td>\n",
       "      <td>0.00</td>\n",
       "    </tr>\n",
       "    <tr>\n",
       "      <th>4</th>\n",
       "      <td>0.00</td>\n",
       "      <td>1.00</td>\n",
       "      <td>0.00</td>\n",
       "      <td>0.00</td>\n",
       "    </tr>\n",
       "  </tbody>\n",
       "</table>\n",
       "</div>"
      ],
      "text/plain": [
       "   Teen  Adult  MiddleAgeAdult  SeniorAdult\n",
       "0  0.00   1.00            0.00         0.00\n",
       "1  0.00   1.00            0.00         0.00\n",
       "2  0.00   1.00            0.00         0.00\n",
       "3  0.00   1.00            0.00         0.00\n",
       "4  0.00   1.00            0.00         0.00"
      ]
     },
     "execution_count": 92,
     "metadata": {},
     "output_type": "execute_result"
    }
   ],
   "source": [
    "age_discretizer.fit_transform(filled_numerical_data.Age).head()"
   ]
  },
  {
   "cell_type": "markdown",
   "id": "2b397455",
   "metadata": {},
   "source": [
    "## Outliers"
   ]
  },
  {
   "cell_type": "markdown",
   "id": "3ad93a76",
   "metadata": {},
   "source": [
    "### Outliers highlighter transformer"
   ]
  },
  {
   "cell_type": "code",
   "execution_count": 93,
   "id": "d32d6294",
   "metadata": {},
   "outputs": [],
   "source": [
    "def add_outliers_markers(data):\n",
    "    data = pd.DataFrame(data.copy())\n",
    "    output = pd.DataFrame()\n",
    "    count = 1\n",
    "    \n",
    "    for feature_name, feature in data.iteritems():\n",
    "        \n",
    "        Q3 = feature.quantile(0.75)\n",
    "        Q1 = feature.quantile(0.25)\n",
    "        IQR = Q3 - Q1\n",
    "        threshold = IQR * 1.5\n",
    "        \n",
    "        lower_bound = Q1 - threshold\n",
    "        upper_bound = Q3 + threshold\n",
    "        \n",
    "        result = ((feature < lower_bound) | (feature > upper_bound)).rename('outlier_' + str(feature.name)).astype(int)\n",
    "        output = pd.concat([output, result], axis=1)\n",
    "        \n",
    "    return output"
   ]
  },
  {
   "cell_type": "code",
   "execution_count": 94,
   "id": "a3505058",
   "metadata": {},
   "outputs": [],
   "source": [
    "outliers_highlighter = FunctionTransformer(add_outliers_markers)"
   ]
  },
  {
   "cell_type": "code",
   "execution_count": 95,
   "id": "ead3d7e7",
   "metadata": {},
   "outputs": [
    {
     "data": {
      "text/plain": [
       "outlier_0  outlier_1\n",
       "0          0            786\n",
       "1          0             59\n",
       "0          1             39\n",
       "1          1              7\n",
       "dtype: int64"
      ]
     },
     "execution_count": 95,
     "metadata": {},
     "output_type": "execute_result"
    }
   ],
   "source": [
    "outliers_highlighter.fit_transform(filled_numerical_data[['Age', 'SibSp']].to_numpy()).value_counts()"
   ]
  },
  {
   "cell_type": "markdown",
   "id": "55cd9b63",
   "metadata": {},
   "source": [
    "### Logarithm transformer"
   ]
  },
  {
   "cell_type": "code",
   "execution_count": 96,
   "id": "17b5e18a",
   "metadata": {},
   "outputs": [
    {
     "data": {
      "text/plain": [
       "{'divide': 'warn', 'over': 'warn', 'under': 'ignore', 'invalid': 'warn'}"
      ]
     },
     "execution_count": 96,
     "metadata": {},
     "output_type": "execute_result"
    }
   ],
   "source": [
    "np.seterr(divide = 'ignore') "
   ]
  },
  {
   "cell_type": "code",
   "execution_count": 97,
   "id": "a4699b21",
   "metadata": {},
   "outputs": [],
   "source": [
    "logarithm_transformer = FunctionTransformer(np.log)"
   ]
  },
  {
   "cell_type": "code",
   "execution_count": 98,
   "id": "282de14e",
   "metadata": {},
   "outputs": [
    {
     "data": {
      "text/plain": [
       "0   1.98\n",
       "1   4.27\n",
       "2   2.07\n",
       "3   3.97\n",
       "4   2.09\n",
       "Name: Fare, dtype: float64"
      ]
     },
     "execution_count": 98,
     "metadata": {},
     "output_type": "execute_result"
    }
   ],
   "source": [
    "logarithm_transformer.fit_transform(filled_numerical_data.Fare).head()"
   ]
  },
  {
   "cell_type": "markdown",
   "id": "5e31a228",
   "metadata": {},
   "source": [
    "## Conclusion:\n",
    "```\n",
    "numerical data:\n",
    "                                                             \n",
    "- 1 -> SimpleImputer( strategy='median' ) - ['Age', 'SibSp'] - 2 -> outliers_highlighter -->\n",
    "\n",
    "- ['Fare'] - 3 - > logarithm_transformer -->\n",
    "   \n",
    "   \n",
    "         [ 'Age' ] - 5 -> AgeDiscretizer( encoder #fitted on train data )- - \n",
    "       /                                                                     \\\n",
    " - >  - - [all] - 4 -> Clusterizing( clusterizer #fitted on train data )  - - - > RESULT\n",
    "\n",
    "``` \n",
    "   \n",
    "- Pclass: leave without any changes\n",
    "- Age: Feature Discretization:\n",
    "\n",
    "1. Child = 0-12 yrs\n",
    "2. Teen = 13-19 yrs\n",
    "3. Adult = 20-39 yrs\n",
    "4. Middle Age Adult = 40-59 yrs\n",
    "5. Senior Adult = 60+\n",
    "\n",
    "I will remove child as dependent variable\n",
    "\t\n",
    "- SibSp: add binary feature which indicates whether it's outlier or not.\n",
    "- Parch: leave without any changes\n",
    "- Fare: put it under the logarithm \n",
    "\n",
    "To set up a numerical pipeline I need to create a custom class that tracks outliers and creates new attribute based on them (feature_is_outlier 1 - True, 0 - False). \n",
    "\n",
    "To handle missing values I'm going to use SimpleImputer with 'median' strategy"
   ]
  },
  {
   "cell_type": "markdown",
   "id": "a09cc569",
   "metadata": {},
   "source": [
    "# Setting up numerical pipeline"
   ]
  },
  {
   "cell_type": "code",
   "execution_count": 99,
   "id": "86e33ba7",
   "metadata": {},
   "outputs": [],
   "source": [
    "numerical_features = numerical_data.columns"
   ]
  },
  {
   "cell_type": "code",
   "execution_count": 100,
   "id": "31b44436",
   "metadata": {},
   "outputs": [
    {
     "data": {
      "text/html": [
       "<div>\n",
       "<style scoped>\n",
       "    .dataframe tbody tr th:only-of-type {\n",
       "        vertical-align: middle;\n",
       "    }\n",
       "\n",
       "    .dataframe tbody tr th {\n",
       "        vertical-align: top;\n",
       "    }\n",
       "\n",
       "    .dataframe thead th {\n",
       "        text-align: right;\n",
       "    }\n",
       "</style>\n",
       "<table border=\"1\" class=\"dataframe\">\n",
       "  <thead>\n",
       "    <tr style=\"text-align: right;\">\n",
       "      <th></th>\n",
       "      <th>Pclass</th>\n",
       "      <th>Age</th>\n",
       "      <th>SibSp</th>\n",
       "      <th>Parch</th>\n",
       "      <th>Fare</th>\n",
       "    </tr>\n",
       "  </thead>\n",
       "  <tbody>\n",
       "    <tr>\n",
       "      <th>0</th>\n",
       "      <td>3</td>\n",
       "      <td>22.00</td>\n",
       "      <td>1</td>\n",
       "      <td>0</td>\n",
       "      <td>7.25</td>\n",
       "    </tr>\n",
       "    <tr>\n",
       "      <th>1</th>\n",
       "      <td>1</td>\n",
       "      <td>38.00</td>\n",
       "      <td>1</td>\n",
       "      <td>0</td>\n",
       "      <td>71.28</td>\n",
       "    </tr>\n",
       "    <tr>\n",
       "      <th>2</th>\n",
       "      <td>3</td>\n",
       "      <td>26.00</td>\n",
       "      <td>0</td>\n",
       "      <td>0</td>\n",
       "      <td>7.92</td>\n",
       "    </tr>\n",
       "    <tr>\n",
       "      <th>3</th>\n",
       "      <td>1</td>\n",
       "      <td>35.00</td>\n",
       "      <td>1</td>\n",
       "      <td>0</td>\n",
       "      <td>53.10</td>\n",
       "    </tr>\n",
       "    <tr>\n",
       "      <th>4</th>\n",
       "      <td>3</td>\n",
       "      <td>35.00</td>\n",
       "      <td>0</td>\n",
       "      <td>0</td>\n",
       "      <td>8.05</td>\n",
       "    </tr>\n",
       "  </tbody>\n",
       "</table>\n",
       "</div>"
      ],
      "text/plain": [
       "   Pclass   Age  SibSp  Parch  Fare\n",
       "0       3 22.00      1      0  7.25\n",
       "1       1 38.00      1      0 71.28\n",
       "2       3 26.00      0      0  7.92\n",
       "3       1 35.00      1      0 53.10\n",
       "4       3 35.00      0      0  8.05"
      ]
     },
     "execution_count": 100,
     "metadata": {},
     "output_type": "execute_result"
    }
   ],
   "source": [
    "numerical_data.head()"
   ]
  },
  {
   "cell_type": "markdown",
   "id": "e2c670c8",
   "metadata": {},
   "source": [
    "### Logarithm pipeline"
   ]
  },
  {
   "cell_type": "code",
   "execution_count": 101,
   "id": "8f028097",
   "metadata": {},
   "outputs": [],
   "source": [
    "def handle_inf_values(X):\n",
    "    X = X.copy()\n",
    "    X[X == -inf] = 0\n",
    "    \n",
    "    return X"
   ]
  },
  {
   "cell_type": "code",
   "execution_count": 102,
   "id": "41f86bc2",
   "metadata": {},
   "outputs": [],
   "source": [
    "handle_inf_transformer = FunctionTransformer(handle_inf_values)"
   ]
  },
  {
   "cell_type": "code",
   "execution_count": 103,
   "id": "49d8aca2",
   "metadata": {},
   "outputs": [],
   "source": [
    "logarithm_transformer_pipeline = Pipeline([\n",
    "    ('missing_values', SimpleImputer(strategy='median')),\n",
    "    ('logarithm', logarithm_transformer),\n",
    "    ('handle_inf', handle_inf_transformer)\n",
    "])"
   ]
  },
  {
   "cell_type": "code",
   "execution_count": 104,
   "id": "d1855a25",
   "metadata": {},
   "outputs": [
    {
     "data": {
      "text/plain": [
       "(array([0.00, 1.39, 1.61, 1.83, 1.86, 1.86, 1.87, 1.91, 1.93, 1.94, 1.94,\n",
       "        1.95, 1.95, 1.95, 1.96, 1.97, 1.98, 1.98, 1.98, 1.99, 2.01, 2.02,\n",
       "        2.02, 2.03, 2.03, 2.04, 2.05, 2.05, 2.05, 2.05, 2.05, 2.05, 2.05,\n",
       "        2.05, 2.05, 2.06, 2.06, 2.06, 2.06, 2.07, 2.07, 2.07, 2.08, 2.09,\n",
       "        2.09, 2.10, 2.10, 2.12, 2.12, 2.13, 2.13, 2.14, 2.14, 2.16, 2.16,\n",
       "        2.16, 2.16, 2.18, 2.20, 2.22, 2.22, 2.24, 2.25, 2.25, 2.25, 2.26,\n",
       "        2.28, 2.29, 2.29, 2.29, 2.32, 2.35, 2.35, 2.35, 2.41, 2.42, 2.44,\n",
       "        2.48, 2.51, 2.51, 2.51, 2.52, 2.53, 2.54, 2.56, 2.56, 2.60, 2.60,\n",
       "        2.62, 2.63, 2.63, 2.64, 2.65, 2.67, 2.67, 2.67, 2.67, 2.71, 2.71,\n",
       "        2.71, 2.71, 2.72, 2.74, 2.74, 2.76, 2.76, 2.76, 2.77, 2.77, 2.78,\n",
       "        2.82, 2.86, 2.88, 2.89, 2.93, 2.93, 2.96, 2.97, 2.99, 3.01, 3.01,\n",
       "        3.02, 3.02, 3.04, 3.05, 3.08, 3.09, 3.11, 3.11, 3.14, 3.15, 3.15,\n",
       "        3.18, 3.18, 3.24, 3.24, 3.26, 3.26, 3.26, 3.27, 3.27, 3.27, 3.27,\n",
       "        3.28, 3.30, 3.32, 3.32, 3.33, 3.35, 3.36, 3.37, 3.37, 3.39, 3.40,\n",
       "        3.40, 3.42, 3.42, 3.43, 3.44, 3.45, 3.48, 3.48, 3.50, 3.51, 3.53,\n",
       "        3.54, 3.55, 3.56, 3.57, 3.60, 3.61, 3.65, 3.66, 3.67, 3.68, 3.68,\n",
       "        3.69, 3.73, 3.75, 3.85, 3.85, 3.90, 3.90, 3.91, 3.92, 3.94, 3.95,\n",
       "        3.95, 3.96, 3.97, 4.01, 4.02, 4.02, 4.03, 4.04, 4.04, 4.06, 4.08,\n",
       "        4.11, 4.12, 4.13, 4.15, 4.17, 4.20, 4.24, 4.24, 4.26, 4.27, 4.30,\n",
       "        4.32, 4.33, 4.34, 4.35, 4.36, 4.36, 4.37, 4.37, 4.38, 4.38, 4.40,\n",
       "        4.41, 4.42, 4.42, 4.46, 4.49, 4.50, 4.51, 4.54, 4.67, 4.69, 4.71,\n",
       "        4.73, 4.79, 4.90, 4.90, 4.91, 4.99, 5.02, 5.03, 5.11, 5.35, 5.35,\n",
       "        5.40, 5.43, 5.51, 5.57, 5.57, 6.24]),\n",
       " array([15,  1,  1,  1,  1,  1,  2,  2,  1,  1,  2,  1,  7,  2,  4,  1, 12,\n",
       "        15, 13,  1,  3,  1,  4,  1,  4,  1,  1,  4,  2,  1, 34, 16,  1,  6,\n",
       "         1,  2, 13,  1,  4,  1, 38, 18,  1, 43,  1,  1,  1,  1,  1,  1,  1,\n",
       "         1,  1,  1, 13,  1,  1,  1,  2,  1,  2,  2,  1,  1,  9,  2,  2,  1,\n",
       "         1,  1,  1,  2, 24,  1,  3,  2,  4,  1,  1,  1,  3,  4,  1,  1,  1,\n",
       "        42,  1,  4,  1,  1,  1,  1,  1,  2,  7,  3,  7,  1,  1,  1,  1,  5,\n",
       "         8,  1,  2,  1,  4,  2,  1,  9,  2,  1,  2,  3,  3,  2,  4,  2,  2,\n",
       "         2,  2,  3,  2,  6,  4,  1,  1,  2,  1,  4,  2,  2,  2,  8,  4,  1,\n",
       "         1,  2, 31,  6,  1,  3,  1, 15,  2,  5,  4,  6,  1,  1,  2,  5,  3,\n",
       "         6,  2,  5,  2,  3,  7,  4,  1,  1,  3,  1,  1,  4,  1,  1,  4,  2,\n",
       "         2,  1,  4,  1,  2,  6,  1,  3,  1,  6,  1,  1,  2,  1,  1,  1,  2,\n",
       "         7,  3,  5,  2,  1,  2,  7,  2,  2,  2,  1,  1,  1,  1,  1,  2,  2,\n",
       "         2,  7,  2,  1,  5,  1,  1,  3,  2,  3,  2,  2,  4,  3,  2,  1,  2,\n",
       "         3,  2,  3,  2,  4,  2,  2,  2,  2,  4,  3,  4,  2,  2,  3,  2,  4,\n",
       "         3,  2,  3,  1,  1,  4,  2,  2,  4,  3], dtype=int64))"
      ]
     },
     "execution_count": 104,
     "metadata": {},
     "output_type": "execute_result"
    }
   ],
   "source": [
    "np.unique(logarithm_transformer_pipeline.fit_transform([numerical_data.Fare]), return_counts=True)"
   ]
  },
  {
   "cell_type": "markdown",
   "id": "50f080ab",
   "metadata": {},
   "source": [
    "### Outliers highlighter pipeline"
   ]
  },
  {
   "cell_type": "code",
   "execution_count": 105,
   "id": "decbcfca",
   "metadata": {},
   "outputs": [],
   "source": [
    "outliers_highlighter_pipeline = Pipeline([\n",
    "    ('missing_values', SimpleImputer(strategy='median')),\n",
    "    ('outliers_highlighter', outliers_highlighter)\n",
    "])"
   ]
  },
  {
   "cell_type": "code",
   "execution_count": 106,
   "id": "71a06e49",
   "metadata": {},
   "outputs": [
    {
     "data": {
      "text/html": [
       "<div>\n",
       "<style scoped>\n",
       "    .dataframe tbody tr th:only-of-type {\n",
       "        vertical-align: middle;\n",
       "    }\n",
       "\n",
       "    .dataframe tbody tr th {\n",
       "        vertical-align: top;\n",
       "    }\n",
       "\n",
       "    .dataframe thead th {\n",
       "        text-align: right;\n",
       "    }\n",
       "</style>\n",
       "<table border=\"1\" class=\"dataframe\">\n",
       "  <thead>\n",
       "    <tr style=\"text-align: right;\">\n",
       "      <th></th>\n",
       "      <th>outlier_0</th>\n",
       "      <th>outlier_1</th>\n",
       "    </tr>\n",
       "  </thead>\n",
       "  <tbody>\n",
       "    <tr>\n",
       "      <th>0</th>\n",
       "      <td>0</td>\n",
       "      <td>0</td>\n",
       "    </tr>\n",
       "    <tr>\n",
       "      <th>1</th>\n",
       "      <td>1</td>\n",
       "      <td>0</td>\n",
       "    </tr>\n",
       "    <tr>\n",
       "      <th>2</th>\n",
       "      <td>0</td>\n",
       "      <td>0</td>\n",
       "    </tr>\n",
       "    <tr>\n",
       "      <th>3</th>\n",
       "      <td>0</td>\n",
       "      <td>0</td>\n",
       "    </tr>\n",
       "    <tr>\n",
       "      <th>4</th>\n",
       "      <td>0</td>\n",
       "      <td>0</td>\n",
       "    </tr>\n",
       "  </tbody>\n",
       "</table>\n",
       "</div>"
      ],
      "text/plain": [
       "   outlier_0  outlier_1\n",
       "0          0          0\n",
       "1          1          0\n",
       "2          0          0\n",
       "3          0          0\n",
       "4          0          0"
      ]
     },
     "execution_count": 106,
     "metadata": {},
     "output_type": "execute_result"
    }
   ],
   "source": [
    "outliers_highlighter_pipeline.fit_transform(numerical_data[['Fare', 'SibSp']].to_numpy()).head()"
   ]
  },
  {
   "cell_type": "markdown",
   "id": "8539bd7f",
   "metadata": {},
   "source": [
    "### Clusterizer pipeline"
   ]
  },
  {
   "cell_type": "code",
   "execution_count": 107,
   "id": "d413912d",
   "metadata": {},
   "outputs": [],
   "source": [
    "clusterizer_pipeline = Pipeline([\n",
    "    ('missing_value', SimpleImputer(strategy='median')),\n",
    "    ('clustrizing', Clusterizer(train_data=filled_numerical_data))\n",
    "])"
   ]
  },
  {
   "cell_type": "code",
   "execution_count": 108,
   "id": "0df5387e",
   "metadata": {},
   "outputs": [
    {
     "data": {
      "text/html": [
       "<div>\n",
       "<style scoped>\n",
       "    .dataframe tbody tr th:only-of-type {\n",
       "        vertical-align: middle;\n",
       "    }\n",
       "\n",
       "    .dataframe tbody tr th {\n",
       "        vertical-align: top;\n",
       "    }\n",
       "\n",
       "    .dataframe thead th {\n",
       "        text-align: right;\n",
       "    }\n",
       "</style>\n",
       "<table border=\"1\" class=\"dataframe\">\n",
       "  <thead>\n",
       "    <tr style=\"text-align: right;\">\n",
       "      <th></th>\n",
       "      <th>Cluster</th>\n",
       "    </tr>\n",
       "  </thead>\n",
       "  <tbody>\n",
       "    <tr>\n",
       "      <th>0</th>\n",
       "      <td>0</td>\n",
       "    </tr>\n",
       "    <tr>\n",
       "      <th>1</th>\n",
       "      <td>2</td>\n",
       "    </tr>\n",
       "    <tr>\n",
       "      <th>2</th>\n",
       "      <td>0</td>\n",
       "    </tr>\n",
       "    <tr>\n",
       "      <th>3</th>\n",
       "      <td>2</td>\n",
       "    </tr>\n",
       "    <tr>\n",
       "      <th>4</th>\n",
       "      <td>0</td>\n",
       "    </tr>\n",
       "  </tbody>\n",
       "</table>\n",
       "</div>"
      ],
      "text/plain": [
       "   Cluster\n",
       "0        0\n",
       "1        2\n",
       "2        0\n",
       "3        2\n",
       "4        0"
      ]
     },
     "execution_count": 108,
     "metadata": {},
     "output_type": "execute_result"
    }
   ],
   "source": [
    "clusterizer_pipeline.fit_transform(numerical_data.to_numpy()).head()"
   ]
  },
  {
   "cell_type": "markdown",
   "id": "6f9332c8",
   "metadata": {},
   "source": [
    "### Discretizer pipeline"
   ]
  },
  {
   "cell_type": "code",
   "execution_count": 109,
   "id": "e73702e6",
   "metadata": {},
   "outputs": [],
   "source": [
    "discretizer_pipeline = Pipeline([\n",
    "    ('missing_values', SimpleImputer(strategy='median')),\n",
    "    ('discretizer', age_discretizer)\n",
    "])"
   ]
  },
  {
   "cell_type": "code",
   "execution_count": 110,
   "id": "bc17b7aa",
   "metadata": {},
   "outputs": [
    {
     "data": {
      "text/html": [
       "<div>\n",
       "<style scoped>\n",
       "    .dataframe tbody tr th:only-of-type {\n",
       "        vertical-align: middle;\n",
       "    }\n",
       "\n",
       "    .dataframe tbody tr th {\n",
       "        vertical-align: top;\n",
       "    }\n",
       "\n",
       "    .dataframe thead th {\n",
       "        text-align: right;\n",
       "    }\n",
       "</style>\n",
       "<table border=\"1\" class=\"dataframe\">\n",
       "  <thead>\n",
       "    <tr style=\"text-align: right;\">\n",
       "      <th></th>\n",
       "      <th>Teen</th>\n",
       "      <th>Adult</th>\n",
       "      <th>MiddleAgeAdult</th>\n",
       "      <th>SeniorAdult</th>\n",
       "    </tr>\n",
       "  </thead>\n",
       "  <tbody>\n",
       "    <tr>\n",
       "      <th>0</th>\n",
       "      <td>0.00</td>\n",
       "      <td>1.00</td>\n",
       "      <td>0.00</td>\n",
       "      <td>0.00</td>\n",
       "    </tr>\n",
       "    <tr>\n",
       "      <th>1</th>\n",
       "      <td>0.00</td>\n",
       "      <td>1.00</td>\n",
       "      <td>0.00</td>\n",
       "      <td>0.00</td>\n",
       "    </tr>\n",
       "    <tr>\n",
       "      <th>2</th>\n",
       "      <td>0.00</td>\n",
       "      <td>1.00</td>\n",
       "      <td>0.00</td>\n",
       "      <td>0.00</td>\n",
       "    </tr>\n",
       "    <tr>\n",
       "      <th>3</th>\n",
       "      <td>0.00</td>\n",
       "      <td>1.00</td>\n",
       "      <td>0.00</td>\n",
       "      <td>0.00</td>\n",
       "    </tr>\n",
       "    <tr>\n",
       "      <th>4</th>\n",
       "      <td>0.00</td>\n",
       "      <td>1.00</td>\n",
       "      <td>0.00</td>\n",
       "      <td>0.00</td>\n",
       "    </tr>\n",
       "  </tbody>\n",
       "</table>\n",
       "</div>"
      ],
      "text/plain": [
       "   Teen  Adult  MiddleAgeAdult  SeniorAdult\n",
       "0  0.00   1.00            0.00         0.00\n",
       "1  0.00   1.00            0.00         0.00\n",
       "2  0.00   1.00            0.00         0.00\n",
       "3  0.00   1.00            0.00         0.00\n",
       "4  0.00   1.00            0.00         0.00"
      ]
     },
     "execution_count": 110,
     "metadata": {},
     "output_type": "execute_result"
    }
   ],
   "source": [
    "discretizer_pipeline.fit_transform(pd.DataFrame(numerical_data.Age)).head()"
   ]
  },
  {
   "cell_type": "markdown",
   "id": "0e1d81b2",
   "metadata": {},
   "source": [
    "### Setting up full numerical pipeline"
   ]
  },
  {
   "cell_type": "code",
   "execution_count": 111,
   "id": "cea65e75",
   "metadata": {},
   "outputs": [],
   "source": [
    "numerical_pipeline = ColumnTransformer([\n",
    "    ('missing_values', SimpleImputer(strategy='median'), numerical_features.drop(['Fare',  'Age'])),\n",
    "    ('logarithm', logarithm_transformer_pipeline, ['Fare']),\n",
    "    ('outliers_highlighter', outliers_highlighter_pipeline, ['Age', 'SibSp']),\n",
    "    ('clusterizing', clusterizer_pipeline, numerical_features),\n",
    "    ('discretization', discretizer_pipeline, ['Age'])\n",
    "]) "
   ]
  },
  {
   "cell_type": "code",
   "execution_count": 112,
   "id": "79b7c153",
   "metadata": {},
   "outputs": [
    {
     "data": {
      "text/plain": [
       "array([3.00, 1.00, 0.00, 1.98, 0.00, 0.00, 0.00, 0.00, 1.00, 0.00, 0.00])"
      ]
     },
     "execution_count": 112,
     "metadata": {},
     "output_type": "execute_result"
    }
   ],
   "source": [
    "numerical_pipeline.fit_transform(numerical_data)[0]"
   ]
  },
  {
   "cell_type": "code",
   "execution_count": 113,
   "id": "85d9275f",
   "metadata": {},
   "outputs": [],
   "source": [
    "# np.unique(numerical_pipeline.transform(test_numerical_data)[:, 6], return_counts=True)"
   ]
  },
  {
   "cell_type": "code",
   "execution_count": 114,
   "id": "dc44d721",
   "metadata": {},
   "outputs": [
    {
     "data": {
      "text/plain": [
       "0"
      ]
     },
     "execution_count": 114,
     "metadata": {},
     "output_type": "execute_result"
    }
   ],
   "source": [
    "np.isnan(numerical_pipeline.transform(test_numerical_data)).sum()"
   ]
  },
  {
   "cell_type": "markdown",
   "id": "3ce5e08b",
   "metadata": {},
   "source": [
    "# Categorical data. EDA"
   ]
  },
  {
   "cell_type": "code",
   "execution_count": 115,
   "id": "e94ad7a7",
   "metadata": {},
   "outputs": [
    {
     "data": {
      "text/html": [
       "<div>\n",
       "<style scoped>\n",
       "    .dataframe tbody tr th:only-of-type {\n",
       "        vertical-align: middle;\n",
       "    }\n",
       "\n",
       "    .dataframe tbody tr th {\n",
       "        vertical-align: top;\n",
       "    }\n",
       "\n",
       "    .dataframe thead th {\n",
       "        text-align: right;\n",
       "    }\n",
       "</style>\n",
       "<table border=\"1\" class=\"dataframe\">\n",
       "  <thead>\n",
       "    <tr style=\"text-align: right;\">\n",
       "      <th></th>\n",
       "      <th>Name</th>\n",
       "      <th>Sex</th>\n",
       "      <th>Ticket</th>\n",
       "      <th>Cabin</th>\n",
       "      <th>Embarked</th>\n",
       "    </tr>\n",
       "  </thead>\n",
       "  <tbody>\n",
       "    <tr>\n",
       "      <th>0</th>\n",
       "      <td>Braund, Mr. Owen Harris</td>\n",
       "      <td>male</td>\n",
       "      <td>A/5 21171</td>\n",
       "      <td>NaN</td>\n",
       "      <td>S</td>\n",
       "    </tr>\n",
       "    <tr>\n",
       "      <th>1</th>\n",
       "      <td>Cumings, Mrs. John Bradley (Florence Briggs Th...</td>\n",
       "      <td>female</td>\n",
       "      <td>PC 17599</td>\n",
       "      <td>C85</td>\n",
       "      <td>C</td>\n",
       "    </tr>\n",
       "    <tr>\n",
       "      <th>2</th>\n",
       "      <td>Heikkinen, Miss. Laina</td>\n",
       "      <td>female</td>\n",
       "      <td>STON/O2. 3101282</td>\n",
       "      <td>NaN</td>\n",
       "      <td>S</td>\n",
       "    </tr>\n",
       "    <tr>\n",
       "      <th>3</th>\n",
       "      <td>Futrelle, Mrs. Jacques Heath (Lily May Peel)</td>\n",
       "      <td>female</td>\n",
       "      <td>113803</td>\n",
       "      <td>C123</td>\n",
       "      <td>S</td>\n",
       "    </tr>\n",
       "    <tr>\n",
       "      <th>4</th>\n",
       "      <td>Allen, Mr. William Henry</td>\n",
       "      <td>male</td>\n",
       "      <td>373450</td>\n",
       "      <td>NaN</td>\n",
       "      <td>S</td>\n",
       "    </tr>\n",
       "  </tbody>\n",
       "</table>\n",
       "</div>"
      ],
      "text/plain": [
       "                                                Name     Sex  \\\n",
       "0                            Braund, Mr. Owen Harris    male   \n",
       "1  Cumings, Mrs. John Bradley (Florence Briggs Th...  female   \n",
       "2                             Heikkinen, Miss. Laina  female   \n",
       "3       Futrelle, Mrs. Jacques Heath (Lily May Peel)  female   \n",
       "4                           Allen, Mr. William Henry    male   \n",
       "\n",
       "             Ticket Cabin Embarked  \n",
       "0         A/5 21171   NaN        S  \n",
       "1          PC 17599   C85        C  \n",
       "2  STON/O2. 3101282   NaN        S  \n",
       "3            113803  C123        S  \n",
       "4            373450   NaN        S  "
      ]
     },
     "execution_count": 115,
     "metadata": {},
     "output_type": "execute_result"
    }
   ],
   "source": [
    "categorical_data.head()"
   ]
  },
  {
   "cell_type": "code",
   "execution_count": 116,
   "id": "279e70a0",
   "metadata": {},
   "outputs": [],
   "source": [
    "significant_features = ['Sex', 'Embarked']"
   ]
  },
  {
   "cell_type": "code",
   "execution_count": 117,
   "id": "98512cb3",
   "metadata": {},
   "outputs": [],
   "source": [
    "significant_categorical_data = categorical_data[significant_features]"
   ]
  },
  {
   "cell_type": "code",
   "execution_count": 118,
   "id": "d278b609",
   "metadata": {},
   "outputs": [
    {
     "data": {
      "text/html": [
       "<div>\n",
       "<style scoped>\n",
       "    .dataframe tbody tr th:only-of-type {\n",
       "        vertical-align: middle;\n",
       "    }\n",
       "\n",
       "    .dataframe tbody tr th {\n",
       "        vertical-align: top;\n",
       "    }\n",
       "\n",
       "    .dataframe thead th {\n",
       "        text-align: right;\n",
       "    }\n",
       "</style>\n",
       "<table border=\"1\" class=\"dataframe\">\n",
       "  <thead>\n",
       "    <tr style=\"text-align: right;\">\n",
       "      <th></th>\n",
       "      <th>Sex</th>\n",
       "      <th>Embarked</th>\n",
       "    </tr>\n",
       "  </thead>\n",
       "  <tbody>\n",
       "    <tr>\n",
       "      <th>0</th>\n",
       "      <td>male</td>\n",
       "      <td>S</td>\n",
       "    </tr>\n",
       "    <tr>\n",
       "      <th>1</th>\n",
       "      <td>female</td>\n",
       "      <td>C</td>\n",
       "    </tr>\n",
       "    <tr>\n",
       "      <th>2</th>\n",
       "      <td>female</td>\n",
       "      <td>S</td>\n",
       "    </tr>\n",
       "    <tr>\n",
       "      <th>3</th>\n",
       "      <td>female</td>\n",
       "      <td>S</td>\n",
       "    </tr>\n",
       "    <tr>\n",
       "      <th>4</th>\n",
       "      <td>male</td>\n",
       "      <td>S</td>\n",
       "    </tr>\n",
       "  </tbody>\n",
       "</table>\n",
       "</div>"
      ],
      "text/plain": [
       "      Sex Embarked\n",
       "0    male        S\n",
       "1  female        C\n",
       "2  female        S\n",
       "3  female        S\n",
       "4    male        S"
      ]
     },
     "execution_count": 118,
     "metadata": {},
     "output_type": "execute_result"
    }
   ],
   "source": [
    "significant_categorical_data.head()"
   ]
  },
  {
   "cell_type": "code",
   "execution_count": 119,
   "id": "0d01c64f",
   "metadata": {},
   "outputs": [
    {
     "data": {
      "text/plain": [
       "Sex         0\n",
       "Embarked    2\n",
       "dtype: int64"
      ]
     },
     "execution_count": 119,
     "metadata": {},
     "output_type": "execute_result"
    }
   ],
   "source": [
    "significant_categorical_data.isna().sum()"
   ]
  },
  {
   "cell_type": "markdown",
   "id": "23293595",
   "metadata": {},
   "source": [
    "## Setting up categorical pipeline"
   ]
  },
  {
   "cell_type": "code",
   "execution_count": 120,
   "id": "9b1f7a37",
   "metadata": {},
   "outputs": [],
   "source": [
    "categorical_pipeline = Pipeline([\n",
    "    ('missing_values', SimpleImputer(strategy='most_frequent')),\n",
    "    ('encoding', OneHotEncoder(drop='first').fit(significant_categorical_data))\n",
    "])"
   ]
  },
  {
   "cell_type": "code",
   "execution_count": 121,
   "id": "a4608b16",
   "metadata": {},
   "outputs": [
    {
     "data": {
      "text/plain": [
       "matrix([[1.00, 0.00, 1.00],\n",
       "        [0.00, 0.00, 0.00],\n",
       "        [0.00, 0.00, 1.00],\n",
       "        ...,\n",
       "        [0.00, 0.00, 1.00],\n",
       "        [1.00, 0.00, 0.00],\n",
       "        [1.00, 1.00, 0.00]])"
      ]
     },
     "execution_count": 121,
     "metadata": {},
     "output_type": "execute_result"
    }
   ],
   "source": [
    "categorical_pipeline.fit_transform(significant_categorical_data).todense()"
   ]
  },
  {
   "cell_type": "markdown",
   "id": "c85c98c8",
   "metadata": {},
   "source": [
    "## Setting up full pipeline"
   ]
  },
  {
   "cell_type": "code",
   "execution_count": 122,
   "id": "3081939c",
   "metadata": {},
   "outputs": [],
   "source": [
    "full_pipeline = ColumnTransformer([\n",
    "    ('numerical', numerical_pipeline, numerical_features),\n",
    "    ('categorical', categorical_pipeline, significant_features)\n",
    "])"
   ]
  },
  {
   "cell_type": "code",
   "execution_count": 123,
   "id": "d4f77e89",
   "metadata": {},
   "outputs": [],
   "source": [
    "X_train = df.drop(['PassengerId', 'Survived'], axis=1)\n",
    "y_train = df.Survived"
   ]
  },
  {
   "cell_type": "code",
   "execution_count": 124,
   "id": "cae71a3f",
   "metadata": {},
   "outputs": [],
   "source": [
    "X_test = test_df.copy()"
   ]
  },
  {
   "cell_type": "code",
   "execution_count": 125,
   "id": "a86540c9",
   "metadata": {},
   "outputs": [
    {
     "data": {
      "text/plain": [
       "array([3.00, 1.00, 0.00, 1.98, 0.00, 0.00, 2.00, 0.00, 1.00, 0.00, 0.00,\n",
       "       1.00, 0.00, 1.00])"
      ]
     },
     "execution_count": 125,
     "metadata": {},
     "output_type": "execute_result"
    }
   ],
   "source": [
    "full_pipeline.fit_transform(X_train)[0]"
   ]
  },
  {
   "cell_type": "code",
   "execution_count": 126,
   "id": "f05a6118",
   "metadata": {},
   "outputs": [
    {
     "data": {
      "text/plain": [
       "array([3.00, 0.00, 0.00, 2.06, 0.00, 0.00, 0.00, 0.00, 1.00, 0.00, 0.00,\n",
       "       1.00, 1.00, 0.00])"
      ]
     },
     "execution_count": 126,
     "metadata": {},
     "output_type": "execute_result"
    }
   ],
   "source": [
    "full_pipeline.transform(X_test)[0]"
   ]
  },
  {
   "cell_type": "markdown",
   "id": "029fe7d2",
   "metadata": {},
   "source": [
    "# Searching the best model"
   ]
  },
  {
   "cell_type": "code",
   "execution_count": 127,
   "id": "d10a9d8f",
   "metadata": {},
   "outputs": [],
   "source": [
    "from sklearn.ensemble import RandomForestClassifier\n",
    "from sklearn.linear_model import LogisticRegression\n",
    "from sklearn.neighbors import KNeighborsClassifier\n",
    "from sklearn.ensemble import AdaBoostClassifier\n",
    "from sklearn.svm import SVC"
   ]
  },
  {
   "cell_type": "code",
   "execution_count": 128,
   "id": "4cbf568d",
   "metadata": {},
   "outputs": [],
   "source": [
    "X_train = full_pipeline.transform(X_train)"
   ]
  },
  {
   "cell_type": "code",
   "execution_count": 129,
   "id": "2e99148d",
   "metadata": {},
   "outputs": [
    {
     "data": {
      "text/plain": [
       "0    0\n",
       "1    1\n",
       "2    1\n",
       "3    1\n",
       "4    0\n",
       "Name: Survived, dtype: int64"
      ]
     },
     "execution_count": 129,
     "metadata": {},
     "output_type": "execute_result"
    }
   ],
   "source": [
    "y_train.head()"
   ]
  },
  {
   "cell_type": "code",
   "execution_count": 130,
   "id": "5088009a",
   "metadata": {},
   "outputs": [
    {
     "data": {
      "text/plain": [
       "0"
      ]
     },
     "execution_count": 130,
     "metadata": {},
     "output_type": "execute_result"
    }
   ],
   "source": [
    "y_train.isna().sum()"
   ]
  },
  {
   "cell_type": "code",
   "execution_count": 131,
   "id": "31e82f2d",
   "metadata": {},
   "outputs": [
    {
     "data": {
      "text/plain": [
       "False"
      ]
     },
     "execution_count": 131,
     "metadata": {},
     "output_type": "execute_result"
    }
   ],
   "source": [
    "np.any(np.isnan(X_train))"
   ]
  },
  {
   "cell_type": "code",
   "execution_count": 132,
   "id": "44161287",
   "metadata": {},
   "outputs": [],
   "source": [
    "model_pipeline = Pipeline([('classifier', RandomForestClassifier())])"
   ]
  },
  {
   "cell_type": "code",
   "execution_count": 133,
   "id": "1367b4bb",
   "metadata": {},
   "outputs": [],
   "source": [
    "search_space = [\n",
    "    {\n",
    "        'classifier': [SVC()],\n",
    "        'classifier__C': range(1, 12, 1)\n",
    "    },\n",
    "    {\n",
    "        'classifier': [RandomForestClassifier()],\n",
    "        'classifier__n_estimators': range(4, 16, 2),\n",
    "        'classifier__max_features': range(4, 16, 2)\n",
    "    },\n",
    "    {\n",
    "        'classifier': [LogisticRegression()],\n",
    "        'classifier__penalty' : ['l1', 'l2'],\n",
    "        'classifier__C' : np.logspace(-4, 4, 20),\n",
    "        'classifier__solver' : ['liblinear']\n",
    "    },\n",
    "    {\n",
    "        'classifier': [KNeighborsClassifier()],\n",
    "        'classifier__n_neighbors': range(2, 10, 2),\n",
    "        'classifier__weights': ['uniform', 'distance']\n",
    "    }\n",
    "]"
   ]
  },
  {
   "cell_type": "code",
   "execution_count": 134,
   "id": "203f9b37",
   "metadata": {},
   "outputs": [],
   "source": [
    "normalizer = Normalizer()"
   ]
  },
  {
   "cell_type": "code",
   "execution_count": 135,
   "id": "fbe3fb45",
   "metadata": {},
   "outputs": [],
   "source": [
    "norm_X_train = normalizer.fit_transform(X_train)"
   ]
  },
  {
   "cell_type": "code",
   "execution_count": 136,
   "id": "3edaa228",
   "metadata": {},
   "outputs": [],
   "source": [
    "grid_search = GridSearchCV(model_pipeline, search_space, scoring='accuracy', cv=10)"
   ]
  },
  {
   "cell_type": "code",
   "execution_count": 137,
   "id": "c2e3c5cd",
   "metadata": {},
   "outputs": [],
   "source": [
    "best_model = grid_search.fit(norm_X_train, y_train)"
   ]
  },
  {
   "cell_type": "code",
   "execution_count": 138,
   "id": "4a4e5b77",
   "metadata": {},
   "outputs": [
    {
     "data": {
      "text/plain": [
       "0.8215480649188514"
      ]
     },
     "execution_count": 138,
     "metadata": {},
     "output_type": "execute_result"
    }
   ],
   "source": [
    "best_model.best_score_"
   ]
  },
  {
   "cell_type": "code",
   "execution_count": 139,
   "id": "5678ad3a",
   "metadata": {},
   "outputs": [
    {
     "data": {
      "text/plain": [
       "{'classifier': SVC(C=10), 'classifier__C': 10}"
      ]
     },
     "execution_count": 139,
     "metadata": {},
     "output_type": "execute_result"
    }
   ],
   "source": [
    "best_model.best_params_"
   ]
  },
  {
   "cell_type": "code",
   "execution_count": 140,
   "id": "b1a72448",
   "metadata": {},
   "outputs": [],
   "source": [
    "best_estimator = best_model.best_estimator_"
   ]
  },
  {
   "cell_type": "code",
   "execution_count": 141,
   "id": "f45de6c1",
   "metadata": {},
   "outputs": [
    {
     "data": {
      "text/plain": [
       "0.8069549934090766"
      ]
     },
     "execution_count": 141,
     "metadata": {},
     "output_type": "execute_result"
    }
   ],
   "source": [
    "cross_val_score(RandomForestClassifier(), X_train, y_train, scoring='accuracy').mean()"
   ]
  },
  {
   "cell_type": "code",
   "execution_count": 142,
   "id": "c3bdcf7c",
   "metadata": {},
   "outputs": [
    {
     "data": {
      "text/plain": [
       "0.7867679367271359"
      ]
     },
     "execution_count": 142,
     "metadata": {},
     "output_type": "execute_result"
    }
   ],
   "source": [
    "cross_val_score(LogisticRegression(), X_train, y_train, scoring='accuracy').mean()"
   ]
  },
  {
   "cell_type": "code",
   "execution_count": 143,
   "id": "65dd9e40",
   "metadata": {},
   "outputs": [
    {
     "data": {
      "text/plain": [
       "0.7935471721800264"
      ]
     },
     "execution_count": 143,
     "metadata": {},
     "output_type": "execute_result"
    }
   ],
   "source": [
    "cross_val_score(AdaBoostClassifier(), X_train, y_train, scoring='accuracy').mean()"
   ]
  },
  {
   "cell_type": "code",
   "execution_count": 144,
   "id": "84504266",
   "metadata": {},
   "outputs": [
    {
     "data": {
      "text/plain": [
       "0.8058313979034587"
      ]
     },
     "execution_count": 144,
     "metadata": {},
     "output_type": "execute_result"
    }
   ],
   "source": [
    "cross_val_score(SVC(), X_train, y_train, scoring='accuracy').mean()"
   ]
  },
  {
   "cell_type": "code",
   "execution_count": 145,
   "id": "e2cd51bd",
   "metadata": {},
   "outputs": [
    {
     "data": {
      "text/plain": [
       "0.7777980038917833"
      ]
     },
     "execution_count": 145,
     "metadata": {},
     "output_type": "execute_result"
    }
   ],
   "source": [
    "cross_val_score(KNeighborsClassifier(), X_train, y_train, scoring='accuracy').mean()"
   ]
  },
  {
   "cell_type": "code",
   "execution_count": 146,
   "id": "feb60098",
   "metadata": {},
   "outputs": [],
   "source": [
    "X_test = full_pipeline.transform(X_test)"
   ]
  },
  {
   "cell_type": "code",
   "execution_count": 147,
   "id": "383fa2c0",
   "metadata": {},
   "outputs": [],
   "source": [
    "predictions = best_estimator.predict(X_test)"
   ]
  },
  {
   "cell_type": "code",
   "execution_count": 148,
   "id": "2df7646f",
   "metadata": {},
   "outputs": [],
   "source": [
    "pd.DataFrame(np.array([test_df_indeces, predictions]).T, columns=['PassengerId', 'Survived']).set_index('PassengerId').to_csv('submissin.csv')"
   ]
  },
  {
   "cell_type": "markdown",
   "id": "31b4a1a0",
   "metadata": {},
   "source": [
    "# A/B testing"
   ]
  },
  {
   "cell_type": "code",
   "execution_count": 163,
   "id": "d853ac20",
   "metadata": {},
   "outputs": [],
   "source": [
    "numerical_pipeline_Atesting = ColumnTransformer([\n",
    "    ('missing_values', SimpleImputer(strategy='median'), numerical_features.drop(['Fare',  'Age'])),\n",
    "    ('logarithm', logarithm_transformer_pipeline, ['Fare']),\n",
    "    ('outliers_highlighter', outliers_highlighter_pipeline, ['Age', 'SibSp']),\n",
    "    ('clusterizing', clusterizer_pipeline, numerical_features),\n",
    "    ('discretization', discretizer_pipeline, ['Age'])\n",
    "]) "
   ]
  },
  {
   "cell_type": "code",
   "execution_count": 164,
   "id": "7be8ff11",
   "metadata": {},
   "outputs": [],
   "source": [
    "numerical_pipeline_Btesting = ColumnTransformer([\n",
    "    ('missing_values', SimpleImputer(strategy='median'), numerical_features.drop(['Fare',  'Age'])),\n",
    "    ('logarithm', logarithm_transformer_pipeline, ['Fare']),\n",
    "    ('outliers_highlighter', outliers_highlighter_pipeline, ['Age', 'SibSp']),\n",
    "    ('discretization', discretizer_pipeline, ['Age'])\n",
    "]) "
   ]
  },
  {
   "cell_type": "code",
   "execution_count": 165,
   "id": "29bbc765",
   "metadata": {},
   "outputs": [],
   "source": [
    "full_pipeline_Atesting = ColumnTransformer([\n",
    "    ('numerical', numerical_pipeline_Atesting, numerical_features),\n",
    "    ('categorical', categorical_pipeline, significant_features)\n",
    "])"
   ]
  },
  {
   "cell_type": "code",
   "execution_count": 166,
   "id": "fd4c51c9",
   "metadata": {},
   "outputs": [],
   "source": [
    "full_pipeline_Btesting = ColumnTransformer([\n",
    "    ('numerical', numerical_pipeline_Btesting, numerical_features),\n",
    "    ('categorical', categorical_pipeline, significant_features)\n",
    "])"
   ]
  },
  {
   "cell_type": "code",
   "execution_count": 175,
   "id": "31a7cbf8",
   "metadata": {},
   "outputs": [],
   "source": [
    "X_train = df.drop(['PassengerId', 'Survived'], axis=1)\n",
    "y_train = df.Survived"
   ]
  },
  {
   "cell_type": "code",
   "execution_count": 176,
   "id": "d7aeecd3",
   "metadata": {},
   "outputs": [],
   "source": [
    "group_A = full_pipeline_Atesting.fit_transform(X_train)"
   ]
  },
  {
   "cell_type": "code",
   "execution_count": 177,
   "id": "0a535b2c",
   "metadata": {},
   "outputs": [],
   "source": [
    "group_B = full_pipeline_Btesting.fit_transform(X_train)"
   ]
  },
  {
   "cell_type": "code",
   "execution_count": 178,
   "id": "f133eff2",
   "metadata": {},
   "outputs": [
    {
     "data": {
      "text/plain": [
       "(891, 14)"
      ]
     },
     "execution_count": 178,
     "metadata": {},
     "output_type": "execute_result"
    }
   ],
   "source": [
    "group_A.shape"
   ]
  },
  {
   "cell_type": "code",
   "execution_count": 179,
   "id": "72d245c2",
   "metadata": {},
   "outputs": [
    {
     "data": {
      "text/plain": [
       "(891, 13)"
      ]
     },
     "execution_count": 179,
     "metadata": {},
     "output_type": "execute_result"
    }
   ],
   "source": [
    "group_B.shape"
   ]
  },
  {
   "cell_type": "code",
   "execution_count": 196,
   "id": "eb5d893d",
   "metadata": {},
   "outputs": [],
   "source": [
    "grid_search = GridSearchCV(model_pipeline, search_space, scoring='accuracy', cv=10)"
   ]
  },
  {
   "cell_type": "code",
   "execution_count": 182,
   "id": "95a578cb",
   "metadata": {},
   "outputs": [],
   "source": [
    "group_A_results = grid_search.fit(group_A, y_train)"
   ]
  },
  {
   "cell_type": "code",
   "execution_count": 187,
   "id": "3a3c0a46",
   "metadata": {},
   "outputs": [
    {
     "data": {
      "text/plain": [
       "Pipeline(steps=[('classifier', SVC(C=11))])"
      ]
     },
     "execution_count": 187,
     "metadata": {},
     "output_type": "execute_result"
    }
   ],
   "source": [
    "group_A_results.best_estimator_"
   ]
  },
  {
   "cell_type": "code",
   "execution_count": 193,
   "id": "0d2e310f",
   "metadata": {},
   "outputs": [],
   "source": [
    "A_group_scores = cross_val_score(group_A_results.best_estimator_, group_A, y_train, scoring='accuracy', cv=30)"
   ]
  },
  {
   "cell_type": "code",
   "execution_count": 194,
   "id": "0984255c",
   "metadata": {},
   "outputs": [
    {
     "data": {
      "text/plain": [
       "array([0.87, 0.83, 0.90, 0.77, 0.83, 0.90, 0.80, 0.80, 0.73, 0.70, 0.93,\n",
       "       0.87, 0.90, 0.73, 0.87, 0.80, 0.77, 0.87, 0.77, 0.80, 0.87, 0.76,\n",
       "       0.76, 0.83, 0.83, 0.83, 1.00, 0.79, 0.83, 0.93])"
      ]
     },
     "execution_count": 194,
     "metadata": {},
     "output_type": "execute_result"
    }
   ],
   "source": [
    "A_group_scores"
   ]
  },
  {
   "cell_type": "code",
   "execution_count": 197,
   "id": "db605c23",
   "metadata": {},
   "outputs": [
    {
     "name": "stderr",
     "output_type": "stream",
     "text": [
      "D:\\Denis\\miniconda\\envs\\neural-networks\\lib\\site-packages\\sklearn\\model_selection\\_validation.py:614: FitFailedWarning: Estimator fit failed. The score on this train-test partition for these parameters will be set to nan. Details: \n",
      "Traceback (most recent call last):\n",
      "  File \"D:\\Denis\\miniconda\\envs\\neural-networks\\lib\\site-packages\\sklearn\\model_selection\\_validation.py\", line 593, in _fit_and_score\n",
      "    estimator.fit(X_train, y_train, **fit_params)\n",
      "  File \"D:\\Denis\\miniconda\\envs\\neural-networks\\lib\\site-packages\\sklearn\\pipeline.py\", line 346, in fit\n",
      "    self._final_estimator.fit(Xt, y, **fit_params_last_step)\n",
      "  File \"D:\\Denis\\miniconda\\envs\\neural-networks\\lib\\site-packages\\sklearn\\ensemble\\_forest.py\", line 393, in fit\n",
      "    for i, t in enumerate(trees))\n",
      "  File \"D:\\Denis\\miniconda\\envs\\neural-networks\\lib\\site-packages\\joblib\\parallel.py\", line 1041, in __call__\n",
      "    if self.dispatch_one_batch(iterator):\n",
      "  File \"D:\\Denis\\miniconda\\envs\\neural-networks\\lib\\site-packages\\joblib\\parallel.py\", line 859, in dispatch_one_batch\n",
      "    self._dispatch(tasks)\n",
      "  File \"D:\\Denis\\miniconda\\envs\\neural-networks\\lib\\site-packages\\joblib\\parallel.py\", line 777, in _dispatch\n",
      "    job = self._backend.apply_async(batch, callback=cb)\n",
      "  File \"D:\\Denis\\miniconda\\envs\\neural-networks\\lib\\site-packages\\joblib\\_parallel_backends.py\", line 208, in apply_async\n",
      "    result = ImmediateResult(func)\n",
      "  File \"D:\\Denis\\miniconda\\envs\\neural-networks\\lib\\site-packages\\joblib\\_parallel_backends.py\", line 572, in __init__\n",
      "    self.results = batch()\n",
      "  File \"D:\\Denis\\miniconda\\envs\\neural-networks\\lib\\site-packages\\joblib\\parallel.py\", line 263, in __call__\n",
      "    for func, args, kwargs in self.items]\n",
      "  File \"D:\\Denis\\miniconda\\envs\\neural-networks\\lib\\site-packages\\joblib\\parallel.py\", line 263, in <listcomp>\n",
      "    for func, args, kwargs in self.items]\n",
      "  File \"D:\\Denis\\miniconda\\envs\\neural-networks\\lib\\site-packages\\sklearn\\utils\\fixes.py\", line 222, in __call__\n",
      "    return self.function(*args, **kwargs)\n",
      "  File \"D:\\Denis\\miniconda\\envs\\neural-networks\\lib\\site-packages\\sklearn\\ensemble\\_forest.py\", line 169, in _parallel_build_trees\n",
      "    tree.fit(X, y, sample_weight=curr_sample_weight, check_input=False)\n",
      "  File \"D:\\Denis\\miniconda\\envs\\neural-networks\\lib\\site-packages\\sklearn\\tree\\_classes.py\", line 902, in fit\n",
      "    X_idx_sorted=X_idx_sorted)\n",
      "  File \"D:\\Denis\\miniconda\\envs\\neural-networks\\lib\\site-packages\\sklearn\\tree\\_classes.py\", line 288, in fit\n",
      "    raise ValueError(\"max_features must be in (0, n_features]\")\n",
      "ValueError: max_features must be in (0, n_features]\n",
      "\n",
      "  FitFailedWarning)\n",
      "D:\\Denis\\miniconda\\envs\\neural-networks\\lib\\site-packages\\sklearn\\model_selection\\_validation.py:614: FitFailedWarning: Estimator fit failed. The score on this train-test partition for these parameters will be set to nan. Details: \n",
      "Traceback (most recent call last):\n",
      "  File \"D:\\Denis\\miniconda\\envs\\neural-networks\\lib\\site-packages\\sklearn\\model_selection\\_validation.py\", line 593, in _fit_and_score\n",
      "    estimator.fit(X_train, y_train, **fit_params)\n",
      "  File \"D:\\Denis\\miniconda\\envs\\neural-networks\\lib\\site-packages\\sklearn\\pipeline.py\", line 346, in fit\n",
      "    self._final_estimator.fit(Xt, y, **fit_params_last_step)\n",
      "  File \"D:\\Denis\\miniconda\\envs\\neural-networks\\lib\\site-packages\\sklearn\\ensemble\\_forest.py\", line 393, in fit\n",
      "    for i, t in enumerate(trees))\n",
      "  File \"D:\\Denis\\miniconda\\envs\\neural-networks\\lib\\site-packages\\joblib\\parallel.py\", line 1041, in __call__\n",
      "    if self.dispatch_one_batch(iterator):\n",
      "  File \"D:\\Denis\\miniconda\\envs\\neural-networks\\lib\\site-packages\\joblib\\parallel.py\", line 859, in dispatch_one_batch\n",
      "    self._dispatch(tasks)\n",
      "  File \"D:\\Denis\\miniconda\\envs\\neural-networks\\lib\\site-packages\\joblib\\parallel.py\", line 777, in _dispatch\n",
      "    job = self._backend.apply_async(batch, callback=cb)\n",
      "  File \"D:\\Denis\\miniconda\\envs\\neural-networks\\lib\\site-packages\\joblib\\_parallel_backends.py\", line 208, in apply_async\n",
      "    result = ImmediateResult(func)\n",
      "  File \"D:\\Denis\\miniconda\\envs\\neural-networks\\lib\\site-packages\\joblib\\_parallel_backends.py\", line 572, in __init__\n",
      "    self.results = batch()\n",
      "  File \"D:\\Denis\\miniconda\\envs\\neural-networks\\lib\\site-packages\\joblib\\parallel.py\", line 263, in __call__\n",
      "    for func, args, kwargs in self.items]\n",
      "  File \"D:\\Denis\\miniconda\\envs\\neural-networks\\lib\\site-packages\\joblib\\parallel.py\", line 263, in <listcomp>\n",
      "    for func, args, kwargs in self.items]\n",
      "  File \"D:\\Denis\\miniconda\\envs\\neural-networks\\lib\\site-packages\\sklearn\\utils\\fixes.py\", line 222, in __call__\n",
      "    return self.function(*args, **kwargs)\n",
      "  File \"D:\\Denis\\miniconda\\envs\\neural-networks\\lib\\site-packages\\sklearn\\ensemble\\_forest.py\", line 169, in _parallel_build_trees\n",
      "    tree.fit(X, y, sample_weight=curr_sample_weight, check_input=False)\n",
      "  File \"D:\\Denis\\miniconda\\envs\\neural-networks\\lib\\site-packages\\sklearn\\tree\\_classes.py\", line 902, in fit\n",
      "    X_idx_sorted=X_idx_sorted)\n",
      "  File \"D:\\Denis\\miniconda\\envs\\neural-networks\\lib\\site-packages\\sklearn\\tree\\_classes.py\", line 288, in fit\n",
      "    raise ValueError(\"max_features must be in (0, n_features]\")\n",
      "ValueError: max_features must be in (0, n_features]\n",
      "\n",
      "  FitFailedWarning)\n",
      "D:\\Denis\\miniconda\\envs\\neural-networks\\lib\\site-packages\\sklearn\\model_selection\\_validation.py:614: FitFailedWarning: Estimator fit failed. The score on this train-test partition for these parameters will be set to nan. Details: \n",
      "Traceback (most recent call last):\n",
      "  File \"D:\\Denis\\miniconda\\envs\\neural-networks\\lib\\site-packages\\sklearn\\model_selection\\_validation.py\", line 593, in _fit_and_score\n",
      "    estimator.fit(X_train, y_train, **fit_params)\n",
      "  File \"D:\\Denis\\miniconda\\envs\\neural-networks\\lib\\site-packages\\sklearn\\pipeline.py\", line 346, in fit\n",
      "    self._final_estimator.fit(Xt, y, **fit_params_last_step)\n",
      "  File \"D:\\Denis\\miniconda\\envs\\neural-networks\\lib\\site-packages\\sklearn\\ensemble\\_forest.py\", line 393, in fit\n",
      "    for i, t in enumerate(trees))\n",
      "  File \"D:\\Denis\\miniconda\\envs\\neural-networks\\lib\\site-packages\\joblib\\parallel.py\", line 1041, in __call__\n",
      "    if self.dispatch_one_batch(iterator):\n",
      "  File \"D:\\Denis\\miniconda\\envs\\neural-networks\\lib\\site-packages\\joblib\\parallel.py\", line 859, in dispatch_one_batch\n",
      "    self._dispatch(tasks)\n",
      "  File \"D:\\Denis\\miniconda\\envs\\neural-networks\\lib\\site-packages\\joblib\\parallel.py\", line 777, in _dispatch\n",
      "    job = self._backend.apply_async(batch, callback=cb)\n",
      "  File \"D:\\Denis\\miniconda\\envs\\neural-networks\\lib\\site-packages\\joblib\\_parallel_backends.py\", line 208, in apply_async\n",
      "    result = ImmediateResult(func)\n",
      "  File \"D:\\Denis\\miniconda\\envs\\neural-networks\\lib\\site-packages\\joblib\\_parallel_backends.py\", line 572, in __init__\n",
      "    self.results = batch()\n",
      "  File \"D:\\Denis\\miniconda\\envs\\neural-networks\\lib\\site-packages\\joblib\\parallel.py\", line 263, in __call__\n",
      "    for func, args, kwargs in self.items]\n",
      "  File \"D:\\Denis\\miniconda\\envs\\neural-networks\\lib\\site-packages\\joblib\\parallel.py\", line 263, in <listcomp>\n",
      "    for func, args, kwargs in self.items]\n",
      "  File \"D:\\Denis\\miniconda\\envs\\neural-networks\\lib\\site-packages\\sklearn\\utils\\fixes.py\", line 222, in __call__\n",
      "    return self.function(*args, **kwargs)\n",
      "  File \"D:\\Denis\\miniconda\\envs\\neural-networks\\lib\\site-packages\\sklearn\\ensemble\\_forest.py\", line 169, in _parallel_build_trees\n",
      "    tree.fit(X, y, sample_weight=curr_sample_weight, check_input=False)\n",
      "  File \"D:\\Denis\\miniconda\\envs\\neural-networks\\lib\\site-packages\\sklearn\\tree\\_classes.py\", line 902, in fit\n",
      "    X_idx_sorted=X_idx_sorted)\n",
      "  File \"D:\\Denis\\miniconda\\envs\\neural-networks\\lib\\site-packages\\sklearn\\tree\\_classes.py\", line 288, in fit\n",
      "    raise ValueError(\"max_features must be in (0, n_features]\")\n",
      "ValueError: max_features must be in (0, n_features]\n",
      "\n",
      "  FitFailedWarning)\n",
      "D:\\Denis\\miniconda\\envs\\neural-networks\\lib\\site-packages\\sklearn\\model_selection\\_validation.py:614: FitFailedWarning: Estimator fit failed. The score on this train-test partition for these parameters will be set to nan. Details: \n",
      "Traceback (most recent call last):\n",
      "  File \"D:\\Denis\\miniconda\\envs\\neural-networks\\lib\\site-packages\\sklearn\\model_selection\\_validation.py\", line 593, in _fit_and_score\n",
      "    estimator.fit(X_train, y_train, **fit_params)\n",
      "  File \"D:\\Denis\\miniconda\\envs\\neural-networks\\lib\\site-packages\\sklearn\\pipeline.py\", line 346, in fit\n",
      "    self._final_estimator.fit(Xt, y, **fit_params_last_step)\n",
      "  File \"D:\\Denis\\miniconda\\envs\\neural-networks\\lib\\site-packages\\sklearn\\ensemble\\_forest.py\", line 393, in fit\n",
      "    for i, t in enumerate(trees))\n",
      "  File \"D:\\Denis\\miniconda\\envs\\neural-networks\\lib\\site-packages\\joblib\\parallel.py\", line 1041, in __call__\n",
      "    if self.dispatch_one_batch(iterator):\n",
      "  File \"D:\\Denis\\miniconda\\envs\\neural-networks\\lib\\site-packages\\joblib\\parallel.py\", line 859, in dispatch_one_batch\n",
      "    self._dispatch(tasks)\n",
      "  File \"D:\\Denis\\miniconda\\envs\\neural-networks\\lib\\site-packages\\joblib\\parallel.py\", line 777, in _dispatch\n",
      "    job = self._backend.apply_async(batch, callback=cb)\n",
      "  File \"D:\\Denis\\miniconda\\envs\\neural-networks\\lib\\site-packages\\joblib\\_parallel_backends.py\", line 208, in apply_async\n",
      "    result = ImmediateResult(func)\n",
      "  File \"D:\\Denis\\miniconda\\envs\\neural-networks\\lib\\site-packages\\joblib\\_parallel_backends.py\", line 572, in __init__\n",
      "    self.results = batch()\n",
      "  File \"D:\\Denis\\miniconda\\envs\\neural-networks\\lib\\site-packages\\joblib\\parallel.py\", line 263, in __call__\n",
      "    for func, args, kwargs in self.items]\n",
      "  File \"D:\\Denis\\miniconda\\envs\\neural-networks\\lib\\site-packages\\joblib\\parallel.py\", line 263, in <listcomp>\n",
      "    for func, args, kwargs in self.items]\n",
      "  File \"D:\\Denis\\miniconda\\envs\\neural-networks\\lib\\site-packages\\sklearn\\utils\\fixes.py\", line 222, in __call__\n",
      "    return self.function(*args, **kwargs)\n",
      "  File \"D:\\Denis\\miniconda\\envs\\neural-networks\\lib\\site-packages\\sklearn\\ensemble\\_forest.py\", line 169, in _parallel_build_trees\n",
      "    tree.fit(X, y, sample_weight=curr_sample_weight, check_input=False)\n",
      "  File \"D:\\Denis\\miniconda\\envs\\neural-networks\\lib\\site-packages\\sklearn\\tree\\_classes.py\", line 902, in fit\n",
      "    X_idx_sorted=X_idx_sorted)\n",
      "  File \"D:\\Denis\\miniconda\\envs\\neural-networks\\lib\\site-packages\\sklearn\\tree\\_classes.py\", line 288, in fit\n",
      "    raise ValueError(\"max_features must be in (0, n_features]\")\n",
      "ValueError: max_features must be in (0, n_features]\n",
      "\n",
      "  FitFailedWarning)\n",
      "D:\\Denis\\miniconda\\envs\\neural-networks\\lib\\site-packages\\sklearn\\model_selection\\_validation.py:614: FitFailedWarning: Estimator fit failed. The score on this train-test partition for these parameters will be set to nan. Details: \n",
      "Traceback (most recent call last):\n",
      "  File \"D:\\Denis\\miniconda\\envs\\neural-networks\\lib\\site-packages\\sklearn\\model_selection\\_validation.py\", line 593, in _fit_and_score\n",
      "    estimator.fit(X_train, y_train, **fit_params)\n",
      "  File \"D:\\Denis\\miniconda\\envs\\neural-networks\\lib\\site-packages\\sklearn\\pipeline.py\", line 346, in fit\n",
      "    self._final_estimator.fit(Xt, y, **fit_params_last_step)\n",
      "  File \"D:\\Denis\\miniconda\\envs\\neural-networks\\lib\\site-packages\\sklearn\\ensemble\\_forest.py\", line 393, in fit\n",
      "    for i, t in enumerate(trees))\n",
      "  File \"D:\\Denis\\miniconda\\envs\\neural-networks\\lib\\site-packages\\joblib\\parallel.py\", line 1041, in __call__\n",
      "    if self.dispatch_one_batch(iterator):\n",
      "  File \"D:\\Denis\\miniconda\\envs\\neural-networks\\lib\\site-packages\\joblib\\parallel.py\", line 859, in dispatch_one_batch\n",
      "    self._dispatch(tasks)\n",
      "  File \"D:\\Denis\\miniconda\\envs\\neural-networks\\lib\\site-packages\\joblib\\parallel.py\", line 777, in _dispatch\n",
      "    job = self._backend.apply_async(batch, callback=cb)\n",
      "  File \"D:\\Denis\\miniconda\\envs\\neural-networks\\lib\\site-packages\\joblib\\_parallel_backends.py\", line 208, in apply_async\n",
      "    result = ImmediateResult(func)\n",
      "  File \"D:\\Denis\\miniconda\\envs\\neural-networks\\lib\\site-packages\\joblib\\_parallel_backends.py\", line 572, in __init__\n",
      "    self.results = batch()\n",
      "  File \"D:\\Denis\\miniconda\\envs\\neural-networks\\lib\\site-packages\\joblib\\parallel.py\", line 263, in __call__\n",
      "    for func, args, kwargs in self.items]\n",
      "  File \"D:\\Denis\\miniconda\\envs\\neural-networks\\lib\\site-packages\\joblib\\parallel.py\", line 263, in <listcomp>\n",
      "    for func, args, kwargs in self.items]\n",
      "  File \"D:\\Denis\\miniconda\\envs\\neural-networks\\lib\\site-packages\\sklearn\\utils\\fixes.py\", line 222, in __call__\n",
      "    return self.function(*args, **kwargs)\n",
      "  File \"D:\\Denis\\miniconda\\envs\\neural-networks\\lib\\site-packages\\sklearn\\ensemble\\_forest.py\", line 169, in _parallel_build_trees\n",
      "    tree.fit(X, y, sample_weight=curr_sample_weight, check_input=False)\n",
      "  File \"D:\\Denis\\miniconda\\envs\\neural-networks\\lib\\site-packages\\sklearn\\tree\\_classes.py\", line 902, in fit\n",
      "    X_idx_sorted=X_idx_sorted)\n",
      "  File \"D:\\Denis\\miniconda\\envs\\neural-networks\\lib\\site-packages\\sklearn\\tree\\_classes.py\", line 288, in fit\n",
      "    raise ValueError(\"max_features must be in (0, n_features]\")\n",
      "ValueError: max_features must be in (0, n_features]\n",
      "\n",
      "  FitFailedWarning)\n",
      "D:\\Denis\\miniconda\\envs\\neural-networks\\lib\\site-packages\\sklearn\\model_selection\\_validation.py:614: FitFailedWarning: Estimator fit failed. The score on this train-test partition for these parameters will be set to nan. Details: \n",
      "Traceback (most recent call last):\n",
      "  File \"D:\\Denis\\miniconda\\envs\\neural-networks\\lib\\site-packages\\sklearn\\model_selection\\_validation.py\", line 593, in _fit_and_score\n",
      "    estimator.fit(X_train, y_train, **fit_params)\n",
      "  File \"D:\\Denis\\miniconda\\envs\\neural-networks\\lib\\site-packages\\sklearn\\pipeline.py\", line 346, in fit\n",
      "    self._final_estimator.fit(Xt, y, **fit_params_last_step)\n",
      "  File \"D:\\Denis\\miniconda\\envs\\neural-networks\\lib\\site-packages\\sklearn\\ensemble\\_forest.py\", line 393, in fit\n",
      "    for i, t in enumerate(trees))\n",
      "  File \"D:\\Denis\\miniconda\\envs\\neural-networks\\lib\\site-packages\\joblib\\parallel.py\", line 1041, in __call__\n",
      "    if self.dispatch_one_batch(iterator):\n",
      "  File \"D:\\Denis\\miniconda\\envs\\neural-networks\\lib\\site-packages\\joblib\\parallel.py\", line 859, in dispatch_one_batch\n",
      "    self._dispatch(tasks)\n",
      "  File \"D:\\Denis\\miniconda\\envs\\neural-networks\\lib\\site-packages\\joblib\\parallel.py\", line 777, in _dispatch\n",
      "    job = self._backend.apply_async(batch, callback=cb)\n",
      "  File \"D:\\Denis\\miniconda\\envs\\neural-networks\\lib\\site-packages\\joblib\\_parallel_backends.py\", line 208, in apply_async\n",
      "    result = ImmediateResult(func)\n",
      "  File \"D:\\Denis\\miniconda\\envs\\neural-networks\\lib\\site-packages\\joblib\\_parallel_backends.py\", line 572, in __init__\n",
      "    self.results = batch()\n",
      "  File \"D:\\Denis\\miniconda\\envs\\neural-networks\\lib\\site-packages\\joblib\\parallel.py\", line 263, in __call__\n",
      "    for func, args, kwargs in self.items]\n",
      "  File \"D:\\Denis\\miniconda\\envs\\neural-networks\\lib\\site-packages\\joblib\\parallel.py\", line 263, in <listcomp>\n",
      "    for func, args, kwargs in self.items]\n",
      "  File \"D:\\Denis\\miniconda\\envs\\neural-networks\\lib\\site-packages\\sklearn\\utils\\fixes.py\", line 222, in __call__\n",
      "    return self.function(*args, **kwargs)\n",
      "  File \"D:\\Denis\\miniconda\\envs\\neural-networks\\lib\\site-packages\\sklearn\\ensemble\\_forest.py\", line 169, in _parallel_build_trees\n",
      "    tree.fit(X, y, sample_weight=curr_sample_weight, check_input=False)\n",
      "  File \"D:\\Denis\\miniconda\\envs\\neural-networks\\lib\\site-packages\\sklearn\\tree\\_classes.py\", line 902, in fit\n",
      "    X_idx_sorted=X_idx_sorted)\n",
      "  File \"D:\\Denis\\miniconda\\envs\\neural-networks\\lib\\site-packages\\sklearn\\tree\\_classes.py\", line 288, in fit\n",
      "    raise ValueError(\"max_features must be in (0, n_features]\")\n",
      "ValueError: max_features must be in (0, n_features]\n",
      "\n",
      "  FitFailedWarning)\n",
      "D:\\Denis\\miniconda\\envs\\neural-networks\\lib\\site-packages\\sklearn\\model_selection\\_validation.py:614: FitFailedWarning: Estimator fit failed. The score on this train-test partition for these parameters will be set to nan. Details: \n",
      "Traceback (most recent call last):\n",
      "  File \"D:\\Denis\\miniconda\\envs\\neural-networks\\lib\\site-packages\\sklearn\\model_selection\\_validation.py\", line 593, in _fit_and_score\n",
      "    estimator.fit(X_train, y_train, **fit_params)\n",
      "  File \"D:\\Denis\\miniconda\\envs\\neural-networks\\lib\\site-packages\\sklearn\\pipeline.py\", line 346, in fit\n",
      "    self._final_estimator.fit(Xt, y, **fit_params_last_step)\n",
      "  File \"D:\\Denis\\miniconda\\envs\\neural-networks\\lib\\site-packages\\sklearn\\ensemble\\_forest.py\", line 393, in fit\n",
      "    for i, t in enumerate(trees))\n",
      "  File \"D:\\Denis\\miniconda\\envs\\neural-networks\\lib\\site-packages\\joblib\\parallel.py\", line 1041, in __call__\n",
      "    if self.dispatch_one_batch(iterator):\n",
      "  File \"D:\\Denis\\miniconda\\envs\\neural-networks\\lib\\site-packages\\joblib\\parallel.py\", line 859, in dispatch_one_batch\n",
      "    self._dispatch(tasks)\n",
      "  File \"D:\\Denis\\miniconda\\envs\\neural-networks\\lib\\site-packages\\joblib\\parallel.py\", line 777, in _dispatch\n",
      "    job = self._backend.apply_async(batch, callback=cb)\n",
      "  File \"D:\\Denis\\miniconda\\envs\\neural-networks\\lib\\site-packages\\joblib\\_parallel_backends.py\", line 208, in apply_async\n",
      "    result = ImmediateResult(func)\n",
      "  File \"D:\\Denis\\miniconda\\envs\\neural-networks\\lib\\site-packages\\joblib\\_parallel_backends.py\", line 572, in __init__\n",
      "    self.results = batch()\n",
      "  File \"D:\\Denis\\miniconda\\envs\\neural-networks\\lib\\site-packages\\joblib\\parallel.py\", line 263, in __call__\n",
      "    for func, args, kwargs in self.items]\n",
      "  File \"D:\\Denis\\miniconda\\envs\\neural-networks\\lib\\site-packages\\joblib\\parallel.py\", line 263, in <listcomp>\n",
      "    for func, args, kwargs in self.items]\n",
      "  File \"D:\\Denis\\miniconda\\envs\\neural-networks\\lib\\site-packages\\sklearn\\utils\\fixes.py\", line 222, in __call__\n",
      "    return self.function(*args, **kwargs)\n",
      "  File \"D:\\Denis\\miniconda\\envs\\neural-networks\\lib\\site-packages\\sklearn\\ensemble\\_forest.py\", line 169, in _parallel_build_trees\n",
      "    tree.fit(X, y, sample_weight=curr_sample_weight, check_input=False)\n",
      "  File \"D:\\Denis\\miniconda\\envs\\neural-networks\\lib\\site-packages\\sklearn\\tree\\_classes.py\", line 902, in fit\n",
      "    X_idx_sorted=X_idx_sorted)\n",
      "  File \"D:\\Denis\\miniconda\\envs\\neural-networks\\lib\\site-packages\\sklearn\\tree\\_classes.py\", line 288, in fit\n",
      "    raise ValueError(\"max_features must be in (0, n_features]\")\n",
      "ValueError: max_features must be in (0, n_features]\n",
      "\n",
      "  FitFailedWarning)\n",
      "D:\\Denis\\miniconda\\envs\\neural-networks\\lib\\site-packages\\sklearn\\model_selection\\_validation.py:614: FitFailedWarning: Estimator fit failed. The score on this train-test partition for these parameters will be set to nan. Details: \n",
      "Traceback (most recent call last):\n",
      "  File \"D:\\Denis\\miniconda\\envs\\neural-networks\\lib\\site-packages\\sklearn\\model_selection\\_validation.py\", line 593, in _fit_and_score\n",
      "    estimator.fit(X_train, y_train, **fit_params)\n",
      "  File \"D:\\Denis\\miniconda\\envs\\neural-networks\\lib\\site-packages\\sklearn\\pipeline.py\", line 346, in fit\n",
      "    self._final_estimator.fit(Xt, y, **fit_params_last_step)\n",
      "  File \"D:\\Denis\\miniconda\\envs\\neural-networks\\lib\\site-packages\\sklearn\\ensemble\\_forest.py\", line 393, in fit\n",
      "    for i, t in enumerate(trees))\n",
      "  File \"D:\\Denis\\miniconda\\envs\\neural-networks\\lib\\site-packages\\joblib\\parallel.py\", line 1041, in __call__\n",
      "    if self.dispatch_one_batch(iterator):\n",
      "  File \"D:\\Denis\\miniconda\\envs\\neural-networks\\lib\\site-packages\\joblib\\parallel.py\", line 859, in dispatch_one_batch\n",
      "    self._dispatch(tasks)\n",
      "  File \"D:\\Denis\\miniconda\\envs\\neural-networks\\lib\\site-packages\\joblib\\parallel.py\", line 777, in _dispatch\n",
      "    job = self._backend.apply_async(batch, callback=cb)\n",
      "  File \"D:\\Denis\\miniconda\\envs\\neural-networks\\lib\\site-packages\\joblib\\_parallel_backends.py\", line 208, in apply_async\n",
      "    result = ImmediateResult(func)\n",
      "  File \"D:\\Denis\\miniconda\\envs\\neural-networks\\lib\\site-packages\\joblib\\_parallel_backends.py\", line 572, in __init__\n",
      "    self.results = batch()\n",
      "  File \"D:\\Denis\\miniconda\\envs\\neural-networks\\lib\\site-packages\\joblib\\parallel.py\", line 263, in __call__\n",
      "    for func, args, kwargs in self.items]\n",
      "  File \"D:\\Denis\\miniconda\\envs\\neural-networks\\lib\\site-packages\\joblib\\parallel.py\", line 263, in <listcomp>\n",
      "    for func, args, kwargs in self.items]\n",
      "  File \"D:\\Denis\\miniconda\\envs\\neural-networks\\lib\\site-packages\\sklearn\\utils\\fixes.py\", line 222, in __call__\n",
      "    return self.function(*args, **kwargs)\n",
      "  File \"D:\\Denis\\miniconda\\envs\\neural-networks\\lib\\site-packages\\sklearn\\ensemble\\_forest.py\", line 169, in _parallel_build_trees\n",
      "    tree.fit(X, y, sample_weight=curr_sample_weight, check_input=False)\n",
      "  File \"D:\\Denis\\miniconda\\envs\\neural-networks\\lib\\site-packages\\sklearn\\tree\\_classes.py\", line 902, in fit\n",
      "    X_idx_sorted=X_idx_sorted)\n",
      "  File \"D:\\Denis\\miniconda\\envs\\neural-networks\\lib\\site-packages\\sklearn\\tree\\_classes.py\", line 288, in fit\n",
      "    raise ValueError(\"max_features must be in (0, n_features]\")\n",
      "ValueError: max_features must be in (0, n_features]\n",
      "\n",
      "  FitFailedWarning)\n",
      "D:\\Denis\\miniconda\\envs\\neural-networks\\lib\\site-packages\\sklearn\\model_selection\\_validation.py:614: FitFailedWarning: Estimator fit failed. The score on this train-test partition for these parameters will be set to nan. Details: \n",
      "Traceback (most recent call last):\n",
      "  File \"D:\\Denis\\miniconda\\envs\\neural-networks\\lib\\site-packages\\sklearn\\model_selection\\_validation.py\", line 593, in _fit_and_score\n",
      "    estimator.fit(X_train, y_train, **fit_params)\n",
      "  File \"D:\\Denis\\miniconda\\envs\\neural-networks\\lib\\site-packages\\sklearn\\pipeline.py\", line 346, in fit\n",
      "    self._final_estimator.fit(Xt, y, **fit_params_last_step)\n",
      "  File \"D:\\Denis\\miniconda\\envs\\neural-networks\\lib\\site-packages\\sklearn\\ensemble\\_forest.py\", line 393, in fit\n",
      "    for i, t in enumerate(trees))\n",
      "  File \"D:\\Denis\\miniconda\\envs\\neural-networks\\lib\\site-packages\\joblib\\parallel.py\", line 1041, in __call__\n",
      "    if self.dispatch_one_batch(iterator):\n",
      "  File \"D:\\Denis\\miniconda\\envs\\neural-networks\\lib\\site-packages\\joblib\\parallel.py\", line 859, in dispatch_one_batch\n",
      "    self._dispatch(tasks)\n",
      "  File \"D:\\Denis\\miniconda\\envs\\neural-networks\\lib\\site-packages\\joblib\\parallel.py\", line 777, in _dispatch\n",
      "    job = self._backend.apply_async(batch, callback=cb)\n",
      "  File \"D:\\Denis\\miniconda\\envs\\neural-networks\\lib\\site-packages\\joblib\\_parallel_backends.py\", line 208, in apply_async\n",
      "    result = ImmediateResult(func)\n",
      "  File \"D:\\Denis\\miniconda\\envs\\neural-networks\\lib\\site-packages\\joblib\\_parallel_backends.py\", line 572, in __init__\n",
      "    self.results = batch()\n",
      "  File \"D:\\Denis\\miniconda\\envs\\neural-networks\\lib\\site-packages\\joblib\\parallel.py\", line 263, in __call__\n",
      "    for func, args, kwargs in self.items]\n",
      "  File \"D:\\Denis\\miniconda\\envs\\neural-networks\\lib\\site-packages\\joblib\\parallel.py\", line 263, in <listcomp>\n",
      "    for func, args, kwargs in self.items]\n",
      "  File \"D:\\Denis\\miniconda\\envs\\neural-networks\\lib\\site-packages\\sklearn\\utils\\fixes.py\", line 222, in __call__\n",
      "    return self.function(*args, **kwargs)\n",
      "  File \"D:\\Denis\\miniconda\\envs\\neural-networks\\lib\\site-packages\\sklearn\\ensemble\\_forest.py\", line 169, in _parallel_build_trees\n",
      "    tree.fit(X, y, sample_weight=curr_sample_weight, check_input=False)\n",
      "  File \"D:\\Denis\\miniconda\\envs\\neural-networks\\lib\\site-packages\\sklearn\\tree\\_classes.py\", line 902, in fit\n",
      "    X_idx_sorted=X_idx_sorted)\n",
      "  File \"D:\\Denis\\miniconda\\envs\\neural-networks\\lib\\site-packages\\sklearn\\tree\\_classes.py\", line 288, in fit\n",
      "    raise ValueError(\"max_features must be in (0, n_features]\")\n",
      "ValueError: max_features must be in (0, n_features]\n",
      "\n",
      "  FitFailedWarning)\n",
      "D:\\Denis\\miniconda\\envs\\neural-networks\\lib\\site-packages\\sklearn\\model_selection\\_validation.py:614: FitFailedWarning: Estimator fit failed. The score on this train-test partition for these parameters will be set to nan. Details: \n",
      "Traceback (most recent call last):\n",
      "  File \"D:\\Denis\\miniconda\\envs\\neural-networks\\lib\\site-packages\\sklearn\\model_selection\\_validation.py\", line 593, in _fit_and_score\n",
      "    estimator.fit(X_train, y_train, **fit_params)\n",
      "  File \"D:\\Denis\\miniconda\\envs\\neural-networks\\lib\\site-packages\\sklearn\\pipeline.py\", line 346, in fit\n",
      "    self._final_estimator.fit(Xt, y, **fit_params_last_step)\n",
      "  File \"D:\\Denis\\miniconda\\envs\\neural-networks\\lib\\site-packages\\sklearn\\ensemble\\_forest.py\", line 393, in fit\n",
      "    for i, t in enumerate(trees))\n",
      "  File \"D:\\Denis\\miniconda\\envs\\neural-networks\\lib\\site-packages\\joblib\\parallel.py\", line 1041, in __call__\n",
      "    if self.dispatch_one_batch(iterator):\n",
      "  File \"D:\\Denis\\miniconda\\envs\\neural-networks\\lib\\site-packages\\joblib\\parallel.py\", line 859, in dispatch_one_batch\n",
      "    self._dispatch(tasks)\n",
      "  File \"D:\\Denis\\miniconda\\envs\\neural-networks\\lib\\site-packages\\joblib\\parallel.py\", line 777, in _dispatch\n",
      "    job = self._backend.apply_async(batch, callback=cb)\n",
      "  File \"D:\\Denis\\miniconda\\envs\\neural-networks\\lib\\site-packages\\joblib\\_parallel_backends.py\", line 208, in apply_async\n",
      "    result = ImmediateResult(func)\n",
      "  File \"D:\\Denis\\miniconda\\envs\\neural-networks\\lib\\site-packages\\joblib\\_parallel_backends.py\", line 572, in __init__\n",
      "    self.results = batch()\n",
      "  File \"D:\\Denis\\miniconda\\envs\\neural-networks\\lib\\site-packages\\joblib\\parallel.py\", line 263, in __call__\n",
      "    for func, args, kwargs in self.items]\n",
      "  File \"D:\\Denis\\miniconda\\envs\\neural-networks\\lib\\site-packages\\joblib\\parallel.py\", line 263, in <listcomp>\n",
      "    for func, args, kwargs in self.items]\n",
      "  File \"D:\\Denis\\miniconda\\envs\\neural-networks\\lib\\site-packages\\sklearn\\utils\\fixes.py\", line 222, in __call__\n",
      "    return self.function(*args, **kwargs)\n",
      "  File \"D:\\Denis\\miniconda\\envs\\neural-networks\\lib\\site-packages\\sklearn\\ensemble\\_forest.py\", line 169, in _parallel_build_trees\n",
      "    tree.fit(X, y, sample_weight=curr_sample_weight, check_input=False)\n",
      "  File \"D:\\Denis\\miniconda\\envs\\neural-networks\\lib\\site-packages\\sklearn\\tree\\_classes.py\", line 902, in fit\n",
      "    X_idx_sorted=X_idx_sorted)\n",
      "  File \"D:\\Denis\\miniconda\\envs\\neural-networks\\lib\\site-packages\\sklearn\\tree\\_classes.py\", line 288, in fit\n",
      "    raise ValueError(\"max_features must be in (0, n_features]\")\n",
      "ValueError: max_features must be in (0, n_features]\n",
      "\n",
      "  FitFailedWarning)\n",
      "D:\\Denis\\miniconda\\envs\\neural-networks\\lib\\site-packages\\sklearn\\model_selection\\_validation.py:614: FitFailedWarning: Estimator fit failed. The score on this train-test partition for these parameters will be set to nan. Details: \n",
      "Traceback (most recent call last):\n",
      "  File \"D:\\Denis\\miniconda\\envs\\neural-networks\\lib\\site-packages\\sklearn\\model_selection\\_validation.py\", line 593, in _fit_and_score\n",
      "    estimator.fit(X_train, y_train, **fit_params)\n",
      "  File \"D:\\Denis\\miniconda\\envs\\neural-networks\\lib\\site-packages\\sklearn\\pipeline.py\", line 346, in fit\n",
      "    self._final_estimator.fit(Xt, y, **fit_params_last_step)\n",
      "  File \"D:\\Denis\\miniconda\\envs\\neural-networks\\lib\\site-packages\\sklearn\\ensemble\\_forest.py\", line 393, in fit\n",
      "    for i, t in enumerate(trees))\n",
      "  File \"D:\\Denis\\miniconda\\envs\\neural-networks\\lib\\site-packages\\joblib\\parallel.py\", line 1041, in __call__\n",
      "    if self.dispatch_one_batch(iterator):\n",
      "  File \"D:\\Denis\\miniconda\\envs\\neural-networks\\lib\\site-packages\\joblib\\parallel.py\", line 859, in dispatch_one_batch\n",
      "    self._dispatch(tasks)\n",
      "  File \"D:\\Denis\\miniconda\\envs\\neural-networks\\lib\\site-packages\\joblib\\parallel.py\", line 777, in _dispatch\n",
      "    job = self._backend.apply_async(batch, callback=cb)\n",
      "  File \"D:\\Denis\\miniconda\\envs\\neural-networks\\lib\\site-packages\\joblib\\_parallel_backends.py\", line 208, in apply_async\n",
      "    result = ImmediateResult(func)\n",
      "  File \"D:\\Denis\\miniconda\\envs\\neural-networks\\lib\\site-packages\\joblib\\_parallel_backends.py\", line 572, in __init__\n",
      "    self.results = batch()\n",
      "  File \"D:\\Denis\\miniconda\\envs\\neural-networks\\lib\\site-packages\\joblib\\parallel.py\", line 263, in __call__\n",
      "    for func, args, kwargs in self.items]\n",
      "  File \"D:\\Denis\\miniconda\\envs\\neural-networks\\lib\\site-packages\\joblib\\parallel.py\", line 263, in <listcomp>\n",
      "    for func, args, kwargs in self.items]\n",
      "  File \"D:\\Denis\\miniconda\\envs\\neural-networks\\lib\\site-packages\\sklearn\\utils\\fixes.py\", line 222, in __call__\n",
      "    return self.function(*args, **kwargs)\n",
      "  File \"D:\\Denis\\miniconda\\envs\\neural-networks\\lib\\site-packages\\sklearn\\ensemble\\_forest.py\", line 169, in _parallel_build_trees\n",
      "    tree.fit(X, y, sample_weight=curr_sample_weight, check_input=False)\n",
      "  File \"D:\\Denis\\miniconda\\envs\\neural-networks\\lib\\site-packages\\sklearn\\tree\\_classes.py\", line 902, in fit\n",
      "    X_idx_sorted=X_idx_sorted)\n",
      "  File \"D:\\Denis\\miniconda\\envs\\neural-networks\\lib\\site-packages\\sklearn\\tree\\_classes.py\", line 288, in fit\n",
      "    raise ValueError(\"max_features must be in (0, n_features]\")\n",
      "ValueError: max_features must be in (0, n_features]\n",
      "\n",
      "  FitFailedWarning)\n",
      "D:\\Denis\\miniconda\\envs\\neural-networks\\lib\\site-packages\\sklearn\\model_selection\\_validation.py:614: FitFailedWarning: Estimator fit failed. The score on this train-test partition for these parameters will be set to nan. Details: \n",
      "Traceback (most recent call last):\n",
      "  File \"D:\\Denis\\miniconda\\envs\\neural-networks\\lib\\site-packages\\sklearn\\model_selection\\_validation.py\", line 593, in _fit_and_score\n",
      "    estimator.fit(X_train, y_train, **fit_params)\n",
      "  File \"D:\\Denis\\miniconda\\envs\\neural-networks\\lib\\site-packages\\sklearn\\pipeline.py\", line 346, in fit\n",
      "    self._final_estimator.fit(Xt, y, **fit_params_last_step)\n",
      "  File \"D:\\Denis\\miniconda\\envs\\neural-networks\\lib\\site-packages\\sklearn\\ensemble\\_forest.py\", line 393, in fit\n",
      "    for i, t in enumerate(trees))\n",
      "  File \"D:\\Denis\\miniconda\\envs\\neural-networks\\lib\\site-packages\\joblib\\parallel.py\", line 1041, in __call__\n",
      "    if self.dispatch_one_batch(iterator):\n",
      "  File \"D:\\Denis\\miniconda\\envs\\neural-networks\\lib\\site-packages\\joblib\\parallel.py\", line 859, in dispatch_one_batch\n",
      "    self._dispatch(tasks)\n",
      "  File \"D:\\Denis\\miniconda\\envs\\neural-networks\\lib\\site-packages\\joblib\\parallel.py\", line 777, in _dispatch\n",
      "    job = self._backend.apply_async(batch, callback=cb)\n",
      "  File \"D:\\Denis\\miniconda\\envs\\neural-networks\\lib\\site-packages\\joblib\\_parallel_backends.py\", line 208, in apply_async\n",
      "    result = ImmediateResult(func)\n",
      "  File \"D:\\Denis\\miniconda\\envs\\neural-networks\\lib\\site-packages\\joblib\\_parallel_backends.py\", line 572, in __init__\n",
      "    self.results = batch()\n",
      "  File \"D:\\Denis\\miniconda\\envs\\neural-networks\\lib\\site-packages\\joblib\\parallel.py\", line 263, in __call__\n",
      "    for func, args, kwargs in self.items]\n",
      "  File \"D:\\Denis\\miniconda\\envs\\neural-networks\\lib\\site-packages\\joblib\\parallel.py\", line 263, in <listcomp>\n",
      "    for func, args, kwargs in self.items]\n",
      "  File \"D:\\Denis\\miniconda\\envs\\neural-networks\\lib\\site-packages\\sklearn\\utils\\fixes.py\", line 222, in __call__\n",
      "    return self.function(*args, **kwargs)\n",
      "  File \"D:\\Denis\\miniconda\\envs\\neural-networks\\lib\\site-packages\\sklearn\\ensemble\\_forest.py\", line 169, in _parallel_build_trees\n",
      "    tree.fit(X, y, sample_weight=curr_sample_weight, check_input=False)\n",
      "  File \"D:\\Denis\\miniconda\\envs\\neural-networks\\lib\\site-packages\\sklearn\\tree\\_classes.py\", line 902, in fit\n",
      "    X_idx_sorted=X_idx_sorted)\n",
      "  File \"D:\\Denis\\miniconda\\envs\\neural-networks\\lib\\site-packages\\sklearn\\tree\\_classes.py\", line 288, in fit\n",
      "    raise ValueError(\"max_features must be in (0, n_features]\")\n",
      "ValueError: max_features must be in (0, n_features]\n",
      "\n",
      "  FitFailedWarning)\n",
      "D:\\Denis\\miniconda\\envs\\neural-networks\\lib\\site-packages\\sklearn\\model_selection\\_validation.py:614: FitFailedWarning: Estimator fit failed. The score on this train-test partition for these parameters will be set to nan. Details: \n",
      "Traceback (most recent call last):\n",
      "  File \"D:\\Denis\\miniconda\\envs\\neural-networks\\lib\\site-packages\\sklearn\\model_selection\\_validation.py\", line 593, in _fit_and_score\n",
      "    estimator.fit(X_train, y_train, **fit_params)\n",
      "  File \"D:\\Denis\\miniconda\\envs\\neural-networks\\lib\\site-packages\\sklearn\\pipeline.py\", line 346, in fit\n",
      "    self._final_estimator.fit(Xt, y, **fit_params_last_step)\n",
      "  File \"D:\\Denis\\miniconda\\envs\\neural-networks\\lib\\site-packages\\sklearn\\ensemble\\_forest.py\", line 393, in fit\n",
      "    for i, t in enumerate(trees))\n",
      "  File \"D:\\Denis\\miniconda\\envs\\neural-networks\\lib\\site-packages\\joblib\\parallel.py\", line 1041, in __call__\n",
      "    if self.dispatch_one_batch(iterator):\n",
      "  File \"D:\\Denis\\miniconda\\envs\\neural-networks\\lib\\site-packages\\joblib\\parallel.py\", line 859, in dispatch_one_batch\n",
      "    self._dispatch(tasks)\n",
      "  File \"D:\\Denis\\miniconda\\envs\\neural-networks\\lib\\site-packages\\joblib\\parallel.py\", line 777, in _dispatch\n",
      "    job = self._backend.apply_async(batch, callback=cb)\n",
      "  File \"D:\\Denis\\miniconda\\envs\\neural-networks\\lib\\site-packages\\joblib\\_parallel_backends.py\", line 208, in apply_async\n",
      "    result = ImmediateResult(func)\n",
      "  File \"D:\\Denis\\miniconda\\envs\\neural-networks\\lib\\site-packages\\joblib\\_parallel_backends.py\", line 572, in __init__\n",
      "    self.results = batch()\n",
      "  File \"D:\\Denis\\miniconda\\envs\\neural-networks\\lib\\site-packages\\joblib\\parallel.py\", line 263, in __call__\n",
      "    for func, args, kwargs in self.items]\n",
      "  File \"D:\\Denis\\miniconda\\envs\\neural-networks\\lib\\site-packages\\joblib\\parallel.py\", line 263, in <listcomp>\n",
      "    for func, args, kwargs in self.items]\n",
      "  File \"D:\\Denis\\miniconda\\envs\\neural-networks\\lib\\site-packages\\sklearn\\utils\\fixes.py\", line 222, in __call__\n",
      "    return self.function(*args, **kwargs)\n",
      "  File \"D:\\Denis\\miniconda\\envs\\neural-networks\\lib\\site-packages\\sklearn\\ensemble\\_forest.py\", line 169, in _parallel_build_trees\n",
      "    tree.fit(X, y, sample_weight=curr_sample_weight, check_input=False)\n",
      "  File \"D:\\Denis\\miniconda\\envs\\neural-networks\\lib\\site-packages\\sklearn\\tree\\_classes.py\", line 902, in fit\n",
      "    X_idx_sorted=X_idx_sorted)\n",
      "  File \"D:\\Denis\\miniconda\\envs\\neural-networks\\lib\\site-packages\\sklearn\\tree\\_classes.py\", line 288, in fit\n",
      "    raise ValueError(\"max_features must be in (0, n_features]\")\n",
      "ValueError: max_features must be in (0, n_features]\n",
      "\n",
      "  FitFailedWarning)\n",
      "D:\\Denis\\miniconda\\envs\\neural-networks\\lib\\site-packages\\sklearn\\model_selection\\_validation.py:614: FitFailedWarning: Estimator fit failed. The score on this train-test partition for these parameters will be set to nan. Details: \n",
      "Traceback (most recent call last):\n",
      "  File \"D:\\Denis\\miniconda\\envs\\neural-networks\\lib\\site-packages\\sklearn\\model_selection\\_validation.py\", line 593, in _fit_and_score\n",
      "    estimator.fit(X_train, y_train, **fit_params)\n",
      "  File \"D:\\Denis\\miniconda\\envs\\neural-networks\\lib\\site-packages\\sklearn\\pipeline.py\", line 346, in fit\n",
      "    self._final_estimator.fit(Xt, y, **fit_params_last_step)\n",
      "  File \"D:\\Denis\\miniconda\\envs\\neural-networks\\lib\\site-packages\\sklearn\\ensemble\\_forest.py\", line 393, in fit\n",
      "    for i, t in enumerate(trees))\n",
      "  File \"D:\\Denis\\miniconda\\envs\\neural-networks\\lib\\site-packages\\joblib\\parallel.py\", line 1041, in __call__\n",
      "    if self.dispatch_one_batch(iterator):\n",
      "  File \"D:\\Denis\\miniconda\\envs\\neural-networks\\lib\\site-packages\\joblib\\parallel.py\", line 859, in dispatch_one_batch\n",
      "    self._dispatch(tasks)\n",
      "  File \"D:\\Denis\\miniconda\\envs\\neural-networks\\lib\\site-packages\\joblib\\parallel.py\", line 777, in _dispatch\n",
      "    job = self._backend.apply_async(batch, callback=cb)\n",
      "  File \"D:\\Denis\\miniconda\\envs\\neural-networks\\lib\\site-packages\\joblib\\_parallel_backends.py\", line 208, in apply_async\n",
      "    result = ImmediateResult(func)\n",
      "  File \"D:\\Denis\\miniconda\\envs\\neural-networks\\lib\\site-packages\\joblib\\_parallel_backends.py\", line 572, in __init__\n",
      "    self.results = batch()\n",
      "  File \"D:\\Denis\\miniconda\\envs\\neural-networks\\lib\\site-packages\\joblib\\parallel.py\", line 263, in __call__\n",
      "    for func, args, kwargs in self.items]\n",
      "  File \"D:\\Denis\\miniconda\\envs\\neural-networks\\lib\\site-packages\\joblib\\parallel.py\", line 263, in <listcomp>\n",
      "    for func, args, kwargs in self.items]\n",
      "  File \"D:\\Denis\\miniconda\\envs\\neural-networks\\lib\\site-packages\\sklearn\\utils\\fixes.py\", line 222, in __call__\n",
      "    return self.function(*args, **kwargs)\n",
      "  File \"D:\\Denis\\miniconda\\envs\\neural-networks\\lib\\site-packages\\sklearn\\ensemble\\_forest.py\", line 169, in _parallel_build_trees\n",
      "    tree.fit(X, y, sample_weight=curr_sample_weight, check_input=False)\n",
      "  File \"D:\\Denis\\miniconda\\envs\\neural-networks\\lib\\site-packages\\sklearn\\tree\\_classes.py\", line 902, in fit\n",
      "    X_idx_sorted=X_idx_sorted)\n",
      "  File \"D:\\Denis\\miniconda\\envs\\neural-networks\\lib\\site-packages\\sklearn\\tree\\_classes.py\", line 288, in fit\n",
      "    raise ValueError(\"max_features must be in (0, n_features]\")\n",
      "ValueError: max_features must be in (0, n_features]\n",
      "\n",
      "  FitFailedWarning)\n",
      "D:\\Denis\\miniconda\\envs\\neural-networks\\lib\\site-packages\\sklearn\\model_selection\\_validation.py:614: FitFailedWarning: Estimator fit failed. The score on this train-test partition for these parameters will be set to nan. Details: \n",
      "Traceback (most recent call last):\n",
      "  File \"D:\\Denis\\miniconda\\envs\\neural-networks\\lib\\site-packages\\sklearn\\model_selection\\_validation.py\", line 593, in _fit_and_score\n",
      "    estimator.fit(X_train, y_train, **fit_params)\n",
      "  File \"D:\\Denis\\miniconda\\envs\\neural-networks\\lib\\site-packages\\sklearn\\pipeline.py\", line 346, in fit\n",
      "    self._final_estimator.fit(Xt, y, **fit_params_last_step)\n",
      "  File \"D:\\Denis\\miniconda\\envs\\neural-networks\\lib\\site-packages\\sklearn\\ensemble\\_forest.py\", line 393, in fit\n",
      "    for i, t in enumerate(trees))\n",
      "  File \"D:\\Denis\\miniconda\\envs\\neural-networks\\lib\\site-packages\\joblib\\parallel.py\", line 1041, in __call__\n",
      "    if self.dispatch_one_batch(iterator):\n",
      "  File \"D:\\Denis\\miniconda\\envs\\neural-networks\\lib\\site-packages\\joblib\\parallel.py\", line 859, in dispatch_one_batch\n",
      "    self._dispatch(tasks)\n",
      "  File \"D:\\Denis\\miniconda\\envs\\neural-networks\\lib\\site-packages\\joblib\\parallel.py\", line 777, in _dispatch\n",
      "    job = self._backend.apply_async(batch, callback=cb)\n",
      "  File \"D:\\Denis\\miniconda\\envs\\neural-networks\\lib\\site-packages\\joblib\\_parallel_backends.py\", line 208, in apply_async\n",
      "    result = ImmediateResult(func)\n",
      "  File \"D:\\Denis\\miniconda\\envs\\neural-networks\\lib\\site-packages\\joblib\\_parallel_backends.py\", line 572, in __init__\n",
      "    self.results = batch()\n",
      "  File \"D:\\Denis\\miniconda\\envs\\neural-networks\\lib\\site-packages\\joblib\\parallel.py\", line 263, in __call__\n",
      "    for func, args, kwargs in self.items]\n",
      "  File \"D:\\Denis\\miniconda\\envs\\neural-networks\\lib\\site-packages\\joblib\\parallel.py\", line 263, in <listcomp>\n",
      "    for func, args, kwargs in self.items]\n",
      "  File \"D:\\Denis\\miniconda\\envs\\neural-networks\\lib\\site-packages\\sklearn\\utils\\fixes.py\", line 222, in __call__\n",
      "    return self.function(*args, **kwargs)\n",
      "  File \"D:\\Denis\\miniconda\\envs\\neural-networks\\lib\\site-packages\\sklearn\\ensemble\\_forest.py\", line 169, in _parallel_build_trees\n",
      "    tree.fit(X, y, sample_weight=curr_sample_weight, check_input=False)\n",
      "  File \"D:\\Denis\\miniconda\\envs\\neural-networks\\lib\\site-packages\\sklearn\\tree\\_classes.py\", line 902, in fit\n",
      "    X_idx_sorted=X_idx_sorted)\n",
      "  File \"D:\\Denis\\miniconda\\envs\\neural-networks\\lib\\site-packages\\sklearn\\tree\\_classes.py\", line 288, in fit\n",
      "    raise ValueError(\"max_features must be in (0, n_features]\")\n",
      "ValueError: max_features must be in (0, n_features]\n",
      "\n",
      "  FitFailedWarning)\n",
      "D:\\Denis\\miniconda\\envs\\neural-networks\\lib\\site-packages\\sklearn\\model_selection\\_validation.py:614: FitFailedWarning: Estimator fit failed. The score on this train-test partition for these parameters will be set to nan. Details: \n",
      "Traceback (most recent call last):\n",
      "  File \"D:\\Denis\\miniconda\\envs\\neural-networks\\lib\\site-packages\\sklearn\\model_selection\\_validation.py\", line 593, in _fit_and_score\n",
      "    estimator.fit(X_train, y_train, **fit_params)\n",
      "  File \"D:\\Denis\\miniconda\\envs\\neural-networks\\lib\\site-packages\\sklearn\\pipeline.py\", line 346, in fit\n",
      "    self._final_estimator.fit(Xt, y, **fit_params_last_step)\n",
      "  File \"D:\\Denis\\miniconda\\envs\\neural-networks\\lib\\site-packages\\sklearn\\ensemble\\_forest.py\", line 393, in fit\n",
      "    for i, t in enumerate(trees))\n",
      "  File \"D:\\Denis\\miniconda\\envs\\neural-networks\\lib\\site-packages\\joblib\\parallel.py\", line 1041, in __call__\n",
      "    if self.dispatch_one_batch(iterator):\n",
      "  File \"D:\\Denis\\miniconda\\envs\\neural-networks\\lib\\site-packages\\joblib\\parallel.py\", line 859, in dispatch_one_batch\n",
      "    self._dispatch(tasks)\n",
      "  File \"D:\\Denis\\miniconda\\envs\\neural-networks\\lib\\site-packages\\joblib\\parallel.py\", line 777, in _dispatch\n",
      "    job = self._backend.apply_async(batch, callback=cb)\n",
      "  File \"D:\\Denis\\miniconda\\envs\\neural-networks\\lib\\site-packages\\joblib\\_parallel_backends.py\", line 208, in apply_async\n",
      "    result = ImmediateResult(func)\n",
      "  File \"D:\\Denis\\miniconda\\envs\\neural-networks\\lib\\site-packages\\joblib\\_parallel_backends.py\", line 572, in __init__\n",
      "    self.results = batch()\n",
      "  File \"D:\\Denis\\miniconda\\envs\\neural-networks\\lib\\site-packages\\joblib\\parallel.py\", line 263, in __call__\n",
      "    for func, args, kwargs in self.items]\n",
      "  File \"D:\\Denis\\miniconda\\envs\\neural-networks\\lib\\site-packages\\joblib\\parallel.py\", line 263, in <listcomp>\n",
      "    for func, args, kwargs in self.items]\n",
      "  File \"D:\\Denis\\miniconda\\envs\\neural-networks\\lib\\site-packages\\sklearn\\utils\\fixes.py\", line 222, in __call__\n",
      "    return self.function(*args, **kwargs)\n",
      "  File \"D:\\Denis\\miniconda\\envs\\neural-networks\\lib\\site-packages\\sklearn\\ensemble\\_forest.py\", line 169, in _parallel_build_trees\n",
      "    tree.fit(X, y, sample_weight=curr_sample_weight, check_input=False)\n",
      "  File \"D:\\Denis\\miniconda\\envs\\neural-networks\\lib\\site-packages\\sklearn\\tree\\_classes.py\", line 902, in fit\n",
      "    X_idx_sorted=X_idx_sorted)\n",
      "  File \"D:\\Denis\\miniconda\\envs\\neural-networks\\lib\\site-packages\\sklearn\\tree\\_classes.py\", line 288, in fit\n",
      "    raise ValueError(\"max_features must be in (0, n_features]\")\n",
      "ValueError: max_features must be in (0, n_features]\n",
      "\n",
      "  FitFailedWarning)\n",
      "D:\\Denis\\miniconda\\envs\\neural-networks\\lib\\site-packages\\sklearn\\model_selection\\_validation.py:614: FitFailedWarning: Estimator fit failed. The score on this train-test partition for these parameters will be set to nan. Details: \n",
      "Traceback (most recent call last):\n",
      "  File \"D:\\Denis\\miniconda\\envs\\neural-networks\\lib\\site-packages\\sklearn\\model_selection\\_validation.py\", line 593, in _fit_and_score\n",
      "    estimator.fit(X_train, y_train, **fit_params)\n",
      "  File \"D:\\Denis\\miniconda\\envs\\neural-networks\\lib\\site-packages\\sklearn\\pipeline.py\", line 346, in fit\n",
      "    self._final_estimator.fit(Xt, y, **fit_params_last_step)\n",
      "  File \"D:\\Denis\\miniconda\\envs\\neural-networks\\lib\\site-packages\\sklearn\\ensemble\\_forest.py\", line 393, in fit\n",
      "    for i, t in enumerate(trees))\n",
      "  File \"D:\\Denis\\miniconda\\envs\\neural-networks\\lib\\site-packages\\joblib\\parallel.py\", line 1041, in __call__\n",
      "    if self.dispatch_one_batch(iterator):\n",
      "  File \"D:\\Denis\\miniconda\\envs\\neural-networks\\lib\\site-packages\\joblib\\parallel.py\", line 859, in dispatch_one_batch\n",
      "    self._dispatch(tasks)\n",
      "  File \"D:\\Denis\\miniconda\\envs\\neural-networks\\lib\\site-packages\\joblib\\parallel.py\", line 777, in _dispatch\n",
      "    job = self._backend.apply_async(batch, callback=cb)\n",
      "  File \"D:\\Denis\\miniconda\\envs\\neural-networks\\lib\\site-packages\\joblib\\_parallel_backends.py\", line 208, in apply_async\n",
      "    result = ImmediateResult(func)\n",
      "  File \"D:\\Denis\\miniconda\\envs\\neural-networks\\lib\\site-packages\\joblib\\_parallel_backends.py\", line 572, in __init__\n",
      "    self.results = batch()\n",
      "  File \"D:\\Denis\\miniconda\\envs\\neural-networks\\lib\\site-packages\\joblib\\parallel.py\", line 263, in __call__\n",
      "    for func, args, kwargs in self.items]\n",
      "  File \"D:\\Denis\\miniconda\\envs\\neural-networks\\lib\\site-packages\\joblib\\parallel.py\", line 263, in <listcomp>\n",
      "    for func, args, kwargs in self.items]\n",
      "  File \"D:\\Denis\\miniconda\\envs\\neural-networks\\lib\\site-packages\\sklearn\\utils\\fixes.py\", line 222, in __call__\n",
      "    return self.function(*args, **kwargs)\n",
      "  File \"D:\\Denis\\miniconda\\envs\\neural-networks\\lib\\site-packages\\sklearn\\ensemble\\_forest.py\", line 169, in _parallel_build_trees\n",
      "    tree.fit(X, y, sample_weight=curr_sample_weight, check_input=False)\n",
      "  File \"D:\\Denis\\miniconda\\envs\\neural-networks\\lib\\site-packages\\sklearn\\tree\\_classes.py\", line 902, in fit\n",
      "    X_idx_sorted=X_idx_sorted)\n",
      "  File \"D:\\Denis\\miniconda\\envs\\neural-networks\\lib\\site-packages\\sklearn\\tree\\_classes.py\", line 288, in fit\n",
      "    raise ValueError(\"max_features must be in (0, n_features]\")\n",
      "ValueError: max_features must be in (0, n_features]\n",
      "\n",
      "  FitFailedWarning)\n",
      "D:\\Denis\\miniconda\\envs\\neural-networks\\lib\\site-packages\\sklearn\\model_selection\\_validation.py:614: FitFailedWarning: Estimator fit failed. The score on this train-test partition for these parameters will be set to nan. Details: \n",
      "Traceback (most recent call last):\n",
      "  File \"D:\\Denis\\miniconda\\envs\\neural-networks\\lib\\site-packages\\sklearn\\model_selection\\_validation.py\", line 593, in _fit_and_score\n",
      "    estimator.fit(X_train, y_train, **fit_params)\n",
      "  File \"D:\\Denis\\miniconda\\envs\\neural-networks\\lib\\site-packages\\sklearn\\pipeline.py\", line 346, in fit\n",
      "    self._final_estimator.fit(Xt, y, **fit_params_last_step)\n",
      "  File \"D:\\Denis\\miniconda\\envs\\neural-networks\\lib\\site-packages\\sklearn\\ensemble\\_forest.py\", line 393, in fit\n",
      "    for i, t in enumerate(trees))\n",
      "  File \"D:\\Denis\\miniconda\\envs\\neural-networks\\lib\\site-packages\\joblib\\parallel.py\", line 1041, in __call__\n",
      "    if self.dispatch_one_batch(iterator):\n",
      "  File \"D:\\Denis\\miniconda\\envs\\neural-networks\\lib\\site-packages\\joblib\\parallel.py\", line 859, in dispatch_one_batch\n",
      "    self._dispatch(tasks)\n",
      "  File \"D:\\Denis\\miniconda\\envs\\neural-networks\\lib\\site-packages\\joblib\\parallel.py\", line 777, in _dispatch\n",
      "    job = self._backend.apply_async(batch, callback=cb)\n",
      "  File \"D:\\Denis\\miniconda\\envs\\neural-networks\\lib\\site-packages\\joblib\\_parallel_backends.py\", line 208, in apply_async\n",
      "    result = ImmediateResult(func)\n",
      "  File \"D:\\Denis\\miniconda\\envs\\neural-networks\\lib\\site-packages\\joblib\\_parallel_backends.py\", line 572, in __init__\n",
      "    self.results = batch()\n",
      "  File \"D:\\Denis\\miniconda\\envs\\neural-networks\\lib\\site-packages\\joblib\\parallel.py\", line 263, in __call__\n",
      "    for func, args, kwargs in self.items]\n",
      "  File \"D:\\Denis\\miniconda\\envs\\neural-networks\\lib\\site-packages\\joblib\\parallel.py\", line 263, in <listcomp>\n",
      "    for func, args, kwargs in self.items]\n",
      "  File \"D:\\Denis\\miniconda\\envs\\neural-networks\\lib\\site-packages\\sklearn\\utils\\fixes.py\", line 222, in __call__\n",
      "    return self.function(*args, **kwargs)\n",
      "  File \"D:\\Denis\\miniconda\\envs\\neural-networks\\lib\\site-packages\\sklearn\\ensemble\\_forest.py\", line 169, in _parallel_build_trees\n",
      "    tree.fit(X, y, sample_weight=curr_sample_weight, check_input=False)\n",
      "  File \"D:\\Denis\\miniconda\\envs\\neural-networks\\lib\\site-packages\\sklearn\\tree\\_classes.py\", line 902, in fit\n",
      "    X_idx_sorted=X_idx_sorted)\n",
      "  File \"D:\\Denis\\miniconda\\envs\\neural-networks\\lib\\site-packages\\sklearn\\tree\\_classes.py\", line 288, in fit\n",
      "    raise ValueError(\"max_features must be in (0, n_features]\")\n",
      "ValueError: max_features must be in (0, n_features]\n",
      "\n",
      "  FitFailedWarning)\n"
     ]
    },
    {
     "name": "stderr",
     "output_type": "stream",
     "text": [
      "D:\\Denis\\miniconda\\envs\\neural-networks\\lib\\site-packages\\sklearn\\model_selection\\_validation.py:614: FitFailedWarning: Estimator fit failed. The score on this train-test partition for these parameters will be set to nan. Details: \n",
      "Traceback (most recent call last):\n",
      "  File \"D:\\Denis\\miniconda\\envs\\neural-networks\\lib\\site-packages\\sklearn\\model_selection\\_validation.py\", line 593, in _fit_and_score\n",
      "    estimator.fit(X_train, y_train, **fit_params)\n",
      "  File \"D:\\Denis\\miniconda\\envs\\neural-networks\\lib\\site-packages\\sklearn\\pipeline.py\", line 346, in fit\n",
      "    self._final_estimator.fit(Xt, y, **fit_params_last_step)\n",
      "  File \"D:\\Denis\\miniconda\\envs\\neural-networks\\lib\\site-packages\\sklearn\\ensemble\\_forest.py\", line 393, in fit\n",
      "    for i, t in enumerate(trees))\n",
      "  File \"D:\\Denis\\miniconda\\envs\\neural-networks\\lib\\site-packages\\joblib\\parallel.py\", line 1041, in __call__\n",
      "    if self.dispatch_one_batch(iterator):\n",
      "  File \"D:\\Denis\\miniconda\\envs\\neural-networks\\lib\\site-packages\\joblib\\parallel.py\", line 859, in dispatch_one_batch\n",
      "    self._dispatch(tasks)\n",
      "  File \"D:\\Denis\\miniconda\\envs\\neural-networks\\lib\\site-packages\\joblib\\parallel.py\", line 777, in _dispatch\n",
      "    job = self._backend.apply_async(batch, callback=cb)\n",
      "  File \"D:\\Denis\\miniconda\\envs\\neural-networks\\lib\\site-packages\\joblib\\_parallel_backends.py\", line 208, in apply_async\n",
      "    result = ImmediateResult(func)\n",
      "  File \"D:\\Denis\\miniconda\\envs\\neural-networks\\lib\\site-packages\\joblib\\_parallel_backends.py\", line 572, in __init__\n",
      "    self.results = batch()\n",
      "  File \"D:\\Denis\\miniconda\\envs\\neural-networks\\lib\\site-packages\\joblib\\parallel.py\", line 263, in __call__\n",
      "    for func, args, kwargs in self.items]\n",
      "  File \"D:\\Denis\\miniconda\\envs\\neural-networks\\lib\\site-packages\\joblib\\parallel.py\", line 263, in <listcomp>\n",
      "    for func, args, kwargs in self.items]\n",
      "  File \"D:\\Denis\\miniconda\\envs\\neural-networks\\lib\\site-packages\\sklearn\\utils\\fixes.py\", line 222, in __call__\n",
      "    return self.function(*args, **kwargs)\n",
      "  File \"D:\\Denis\\miniconda\\envs\\neural-networks\\lib\\site-packages\\sklearn\\ensemble\\_forest.py\", line 169, in _parallel_build_trees\n",
      "    tree.fit(X, y, sample_weight=curr_sample_weight, check_input=False)\n",
      "  File \"D:\\Denis\\miniconda\\envs\\neural-networks\\lib\\site-packages\\sklearn\\tree\\_classes.py\", line 902, in fit\n",
      "    X_idx_sorted=X_idx_sorted)\n",
      "  File \"D:\\Denis\\miniconda\\envs\\neural-networks\\lib\\site-packages\\sklearn\\tree\\_classes.py\", line 288, in fit\n",
      "    raise ValueError(\"max_features must be in (0, n_features]\")\n",
      "ValueError: max_features must be in (0, n_features]\n",
      "\n",
      "  FitFailedWarning)\n",
      "D:\\Denis\\miniconda\\envs\\neural-networks\\lib\\site-packages\\sklearn\\model_selection\\_validation.py:614: FitFailedWarning: Estimator fit failed. The score on this train-test partition for these parameters will be set to nan. Details: \n",
      "Traceback (most recent call last):\n",
      "  File \"D:\\Denis\\miniconda\\envs\\neural-networks\\lib\\site-packages\\sklearn\\model_selection\\_validation.py\", line 593, in _fit_and_score\n",
      "    estimator.fit(X_train, y_train, **fit_params)\n",
      "  File \"D:\\Denis\\miniconda\\envs\\neural-networks\\lib\\site-packages\\sklearn\\pipeline.py\", line 346, in fit\n",
      "    self._final_estimator.fit(Xt, y, **fit_params_last_step)\n",
      "  File \"D:\\Denis\\miniconda\\envs\\neural-networks\\lib\\site-packages\\sklearn\\ensemble\\_forest.py\", line 393, in fit\n",
      "    for i, t in enumerate(trees))\n",
      "  File \"D:\\Denis\\miniconda\\envs\\neural-networks\\lib\\site-packages\\joblib\\parallel.py\", line 1041, in __call__\n",
      "    if self.dispatch_one_batch(iterator):\n",
      "  File \"D:\\Denis\\miniconda\\envs\\neural-networks\\lib\\site-packages\\joblib\\parallel.py\", line 859, in dispatch_one_batch\n",
      "    self._dispatch(tasks)\n",
      "  File \"D:\\Denis\\miniconda\\envs\\neural-networks\\lib\\site-packages\\joblib\\parallel.py\", line 777, in _dispatch\n",
      "    job = self._backend.apply_async(batch, callback=cb)\n",
      "  File \"D:\\Denis\\miniconda\\envs\\neural-networks\\lib\\site-packages\\joblib\\_parallel_backends.py\", line 208, in apply_async\n",
      "    result = ImmediateResult(func)\n",
      "  File \"D:\\Denis\\miniconda\\envs\\neural-networks\\lib\\site-packages\\joblib\\_parallel_backends.py\", line 572, in __init__\n",
      "    self.results = batch()\n",
      "  File \"D:\\Denis\\miniconda\\envs\\neural-networks\\lib\\site-packages\\joblib\\parallel.py\", line 263, in __call__\n",
      "    for func, args, kwargs in self.items]\n",
      "  File \"D:\\Denis\\miniconda\\envs\\neural-networks\\lib\\site-packages\\joblib\\parallel.py\", line 263, in <listcomp>\n",
      "    for func, args, kwargs in self.items]\n",
      "  File \"D:\\Denis\\miniconda\\envs\\neural-networks\\lib\\site-packages\\sklearn\\utils\\fixes.py\", line 222, in __call__\n",
      "    return self.function(*args, **kwargs)\n",
      "  File \"D:\\Denis\\miniconda\\envs\\neural-networks\\lib\\site-packages\\sklearn\\ensemble\\_forest.py\", line 169, in _parallel_build_trees\n",
      "    tree.fit(X, y, sample_weight=curr_sample_weight, check_input=False)\n",
      "  File \"D:\\Denis\\miniconda\\envs\\neural-networks\\lib\\site-packages\\sklearn\\tree\\_classes.py\", line 902, in fit\n",
      "    X_idx_sorted=X_idx_sorted)\n",
      "  File \"D:\\Denis\\miniconda\\envs\\neural-networks\\lib\\site-packages\\sklearn\\tree\\_classes.py\", line 288, in fit\n",
      "    raise ValueError(\"max_features must be in (0, n_features]\")\n",
      "ValueError: max_features must be in (0, n_features]\n",
      "\n",
      "  FitFailedWarning)\n",
      "D:\\Denis\\miniconda\\envs\\neural-networks\\lib\\site-packages\\sklearn\\model_selection\\_validation.py:614: FitFailedWarning: Estimator fit failed. The score on this train-test partition for these parameters will be set to nan. Details: \n",
      "Traceback (most recent call last):\n",
      "  File \"D:\\Denis\\miniconda\\envs\\neural-networks\\lib\\site-packages\\sklearn\\model_selection\\_validation.py\", line 593, in _fit_and_score\n",
      "    estimator.fit(X_train, y_train, **fit_params)\n",
      "  File \"D:\\Denis\\miniconda\\envs\\neural-networks\\lib\\site-packages\\sklearn\\pipeline.py\", line 346, in fit\n",
      "    self._final_estimator.fit(Xt, y, **fit_params_last_step)\n",
      "  File \"D:\\Denis\\miniconda\\envs\\neural-networks\\lib\\site-packages\\sklearn\\ensemble\\_forest.py\", line 393, in fit\n",
      "    for i, t in enumerate(trees))\n",
      "  File \"D:\\Denis\\miniconda\\envs\\neural-networks\\lib\\site-packages\\joblib\\parallel.py\", line 1041, in __call__\n",
      "    if self.dispatch_one_batch(iterator):\n",
      "  File \"D:\\Denis\\miniconda\\envs\\neural-networks\\lib\\site-packages\\joblib\\parallel.py\", line 859, in dispatch_one_batch\n",
      "    self._dispatch(tasks)\n",
      "  File \"D:\\Denis\\miniconda\\envs\\neural-networks\\lib\\site-packages\\joblib\\parallel.py\", line 777, in _dispatch\n",
      "    job = self._backend.apply_async(batch, callback=cb)\n",
      "  File \"D:\\Denis\\miniconda\\envs\\neural-networks\\lib\\site-packages\\joblib\\_parallel_backends.py\", line 208, in apply_async\n",
      "    result = ImmediateResult(func)\n",
      "  File \"D:\\Denis\\miniconda\\envs\\neural-networks\\lib\\site-packages\\joblib\\_parallel_backends.py\", line 572, in __init__\n",
      "    self.results = batch()\n",
      "  File \"D:\\Denis\\miniconda\\envs\\neural-networks\\lib\\site-packages\\joblib\\parallel.py\", line 263, in __call__\n",
      "    for func, args, kwargs in self.items]\n",
      "  File \"D:\\Denis\\miniconda\\envs\\neural-networks\\lib\\site-packages\\joblib\\parallel.py\", line 263, in <listcomp>\n",
      "    for func, args, kwargs in self.items]\n",
      "  File \"D:\\Denis\\miniconda\\envs\\neural-networks\\lib\\site-packages\\sklearn\\utils\\fixes.py\", line 222, in __call__\n",
      "    return self.function(*args, **kwargs)\n",
      "  File \"D:\\Denis\\miniconda\\envs\\neural-networks\\lib\\site-packages\\sklearn\\ensemble\\_forest.py\", line 169, in _parallel_build_trees\n",
      "    tree.fit(X, y, sample_weight=curr_sample_weight, check_input=False)\n",
      "  File \"D:\\Denis\\miniconda\\envs\\neural-networks\\lib\\site-packages\\sklearn\\tree\\_classes.py\", line 902, in fit\n",
      "    X_idx_sorted=X_idx_sorted)\n",
      "  File \"D:\\Denis\\miniconda\\envs\\neural-networks\\lib\\site-packages\\sklearn\\tree\\_classes.py\", line 288, in fit\n",
      "    raise ValueError(\"max_features must be in (0, n_features]\")\n",
      "ValueError: max_features must be in (0, n_features]\n",
      "\n",
      "  FitFailedWarning)\n",
      "D:\\Denis\\miniconda\\envs\\neural-networks\\lib\\site-packages\\sklearn\\model_selection\\_validation.py:614: FitFailedWarning: Estimator fit failed. The score on this train-test partition for these parameters will be set to nan. Details: \n",
      "Traceback (most recent call last):\n",
      "  File \"D:\\Denis\\miniconda\\envs\\neural-networks\\lib\\site-packages\\sklearn\\model_selection\\_validation.py\", line 593, in _fit_and_score\n",
      "    estimator.fit(X_train, y_train, **fit_params)\n",
      "  File \"D:\\Denis\\miniconda\\envs\\neural-networks\\lib\\site-packages\\sklearn\\pipeline.py\", line 346, in fit\n",
      "    self._final_estimator.fit(Xt, y, **fit_params_last_step)\n",
      "  File \"D:\\Denis\\miniconda\\envs\\neural-networks\\lib\\site-packages\\sklearn\\ensemble\\_forest.py\", line 393, in fit\n",
      "    for i, t in enumerate(trees))\n",
      "  File \"D:\\Denis\\miniconda\\envs\\neural-networks\\lib\\site-packages\\joblib\\parallel.py\", line 1041, in __call__\n",
      "    if self.dispatch_one_batch(iterator):\n",
      "  File \"D:\\Denis\\miniconda\\envs\\neural-networks\\lib\\site-packages\\joblib\\parallel.py\", line 859, in dispatch_one_batch\n",
      "    self._dispatch(tasks)\n",
      "  File \"D:\\Denis\\miniconda\\envs\\neural-networks\\lib\\site-packages\\joblib\\parallel.py\", line 777, in _dispatch\n",
      "    job = self._backend.apply_async(batch, callback=cb)\n",
      "  File \"D:\\Denis\\miniconda\\envs\\neural-networks\\lib\\site-packages\\joblib\\_parallel_backends.py\", line 208, in apply_async\n",
      "    result = ImmediateResult(func)\n",
      "  File \"D:\\Denis\\miniconda\\envs\\neural-networks\\lib\\site-packages\\joblib\\_parallel_backends.py\", line 572, in __init__\n",
      "    self.results = batch()\n",
      "  File \"D:\\Denis\\miniconda\\envs\\neural-networks\\lib\\site-packages\\joblib\\parallel.py\", line 263, in __call__\n",
      "    for func, args, kwargs in self.items]\n",
      "  File \"D:\\Denis\\miniconda\\envs\\neural-networks\\lib\\site-packages\\joblib\\parallel.py\", line 263, in <listcomp>\n",
      "    for func, args, kwargs in self.items]\n",
      "  File \"D:\\Denis\\miniconda\\envs\\neural-networks\\lib\\site-packages\\sklearn\\utils\\fixes.py\", line 222, in __call__\n",
      "    return self.function(*args, **kwargs)\n",
      "  File \"D:\\Denis\\miniconda\\envs\\neural-networks\\lib\\site-packages\\sklearn\\ensemble\\_forest.py\", line 169, in _parallel_build_trees\n",
      "    tree.fit(X, y, sample_weight=curr_sample_weight, check_input=False)\n",
      "  File \"D:\\Denis\\miniconda\\envs\\neural-networks\\lib\\site-packages\\sklearn\\tree\\_classes.py\", line 902, in fit\n",
      "    X_idx_sorted=X_idx_sorted)\n",
      "  File \"D:\\Denis\\miniconda\\envs\\neural-networks\\lib\\site-packages\\sklearn\\tree\\_classes.py\", line 288, in fit\n",
      "    raise ValueError(\"max_features must be in (0, n_features]\")\n",
      "ValueError: max_features must be in (0, n_features]\n",
      "\n",
      "  FitFailedWarning)\n",
      "D:\\Denis\\miniconda\\envs\\neural-networks\\lib\\site-packages\\sklearn\\model_selection\\_validation.py:614: FitFailedWarning: Estimator fit failed. The score on this train-test partition for these parameters will be set to nan. Details: \n",
      "Traceback (most recent call last):\n",
      "  File \"D:\\Denis\\miniconda\\envs\\neural-networks\\lib\\site-packages\\sklearn\\model_selection\\_validation.py\", line 593, in _fit_and_score\n",
      "    estimator.fit(X_train, y_train, **fit_params)\n",
      "  File \"D:\\Denis\\miniconda\\envs\\neural-networks\\lib\\site-packages\\sklearn\\pipeline.py\", line 346, in fit\n",
      "    self._final_estimator.fit(Xt, y, **fit_params_last_step)\n",
      "  File \"D:\\Denis\\miniconda\\envs\\neural-networks\\lib\\site-packages\\sklearn\\ensemble\\_forest.py\", line 393, in fit\n",
      "    for i, t in enumerate(trees))\n",
      "  File \"D:\\Denis\\miniconda\\envs\\neural-networks\\lib\\site-packages\\joblib\\parallel.py\", line 1041, in __call__\n",
      "    if self.dispatch_one_batch(iterator):\n",
      "  File \"D:\\Denis\\miniconda\\envs\\neural-networks\\lib\\site-packages\\joblib\\parallel.py\", line 859, in dispatch_one_batch\n",
      "    self._dispatch(tasks)\n",
      "  File \"D:\\Denis\\miniconda\\envs\\neural-networks\\lib\\site-packages\\joblib\\parallel.py\", line 777, in _dispatch\n",
      "    job = self._backend.apply_async(batch, callback=cb)\n",
      "  File \"D:\\Denis\\miniconda\\envs\\neural-networks\\lib\\site-packages\\joblib\\_parallel_backends.py\", line 208, in apply_async\n",
      "    result = ImmediateResult(func)\n",
      "  File \"D:\\Denis\\miniconda\\envs\\neural-networks\\lib\\site-packages\\joblib\\_parallel_backends.py\", line 572, in __init__\n",
      "    self.results = batch()\n",
      "  File \"D:\\Denis\\miniconda\\envs\\neural-networks\\lib\\site-packages\\joblib\\parallel.py\", line 263, in __call__\n",
      "    for func, args, kwargs in self.items]\n",
      "  File \"D:\\Denis\\miniconda\\envs\\neural-networks\\lib\\site-packages\\joblib\\parallel.py\", line 263, in <listcomp>\n",
      "    for func, args, kwargs in self.items]\n",
      "  File \"D:\\Denis\\miniconda\\envs\\neural-networks\\lib\\site-packages\\sklearn\\utils\\fixes.py\", line 222, in __call__\n",
      "    return self.function(*args, **kwargs)\n",
      "  File \"D:\\Denis\\miniconda\\envs\\neural-networks\\lib\\site-packages\\sklearn\\ensemble\\_forest.py\", line 169, in _parallel_build_trees\n",
      "    tree.fit(X, y, sample_weight=curr_sample_weight, check_input=False)\n",
      "  File \"D:\\Denis\\miniconda\\envs\\neural-networks\\lib\\site-packages\\sklearn\\tree\\_classes.py\", line 902, in fit\n",
      "    X_idx_sorted=X_idx_sorted)\n",
      "  File \"D:\\Denis\\miniconda\\envs\\neural-networks\\lib\\site-packages\\sklearn\\tree\\_classes.py\", line 288, in fit\n",
      "    raise ValueError(\"max_features must be in (0, n_features]\")\n",
      "ValueError: max_features must be in (0, n_features]\n",
      "\n",
      "  FitFailedWarning)\n",
      "D:\\Denis\\miniconda\\envs\\neural-networks\\lib\\site-packages\\sklearn\\model_selection\\_validation.py:614: FitFailedWarning: Estimator fit failed. The score on this train-test partition for these parameters will be set to nan. Details: \n",
      "Traceback (most recent call last):\n",
      "  File \"D:\\Denis\\miniconda\\envs\\neural-networks\\lib\\site-packages\\sklearn\\model_selection\\_validation.py\", line 593, in _fit_and_score\n",
      "    estimator.fit(X_train, y_train, **fit_params)\n",
      "  File \"D:\\Denis\\miniconda\\envs\\neural-networks\\lib\\site-packages\\sklearn\\pipeline.py\", line 346, in fit\n",
      "    self._final_estimator.fit(Xt, y, **fit_params_last_step)\n",
      "  File \"D:\\Denis\\miniconda\\envs\\neural-networks\\lib\\site-packages\\sklearn\\ensemble\\_forest.py\", line 393, in fit\n",
      "    for i, t in enumerate(trees))\n",
      "  File \"D:\\Denis\\miniconda\\envs\\neural-networks\\lib\\site-packages\\joblib\\parallel.py\", line 1041, in __call__\n",
      "    if self.dispatch_one_batch(iterator):\n",
      "  File \"D:\\Denis\\miniconda\\envs\\neural-networks\\lib\\site-packages\\joblib\\parallel.py\", line 859, in dispatch_one_batch\n",
      "    self._dispatch(tasks)\n",
      "  File \"D:\\Denis\\miniconda\\envs\\neural-networks\\lib\\site-packages\\joblib\\parallel.py\", line 777, in _dispatch\n",
      "    job = self._backend.apply_async(batch, callback=cb)\n",
      "  File \"D:\\Denis\\miniconda\\envs\\neural-networks\\lib\\site-packages\\joblib\\_parallel_backends.py\", line 208, in apply_async\n",
      "    result = ImmediateResult(func)\n",
      "  File \"D:\\Denis\\miniconda\\envs\\neural-networks\\lib\\site-packages\\joblib\\_parallel_backends.py\", line 572, in __init__\n",
      "    self.results = batch()\n",
      "  File \"D:\\Denis\\miniconda\\envs\\neural-networks\\lib\\site-packages\\joblib\\parallel.py\", line 263, in __call__\n",
      "    for func, args, kwargs in self.items]\n",
      "  File \"D:\\Denis\\miniconda\\envs\\neural-networks\\lib\\site-packages\\joblib\\parallel.py\", line 263, in <listcomp>\n",
      "    for func, args, kwargs in self.items]\n",
      "  File \"D:\\Denis\\miniconda\\envs\\neural-networks\\lib\\site-packages\\sklearn\\utils\\fixes.py\", line 222, in __call__\n",
      "    return self.function(*args, **kwargs)\n",
      "  File \"D:\\Denis\\miniconda\\envs\\neural-networks\\lib\\site-packages\\sklearn\\ensemble\\_forest.py\", line 169, in _parallel_build_trees\n",
      "    tree.fit(X, y, sample_weight=curr_sample_weight, check_input=False)\n",
      "  File \"D:\\Denis\\miniconda\\envs\\neural-networks\\lib\\site-packages\\sklearn\\tree\\_classes.py\", line 902, in fit\n",
      "    X_idx_sorted=X_idx_sorted)\n",
      "  File \"D:\\Denis\\miniconda\\envs\\neural-networks\\lib\\site-packages\\sklearn\\tree\\_classes.py\", line 288, in fit\n",
      "    raise ValueError(\"max_features must be in (0, n_features]\")\n",
      "ValueError: max_features must be in (0, n_features]\n",
      "\n",
      "  FitFailedWarning)\n",
      "D:\\Denis\\miniconda\\envs\\neural-networks\\lib\\site-packages\\sklearn\\model_selection\\_validation.py:614: FitFailedWarning: Estimator fit failed. The score on this train-test partition for these parameters will be set to nan. Details: \n",
      "Traceback (most recent call last):\n",
      "  File \"D:\\Denis\\miniconda\\envs\\neural-networks\\lib\\site-packages\\sklearn\\model_selection\\_validation.py\", line 593, in _fit_and_score\n",
      "    estimator.fit(X_train, y_train, **fit_params)\n",
      "  File \"D:\\Denis\\miniconda\\envs\\neural-networks\\lib\\site-packages\\sklearn\\pipeline.py\", line 346, in fit\n",
      "    self._final_estimator.fit(Xt, y, **fit_params_last_step)\n",
      "  File \"D:\\Denis\\miniconda\\envs\\neural-networks\\lib\\site-packages\\sklearn\\ensemble\\_forest.py\", line 393, in fit\n",
      "    for i, t in enumerate(trees))\n",
      "  File \"D:\\Denis\\miniconda\\envs\\neural-networks\\lib\\site-packages\\joblib\\parallel.py\", line 1041, in __call__\n",
      "    if self.dispatch_one_batch(iterator):\n",
      "  File \"D:\\Denis\\miniconda\\envs\\neural-networks\\lib\\site-packages\\joblib\\parallel.py\", line 859, in dispatch_one_batch\n",
      "    self._dispatch(tasks)\n",
      "  File \"D:\\Denis\\miniconda\\envs\\neural-networks\\lib\\site-packages\\joblib\\parallel.py\", line 777, in _dispatch\n",
      "    job = self._backend.apply_async(batch, callback=cb)\n",
      "  File \"D:\\Denis\\miniconda\\envs\\neural-networks\\lib\\site-packages\\joblib\\_parallel_backends.py\", line 208, in apply_async\n",
      "    result = ImmediateResult(func)\n",
      "  File \"D:\\Denis\\miniconda\\envs\\neural-networks\\lib\\site-packages\\joblib\\_parallel_backends.py\", line 572, in __init__\n",
      "    self.results = batch()\n",
      "  File \"D:\\Denis\\miniconda\\envs\\neural-networks\\lib\\site-packages\\joblib\\parallel.py\", line 263, in __call__\n",
      "    for func, args, kwargs in self.items]\n",
      "  File \"D:\\Denis\\miniconda\\envs\\neural-networks\\lib\\site-packages\\joblib\\parallel.py\", line 263, in <listcomp>\n",
      "    for func, args, kwargs in self.items]\n",
      "  File \"D:\\Denis\\miniconda\\envs\\neural-networks\\lib\\site-packages\\sklearn\\utils\\fixes.py\", line 222, in __call__\n",
      "    return self.function(*args, **kwargs)\n",
      "  File \"D:\\Denis\\miniconda\\envs\\neural-networks\\lib\\site-packages\\sklearn\\ensemble\\_forest.py\", line 169, in _parallel_build_trees\n",
      "    tree.fit(X, y, sample_weight=curr_sample_weight, check_input=False)\n",
      "  File \"D:\\Denis\\miniconda\\envs\\neural-networks\\lib\\site-packages\\sklearn\\tree\\_classes.py\", line 902, in fit\n",
      "    X_idx_sorted=X_idx_sorted)\n",
      "  File \"D:\\Denis\\miniconda\\envs\\neural-networks\\lib\\site-packages\\sklearn\\tree\\_classes.py\", line 288, in fit\n",
      "    raise ValueError(\"max_features must be in (0, n_features]\")\n",
      "ValueError: max_features must be in (0, n_features]\n",
      "\n",
      "  FitFailedWarning)\n",
      "D:\\Denis\\miniconda\\envs\\neural-networks\\lib\\site-packages\\sklearn\\model_selection\\_validation.py:614: FitFailedWarning: Estimator fit failed. The score on this train-test partition for these parameters will be set to nan. Details: \n",
      "Traceback (most recent call last):\n",
      "  File \"D:\\Denis\\miniconda\\envs\\neural-networks\\lib\\site-packages\\sklearn\\model_selection\\_validation.py\", line 593, in _fit_and_score\n",
      "    estimator.fit(X_train, y_train, **fit_params)\n",
      "  File \"D:\\Denis\\miniconda\\envs\\neural-networks\\lib\\site-packages\\sklearn\\pipeline.py\", line 346, in fit\n",
      "    self._final_estimator.fit(Xt, y, **fit_params_last_step)\n",
      "  File \"D:\\Denis\\miniconda\\envs\\neural-networks\\lib\\site-packages\\sklearn\\ensemble\\_forest.py\", line 393, in fit\n",
      "    for i, t in enumerate(trees))\n",
      "  File \"D:\\Denis\\miniconda\\envs\\neural-networks\\lib\\site-packages\\joblib\\parallel.py\", line 1041, in __call__\n",
      "    if self.dispatch_one_batch(iterator):\n",
      "  File \"D:\\Denis\\miniconda\\envs\\neural-networks\\lib\\site-packages\\joblib\\parallel.py\", line 859, in dispatch_one_batch\n",
      "    self._dispatch(tasks)\n",
      "  File \"D:\\Denis\\miniconda\\envs\\neural-networks\\lib\\site-packages\\joblib\\parallel.py\", line 777, in _dispatch\n",
      "    job = self._backend.apply_async(batch, callback=cb)\n",
      "  File \"D:\\Denis\\miniconda\\envs\\neural-networks\\lib\\site-packages\\joblib\\_parallel_backends.py\", line 208, in apply_async\n",
      "    result = ImmediateResult(func)\n",
      "  File \"D:\\Denis\\miniconda\\envs\\neural-networks\\lib\\site-packages\\joblib\\_parallel_backends.py\", line 572, in __init__\n",
      "    self.results = batch()\n",
      "  File \"D:\\Denis\\miniconda\\envs\\neural-networks\\lib\\site-packages\\joblib\\parallel.py\", line 263, in __call__\n",
      "    for func, args, kwargs in self.items]\n",
      "  File \"D:\\Denis\\miniconda\\envs\\neural-networks\\lib\\site-packages\\joblib\\parallel.py\", line 263, in <listcomp>\n",
      "    for func, args, kwargs in self.items]\n",
      "  File \"D:\\Denis\\miniconda\\envs\\neural-networks\\lib\\site-packages\\sklearn\\utils\\fixes.py\", line 222, in __call__\n",
      "    return self.function(*args, **kwargs)\n",
      "  File \"D:\\Denis\\miniconda\\envs\\neural-networks\\lib\\site-packages\\sklearn\\ensemble\\_forest.py\", line 169, in _parallel_build_trees\n",
      "    tree.fit(X, y, sample_weight=curr_sample_weight, check_input=False)\n",
      "  File \"D:\\Denis\\miniconda\\envs\\neural-networks\\lib\\site-packages\\sklearn\\tree\\_classes.py\", line 902, in fit\n",
      "    X_idx_sorted=X_idx_sorted)\n",
      "  File \"D:\\Denis\\miniconda\\envs\\neural-networks\\lib\\site-packages\\sklearn\\tree\\_classes.py\", line 288, in fit\n",
      "    raise ValueError(\"max_features must be in (0, n_features]\")\n",
      "ValueError: max_features must be in (0, n_features]\n",
      "\n",
      "  FitFailedWarning)\n",
      "D:\\Denis\\miniconda\\envs\\neural-networks\\lib\\site-packages\\sklearn\\model_selection\\_validation.py:614: FitFailedWarning: Estimator fit failed. The score on this train-test partition for these parameters will be set to nan. Details: \n",
      "Traceback (most recent call last):\n",
      "  File \"D:\\Denis\\miniconda\\envs\\neural-networks\\lib\\site-packages\\sklearn\\model_selection\\_validation.py\", line 593, in _fit_and_score\n",
      "    estimator.fit(X_train, y_train, **fit_params)\n",
      "  File \"D:\\Denis\\miniconda\\envs\\neural-networks\\lib\\site-packages\\sklearn\\pipeline.py\", line 346, in fit\n",
      "    self._final_estimator.fit(Xt, y, **fit_params_last_step)\n",
      "  File \"D:\\Denis\\miniconda\\envs\\neural-networks\\lib\\site-packages\\sklearn\\ensemble\\_forest.py\", line 393, in fit\n",
      "    for i, t in enumerate(trees))\n",
      "  File \"D:\\Denis\\miniconda\\envs\\neural-networks\\lib\\site-packages\\joblib\\parallel.py\", line 1041, in __call__\n",
      "    if self.dispatch_one_batch(iterator):\n",
      "  File \"D:\\Denis\\miniconda\\envs\\neural-networks\\lib\\site-packages\\joblib\\parallel.py\", line 859, in dispatch_one_batch\n",
      "    self._dispatch(tasks)\n",
      "  File \"D:\\Denis\\miniconda\\envs\\neural-networks\\lib\\site-packages\\joblib\\parallel.py\", line 777, in _dispatch\n",
      "    job = self._backend.apply_async(batch, callback=cb)\n",
      "  File \"D:\\Denis\\miniconda\\envs\\neural-networks\\lib\\site-packages\\joblib\\_parallel_backends.py\", line 208, in apply_async\n",
      "    result = ImmediateResult(func)\n",
      "  File \"D:\\Denis\\miniconda\\envs\\neural-networks\\lib\\site-packages\\joblib\\_parallel_backends.py\", line 572, in __init__\n",
      "    self.results = batch()\n",
      "  File \"D:\\Denis\\miniconda\\envs\\neural-networks\\lib\\site-packages\\joblib\\parallel.py\", line 263, in __call__\n",
      "    for func, args, kwargs in self.items]\n",
      "  File \"D:\\Denis\\miniconda\\envs\\neural-networks\\lib\\site-packages\\joblib\\parallel.py\", line 263, in <listcomp>\n",
      "    for func, args, kwargs in self.items]\n",
      "  File \"D:\\Denis\\miniconda\\envs\\neural-networks\\lib\\site-packages\\sklearn\\utils\\fixes.py\", line 222, in __call__\n",
      "    return self.function(*args, **kwargs)\n",
      "  File \"D:\\Denis\\miniconda\\envs\\neural-networks\\lib\\site-packages\\sklearn\\ensemble\\_forest.py\", line 169, in _parallel_build_trees\n",
      "    tree.fit(X, y, sample_weight=curr_sample_weight, check_input=False)\n",
      "  File \"D:\\Denis\\miniconda\\envs\\neural-networks\\lib\\site-packages\\sklearn\\tree\\_classes.py\", line 902, in fit\n",
      "    X_idx_sorted=X_idx_sorted)\n",
      "  File \"D:\\Denis\\miniconda\\envs\\neural-networks\\lib\\site-packages\\sklearn\\tree\\_classes.py\", line 288, in fit\n",
      "    raise ValueError(\"max_features must be in (0, n_features]\")\n",
      "ValueError: max_features must be in (0, n_features]\n",
      "\n",
      "  FitFailedWarning)\n",
      "D:\\Denis\\miniconda\\envs\\neural-networks\\lib\\site-packages\\sklearn\\model_selection\\_validation.py:614: FitFailedWarning: Estimator fit failed. The score on this train-test partition for these parameters will be set to nan. Details: \n",
      "Traceback (most recent call last):\n",
      "  File \"D:\\Denis\\miniconda\\envs\\neural-networks\\lib\\site-packages\\sklearn\\model_selection\\_validation.py\", line 593, in _fit_and_score\n",
      "    estimator.fit(X_train, y_train, **fit_params)\n",
      "  File \"D:\\Denis\\miniconda\\envs\\neural-networks\\lib\\site-packages\\sklearn\\pipeline.py\", line 346, in fit\n",
      "    self._final_estimator.fit(Xt, y, **fit_params_last_step)\n",
      "  File \"D:\\Denis\\miniconda\\envs\\neural-networks\\lib\\site-packages\\sklearn\\ensemble\\_forest.py\", line 393, in fit\n",
      "    for i, t in enumerate(trees))\n",
      "  File \"D:\\Denis\\miniconda\\envs\\neural-networks\\lib\\site-packages\\joblib\\parallel.py\", line 1041, in __call__\n",
      "    if self.dispatch_one_batch(iterator):\n",
      "  File \"D:\\Denis\\miniconda\\envs\\neural-networks\\lib\\site-packages\\joblib\\parallel.py\", line 859, in dispatch_one_batch\n",
      "    self._dispatch(tasks)\n",
      "  File \"D:\\Denis\\miniconda\\envs\\neural-networks\\lib\\site-packages\\joblib\\parallel.py\", line 777, in _dispatch\n",
      "    job = self._backend.apply_async(batch, callback=cb)\n",
      "  File \"D:\\Denis\\miniconda\\envs\\neural-networks\\lib\\site-packages\\joblib\\_parallel_backends.py\", line 208, in apply_async\n",
      "    result = ImmediateResult(func)\n",
      "  File \"D:\\Denis\\miniconda\\envs\\neural-networks\\lib\\site-packages\\joblib\\_parallel_backends.py\", line 572, in __init__\n",
      "    self.results = batch()\n",
      "  File \"D:\\Denis\\miniconda\\envs\\neural-networks\\lib\\site-packages\\joblib\\parallel.py\", line 263, in __call__\n",
      "    for func, args, kwargs in self.items]\n",
      "  File \"D:\\Denis\\miniconda\\envs\\neural-networks\\lib\\site-packages\\joblib\\parallel.py\", line 263, in <listcomp>\n",
      "    for func, args, kwargs in self.items]\n",
      "  File \"D:\\Denis\\miniconda\\envs\\neural-networks\\lib\\site-packages\\sklearn\\utils\\fixes.py\", line 222, in __call__\n",
      "    return self.function(*args, **kwargs)\n",
      "  File \"D:\\Denis\\miniconda\\envs\\neural-networks\\lib\\site-packages\\sklearn\\ensemble\\_forest.py\", line 169, in _parallel_build_trees\n",
      "    tree.fit(X, y, sample_weight=curr_sample_weight, check_input=False)\n",
      "  File \"D:\\Denis\\miniconda\\envs\\neural-networks\\lib\\site-packages\\sklearn\\tree\\_classes.py\", line 902, in fit\n",
      "    X_idx_sorted=X_idx_sorted)\n",
      "  File \"D:\\Denis\\miniconda\\envs\\neural-networks\\lib\\site-packages\\sklearn\\tree\\_classes.py\", line 288, in fit\n",
      "    raise ValueError(\"max_features must be in (0, n_features]\")\n",
      "ValueError: max_features must be in (0, n_features]\n",
      "\n",
      "  FitFailedWarning)\n",
      "D:\\Denis\\miniconda\\envs\\neural-networks\\lib\\site-packages\\sklearn\\model_selection\\_validation.py:614: FitFailedWarning: Estimator fit failed. The score on this train-test partition for these parameters will be set to nan. Details: \n",
      "Traceback (most recent call last):\n",
      "  File \"D:\\Denis\\miniconda\\envs\\neural-networks\\lib\\site-packages\\sklearn\\model_selection\\_validation.py\", line 593, in _fit_and_score\n",
      "    estimator.fit(X_train, y_train, **fit_params)\n",
      "  File \"D:\\Denis\\miniconda\\envs\\neural-networks\\lib\\site-packages\\sklearn\\pipeline.py\", line 346, in fit\n",
      "    self._final_estimator.fit(Xt, y, **fit_params_last_step)\n",
      "  File \"D:\\Denis\\miniconda\\envs\\neural-networks\\lib\\site-packages\\sklearn\\ensemble\\_forest.py\", line 393, in fit\n",
      "    for i, t in enumerate(trees))\n",
      "  File \"D:\\Denis\\miniconda\\envs\\neural-networks\\lib\\site-packages\\joblib\\parallel.py\", line 1041, in __call__\n",
      "    if self.dispatch_one_batch(iterator):\n",
      "  File \"D:\\Denis\\miniconda\\envs\\neural-networks\\lib\\site-packages\\joblib\\parallel.py\", line 859, in dispatch_one_batch\n",
      "    self._dispatch(tasks)\n",
      "  File \"D:\\Denis\\miniconda\\envs\\neural-networks\\lib\\site-packages\\joblib\\parallel.py\", line 777, in _dispatch\n",
      "    job = self._backend.apply_async(batch, callback=cb)\n",
      "  File \"D:\\Denis\\miniconda\\envs\\neural-networks\\lib\\site-packages\\joblib\\_parallel_backends.py\", line 208, in apply_async\n",
      "    result = ImmediateResult(func)\n",
      "  File \"D:\\Denis\\miniconda\\envs\\neural-networks\\lib\\site-packages\\joblib\\_parallel_backends.py\", line 572, in __init__\n",
      "    self.results = batch()\n",
      "  File \"D:\\Denis\\miniconda\\envs\\neural-networks\\lib\\site-packages\\joblib\\parallel.py\", line 263, in __call__\n",
      "    for func, args, kwargs in self.items]\n",
      "  File \"D:\\Denis\\miniconda\\envs\\neural-networks\\lib\\site-packages\\joblib\\parallel.py\", line 263, in <listcomp>\n",
      "    for func, args, kwargs in self.items]\n",
      "  File \"D:\\Denis\\miniconda\\envs\\neural-networks\\lib\\site-packages\\sklearn\\utils\\fixes.py\", line 222, in __call__\n",
      "    return self.function(*args, **kwargs)\n",
      "  File \"D:\\Denis\\miniconda\\envs\\neural-networks\\lib\\site-packages\\sklearn\\ensemble\\_forest.py\", line 169, in _parallel_build_trees\n",
      "    tree.fit(X, y, sample_weight=curr_sample_weight, check_input=False)\n",
      "  File \"D:\\Denis\\miniconda\\envs\\neural-networks\\lib\\site-packages\\sklearn\\tree\\_classes.py\", line 902, in fit\n",
      "    X_idx_sorted=X_idx_sorted)\n",
      "  File \"D:\\Denis\\miniconda\\envs\\neural-networks\\lib\\site-packages\\sklearn\\tree\\_classes.py\", line 288, in fit\n",
      "    raise ValueError(\"max_features must be in (0, n_features]\")\n",
      "ValueError: max_features must be in (0, n_features]\n",
      "\n",
      "  FitFailedWarning)\n",
      "D:\\Denis\\miniconda\\envs\\neural-networks\\lib\\site-packages\\sklearn\\model_selection\\_validation.py:614: FitFailedWarning: Estimator fit failed. The score on this train-test partition for these parameters will be set to nan. Details: \n",
      "Traceback (most recent call last):\n",
      "  File \"D:\\Denis\\miniconda\\envs\\neural-networks\\lib\\site-packages\\sklearn\\model_selection\\_validation.py\", line 593, in _fit_and_score\n",
      "    estimator.fit(X_train, y_train, **fit_params)\n",
      "  File \"D:\\Denis\\miniconda\\envs\\neural-networks\\lib\\site-packages\\sklearn\\pipeline.py\", line 346, in fit\n",
      "    self._final_estimator.fit(Xt, y, **fit_params_last_step)\n",
      "  File \"D:\\Denis\\miniconda\\envs\\neural-networks\\lib\\site-packages\\sklearn\\ensemble\\_forest.py\", line 393, in fit\n",
      "    for i, t in enumerate(trees))\n",
      "  File \"D:\\Denis\\miniconda\\envs\\neural-networks\\lib\\site-packages\\joblib\\parallel.py\", line 1041, in __call__\n",
      "    if self.dispatch_one_batch(iterator):\n",
      "  File \"D:\\Denis\\miniconda\\envs\\neural-networks\\lib\\site-packages\\joblib\\parallel.py\", line 859, in dispatch_one_batch\n",
      "    self._dispatch(tasks)\n",
      "  File \"D:\\Denis\\miniconda\\envs\\neural-networks\\lib\\site-packages\\joblib\\parallel.py\", line 777, in _dispatch\n",
      "    job = self._backend.apply_async(batch, callback=cb)\n",
      "  File \"D:\\Denis\\miniconda\\envs\\neural-networks\\lib\\site-packages\\joblib\\_parallel_backends.py\", line 208, in apply_async\n",
      "    result = ImmediateResult(func)\n",
      "  File \"D:\\Denis\\miniconda\\envs\\neural-networks\\lib\\site-packages\\joblib\\_parallel_backends.py\", line 572, in __init__\n",
      "    self.results = batch()\n",
      "  File \"D:\\Denis\\miniconda\\envs\\neural-networks\\lib\\site-packages\\joblib\\parallel.py\", line 263, in __call__\n",
      "    for func, args, kwargs in self.items]\n",
      "  File \"D:\\Denis\\miniconda\\envs\\neural-networks\\lib\\site-packages\\joblib\\parallel.py\", line 263, in <listcomp>\n",
      "    for func, args, kwargs in self.items]\n",
      "  File \"D:\\Denis\\miniconda\\envs\\neural-networks\\lib\\site-packages\\sklearn\\utils\\fixes.py\", line 222, in __call__\n",
      "    return self.function(*args, **kwargs)\n",
      "  File \"D:\\Denis\\miniconda\\envs\\neural-networks\\lib\\site-packages\\sklearn\\ensemble\\_forest.py\", line 169, in _parallel_build_trees\n",
      "    tree.fit(X, y, sample_weight=curr_sample_weight, check_input=False)\n",
      "  File \"D:\\Denis\\miniconda\\envs\\neural-networks\\lib\\site-packages\\sklearn\\tree\\_classes.py\", line 902, in fit\n",
      "    X_idx_sorted=X_idx_sorted)\n",
      "  File \"D:\\Denis\\miniconda\\envs\\neural-networks\\lib\\site-packages\\sklearn\\tree\\_classes.py\", line 288, in fit\n",
      "    raise ValueError(\"max_features must be in (0, n_features]\")\n",
      "ValueError: max_features must be in (0, n_features]\n",
      "\n",
      "  FitFailedWarning)\n",
      "D:\\Denis\\miniconda\\envs\\neural-networks\\lib\\site-packages\\sklearn\\model_selection\\_validation.py:614: FitFailedWarning: Estimator fit failed. The score on this train-test partition for these parameters will be set to nan. Details: \n",
      "Traceback (most recent call last):\n",
      "  File \"D:\\Denis\\miniconda\\envs\\neural-networks\\lib\\site-packages\\sklearn\\model_selection\\_validation.py\", line 593, in _fit_and_score\n",
      "    estimator.fit(X_train, y_train, **fit_params)\n",
      "  File \"D:\\Denis\\miniconda\\envs\\neural-networks\\lib\\site-packages\\sklearn\\pipeline.py\", line 346, in fit\n",
      "    self._final_estimator.fit(Xt, y, **fit_params_last_step)\n",
      "  File \"D:\\Denis\\miniconda\\envs\\neural-networks\\lib\\site-packages\\sklearn\\ensemble\\_forest.py\", line 393, in fit\n",
      "    for i, t in enumerate(trees))\n",
      "  File \"D:\\Denis\\miniconda\\envs\\neural-networks\\lib\\site-packages\\joblib\\parallel.py\", line 1041, in __call__\n",
      "    if self.dispatch_one_batch(iterator):\n",
      "  File \"D:\\Denis\\miniconda\\envs\\neural-networks\\lib\\site-packages\\joblib\\parallel.py\", line 859, in dispatch_one_batch\n",
      "    self._dispatch(tasks)\n",
      "  File \"D:\\Denis\\miniconda\\envs\\neural-networks\\lib\\site-packages\\joblib\\parallel.py\", line 777, in _dispatch\n",
      "    job = self._backend.apply_async(batch, callback=cb)\n",
      "  File \"D:\\Denis\\miniconda\\envs\\neural-networks\\lib\\site-packages\\joblib\\_parallel_backends.py\", line 208, in apply_async\n",
      "    result = ImmediateResult(func)\n",
      "  File \"D:\\Denis\\miniconda\\envs\\neural-networks\\lib\\site-packages\\joblib\\_parallel_backends.py\", line 572, in __init__\n",
      "    self.results = batch()\n",
      "  File \"D:\\Denis\\miniconda\\envs\\neural-networks\\lib\\site-packages\\joblib\\parallel.py\", line 263, in __call__\n",
      "    for func, args, kwargs in self.items]\n",
      "  File \"D:\\Denis\\miniconda\\envs\\neural-networks\\lib\\site-packages\\joblib\\parallel.py\", line 263, in <listcomp>\n",
      "    for func, args, kwargs in self.items]\n",
      "  File \"D:\\Denis\\miniconda\\envs\\neural-networks\\lib\\site-packages\\sklearn\\utils\\fixes.py\", line 222, in __call__\n",
      "    return self.function(*args, **kwargs)\n",
      "  File \"D:\\Denis\\miniconda\\envs\\neural-networks\\lib\\site-packages\\sklearn\\ensemble\\_forest.py\", line 169, in _parallel_build_trees\n",
      "    tree.fit(X, y, sample_weight=curr_sample_weight, check_input=False)\n",
      "  File \"D:\\Denis\\miniconda\\envs\\neural-networks\\lib\\site-packages\\sklearn\\tree\\_classes.py\", line 902, in fit\n",
      "    X_idx_sorted=X_idx_sorted)\n",
      "  File \"D:\\Denis\\miniconda\\envs\\neural-networks\\lib\\site-packages\\sklearn\\tree\\_classes.py\", line 288, in fit\n",
      "    raise ValueError(\"max_features must be in (0, n_features]\")\n",
      "ValueError: max_features must be in (0, n_features]\n",
      "\n",
      "  FitFailedWarning)\n",
      "D:\\Denis\\miniconda\\envs\\neural-networks\\lib\\site-packages\\sklearn\\model_selection\\_validation.py:614: FitFailedWarning: Estimator fit failed. The score on this train-test partition for these parameters will be set to nan. Details: \n",
      "Traceback (most recent call last):\n",
      "  File \"D:\\Denis\\miniconda\\envs\\neural-networks\\lib\\site-packages\\sklearn\\model_selection\\_validation.py\", line 593, in _fit_and_score\n",
      "    estimator.fit(X_train, y_train, **fit_params)\n",
      "  File \"D:\\Denis\\miniconda\\envs\\neural-networks\\lib\\site-packages\\sklearn\\pipeline.py\", line 346, in fit\n",
      "    self._final_estimator.fit(Xt, y, **fit_params_last_step)\n",
      "  File \"D:\\Denis\\miniconda\\envs\\neural-networks\\lib\\site-packages\\sklearn\\ensemble\\_forest.py\", line 393, in fit\n",
      "    for i, t in enumerate(trees))\n",
      "  File \"D:\\Denis\\miniconda\\envs\\neural-networks\\lib\\site-packages\\joblib\\parallel.py\", line 1041, in __call__\n",
      "    if self.dispatch_one_batch(iterator):\n",
      "  File \"D:\\Denis\\miniconda\\envs\\neural-networks\\lib\\site-packages\\joblib\\parallel.py\", line 859, in dispatch_one_batch\n",
      "    self._dispatch(tasks)\n",
      "  File \"D:\\Denis\\miniconda\\envs\\neural-networks\\lib\\site-packages\\joblib\\parallel.py\", line 777, in _dispatch\n",
      "    job = self._backend.apply_async(batch, callback=cb)\n",
      "  File \"D:\\Denis\\miniconda\\envs\\neural-networks\\lib\\site-packages\\joblib\\_parallel_backends.py\", line 208, in apply_async\n",
      "    result = ImmediateResult(func)\n",
      "  File \"D:\\Denis\\miniconda\\envs\\neural-networks\\lib\\site-packages\\joblib\\_parallel_backends.py\", line 572, in __init__\n",
      "    self.results = batch()\n",
      "  File \"D:\\Denis\\miniconda\\envs\\neural-networks\\lib\\site-packages\\joblib\\parallel.py\", line 263, in __call__\n",
      "    for func, args, kwargs in self.items]\n",
      "  File \"D:\\Denis\\miniconda\\envs\\neural-networks\\lib\\site-packages\\joblib\\parallel.py\", line 263, in <listcomp>\n",
      "    for func, args, kwargs in self.items]\n",
      "  File \"D:\\Denis\\miniconda\\envs\\neural-networks\\lib\\site-packages\\sklearn\\utils\\fixes.py\", line 222, in __call__\n",
      "    return self.function(*args, **kwargs)\n",
      "  File \"D:\\Denis\\miniconda\\envs\\neural-networks\\lib\\site-packages\\sklearn\\ensemble\\_forest.py\", line 169, in _parallel_build_trees\n",
      "    tree.fit(X, y, sample_weight=curr_sample_weight, check_input=False)\n",
      "  File \"D:\\Denis\\miniconda\\envs\\neural-networks\\lib\\site-packages\\sklearn\\tree\\_classes.py\", line 902, in fit\n",
      "    X_idx_sorted=X_idx_sorted)\n",
      "  File \"D:\\Denis\\miniconda\\envs\\neural-networks\\lib\\site-packages\\sklearn\\tree\\_classes.py\", line 288, in fit\n",
      "    raise ValueError(\"max_features must be in (0, n_features]\")\n",
      "ValueError: max_features must be in (0, n_features]\n",
      "\n",
      "  FitFailedWarning)\n",
      "D:\\Denis\\miniconda\\envs\\neural-networks\\lib\\site-packages\\sklearn\\model_selection\\_validation.py:614: FitFailedWarning: Estimator fit failed. The score on this train-test partition for these parameters will be set to nan. Details: \n",
      "Traceback (most recent call last):\n",
      "  File \"D:\\Denis\\miniconda\\envs\\neural-networks\\lib\\site-packages\\sklearn\\model_selection\\_validation.py\", line 593, in _fit_and_score\n",
      "    estimator.fit(X_train, y_train, **fit_params)\n",
      "  File \"D:\\Denis\\miniconda\\envs\\neural-networks\\lib\\site-packages\\sklearn\\pipeline.py\", line 346, in fit\n",
      "    self._final_estimator.fit(Xt, y, **fit_params_last_step)\n",
      "  File \"D:\\Denis\\miniconda\\envs\\neural-networks\\lib\\site-packages\\sklearn\\ensemble\\_forest.py\", line 393, in fit\n",
      "    for i, t in enumerate(trees))\n",
      "  File \"D:\\Denis\\miniconda\\envs\\neural-networks\\lib\\site-packages\\joblib\\parallel.py\", line 1041, in __call__\n",
      "    if self.dispatch_one_batch(iterator):\n",
      "  File \"D:\\Denis\\miniconda\\envs\\neural-networks\\lib\\site-packages\\joblib\\parallel.py\", line 859, in dispatch_one_batch\n",
      "    self._dispatch(tasks)\n",
      "  File \"D:\\Denis\\miniconda\\envs\\neural-networks\\lib\\site-packages\\joblib\\parallel.py\", line 777, in _dispatch\n",
      "    job = self._backend.apply_async(batch, callback=cb)\n",
      "  File \"D:\\Denis\\miniconda\\envs\\neural-networks\\lib\\site-packages\\joblib\\_parallel_backends.py\", line 208, in apply_async\n",
      "    result = ImmediateResult(func)\n",
      "  File \"D:\\Denis\\miniconda\\envs\\neural-networks\\lib\\site-packages\\joblib\\_parallel_backends.py\", line 572, in __init__\n",
      "    self.results = batch()\n",
      "  File \"D:\\Denis\\miniconda\\envs\\neural-networks\\lib\\site-packages\\joblib\\parallel.py\", line 263, in __call__\n",
      "    for func, args, kwargs in self.items]\n",
      "  File \"D:\\Denis\\miniconda\\envs\\neural-networks\\lib\\site-packages\\joblib\\parallel.py\", line 263, in <listcomp>\n",
      "    for func, args, kwargs in self.items]\n",
      "  File \"D:\\Denis\\miniconda\\envs\\neural-networks\\lib\\site-packages\\sklearn\\utils\\fixes.py\", line 222, in __call__\n",
      "    return self.function(*args, **kwargs)\n",
      "  File \"D:\\Denis\\miniconda\\envs\\neural-networks\\lib\\site-packages\\sklearn\\ensemble\\_forest.py\", line 169, in _parallel_build_trees\n",
      "    tree.fit(X, y, sample_weight=curr_sample_weight, check_input=False)\n",
      "  File \"D:\\Denis\\miniconda\\envs\\neural-networks\\lib\\site-packages\\sklearn\\tree\\_classes.py\", line 902, in fit\n",
      "    X_idx_sorted=X_idx_sorted)\n",
      "  File \"D:\\Denis\\miniconda\\envs\\neural-networks\\lib\\site-packages\\sklearn\\tree\\_classes.py\", line 288, in fit\n",
      "    raise ValueError(\"max_features must be in (0, n_features]\")\n",
      "ValueError: max_features must be in (0, n_features]\n",
      "\n",
      "  FitFailedWarning)\n"
     ]
    },
    {
     "name": "stderr",
     "output_type": "stream",
     "text": [
      "D:\\Denis\\miniconda\\envs\\neural-networks\\lib\\site-packages\\sklearn\\model_selection\\_validation.py:614: FitFailedWarning: Estimator fit failed. The score on this train-test partition for these parameters will be set to nan. Details: \n",
      "Traceback (most recent call last):\n",
      "  File \"D:\\Denis\\miniconda\\envs\\neural-networks\\lib\\site-packages\\sklearn\\model_selection\\_validation.py\", line 593, in _fit_and_score\n",
      "    estimator.fit(X_train, y_train, **fit_params)\n",
      "  File \"D:\\Denis\\miniconda\\envs\\neural-networks\\lib\\site-packages\\sklearn\\pipeline.py\", line 346, in fit\n",
      "    self._final_estimator.fit(Xt, y, **fit_params_last_step)\n",
      "  File \"D:\\Denis\\miniconda\\envs\\neural-networks\\lib\\site-packages\\sklearn\\ensemble\\_forest.py\", line 393, in fit\n",
      "    for i, t in enumerate(trees))\n",
      "  File \"D:\\Denis\\miniconda\\envs\\neural-networks\\lib\\site-packages\\joblib\\parallel.py\", line 1041, in __call__\n",
      "    if self.dispatch_one_batch(iterator):\n",
      "  File \"D:\\Denis\\miniconda\\envs\\neural-networks\\lib\\site-packages\\joblib\\parallel.py\", line 859, in dispatch_one_batch\n",
      "    self._dispatch(tasks)\n",
      "  File \"D:\\Denis\\miniconda\\envs\\neural-networks\\lib\\site-packages\\joblib\\parallel.py\", line 777, in _dispatch\n",
      "    job = self._backend.apply_async(batch, callback=cb)\n",
      "  File \"D:\\Denis\\miniconda\\envs\\neural-networks\\lib\\site-packages\\joblib\\_parallel_backends.py\", line 208, in apply_async\n",
      "    result = ImmediateResult(func)\n",
      "  File \"D:\\Denis\\miniconda\\envs\\neural-networks\\lib\\site-packages\\joblib\\_parallel_backends.py\", line 572, in __init__\n",
      "    self.results = batch()\n",
      "  File \"D:\\Denis\\miniconda\\envs\\neural-networks\\lib\\site-packages\\joblib\\parallel.py\", line 263, in __call__\n",
      "    for func, args, kwargs in self.items]\n",
      "  File \"D:\\Denis\\miniconda\\envs\\neural-networks\\lib\\site-packages\\joblib\\parallel.py\", line 263, in <listcomp>\n",
      "    for func, args, kwargs in self.items]\n",
      "  File \"D:\\Denis\\miniconda\\envs\\neural-networks\\lib\\site-packages\\sklearn\\utils\\fixes.py\", line 222, in __call__\n",
      "    return self.function(*args, **kwargs)\n",
      "  File \"D:\\Denis\\miniconda\\envs\\neural-networks\\lib\\site-packages\\sklearn\\ensemble\\_forest.py\", line 169, in _parallel_build_trees\n",
      "    tree.fit(X, y, sample_weight=curr_sample_weight, check_input=False)\n",
      "  File \"D:\\Denis\\miniconda\\envs\\neural-networks\\lib\\site-packages\\sklearn\\tree\\_classes.py\", line 902, in fit\n",
      "    X_idx_sorted=X_idx_sorted)\n",
      "  File \"D:\\Denis\\miniconda\\envs\\neural-networks\\lib\\site-packages\\sklearn\\tree\\_classes.py\", line 288, in fit\n",
      "    raise ValueError(\"max_features must be in (0, n_features]\")\n",
      "ValueError: max_features must be in (0, n_features]\n",
      "\n",
      "  FitFailedWarning)\n",
      "D:\\Denis\\miniconda\\envs\\neural-networks\\lib\\site-packages\\sklearn\\model_selection\\_validation.py:614: FitFailedWarning: Estimator fit failed. The score on this train-test partition for these parameters will be set to nan. Details: \n",
      "Traceback (most recent call last):\n",
      "  File \"D:\\Denis\\miniconda\\envs\\neural-networks\\lib\\site-packages\\sklearn\\model_selection\\_validation.py\", line 593, in _fit_and_score\n",
      "    estimator.fit(X_train, y_train, **fit_params)\n",
      "  File \"D:\\Denis\\miniconda\\envs\\neural-networks\\lib\\site-packages\\sklearn\\pipeline.py\", line 346, in fit\n",
      "    self._final_estimator.fit(Xt, y, **fit_params_last_step)\n",
      "  File \"D:\\Denis\\miniconda\\envs\\neural-networks\\lib\\site-packages\\sklearn\\ensemble\\_forest.py\", line 393, in fit\n",
      "    for i, t in enumerate(trees))\n",
      "  File \"D:\\Denis\\miniconda\\envs\\neural-networks\\lib\\site-packages\\joblib\\parallel.py\", line 1041, in __call__\n",
      "    if self.dispatch_one_batch(iterator):\n",
      "  File \"D:\\Denis\\miniconda\\envs\\neural-networks\\lib\\site-packages\\joblib\\parallel.py\", line 859, in dispatch_one_batch\n",
      "    self._dispatch(tasks)\n",
      "  File \"D:\\Denis\\miniconda\\envs\\neural-networks\\lib\\site-packages\\joblib\\parallel.py\", line 777, in _dispatch\n",
      "    job = self._backend.apply_async(batch, callback=cb)\n",
      "  File \"D:\\Denis\\miniconda\\envs\\neural-networks\\lib\\site-packages\\joblib\\_parallel_backends.py\", line 208, in apply_async\n",
      "    result = ImmediateResult(func)\n",
      "  File \"D:\\Denis\\miniconda\\envs\\neural-networks\\lib\\site-packages\\joblib\\_parallel_backends.py\", line 572, in __init__\n",
      "    self.results = batch()\n",
      "  File \"D:\\Denis\\miniconda\\envs\\neural-networks\\lib\\site-packages\\joblib\\parallel.py\", line 263, in __call__\n",
      "    for func, args, kwargs in self.items]\n",
      "  File \"D:\\Denis\\miniconda\\envs\\neural-networks\\lib\\site-packages\\joblib\\parallel.py\", line 263, in <listcomp>\n",
      "    for func, args, kwargs in self.items]\n",
      "  File \"D:\\Denis\\miniconda\\envs\\neural-networks\\lib\\site-packages\\sklearn\\utils\\fixes.py\", line 222, in __call__\n",
      "    return self.function(*args, **kwargs)\n",
      "  File \"D:\\Denis\\miniconda\\envs\\neural-networks\\lib\\site-packages\\sklearn\\ensemble\\_forest.py\", line 169, in _parallel_build_trees\n",
      "    tree.fit(X, y, sample_weight=curr_sample_weight, check_input=False)\n",
      "  File \"D:\\Denis\\miniconda\\envs\\neural-networks\\lib\\site-packages\\sklearn\\tree\\_classes.py\", line 902, in fit\n",
      "    X_idx_sorted=X_idx_sorted)\n",
      "  File \"D:\\Denis\\miniconda\\envs\\neural-networks\\lib\\site-packages\\sklearn\\tree\\_classes.py\", line 288, in fit\n",
      "    raise ValueError(\"max_features must be in (0, n_features]\")\n",
      "ValueError: max_features must be in (0, n_features]\n",
      "\n",
      "  FitFailedWarning)\n",
      "D:\\Denis\\miniconda\\envs\\neural-networks\\lib\\site-packages\\sklearn\\model_selection\\_validation.py:614: FitFailedWarning: Estimator fit failed. The score on this train-test partition for these parameters will be set to nan. Details: \n",
      "Traceback (most recent call last):\n",
      "  File \"D:\\Denis\\miniconda\\envs\\neural-networks\\lib\\site-packages\\sklearn\\model_selection\\_validation.py\", line 593, in _fit_and_score\n",
      "    estimator.fit(X_train, y_train, **fit_params)\n",
      "  File \"D:\\Denis\\miniconda\\envs\\neural-networks\\lib\\site-packages\\sklearn\\pipeline.py\", line 346, in fit\n",
      "    self._final_estimator.fit(Xt, y, **fit_params_last_step)\n",
      "  File \"D:\\Denis\\miniconda\\envs\\neural-networks\\lib\\site-packages\\sklearn\\ensemble\\_forest.py\", line 393, in fit\n",
      "    for i, t in enumerate(trees))\n",
      "  File \"D:\\Denis\\miniconda\\envs\\neural-networks\\lib\\site-packages\\joblib\\parallel.py\", line 1041, in __call__\n",
      "    if self.dispatch_one_batch(iterator):\n",
      "  File \"D:\\Denis\\miniconda\\envs\\neural-networks\\lib\\site-packages\\joblib\\parallel.py\", line 859, in dispatch_one_batch\n",
      "    self._dispatch(tasks)\n",
      "  File \"D:\\Denis\\miniconda\\envs\\neural-networks\\lib\\site-packages\\joblib\\parallel.py\", line 777, in _dispatch\n",
      "    job = self._backend.apply_async(batch, callback=cb)\n",
      "  File \"D:\\Denis\\miniconda\\envs\\neural-networks\\lib\\site-packages\\joblib\\_parallel_backends.py\", line 208, in apply_async\n",
      "    result = ImmediateResult(func)\n",
      "  File \"D:\\Denis\\miniconda\\envs\\neural-networks\\lib\\site-packages\\joblib\\_parallel_backends.py\", line 572, in __init__\n",
      "    self.results = batch()\n",
      "  File \"D:\\Denis\\miniconda\\envs\\neural-networks\\lib\\site-packages\\joblib\\parallel.py\", line 263, in __call__\n",
      "    for func, args, kwargs in self.items]\n",
      "  File \"D:\\Denis\\miniconda\\envs\\neural-networks\\lib\\site-packages\\joblib\\parallel.py\", line 263, in <listcomp>\n",
      "    for func, args, kwargs in self.items]\n",
      "  File \"D:\\Denis\\miniconda\\envs\\neural-networks\\lib\\site-packages\\sklearn\\utils\\fixes.py\", line 222, in __call__\n",
      "    return self.function(*args, **kwargs)\n",
      "  File \"D:\\Denis\\miniconda\\envs\\neural-networks\\lib\\site-packages\\sklearn\\ensemble\\_forest.py\", line 169, in _parallel_build_trees\n",
      "    tree.fit(X, y, sample_weight=curr_sample_weight, check_input=False)\n",
      "  File \"D:\\Denis\\miniconda\\envs\\neural-networks\\lib\\site-packages\\sklearn\\tree\\_classes.py\", line 902, in fit\n",
      "    X_idx_sorted=X_idx_sorted)\n",
      "  File \"D:\\Denis\\miniconda\\envs\\neural-networks\\lib\\site-packages\\sklearn\\tree\\_classes.py\", line 288, in fit\n",
      "    raise ValueError(\"max_features must be in (0, n_features]\")\n",
      "ValueError: max_features must be in (0, n_features]\n",
      "\n",
      "  FitFailedWarning)\n",
      "D:\\Denis\\miniconda\\envs\\neural-networks\\lib\\site-packages\\sklearn\\model_selection\\_validation.py:614: FitFailedWarning: Estimator fit failed. The score on this train-test partition for these parameters will be set to nan. Details: \n",
      "Traceback (most recent call last):\n",
      "  File \"D:\\Denis\\miniconda\\envs\\neural-networks\\lib\\site-packages\\sklearn\\model_selection\\_validation.py\", line 593, in _fit_and_score\n",
      "    estimator.fit(X_train, y_train, **fit_params)\n",
      "  File \"D:\\Denis\\miniconda\\envs\\neural-networks\\lib\\site-packages\\sklearn\\pipeline.py\", line 346, in fit\n",
      "    self._final_estimator.fit(Xt, y, **fit_params_last_step)\n",
      "  File \"D:\\Denis\\miniconda\\envs\\neural-networks\\lib\\site-packages\\sklearn\\ensemble\\_forest.py\", line 393, in fit\n",
      "    for i, t in enumerate(trees))\n",
      "  File \"D:\\Denis\\miniconda\\envs\\neural-networks\\lib\\site-packages\\joblib\\parallel.py\", line 1041, in __call__\n",
      "    if self.dispatch_one_batch(iterator):\n",
      "  File \"D:\\Denis\\miniconda\\envs\\neural-networks\\lib\\site-packages\\joblib\\parallel.py\", line 859, in dispatch_one_batch\n",
      "    self._dispatch(tasks)\n",
      "  File \"D:\\Denis\\miniconda\\envs\\neural-networks\\lib\\site-packages\\joblib\\parallel.py\", line 777, in _dispatch\n",
      "    job = self._backend.apply_async(batch, callback=cb)\n",
      "  File \"D:\\Denis\\miniconda\\envs\\neural-networks\\lib\\site-packages\\joblib\\_parallel_backends.py\", line 208, in apply_async\n",
      "    result = ImmediateResult(func)\n",
      "  File \"D:\\Denis\\miniconda\\envs\\neural-networks\\lib\\site-packages\\joblib\\_parallel_backends.py\", line 572, in __init__\n",
      "    self.results = batch()\n",
      "  File \"D:\\Denis\\miniconda\\envs\\neural-networks\\lib\\site-packages\\joblib\\parallel.py\", line 263, in __call__\n",
      "    for func, args, kwargs in self.items]\n",
      "  File \"D:\\Denis\\miniconda\\envs\\neural-networks\\lib\\site-packages\\joblib\\parallel.py\", line 263, in <listcomp>\n",
      "    for func, args, kwargs in self.items]\n",
      "  File \"D:\\Denis\\miniconda\\envs\\neural-networks\\lib\\site-packages\\sklearn\\utils\\fixes.py\", line 222, in __call__\n",
      "    return self.function(*args, **kwargs)\n",
      "  File \"D:\\Denis\\miniconda\\envs\\neural-networks\\lib\\site-packages\\sklearn\\ensemble\\_forest.py\", line 169, in _parallel_build_trees\n",
      "    tree.fit(X, y, sample_weight=curr_sample_weight, check_input=False)\n",
      "  File \"D:\\Denis\\miniconda\\envs\\neural-networks\\lib\\site-packages\\sklearn\\tree\\_classes.py\", line 902, in fit\n",
      "    X_idx_sorted=X_idx_sorted)\n",
      "  File \"D:\\Denis\\miniconda\\envs\\neural-networks\\lib\\site-packages\\sklearn\\tree\\_classes.py\", line 288, in fit\n",
      "    raise ValueError(\"max_features must be in (0, n_features]\")\n",
      "ValueError: max_features must be in (0, n_features]\n",
      "\n",
      "  FitFailedWarning)\n",
      "D:\\Denis\\miniconda\\envs\\neural-networks\\lib\\site-packages\\sklearn\\model_selection\\_validation.py:614: FitFailedWarning: Estimator fit failed. The score on this train-test partition for these parameters will be set to nan. Details: \n",
      "Traceback (most recent call last):\n",
      "  File \"D:\\Denis\\miniconda\\envs\\neural-networks\\lib\\site-packages\\sklearn\\model_selection\\_validation.py\", line 593, in _fit_and_score\n",
      "    estimator.fit(X_train, y_train, **fit_params)\n",
      "  File \"D:\\Denis\\miniconda\\envs\\neural-networks\\lib\\site-packages\\sklearn\\pipeline.py\", line 346, in fit\n",
      "    self._final_estimator.fit(Xt, y, **fit_params_last_step)\n",
      "  File \"D:\\Denis\\miniconda\\envs\\neural-networks\\lib\\site-packages\\sklearn\\ensemble\\_forest.py\", line 393, in fit\n",
      "    for i, t in enumerate(trees))\n",
      "  File \"D:\\Denis\\miniconda\\envs\\neural-networks\\lib\\site-packages\\joblib\\parallel.py\", line 1041, in __call__\n",
      "    if self.dispatch_one_batch(iterator):\n",
      "  File \"D:\\Denis\\miniconda\\envs\\neural-networks\\lib\\site-packages\\joblib\\parallel.py\", line 859, in dispatch_one_batch\n",
      "    self._dispatch(tasks)\n",
      "  File \"D:\\Denis\\miniconda\\envs\\neural-networks\\lib\\site-packages\\joblib\\parallel.py\", line 777, in _dispatch\n",
      "    job = self._backend.apply_async(batch, callback=cb)\n",
      "  File \"D:\\Denis\\miniconda\\envs\\neural-networks\\lib\\site-packages\\joblib\\_parallel_backends.py\", line 208, in apply_async\n",
      "    result = ImmediateResult(func)\n",
      "  File \"D:\\Denis\\miniconda\\envs\\neural-networks\\lib\\site-packages\\joblib\\_parallel_backends.py\", line 572, in __init__\n",
      "    self.results = batch()\n",
      "  File \"D:\\Denis\\miniconda\\envs\\neural-networks\\lib\\site-packages\\joblib\\parallel.py\", line 263, in __call__\n",
      "    for func, args, kwargs in self.items]\n",
      "  File \"D:\\Denis\\miniconda\\envs\\neural-networks\\lib\\site-packages\\joblib\\parallel.py\", line 263, in <listcomp>\n",
      "    for func, args, kwargs in self.items]\n",
      "  File \"D:\\Denis\\miniconda\\envs\\neural-networks\\lib\\site-packages\\sklearn\\utils\\fixes.py\", line 222, in __call__\n",
      "    return self.function(*args, **kwargs)\n",
      "  File \"D:\\Denis\\miniconda\\envs\\neural-networks\\lib\\site-packages\\sklearn\\ensemble\\_forest.py\", line 169, in _parallel_build_trees\n",
      "    tree.fit(X, y, sample_weight=curr_sample_weight, check_input=False)\n",
      "  File \"D:\\Denis\\miniconda\\envs\\neural-networks\\lib\\site-packages\\sklearn\\tree\\_classes.py\", line 902, in fit\n",
      "    X_idx_sorted=X_idx_sorted)\n",
      "  File \"D:\\Denis\\miniconda\\envs\\neural-networks\\lib\\site-packages\\sklearn\\tree\\_classes.py\", line 288, in fit\n",
      "    raise ValueError(\"max_features must be in (0, n_features]\")\n",
      "ValueError: max_features must be in (0, n_features]\n",
      "\n",
      "  FitFailedWarning)\n",
      "D:\\Denis\\miniconda\\envs\\neural-networks\\lib\\site-packages\\sklearn\\model_selection\\_validation.py:614: FitFailedWarning: Estimator fit failed. The score on this train-test partition for these parameters will be set to nan. Details: \n",
      "Traceback (most recent call last):\n",
      "  File \"D:\\Denis\\miniconda\\envs\\neural-networks\\lib\\site-packages\\sklearn\\model_selection\\_validation.py\", line 593, in _fit_and_score\n",
      "    estimator.fit(X_train, y_train, **fit_params)\n",
      "  File \"D:\\Denis\\miniconda\\envs\\neural-networks\\lib\\site-packages\\sklearn\\pipeline.py\", line 346, in fit\n",
      "    self._final_estimator.fit(Xt, y, **fit_params_last_step)\n",
      "  File \"D:\\Denis\\miniconda\\envs\\neural-networks\\lib\\site-packages\\sklearn\\ensemble\\_forest.py\", line 393, in fit\n",
      "    for i, t in enumerate(trees))\n",
      "  File \"D:\\Denis\\miniconda\\envs\\neural-networks\\lib\\site-packages\\joblib\\parallel.py\", line 1041, in __call__\n",
      "    if self.dispatch_one_batch(iterator):\n",
      "  File \"D:\\Denis\\miniconda\\envs\\neural-networks\\lib\\site-packages\\joblib\\parallel.py\", line 859, in dispatch_one_batch\n",
      "    self._dispatch(tasks)\n",
      "  File \"D:\\Denis\\miniconda\\envs\\neural-networks\\lib\\site-packages\\joblib\\parallel.py\", line 777, in _dispatch\n",
      "    job = self._backend.apply_async(batch, callback=cb)\n",
      "  File \"D:\\Denis\\miniconda\\envs\\neural-networks\\lib\\site-packages\\joblib\\_parallel_backends.py\", line 208, in apply_async\n",
      "    result = ImmediateResult(func)\n",
      "  File \"D:\\Denis\\miniconda\\envs\\neural-networks\\lib\\site-packages\\joblib\\_parallel_backends.py\", line 572, in __init__\n",
      "    self.results = batch()\n",
      "  File \"D:\\Denis\\miniconda\\envs\\neural-networks\\lib\\site-packages\\joblib\\parallel.py\", line 263, in __call__\n",
      "    for func, args, kwargs in self.items]\n",
      "  File \"D:\\Denis\\miniconda\\envs\\neural-networks\\lib\\site-packages\\joblib\\parallel.py\", line 263, in <listcomp>\n",
      "    for func, args, kwargs in self.items]\n",
      "  File \"D:\\Denis\\miniconda\\envs\\neural-networks\\lib\\site-packages\\sklearn\\utils\\fixes.py\", line 222, in __call__\n",
      "    return self.function(*args, **kwargs)\n",
      "  File \"D:\\Denis\\miniconda\\envs\\neural-networks\\lib\\site-packages\\sklearn\\ensemble\\_forest.py\", line 169, in _parallel_build_trees\n",
      "    tree.fit(X, y, sample_weight=curr_sample_weight, check_input=False)\n",
      "  File \"D:\\Denis\\miniconda\\envs\\neural-networks\\lib\\site-packages\\sklearn\\tree\\_classes.py\", line 902, in fit\n",
      "    X_idx_sorted=X_idx_sorted)\n",
      "  File \"D:\\Denis\\miniconda\\envs\\neural-networks\\lib\\site-packages\\sklearn\\tree\\_classes.py\", line 288, in fit\n",
      "    raise ValueError(\"max_features must be in (0, n_features]\")\n",
      "ValueError: max_features must be in (0, n_features]\n",
      "\n",
      "  FitFailedWarning)\n",
      "D:\\Denis\\miniconda\\envs\\neural-networks\\lib\\site-packages\\sklearn\\model_selection\\_validation.py:614: FitFailedWarning: Estimator fit failed. The score on this train-test partition for these parameters will be set to nan. Details: \n",
      "Traceback (most recent call last):\n",
      "  File \"D:\\Denis\\miniconda\\envs\\neural-networks\\lib\\site-packages\\sklearn\\model_selection\\_validation.py\", line 593, in _fit_and_score\n",
      "    estimator.fit(X_train, y_train, **fit_params)\n",
      "  File \"D:\\Denis\\miniconda\\envs\\neural-networks\\lib\\site-packages\\sklearn\\pipeline.py\", line 346, in fit\n",
      "    self._final_estimator.fit(Xt, y, **fit_params_last_step)\n",
      "  File \"D:\\Denis\\miniconda\\envs\\neural-networks\\lib\\site-packages\\sklearn\\ensemble\\_forest.py\", line 393, in fit\n",
      "    for i, t in enumerate(trees))\n",
      "  File \"D:\\Denis\\miniconda\\envs\\neural-networks\\lib\\site-packages\\joblib\\parallel.py\", line 1041, in __call__\n",
      "    if self.dispatch_one_batch(iterator):\n",
      "  File \"D:\\Denis\\miniconda\\envs\\neural-networks\\lib\\site-packages\\joblib\\parallel.py\", line 859, in dispatch_one_batch\n",
      "    self._dispatch(tasks)\n",
      "  File \"D:\\Denis\\miniconda\\envs\\neural-networks\\lib\\site-packages\\joblib\\parallel.py\", line 777, in _dispatch\n",
      "    job = self._backend.apply_async(batch, callback=cb)\n",
      "  File \"D:\\Denis\\miniconda\\envs\\neural-networks\\lib\\site-packages\\joblib\\_parallel_backends.py\", line 208, in apply_async\n",
      "    result = ImmediateResult(func)\n",
      "  File \"D:\\Denis\\miniconda\\envs\\neural-networks\\lib\\site-packages\\joblib\\_parallel_backends.py\", line 572, in __init__\n",
      "    self.results = batch()\n",
      "  File \"D:\\Denis\\miniconda\\envs\\neural-networks\\lib\\site-packages\\joblib\\parallel.py\", line 263, in __call__\n",
      "    for func, args, kwargs in self.items]\n",
      "  File \"D:\\Denis\\miniconda\\envs\\neural-networks\\lib\\site-packages\\joblib\\parallel.py\", line 263, in <listcomp>\n",
      "    for func, args, kwargs in self.items]\n",
      "  File \"D:\\Denis\\miniconda\\envs\\neural-networks\\lib\\site-packages\\sklearn\\utils\\fixes.py\", line 222, in __call__\n",
      "    return self.function(*args, **kwargs)\n",
      "  File \"D:\\Denis\\miniconda\\envs\\neural-networks\\lib\\site-packages\\sklearn\\ensemble\\_forest.py\", line 169, in _parallel_build_trees\n",
      "    tree.fit(X, y, sample_weight=curr_sample_weight, check_input=False)\n",
      "  File \"D:\\Denis\\miniconda\\envs\\neural-networks\\lib\\site-packages\\sklearn\\tree\\_classes.py\", line 902, in fit\n",
      "    X_idx_sorted=X_idx_sorted)\n",
      "  File \"D:\\Denis\\miniconda\\envs\\neural-networks\\lib\\site-packages\\sklearn\\tree\\_classes.py\", line 288, in fit\n",
      "    raise ValueError(\"max_features must be in (0, n_features]\")\n",
      "ValueError: max_features must be in (0, n_features]\n",
      "\n",
      "  FitFailedWarning)\n",
      "D:\\Denis\\miniconda\\envs\\neural-networks\\lib\\site-packages\\sklearn\\model_selection\\_validation.py:614: FitFailedWarning: Estimator fit failed. The score on this train-test partition for these parameters will be set to nan. Details: \n",
      "Traceback (most recent call last):\n",
      "  File \"D:\\Denis\\miniconda\\envs\\neural-networks\\lib\\site-packages\\sklearn\\model_selection\\_validation.py\", line 593, in _fit_and_score\n",
      "    estimator.fit(X_train, y_train, **fit_params)\n",
      "  File \"D:\\Denis\\miniconda\\envs\\neural-networks\\lib\\site-packages\\sklearn\\pipeline.py\", line 346, in fit\n",
      "    self._final_estimator.fit(Xt, y, **fit_params_last_step)\n",
      "  File \"D:\\Denis\\miniconda\\envs\\neural-networks\\lib\\site-packages\\sklearn\\ensemble\\_forest.py\", line 393, in fit\n",
      "    for i, t in enumerate(trees))\n",
      "  File \"D:\\Denis\\miniconda\\envs\\neural-networks\\lib\\site-packages\\joblib\\parallel.py\", line 1041, in __call__\n",
      "    if self.dispatch_one_batch(iterator):\n",
      "  File \"D:\\Denis\\miniconda\\envs\\neural-networks\\lib\\site-packages\\joblib\\parallel.py\", line 859, in dispatch_one_batch\n",
      "    self._dispatch(tasks)\n",
      "  File \"D:\\Denis\\miniconda\\envs\\neural-networks\\lib\\site-packages\\joblib\\parallel.py\", line 777, in _dispatch\n",
      "    job = self._backend.apply_async(batch, callback=cb)\n",
      "  File \"D:\\Denis\\miniconda\\envs\\neural-networks\\lib\\site-packages\\joblib\\_parallel_backends.py\", line 208, in apply_async\n",
      "    result = ImmediateResult(func)\n",
      "  File \"D:\\Denis\\miniconda\\envs\\neural-networks\\lib\\site-packages\\joblib\\_parallel_backends.py\", line 572, in __init__\n",
      "    self.results = batch()\n",
      "  File \"D:\\Denis\\miniconda\\envs\\neural-networks\\lib\\site-packages\\joblib\\parallel.py\", line 263, in __call__\n",
      "    for func, args, kwargs in self.items]\n",
      "  File \"D:\\Denis\\miniconda\\envs\\neural-networks\\lib\\site-packages\\joblib\\parallel.py\", line 263, in <listcomp>\n",
      "    for func, args, kwargs in self.items]\n",
      "  File \"D:\\Denis\\miniconda\\envs\\neural-networks\\lib\\site-packages\\sklearn\\utils\\fixes.py\", line 222, in __call__\n",
      "    return self.function(*args, **kwargs)\n",
      "  File \"D:\\Denis\\miniconda\\envs\\neural-networks\\lib\\site-packages\\sklearn\\ensemble\\_forest.py\", line 169, in _parallel_build_trees\n",
      "    tree.fit(X, y, sample_weight=curr_sample_weight, check_input=False)\n",
      "  File \"D:\\Denis\\miniconda\\envs\\neural-networks\\lib\\site-packages\\sklearn\\tree\\_classes.py\", line 902, in fit\n",
      "    X_idx_sorted=X_idx_sorted)\n",
      "  File \"D:\\Denis\\miniconda\\envs\\neural-networks\\lib\\site-packages\\sklearn\\tree\\_classes.py\", line 288, in fit\n",
      "    raise ValueError(\"max_features must be in (0, n_features]\")\n",
      "ValueError: max_features must be in (0, n_features]\n",
      "\n",
      "  FitFailedWarning)\n",
      "D:\\Denis\\miniconda\\envs\\neural-networks\\lib\\site-packages\\sklearn\\model_selection\\_validation.py:614: FitFailedWarning: Estimator fit failed. The score on this train-test partition for these parameters will be set to nan. Details: \n",
      "Traceback (most recent call last):\n",
      "  File \"D:\\Denis\\miniconda\\envs\\neural-networks\\lib\\site-packages\\sklearn\\model_selection\\_validation.py\", line 593, in _fit_and_score\n",
      "    estimator.fit(X_train, y_train, **fit_params)\n",
      "  File \"D:\\Denis\\miniconda\\envs\\neural-networks\\lib\\site-packages\\sklearn\\pipeline.py\", line 346, in fit\n",
      "    self._final_estimator.fit(Xt, y, **fit_params_last_step)\n",
      "  File \"D:\\Denis\\miniconda\\envs\\neural-networks\\lib\\site-packages\\sklearn\\ensemble\\_forest.py\", line 393, in fit\n",
      "    for i, t in enumerate(trees))\n",
      "  File \"D:\\Denis\\miniconda\\envs\\neural-networks\\lib\\site-packages\\joblib\\parallel.py\", line 1041, in __call__\n",
      "    if self.dispatch_one_batch(iterator):\n",
      "  File \"D:\\Denis\\miniconda\\envs\\neural-networks\\lib\\site-packages\\joblib\\parallel.py\", line 859, in dispatch_one_batch\n",
      "    self._dispatch(tasks)\n",
      "  File \"D:\\Denis\\miniconda\\envs\\neural-networks\\lib\\site-packages\\joblib\\parallel.py\", line 777, in _dispatch\n",
      "    job = self._backend.apply_async(batch, callback=cb)\n",
      "  File \"D:\\Denis\\miniconda\\envs\\neural-networks\\lib\\site-packages\\joblib\\_parallel_backends.py\", line 208, in apply_async\n",
      "    result = ImmediateResult(func)\n",
      "  File \"D:\\Denis\\miniconda\\envs\\neural-networks\\lib\\site-packages\\joblib\\_parallel_backends.py\", line 572, in __init__\n",
      "    self.results = batch()\n",
      "  File \"D:\\Denis\\miniconda\\envs\\neural-networks\\lib\\site-packages\\joblib\\parallel.py\", line 263, in __call__\n",
      "    for func, args, kwargs in self.items]\n",
      "  File \"D:\\Denis\\miniconda\\envs\\neural-networks\\lib\\site-packages\\joblib\\parallel.py\", line 263, in <listcomp>\n",
      "    for func, args, kwargs in self.items]\n",
      "  File \"D:\\Denis\\miniconda\\envs\\neural-networks\\lib\\site-packages\\sklearn\\utils\\fixes.py\", line 222, in __call__\n",
      "    return self.function(*args, **kwargs)\n",
      "  File \"D:\\Denis\\miniconda\\envs\\neural-networks\\lib\\site-packages\\sklearn\\ensemble\\_forest.py\", line 169, in _parallel_build_trees\n",
      "    tree.fit(X, y, sample_weight=curr_sample_weight, check_input=False)\n",
      "  File \"D:\\Denis\\miniconda\\envs\\neural-networks\\lib\\site-packages\\sklearn\\tree\\_classes.py\", line 902, in fit\n",
      "    X_idx_sorted=X_idx_sorted)\n",
      "  File \"D:\\Denis\\miniconda\\envs\\neural-networks\\lib\\site-packages\\sklearn\\tree\\_classes.py\", line 288, in fit\n",
      "    raise ValueError(\"max_features must be in (0, n_features]\")\n",
      "ValueError: max_features must be in (0, n_features]\n",
      "\n",
      "  FitFailedWarning)\n",
      "D:\\Denis\\miniconda\\envs\\neural-networks\\lib\\site-packages\\sklearn\\model_selection\\_validation.py:614: FitFailedWarning: Estimator fit failed. The score on this train-test partition for these parameters will be set to nan. Details: \n",
      "Traceback (most recent call last):\n",
      "  File \"D:\\Denis\\miniconda\\envs\\neural-networks\\lib\\site-packages\\sklearn\\model_selection\\_validation.py\", line 593, in _fit_and_score\n",
      "    estimator.fit(X_train, y_train, **fit_params)\n",
      "  File \"D:\\Denis\\miniconda\\envs\\neural-networks\\lib\\site-packages\\sklearn\\pipeline.py\", line 346, in fit\n",
      "    self._final_estimator.fit(Xt, y, **fit_params_last_step)\n",
      "  File \"D:\\Denis\\miniconda\\envs\\neural-networks\\lib\\site-packages\\sklearn\\ensemble\\_forest.py\", line 393, in fit\n",
      "    for i, t in enumerate(trees))\n",
      "  File \"D:\\Denis\\miniconda\\envs\\neural-networks\\lib\\site-packages\\joblib\\parallel.py\", line 1041, in __call__\n",
      "    if self.dispatch_one_batch(iterator):\n",
      "  File \"D:\\Denis\\miniconda\\envs\\neural-networks\\lib\\site-packages\\joblib\\parallel.py\", line 859, in dispatch_one_batch\n",
      "    self._dispatch(tasks)\n",
      "  File \"D:\\Denis\\miniconda\\envs\\neural-networks\\lib\\site-packages\\joblib\\parallel.py\", line 777, in _dispatch\n",
      "    job = self._backend.apply_async(batch, callback=cb)\n",
      "  File \"D:\\Denis\\miniconda\\envs\\neural-networks\\lib\\site-packages\\joblib\\_parallel_backends.py\", line 208, in apply_async\n",
      "    result = ImmediateResult(func)\n",
      "  File \"D:\\Denis\\miniconda\\envs\\neural-networks\\lib\\site-packages\\joblib\\_parallel_backends.py\", line 572, in __init__\n",
      "    self.results = batch()\n",
      "  File \"D:\\Denis\\miniconda\\envs\\neural-networks\\lib\\site-packages\\joblib\\parallel.py\", line 263, in __call__\n",
      "    for func, args, kwargs in self.items]\n",
      "  File \"D:\\Denis\\miniconda\\envs\\neural-networks\\lib\\site-packages\\joblib\\parallel.py\", line 263, in <listcomp>\n",
      "    for func, args, kwargs in self.items]\n",
      "  File \"D:\\Denis\\miniconda\\envs\\neural-networks\\lib\\site-packages\\sklearn\\utils\\fixes.py\", line 222, in __call__\n",
      "    return self.function(*args, **kwargs)\n",
      "  File \"D:\\Denis\\miniconda\\envs\\neural-networks\\lib\\site-packages\\sklearn\\ensemble\\_forest.py\", line 169, in _parallel_build_trees\n",
      "    tree.fit(X, y, sample_weight=curr_sample_weight, check_input=False)\n",
      "  File \"D:\\Denis\\miniconda\\envs\\neural-networks\\lib\\site-packages\\sklearn\\tree\\_classes.py\", line 902, in fit\n",
      "    X_idx_sorted=X_idx_sorted)\n",
      "  File \"D:\\Denis\\miniconda\\envs\\neural-networks\\lib\\site-packages\\sklearn\\tree\\_classes.py\", line 288, in fit\n",
      "    raise ValueError(\"max_features must be in (0, n_features]\")\n",
      "ValueError: max_features must be in (0, n_features]\n",
      "\n",
      "  FitFailedWarning)\n",
      "D:\\Denis\\miniconda\\envs\\neural-networks\\lib\\site-packages\\sklearn\\model_selection\\_validation.py:614: FitFailedWarning: Estimator fit failed. The score on this train-test partition for these parameters will be set to nan. Details: \n",
      "Traceback (most recent call last):\n",
      "  File \"D:\\Denis\\miniconda\\envs\\neural-networks\\lib\\site-packages\\sklearn\\model_selection\\_validation.py\", line 593, in _fit_and_score\n",
      "    estimator.fit(X_train, y_train, **fit_params)\n",
      "  File \"D:\\Denis\\miniconda\\envs\\neural-networks\\lib\\site-packages\\sklearn\\pipeline.py\", line 346, in fit\n",
      "    self._final_estimator.fit(Xt, y, **fit_params_last_step)\n",
      "  File \"D:\\Denis\\miniconda\\envs\\neural-networks\\lib\\site-packages\\sklearn\\ensemble\\_forest.py\", line 393, in fit\n",
      "    for i, t in enumerate(trees))\n",
      "  File \"D:\\Denis\\miniconda\\envs\\neural-networks\\lib\\site-packages\\joblib\\parallel.py\", line 1041, in __call__\n",
      "    if self.dispatch_one_batch(iterator):\n",
      "  File \"D:\\Denis\\miniconda\\envs\\neural-networks\\lib\\site-packages\\joblib\\parallel.py\", line 859, in dispatch_one_batch\n",
      "    self._dispatch(tasks)\n",
      "  File \"D:\\Denis\\miniconda\\envs\\neural-networks\\lib\\site-packages\\joblib\\parallel.py\", line 777, in _dispatch\n",
      "    job = self._backend.apply_async(batch, callback=cb)\n",
      "  File \"D:\\Denis\\miniconda\\envs\\neural-networks\\lib\\site-packages\\joblib\\_parallel_backends.py\", line 208, in apply_async\n",
      "    result = ImmediateResult(func)\n",
      "  File \"D:\\Denis\\miniconda\\envs\\neural-networks\\lib\\site-packages\\joblib\\_parallel_backends.py\", line 572, in __init__\n",
      "    self.results = batch()\n",
      "  File \"D:\\Denis\\miniconda\\envs\\neural-networks\\lib\\site-packages\\joblib\\parallel.py\", line 263, in __call__\n",
      "    for func, args, kwargs in self.items]\n",
      "  File \"D:\\Denis\\miniconda\\envs\\neural-networks\\lib\\site-packages\\joblib\\parallel.py\", line 263, in <listcomp>\n",
      "    for func, args, kwargs in self.items]\n",
      "  File \"D:\\Denis\\miniconda\\envs\\neural-networks\\lib\\site-packages\\sklearn\\utils\\fixes.py\", line 222, in __call__\n",
      "    return self.function(*args, **kwargs)\n",
      "  File \"D:\\Denis\\miniconda\\envs\\neural-networks\\lib\\site-packages\\sklearn\\ensemble\\_forest.py\", line 169, in _parallel_build_trees\n",
      "    tree.fit(X, y, sample_weight=curr_sample_weight, check_input=False)\n",
      "  File \"D:\\Denis\\miniconda\\envs\\neural-networks\\lib\\site-packages\\sklearn\\tree\\_classes.py\", line 902, in fit\n",
      "    X_idx_sorted=X_idx_sorted)\n",
      "  File \"D:\\Denis\\miniconda\\envs\\neural-networks\\lib\\site-packages\\sklearn\\tree\\_classes.py\", line 288, in fit\n",
      "    raise ValueError(\"max_features must be in (0, n_features]\")\n",
      "ValueError: max_features must be in (0, n_features]\n",
      "\n",
      "  FitFailedWarning)\n",
      "D:\\Denis\\miniconda\\envs\\neural-networks\\lib\\site-packages\\sklearn\\model_selection\\_validation.py:614: FitFailedWarning: Estimator fit failed. The score on this train-test partition for these parameters will be set to nan. Details: \n",
      "Traceback (most recent call last):\n",
      "  File \"D:\\Denis\\miniconda\\envs\\neural-networks\\lib\\site-packages\\sklearn\\model_selection\\_validation.py\", line 593, in _fit_and_score\n",
      "    estimator.fit(X_train, y_train, **fit_params)\n",
      "  File \"D:\\Denis\\miniconda\\envs\\neural-networks\\lib\\site-packages\\sklearn\\pipeline.py\", line 346, in fit\n",
      "    self._final_estimator.fit(Xt, y, **fit_params_last_step)\n",
      "  File \"D:\\Denis\\miniconda\\envs\\neural-networks\\lib\\site-packages\\sklearn\\ensemble\\_forest.py\", line 393, in fit\n",
      "    for i, t in enumerate(trees))\n",
      "  File \"D:\\Denis\\miniconda\\envs\\neural-networks\\lib\\site-packages\\joblib\\parallel.py\", line 1041, in __call__\n",
      "    if self.dispatch_one_batch(iterator):\n",
      "  File \"D:\\Denis\\miniconda\\envs\\neural-networks\\lib\\site-packages\\joblib\\parallel.py\", line 859, in dispatch_one_batch\n",
      "    self._dispatch(tasks)\n",
      "  File \"D:\\Denis\\miniconda\\envs\\neural-networks\\lib\\site-packages\\joblib\\parallel.py\", line 777, in _dispatch\n",
      "    job = self._backend.apply_async(batch, callback=cb)\n",
      "  File \"D:\\Denis\\miniconda\\envs\\neural-networks\\lib\\site-packages\\joblib\\_parallel_backends.py\", line 208, in apply_async\n",
      "    result = ImmediateResult(func)\n",
      "  File \"D:\\Denis\\miniconda\\envs\\neural-networks\\lib\\site-packages\\joblib\\_parallel_backends.py\", line 572, in __init__\n",
      "    self.results = batch()\n",
      "  File \"D:\\Denis\\miniconda\\envs\\neural-networks\\lib\\site-packages\\joblib\\parallel.py\", line 263, in __call__\n",
      "    for func, args, kwargs in self.items]\n",
      "  File \"D:\\Denis\\miniconda\\envs\\neural-networks\\lib\\site-packages\\joblib\\parallel.py\", line 263, in <listcomp>\n",
      "    for func, args, kwargs in self.items]\n",
      "  File \"D:\\Denis\\miniconda\\envs\\neural-networks\\lib\\site-packages\\sklearn\\utils\\fixes.py\", line 222, in __call__\n",
      "    return self.function(*args, **kwargs)\n",
      "  File \"D:\\Denis\\miniconda\\envs\\neural-networks\\lib\\site-packages\\sklearn\\ensemble\\_forest.py\", line 169, in _parallel_build_trees\n",
      "    tree.fit(X, y, sample_weight=curr_sample_weight, check_input=False)\n",
      "  File \"D:\\Denis\\miniconda\\envs\\neural-networks\\lib\\site-packages\\sklearn\\tree\\_classes.py\", line 902, in fit\n",
      "    X_idx_sorted=X_idx_sorted)\n",
      "  File \"D:\\Denis\\miniconda\\envs\\neural-networks\\lib\\site-packages\\sklearn\\tree\\_classes.py\", line 288, in fit\n",
      "    raise ValueError(\"max_features must be in (0, n_features]\")\n",
      "ValueError: max_features must be in (0, n_features]\n",
      "\n",
      "  FitFailedWarning)\n"
     ]
    },
    {
     "name": "stderr",
     "output_type": "stream",
     "text": [
      "D:\\Denis\\miniconda\\envs\\neural-networks\\lib\\site-packages\\sklearn\\model_selection\\_validation.py:614: FitFailedWarning: Estimator fit failed. The score on this train-test partition for these parameters will be set to nan. Details: \n",
      "Traceback (most recent call last):\n",
      "  File \"D:\\Denis\\miniconda\\envs\\neural-networks\\lib\\site-packages\\sklearn\\model_selection\\_validation.py\", line 593, in _fit_and_score\n",
      "    estimator.fit(X_train, y_train, **fit_params)\n",
      "  File \"D:\\Denis\\miniconda\\envs\\neural-networks\\lib\\site-packages\\sklearn\\pipeline.py\", line 346, in fit\n",
      "    self._final_estimator.fit(Xt, y, **fit_params_last_step)\n",
      "  File \"D:\\Denis\\miniconda\\envs\\neural-networks\\lib\\site-packages\\sklearn\\ensemble\\_forest.py\", line 393, in fit\n",
      "    for i, t in enumerate(trees))\n",
      "  File \"D:\\Denis\\miniconda\\envs\\neural-networks\\lib\\site-packages\\joblib\\parallel.py\", line 1041, in __call__\n",
      "    if self.dispatch_one_batch(iterator):\n",
      "  File \"D:\\Denis\\miniconda\\envs\\neural-networks\\lib\\site-packages\\joblib\\parallel.py\", line 859, in dispatch_one_batch\n",
      "    self._dispatch(tasks)\n",
      "  File \"D:\\Denis\\miniconda\\envs\\neural-networks\\lib\\site-packages\\joblib\\parallel.py\", line 777, in _dispatch\n",
      "    job = self._backend.apply_async(batch, callback=cb)\n",
      "  File \"D:\\Denis\\miniconda\\envs\\neural-networks\\lib\\site-packages\\joblib\\_parallel_backends.py\", line 208, in apply_async\n",
      "    result = ImmediateResult(func)\n",
      "  File \"D:\\Denis\\miniconda\\envs\\neural-networks\\lib\\site-packages\\joblib\\_parallel_backends.py\", line 572, in __init__\n",
      "    self.results = batch()\n",
      "  File \"D:\\Denis\\miniconda\\envs\\neural-networks\\lib\\site-packages\\joblib\\parallel.py\", line 263, in __call__\n",
      "    for func, args, kwargs in self.items]\n",
      "  File \"D:\\Denis\\miniconda\\envs\\neural-networks\\lib\\site-packages\\joblib\\parallel.py\", line 263, in <listcomp>\n",
      "    for func, args, kwargs in self.items]\n",
      "  File \"D:\\Denis\\miniconda\\envs\\neural-networks\\lib\\site-packages\\sklearn\\utils\\fixes.py\", line 222, in __call__\n",
      "    return self.function(*args, **kwargs)\n",
      "  File \"D:\\Denis\\miniconda\\envs\\neural-networks\\lib\\site-packages\\sklearn\\ensemble\\_forest.py\", line 169, in _parallel_build_trees\n",
      "    tree.fit(X, y, sample_weight=curr_sample_weight, check_input=False)\n",
      "  File \"D:\\Denis\\miniconda\\envs\\neural-networks\\lib\\site-packages\\sklearn\\tree\\_classes.py\", line 902, in fit\n",
      "    X_idx_sorted=X_idx_sorted)\n",
      "  File \"D:\\Denis\\miniconda\\envs\\neural-networks\\lib\\site-packages\\sklearn\\tree\\_classes.py\", line 288, in fit\n",
      "    raise ValueError(\"max_features must be in (0, n_features]\")\n",
      "ValueError: max_features must be in (0, n_features]\n",
      "\n",
      "  FitFailedWarning)\n",
      "D:\\Denis\\miniconda\\envs\\neural-networks\\lib\\site-packages\\sklearn\\model_selection\\_validation.py:614: FitFailedWarning: Estimator fit failed. The score on this train-test partition for these parameters will be set to nan. Details: \n",
      "Traceback (most recent call last):\n",
      "  File \"D:\\Denis\\miniconda\\envs\\neural-networks\\lib\\site-packages\\sklearn\\model_selection\\_validation.py\", line 593, in _fit_and_score\n",
      "    estimator.fit(X_train, y_train, **fit_params)\n",
      "  File \"D:\\Denis\\miniconda\\envs\\neural-networks\\lib\\site-packages\\sklearn\\pipeline.py\", line 346, in fit\n",
      "    self._final_estimator.fit(Xt, y, **fit_params_last_step)\n",
      "  File \"D:\\Denis\\miniconda\\envs\\neural-networks\\lib\\site-packages\\sklearn\\ensemble\\_forest.py\", line 393, in fit\n",
      "    for i, t in enumerate(trees))\n",
      "  File \"D:\\Denis\\miniconda\\envs\\neural-networks\\lib\\site-packages\\joblib\\parallel.py\", line 1041, in __call__\n",
      "    if self.dispatch_one_batch(iterator):\n",
      "  File \"D:\\Denis\\miniconda\\envs\\neural-networks\\lib\\site-packages\\joblib\\parallel.py\", line 859, in dispatch_one_batch\n",
      "    self._dispatch(tasks)\n",
      "  File \"D:\\Denis\\miniconda\\envs\\neural-networks\\lib\\site-packages\\joblib\\parallel.py\", line 777, in _dispatch\n",
      "    job = self._backend.apply_async(batch, callback=cb)\n",
      "  File \"D:\\Denis\\miniconda\\envs\\neural-networks\\lib\\site-packages\\joblib\\_parallel_backends.py\", line 208, in apply_async\n",
      "    result = ImmediateResult(func)\n",
      "  File \"D:\\Denis\\miniconda\\envs\\neural-networks\\lib\\site-packages\\joblib\\_parallel_backends.py\", line 572, in __init__\n",
      "    self.results = batch()\n",
      "  File \"D:\\Denis\\miniconda\\envs\\neural-networks\\lib\\site-packages\\joblib\\parallel.py\", line 263, in __call__\n",
      "    for func, args, kwargs in self.items]\n",
      "  File \"D:\\Denis\\miniconda\\envs\\neural-networks\\lib\\site-packages\\joblib\\parallel.py\", line 263, in <listcomp>\n",
      "    for func, args, kwargs in self.items]\n",
      "  File \"D:\\Denis\\miniconda\\envs\\neural-networks\\lib\\site-packages\\sklearn\\utils\\fixes.py\", line 222, in __call__\n",
      "    return self.function(*args, **kwargs)\n",
      "  File \"D:\\Denis\\miniconda\\envs\\neural-networks\\lib\\site-packages\\sklearn\\ensemble\\_forest.py\", line 169, in _parallel_build_trees\n",
      "    tree.fit(X, y, sample_weight=curr_sample_weight, check_input=False)\n",
      "  File \"D:\\Denis\\miniconda\\envs\\neural-networks\\lib\\site-packages\\sklearn\\tree\\_classes.py\", line 902, in fit\n",
      "    X_idx_sorted=X_idx_sorted)\n",
      "  File \"D:\\Denis\\miniconda\\envs\\neural-networks\\lib\\site-packages\\sklearn\\tree\\_classes.py\", line 288, in fit\n",
      "    raise ValueError(\"max_features must be in (0, n_features]\")\n",
      "ValueError: max_features must be in (0, n_features]\n",
      "\n",
      "  FitFailedWarning)\n",
      "D:\\Denis\\miniconda\\envs\\neural-networks\\lib\\site-packages\\sklearn\\model_selection\\_validation.py:614: FitFailedWarning: Estimator fit failed. The score on this train-test partition for these parameters will be set to nan. Details: \n",
      "Traceback (most recent call last):\n",
      "  File \"D:\\Denis\\miniconda\\envs\\neural-networks\\lib\\site-packages\\sklearn\\model_selection\\_validation.py\", line 593, in _fit_and_score\n",
      "    estimator.fit(X_train, y_train, **fit_params)\n",
      "  File \"D:\\Denis\\miniconda\\envs\\neural-networks\\lib\\site-packages\\sklearn\\pipeline.py\", line 346, in fit\n",
      "    self._final_estimator.fit(Xt, y, **fit_params_last_step)\n",
      "  File \"D:\\Denis\\miniconda\\envs\\neural-networks\\lib\\site-packages\\sklearn\\ensemble\\_forest.py\", line 393, in fit\n",
      "    for i, t in enumerate(trees))\n",
      "  File \"D:\\Denis\\miniconda\\envs\\neural-networks\\lib\\site-packages\\joblib\\parallel.py\", line 1041, in __call__\n",
      "    if self.dispatch_one_batch(iterator):\n",
      "  File \"D:\\Denis\\miniconda\\envs\\neural-networks\\lib\\site-packages\\joblib\\parallel.py\", line 859, in dispatch_one_batch\n",
      "    self._dispatch(tasks)\n",
      "  File \"D:\\Denis\\miniconda\\envs\\neural-networks\\lib\\site-packages\\joblib\\parallel.py\", line 777, in _dispatch\n",
      "    job = self._backend.apply_async(batch, callback=cb)\n",
      "  File \"D:\\Denis\\miniconda\\envs\\neural-networks\\lib\\site-packages\\joblib\\_parallel_backends.py\", line 208, in apply_async\n",
      "    result = ImmediateResult(func)\n",
      "  File \"D:\\Denis\\miniconda\\envs\\neural-networks\\lib\\site-packages\\joblib\\_parallel_backends.py\", line 572, in __init__\n",
      "    self.results = batch()\n",
      "  File \"D:\\Denis\\miniconda\\envs\\neural-networks\\lib\\site-packages\\joblib\\parallel.py\", line 263, in __call__\n",
      "    for func, args, kwargs in self.items]\n",
      "  File \"D:\\Denis\\miniconda\\envs\\neural-networks\\lib\\site-packages\\joblib\\parallel.py\", line 263, in <listcomp>\n",
      "    for func, args, kwargs in self.items]\n",
      "  File \"D:\\Denis\\miniconda\\envs\\neural-networks\\lib\\site-packages\\sklearn\\utils\\fixes.py\", line 222, in __call__\n",
      "    return self.function(*args, **kwargs)\n",
      "  File \"D:\\Denis\\miniconda\\envs\\neural-networks\\lib\\site-packages\\sklearn\\ensemble\\_forest.py\", line 169, in _parallel_build_trees\n",
      "    tree.fit(X, y, sample_weight=curr_sample_weight, check_input=False)\n",
      "  File \"D:\\Denis\\miniconda\\envs\\neural-networks\\lib\\site-packages\\sklearn\\tree\\_classes.py\", line 902, in fit\n",
      "    X_idx_sorted=X_idx_sorted)\n",
      "  File \"D:\\Denis\\miniconda\\envs\\neural-networks\\lib\\site-packages\\sklearn\\tree\\_classes.py\", line 288, in fit\n",
      "    raise ValueError(\"max_features must be in (0, n_features]\")\n",
      "ValueError: max_features must be in (0, n_features]\n",
      "\n",
      "  FitFailedWarning)\n",
      "D:\\Denis\\miniconda\\envs\\neural-networks\\lib\\site-packages\\sklearn\\model_selection\\_validation.py:614: FitFailedWarning: Estimator fit failed. The score on this train-test partition for these parameters will be set to nan. Details: \n",
      "Traceback (most recent call last):\n",
      "  File \"D:\\Denis\\miniconda\\envs\\neural-networks\\lib\\site-packages\\sklearn\\model_selection\\_validation.py\", line 593, in _fit_and_score\n",
      "    estimator.fit(X_train, y_train, **fit_params)\n",
      "  File \"D:\\Denis\\miniconda\\envs\\neural-networks\\lib\\site-packages\\sklearn\\pipeline.py\", line 346, in fit\n",
      "    self._final_estimator.fit(Xt, y, **fit_params_last_step)\n",
      "  File \"D:\\Denis\\miniconda\\envs\\neural-networks\\lib\\site-packages\\sklearn\\ensemble\\_forest.py\", line 393, in fit\n",
      "    for i, t in enumerate(trees))\n",
      "  File \"D:\\Denis\\miniconda\\envs\\neural-networks\\lib\\site-packages\\joblib\\parallel.py\", line 1041, in __call__\n",
      "    if self.dispatch_one_batch(iterator):\n",
      "  File \"D:\\Denis\\miniconda\\envs\\neural-networks\\lib\\site-packages\\joblib\\parallel.py\", line 859, in dispatch_one_batch\n",
      "    self._dispatch(tasks)\n",
      "  File \"D:\\Denis\\miniconda\\envs\\neural-networks\\lib\\site-packages\\joblib\\parallel.py\", line 777, in _dispatch\n",
      "    job = self._backend.apply_async(batch, callback=cb)\n",
      "  File \"D:\\Denis\\miniconda\\envs\\neural-networks\\lib\\site-packages\\joblib\\_parallel_backends.py\", line 208, in apply_async\n",
      "    result = ImmediateResult(func)\n",
      "  File \"D:\\Denis\\miniconda\\envs\\neural-networks\\lib\\site-packages\\joblib\\_parallel_backends.py\", line 572, in __init__\n",
      "    self.results = batch()\n",
      "  File \"D:\\Denis\\miniconda\\envs\\neural-networks\\lib\\site-packages\\joblib\\parallel.py\", line 263, in __call__\n",
      "    for func, args, kwargs in self.items]\n",
      "  File \"D:\\Denis\\miniconda\\envs\\neural-networks\\lib\\site-packages\\joblib\\parallel.py\", line 263, in <listcomp>\n",
      "    for func, args, kwargs in self.items]\n",
      "  File \"D:\\Denis\\miniconda\\envs\\neural-networks\\lib\\site-packages\\sklearn\\utils\\fixes.py\", line 222, in __call__\n",
      "    return self.function(*args, **kwargs)\n",
      "  File \"D:\\Denis\\miniconda\\envs\\neural-networks\\lib\\site-packages\\sklearn\\ensemble\\_forest.py\", line 169, in _parallel_build_trees\n",
      "    tree.fit(X, y, sample_weight=curr_sample_weight, check_input=False)\n",
      "  File \"D:\\Denis\\miniconda\\envs\\neural-networks\\lib\\site-packages\\sklearn\\tree\\_classes.py\", line 902, in fit\n",
      "    X_idx_sorted=X_idx_sorted)\n",
      "  File \"D:\\Denis\\miniconda\\envs\\neural-networks\\lib\\site-packages\\sklearn\\tree\\_classes.py\", line 288, in fit\n",
      "    raise ValueError(\"max_features must be in (0, n_features]\")\n",
      "ValueError: max_features must be in (0, n_features]\n",
      "\n",
      "  FitFailedWarning)\n",
      "D:\\Denis\\miniconda\\envs\\neural-networks\\lib\\site-packages\\sklearn\\model_selection\\_validation.py:614: FitFailedWarning: Estimator fit failed. The score on this train-test partition for these parameters will be set to nan. Details: \n",
      "Traceback (most recent call last):\n",
      "  File \"D:\\Denis\\miniconda\\envs\\neural-networks\\lib\\site-packages\\sklearn\\model_selection\\_validation.py\", line 593, in _fit_and_score\n",
      "    estimator.fit(X_train, y_train, **fit_params)\n",
      "  File \"D:\\Denis\\miniconda\\envs\\neural-networks\\lib\\site-packages\\sklearn\\pipeline.py\", line 346, in fit\n",
      "    self._final_estimator.fit(Xt, y, **fit_params_last_step)\n",
      "  File \"D:\\Denis\\miniconda\\envs\\neural-networks\\lib\\site-packages\\sklearn\\ensemble\\_forest.py\", line 393, in fit\n",
      "    for i, t in enumerate(trees))\n",
      "  File \"D:\\Denis\\miniconda\\envs\\neural-networks\\lib\\site-packages\\joblib\\parallel.py\", line 1041, in __call__\n",
      "    if self.dispatch_one_batch(iterator):\n",
      "  File \"D:\\Denis\\miniconda\\envs\\neural-networks\\lib\\site-packages\\joblib\\parallel.py\", line 859, in dispatch_one_batch\n",
      "    self._dispatch(tasks)\n",
      "  File \"D:\\Denis\\miniconda\\envs\\neural-networks\\lib\\site-packages\\joblib\\parallel.py\", line 777, in _dispatch\n",
      "    job = self._backend.apply_async(batch, callback=cb)\n",
      "  File \"D:\\Denis\\miniconda\\envs\\neural-networks\\lib\\site-packages\\joblib\\_parallel_backends.py\", line 208, in apply_async\n",
      "    result = ImmediateResult(func)\n",
      "  File \"D:\\Denis\\miniconda\\envs\\neural-networks\\lib\\site-packages\\joblib\\_parallel_backends.py\", line 572, in __init__\n",
      "    self.results = batch()\n",
      "  File \"D:\\Denis\\miniconda\\envs\\neural-networks\\lib\\site-packages\\joblib\\parallel.py\", line 263, in __call__\n",
      "    for func, args, kwargs in self.items]\n",
      "  File \"D:\\Denis\\miniconda\\envs\\neural-networks\\lib\\site-packages\\joblib\\parallel.py\", line 263, in <listcomp>\n",
      "    for func, args, kwargs in self.items]\n",
      "  File \"D:\\Denis\\miniconda\\envs\\neural-networks\\lib\\site-packages\\sklearn\\utils\\fixes.py\", line 222, in __call__\n",
      "    return self.function(*args, **kwargs)\n",
      "  File \"D:\\Denis\\miniconda\\envs\\neural-networks\\lib\\site-packages\\sklearn\\ensemble\\_forest.py\", line 169, in _parallel_build_trees\n",
      "    tree.fit(X, y, sample_weight=curr_sample_weight, check_input=False)\n",
      "  File \"D:\\Denis\\miniconda\\envs\\neural-networks\\lib\\site-packages\\sklearn\\tree\\_classes.py\", line 902, in fit\n",
      "    X_idx_sorted=X_idx_sorted)\n",
      "  File \"D:\\Denis\\miniconda\\envs\\neural-networks\\lib\\site-packages\\sklearn\\tree\\_classes.py\", line 288, in fit\n",
      "    raise ValueError(\"max_features must be in (0, n_features]\")\n",
      "ValueError: max_features must be in (0, n_features]\n",
      "\n",
      "  FitFailedWarning)\n",
      "D:\\Denis\\miniconda\\envs\\neural-networks\\lib\\site-packages\\sklearn\\model_selection\\_validation.py:614: FitFailedWarning: Estimator fit failed. The score on this train-test partition for these parameters will be set to nan. Details: \n",
      "Traceback (most recent call last):\n",
      "  File \"D:\\Denis\\miniconda\\envs\\neural-networks\\lib\\site-packages\\sklearn\\model_selection\\_validation.py\", line 593, in _fit_and_score\n",
      "    estimator.fit(X_train, y_train, **fit_params)\n",
      "  File \"D:\\Denis\\miniconda\\envs\\neural-networks\\lib\\site-packages\\sklearn\\pipeline.py\", line 346, in fit\n",
      "    self._final_estimator.fit(Xt, y, **fit_params_last_step)\n",
      "  File \"D:\\Denis\\miniconda\\envs\\neural-networks\\lib\\site-packages\\sklearn\\ensemble\\_forest.py\", line 393, in fit\n",
      "    for i, t in enumerate(trees))\n",
      "  File \"D:\\Denis\\miniconda\\envs\\neural-networks\\lib\\site-packages\\joblib\\parallel.py\", line 1041, in __call__\n",
      "    if self.dispatch_one_batch(iterator):\n",
      "  File \"D:\\Denis\\miniconda\\envs\\neural-networks\\lib\\site-packages\\joblib\\parallel.py\", line 859, in dispatch_one_batch\n",
      "    self._dispatch(tasks)\n",
      "  File \"D:\\Denis\\miniconda\\envs\\neural-networks\\lib\\site-packages\\joblib\\parallel.py\", line 777, in _dispatch\n",
      "    job = self._backend.apply_async(batch, callback=cb)\n",
      "  File \"D:\\Denis\\miniconda\\envs\\neural-networks\\lib\\site-packages\\joblib\\_parallel_backends.py\", line 208, in apply_async\n",
      "    result = ImmediateResult(func)\n",
      "  File \"D:\\Denis\\miniconda\\envs\\neural-networks\\lib\\site-packages\\joblib\\_parallel_backends.py\", line 572, in __init__\n",
      "    self.results = batch()\n",
      "  File \"D:\\Denis\\miniconda\\envs\\neural-networks\\lib\\site-packages\\joblib\\parallel.py\", line 263, in __call__\n",
      "    for func, args, kwargs in self.items]\n",
      "  File \"D:\\Denis\\miniconda\\envs\\neural-networks\\lib\\site-packages\\joblib\\parallel.py\", line 263, in <listcomp>\n",
      "    for func, args, kwargs in self.items]\n",
      "  File \"D:\\Denis\\miniconda\\envs\\neural-networks\\lib\\site-packages\\sklearn\\utils\\fixes.py\", line 222, in __call__\n",
      "    return self.function(*args, **kwargs)\n",
      "  File \"D:\\Denis\\miniconda\\envs\\neural-networks\\lib\\site-packages\\sklearn\\ensemble\\_forest.py\", line 169, in _parallel_build_trees\n",
      "    tree.fit(X, y, sample_weight=curr_sample_weight, check_input=False)\n",
      "  File \"D:\\Denis\\miniconda\\envs\\neural-networks\\lib\\site-packages\\sklearn\\tree\\_classes.py\", line 902, in fit\n",
      "    X_idx_sorted=X_idx_sorted)\n",
      "  File \"D:\\Denis\\miniconda\\envs\\neural-networks\\lib\\site-packages\\sklearn\\tree\\_classes.py\", line 288, in fit\n",
      "    raise ValueError(\"max_features must be in (0, n_features]\")\n",
      "ValueError: max_features must be in (0, n_features]\n",
      "\n",
      "  FitFailedWarning)\n",
      "D:\\Denis\\miniconda\\envs\\neural-networks\\lib\\site-packages\\sklearn\\model_selection\\_validation.py:614: FitFailedWarning: Estimator fit failed. The score on this train-test partition for these parameters will be set to nan. Details: \n",
      "Traceback (most recent call last):\n",
      "  File \"D:\\Denis\\miniconda\\envs\\neural-networks\\lib\\site-packages\\sklearn\\model_selection\\_validation.py\", line 593, in _fit_and_score\n",
      "    estimator.fit(X_train, y_train, **fit_params)\n",
      "  File \"D:\\Denis\\miniconda\\envs\\neural-networks\\lib\\site-packages\\sklearn\\pipeline.py\", line 346, in fit\n",
      "    self._final_estimator.fit(Xt, y, **fit_params_last_step)\n",
      "  File \"D:\\Denis\\miniconda\\envs\\neural-networks\\lib\\site-packages\\sklearn\\ensemble\\_forest.py\", line 393, in fit\n",
      "    for i, t in enumerate(trees))\n",
      "  File \"D:\\Denis\\miniconda\\envs\\neural-networks\\lib\\site-packages\\joblib\\parallel.py\", line 1041, in __call__\n",
      "    if self.dispatch_one_batch(iterator):\n",
      "  File \"D:\\Denis\\miniconda\\envs\\neural-networks\\lib\\site-packages\\joblib\\parallel.py\", line 859, in dispatch_one_batch\n",
      "    self._dispatch(tasks)\n",
      "  File \"D:\\Denis\\miniconda\\envs\\neural-networks\\lib\\site-packages\\joblib\\parallel.py\", line 777, in _dispatch\n",
      "    job = self._backend.apply_async(batch, callback=cb)\n",
      "  File \"D:\\Denis\\miniconda\\envs\\neural-networks\\lib\\site-packages\\joblib\\_parallel_backends.py\", line 208, in apply_async\n",
      "    result = ImmediateResult(func)\n",
      "  File \"D:\\Denis\\miniconda\\envs\\neural-networks\\lib\\site-packages\\joblib\\_parallel_backends.py\", line 572, in __init__\n",
      "    self.results = batch()\n",
      "  File \"D:\\Denis\\miniconda\\envs\\neural-networks\\lib\\site-packages\\joblib\\parallel.py\", line 263, in __call__\n",
      "    for func, args, kwargs in self.items]\n",
      "  File \"D:\\Denis\\miniconda\\envs\\neural-networks\\lib\\site-packages\\joblib\\parallel.py\", line 263, in <listcomp>\n",
      "    for func, args, kwargs in self.items]\n",
      "  File \"D:\\Denis\\miniconda\\envs\\neural-networks\\lib\\site-packages\\sklearn\\utils\\fixes.py\", line 222, in __call__\n",
      "    return self.function(*args, **kwargs)\n",
      "  File \"D:\\Denis\\miniconda\\envs\\neural-networks\\lib\\site-packages\\sklearn\\ensemble\\_forest.py\", line 169, in _parallel_build_trees\n",
      "    tree.fit(X, y, sample_weight=curr_sample_weight, check_input=False)\n",
      "  File \"D:\\Denis\\miniconda\\envs\\neural-networks\\lib\\site-packages\\sklearn\\tree\\_classes.py\", line 902, in fit\n",
      "    X_idx_sorted=X_idx_sorted)\n",
      "  File \"D:\\Denis\\miniconda\\envs\\neural-networks\\lib\\site-packages\\sklearn\\tree\\_classes.py\", line 288, in fit\n",
      "    raise ValueError(\"max_features must be in (0, n_features]\")\n",
      "ValueError: max_features must be in (0, n_features]\n",
      "\n",
      "  FitFailedWarning)\n",
      "D:\\Denis\\miniconda\\envs\\neural-networks\\lib\\site-packages\\sklearn\\model_selection\\_validation.py:614: FitFailedWarning: Estimator fit failed. The score on this train-test partition for these parameters will be set to nan. Details: \n",
      "Traceback (most recent call last):\n",
      "  File \"D:\\Denis\\miniconda\\envs\\neural-networks\\lib\\site-packages\\sklearn\\model_selection\\_validation.py\", line 593, in _fit_and_score\n",
      "    estimator.fit(X_train, y_train, **fit_params)\n",
      "  File \"D:\\Denis\\miniconda\\envs\\neural-networks\\lib\\site-packages\\sklearn\\pipeline.py\", line 346, in fit\n",
      "    self._final_estimator.fit(Xt, y, **fit_params_last_step)\n",
      "  File \"D:\\Denis\\miniconda\\envs\\neural-networks\\lib\\site-packages\\sklearn\\ensemble\\_forest.py\", line 393, in fit\n",
      "    for i, t in enumerate(trees))\n",
      "  File \"D:\\Denis\\miniconda\\envs\\neural-networks\\lib\\site-packages\\joblib\\parallel.py\", line 1041, in __call__\n",
      "    if self.dispatch_one_batch(iterator):\n",
      "  File \"D:\\Denis\\miniconda\\envs\\neural-networks\\lib\\site-packages\\joblib\\parallel.py\", line 859, in dispatch_one_batch\n",
      "    self._dispatch(tasks)\n",
      "  File \"D:\\Denis\\miniconda\\envs\\neural-networks\\lib\\site-packages\\joblib\\parallel.py\", line 777, in _dispatch\n",
      "    job = self._backend.apply_async(batch, callback=cb)\n",
      "  File \"D:\\Denis\\miniconda\\envs\\neural-networks\\lib\\site-packages\\joblib\\_parallel_backends.py\", line 208, in apply_async\n",
      "    result = ImmediateResult(func)\n",
      "  File \"D:\\Denis\\miniconda\\envs\\neural-networks\\lib\\site-packages\\joblib\\_parallel_backends.py\", line 572, in __init__\n",
      "    self.results = batch()\n",
      "  File \"D:\\Denis\\miniconda\\envs\\neural-networks\\lib\\site-packages\\joblib\\parallel.py\", line 263, in __call__\n",
      "    for func, args, kwargs in self.items]\n",
      "  File \"D:\\Denis\\miniconda\\envs\\neural-networks\\lib\\site-packages\\joblib\\parallel.py\", line 263, in <listcomp>\n",
      "    for func, args, kwargs in self.items]\n",
      "  File \"D:\\Denis\\miniconda\\envs\\neural-networks\\lib\\site-packages\\sklearn\\utils\\fixes.py\", line 222, in __call__\n",
      "    return self.function(*args, **kwargs)\n",
      "  File \"D:\\Denis\\miniconda\\envs\\neural-networks\\lib\\site-packages\\sklearn\\ensemble\\_forest.py\", line 169, in _parallel_build_trees\n",
      "    tree.fit(X, y, sample_weight=curr_sample_weight, check_input=False)\n",
      "  File \"D:\\Denis\\miniconda\\envs\\neural-networks\\lib\\site-packages\\sklearn\\tree\\_classes.py\", line 902, in fit\n",
      "    X_idx_sorted=X_idx_sorted)\n",
      "  File \"D:\\Denis\\miniconda\\envs\\neural-networks\\lib\\site-packages\\sklearn\\tree\\_classes.py\", line 288, in fit\n",
      "    raise ValueError(\"max_features must be in (0, n_features]\")\n",
      "ValueError: max_features must be in (0, n_features]\n",
      "\n",
      "  FitFailedWarning)\n",
      "D:\\Denis\\miniconda\\envs\\neural-networks\\lib\\site-packages\\sklearn\\model_selection\\_validation.py:614: FitFailedWarning: Estimator fit failed. The score on this train-test partition for these parameters will be set to nan. Details: \n",
      "Traceback (most recent call last):\n",
      "  File \"D:\\Denis\\miniconda\\envs\\neural-networks\\lib\\site-packages\\sklearn\\model_selection\\_validation.py\", line 593, in _fit_and_score\n",
      "    estimator.fit(X_train, y_train, **fit_params)\n",
      "  File \"D:\\Denis\\miniconda\\envs\\neural-networks\\lib\\site-packages\\sklearn\\pipeline.py\", line 346, in fit\n",
      "    self._final_estimator.fit(Xt, y, **fit_params_last_step)\n",
      "  File \"D:\\Denis\\miniconda\\envs\\neural-networks\\lib\\site-packages\\sklearn\\ensemble\\_forest.py\", line 393, in fit\n",
      "    for i, t in enumerate(trees))\n",
      "  File \"D:\\Denis\\miniconda\\envs\\neural-networks\\lib\\site-packages\\joblib\\parallel.py\", line 1041, in __call__\n",
      "    if self.dispatch_one_batch(iterator):\n",
      "  File \"D:\\Denis\\miniconda\\envs\\neural-networks\\lib\\site-packages\\joblib\\parallel.py\", line 859, in dispatch_one_batch\n",
      "    self._dispatch(tasks)\n",
      "  File \"D:\\Denis\\miniconda\\envs\\neural-networks\\lib\\site-packages\\joblib\\parallel.py\", line 777, in _dispatch\n",
      "    job = self._backend.apply_async(batch, callback=cb)\n",
      "  File \"D:\\Denis\\miniconda\\envs\\neural-networks\\lib\\site-packages\\joblib\\_parallel_backends.py\", line 208, in apply_async\n",
      "    result = ImmediateResult(func)\n",
      "  File \"D:\\Denis\\miniconda\\envs\\neural-networks\\lib\\site-packages\\joblib\\_parallel_backends.py\", line 572, in __init__\n",
      "    self.results = batch()\n",
      "  File \"D:\\Denis\\miniconda\\envs\\neural-networks\\lib\\site-packages\\joblib\\parallel.py\", line 263, in __call__\n",
      "    for func, args, kwargs in self.items]\n",
      "  File \"D:\\Denis\\miniconda\\envs\\neural-networks\\lib\\site-packages\\joblib\\parallel.py\", line 263, in <listcomp>\n",
      "    for func, args, kwargs in self.items]\n",
      "  File \"D:\\Denis\\miniconda\\envs\\neural-networks\\lib\\site-packages\\sklearn\\utils\\fixes.py\", line 222, in __call__\n",
      "    return self.function(*args, **kwargs)\n",
      "  File \"D:\\Denis\\miniconda\\envs\\neural-networks\\lib\\site-packages\\sklearn\\ensemble\\_forest.py\", line 169, in _parallel_build_trees\n",
      "    tree.fit(X, y, sample_weight=curr_sample_weight, check_input=False)\n",
      "  File \"D:\\Denis\\miniconda\\envs\\neural-networks\\lib\\site-packages\\sklearn\\tree\\_classes.py\", line 902, in fit\n",
      "    X_idx_sorted=X_idx_sorted)\n",
      "  File \"D:\\Denis\\miniconda\\envs\\neural-networks\\lib\\site-packages\\sklearn\\tree\\_classes.py\", line 288, in fit\n",
      "    raise ValueError(\"max_features must be in (0, n_features]\")\n",
      "ValueError: max_features must be in (0, n_features]\n",
      "\n",
      "  FitFailedWarning)\n",
      "D:\\Denis\\miniconda\\envs\\neural-networks\\lib\\site-packages\\sklearn\\model_selection\\_validation.py:614: FitFailedWarning: Estimator fit failed. The score on this train-test partition for these parameters will be set to nan. Details: \n",
      "Traceback (most recent call last):\n",
      "  File \"D:\\Denis\\miniconda\\envs\\neural-networks\\lib\\site-packages\\sklearn\\model_selection\\_validation.py\", line 593, in _fit_and_score\n",
      "    estimator.fit(X_train, y_train, **fit_params)\n",
      "  File \"D:\\Denis\\miniconda\\envs\\neural-networks\\lib\\site-packages\\sklearn\\pipeline.py\", line 346, in fit\n",
      "    self._final_estimator.fit(Xt, y, **fit_params_last_step)\n",
      "  File \"D:\\Denis\\miniconda\\envs\\neural-networks\\lib\\site-packages\\sklearn\\ensemble\\_forest.py\", line 393, in fit\n",
      "    for i, t in enumerate(trees))\n",
      "  File \"D:\\Denis\\miniconda\\envs\\neural-networks\\lib\\site-packages\\joblib\\parallel.py\", line 1041, in __call__\n",
      "    if self.dispatch_one_batch(iterator):\n",
      "  File \"D:\\Denis\\miniconda\\envs\\neural-networks\\lib\\site-packages\\joblib\\parallel.py\", line 859, in dispatch_one_batch\n",
      "    self._dispatch(tasks)\n",
      "  File \"D:\\Denis\\miniconda\\envs\\neural-networks\\lib\\site-packages\\joblib\\parallel.py\", line 777, in _dispatch\n",
      "    job = self._backend.apply_async(batch, callback=cb)\n",
      "  File \"D:\\Denis\\miniconda\\envs\\neural-networks\\lib\\site-packages\\joblib\\_parallel_backends.py\", line 208, in apply_async\n",
      "    result = ImmediateResult(func)\n",
      "  File \"D:\\Denis\\miniconda\\envs\\neural-networks\\lib\\site-packages\\joblib\\_parallel_backends.py\", line 572, in __init__\n",
      "    self.results = batch()\n",
      "  File \"D:\\Denis\\miniconda\\envs\\neural-networks\\lib\\site-packages\\joblib\\parallel.py\", line 263, in __call__\n",
      "    for func, args, kwargs in self.items]\n",
      "  File \"D:\\Denis\\miniconda\\envs\\neural-networks\\lib\\site-packages\\joblib\\parallel.py\", line 263, in <listcomp>\n",
      "    for func, args, kwargs in self.items]\n",
      "  File \"D:\\Denis\\miniconda\\envs\\neural-networks\\lib\\site-packages\\sklearn\\utils\\fixes.py\", line 222, in __call__\n",
      "    return self.function(*args, **kwargs)\n",
      "  File \"D:\\Denis\\miniconda\\envs\\neural-networks\\lib\\site-packages\\sklearn\\ensemble\\_forest.py\", line 169, in _parallel_build_trees\n",
      "    tree.fit(X, y, sample_weight=curr_sample_weight, check_input=False)\n",
      "  File \"D:\\Denis\\miniconda\\envs\\neural-networks\\lib\\site-packages\\sklearn\\tree\\_classes.py\", line 902, in fit\n",
      "    X_idx_sorted=X_idx_sorted)\n",
      "  File \"D:\\Denis\\miniconda\\envs\\neural-networks\\lib\\site-packages\\sklearn\\tree\\_classes.py\", line 288, in fit\n",
      "    raise ValueError(\"max_features must be in (0, n_features]\")\n",
      "ValueError: max_features must be in (0, n_features]\n",
      "\n",
      "  FitFailedWarning)\n",
      "D:\\Denis\\miniconda\\envs\\neural-networks\\lib\\site-packages\\sklearn\\model_selection\\_validation.py:614: FitFailedWarning: Estimator fit failed. The score on this train-test partition for these parameters will be set to nan. Details: \n",
      "Traceback (most recent call last):\n",
      "  File \"D:\\Denis\\miniconda\\envs\\neural-networks\\lib\\site-packages\\sklearn\\model_selection\\_validation.py\", line 593, in _fit_and_score\n",
      "    estimator.fit(X_train, y_train, **fit_params)\n",
      "  File \"D:\\Denis\\miniconda\\envs\\neural-networks\\lib\\site-packages\\sklearn\\pipeline.py\", line 346, in fit\n",
      "    self._final_estimator.fit(Xt, y, **fit_params_last_step)\n",
      "  File \"D:\\Denis\\miniconda\\envs\\neural-networks\\lib\\site-packages\\sklearn\\ensemble\\_forest.py\", line 393, in fit\n",
      "    for i, t in enumerate(trees))\n",
      "  File \"D:\\Denis\\miniconda\\envs\\neural-networks\\lib\\site-packages\\joblib\\parallel.py\", line 1041, in __call__\n",
      "    if self.dispatch_one_batch(iterator):\n",
      "  File \"D:\\Denis\\miniconda\\envs\\neural-networks\\lib\\site-packages\\joblib\\parallel.py\", line 859, in dispatch_one_batch\n",
      "    self._dispatch(tasks)\n",
      "  File \"D:\\Denis\\miniconda\\envs\\neural-networks\\lib\\site-packages\\joblib\\parallel.py\", line 777, in _dispatch\n",
      "    job = self._backend.apply_async(batch, callback=cb)\n",
      "  File \"D:\\Denis\\miniconda\\envs\\neural-networks\\lib\\site-packages\\joblib\\_parallel_backends.py\", line 208, in apply_async\n",
      "    result = ImmediateResult(func)\n",
      "  File \"D:\\Denis\\miniconda\\envs\\neural-networks\\lib\\site-packages\\joblib\\_parallel_backends.py\", line 572, in __init__\n",
      "    self.results = batch()\n",
      "  File \"D:\\Denis\\miniconda\\envs\\neural-networks\\lib\\site-packages\\joblib\\parallel.py\", line 263, in __call__\n",
      "    for func, args, kwargs in self.items]\n",
      "  File \"D:\\Denis\\miniconda\\envs\\neural-networks\\lib\\site-packages\\joblib\\parallel.py\", line 263, in <listcomp>\n",
      "    for func, args, kwargs in self.items]\n",
      "  File \"D:\\Denis\\miniconda\\envs\\neural-networks\\lib\\site-packages\\sklearn\\utils\\fixes.py\", line 222, in __call__\n",
      "    return self.function(*args, **kwargs)\n",
      "  File \"D:\\Denis\\miniconda\\envs\\neural-networks\\lib\\site-packages\\sklearn\\ensemble\\_forest.py\", line 169, in _parallel_build_trees\n",
      "    tree.fit(X, y, sample_weight=curr_sample_weight, check_input=False)\n",
      "  File \"D:\\Denis\\miniconda\\envs\\neural-networks\\lib\\site-packages\\sklearn\\tree\\_classes.py\", line 902, in fit\n",
      "    X_idx_sorted=X_idx_sorted)\n",
      "  File \"D:\\Denis\\miniconda\\envs\\neural-networks\\lib\\site-packages\\sklearn\\tree\\_classes.py\", line 288, in fit\n",
      "    raise ValueError(\"max_features must be in (0, n_features]\")\n",
      "ValueError: max_features must be in (0, n_features]\n",
      "\n",
      "  FitFailedWarning)\n",
      "D:\\Denis\\miniconda\\envs\\neural-networks\\lib\\site-packages\\sklearn\\model_selection\\_validation.py:614: FitFailedWarning: Estimator fit failed. The score on this train-test partition for these parameters will be set to nan. Details: \n",
      "Traceback (most recent call last):\n",
      "  File \"D:\\Denis\\miniconda\\envs\\neural-networks\\lib\\site-packages\\sklearn\\model_selection\\_validation.py\", line 593, in _fit_and_score\n",
      "    estimator.fit(X_train, y_train, **fit_params)\n",
      "  File \"D:\\Denis\\miniconda\\envs\\neural-networks\\lib\\site-packages\\sklearn\\pipeline.py\", line 346, in fit\n",
      "    self._final_estimator.fit(Xt, y, **fit_params_last_step)\n",
      "  File \"D:\\Denis\\miniconda\\envs\\neural-networks\\lib\\site-packages\\sklearn\\ensemble\\_forest.py\", line 393, in fit\n",
      "    for i, t in enumerate(trees))\n",
      "  File \"D:\\Denis\\miniconda\\envs\\neural-networks\\lib\\site-packages\\joblib\\parallel.py\", line 1041, in __call__\n",
      "    if self.dispatch_one_batch(iterator):\n",
      "  File \"D:\\Denis\\miniconda\\envs\\neural-networks\\lib\\site-packages\\joblib\\parallel.py\", line 859, in dispatch_one_batch\n",
      "    self._dispatch(tasks)\n",
      "  File \"D:\\Denis\\miniconda\\envs\\neural-networks\\lib\\site-packages\\joblib\\parallel.py\", line 777, in _dispatch\n",
      "    job = self._backend.apply_async(batch, callback=cb)\n",
      "  File \"D:\\Denis\\miniconda\\envs\\neural-networks\\lib\\site-packages\\joblib\\_parallel_backends.py\", line 208, in apply_async\n",
      "    result = ImmediateResult(func)\n",
      "  File \"D:\\Denis\\miniconda\\envs\\neural-networks\\lib\\site-packages\\joblib\\_parallel_backends.py\", line 572, in __init__\n",
      "    self.results = batch()\n",
      "  File \"D:\\Denis\\miniconda\\envs\\neural-networks\\lib\\site-packages\\joblib\\parallel.py\", line 263, in __call__\n",
      "    for func, args, kwargs in self.items]\n",
      "  File \"D:\\Denis\\miniconda\\envs\\neural-networks\\lib\\site-packages\\joblib\\parallel.py\", line 263, in <listcomp>\n",
      "    for func, args, kwargs in self.items]\n",
      "  File \"D:\\Denis\\miniconda\\envs\\neural-networks\\lib\\site-packages\\sklearn\\utils\\fixes.py\", line 222, in __call__\n",
      "    return self.function(*args, **kwargs)\n",
      "  File \"D:\\Denis\\miniconda\\envs\\neural-networks\\lib\\site-packages\\sklearn\\ensemble\\_forest.py\", line 169, in _parallel_build_trees\n",
      "    tree.fit(X, y, sample_weight=curr_sample_weight, check_input=False)\n",
      "  File \"D:\\Denis\\miniconda\\envs\\neural-networks\\lib\\site-packages\\sklearn\\tree\\_classes.py\", line 902, in fit\n",
      "    X_idx_sorted=X_idx_sorted)\n",
      "  File \"D:\\Denis\\miniconda\\envs\\neural-networks\\lib\\site-packages\\sklearn\\tree\\_classes.py\", line 288, in fit\n",
      "    raise ValueError(\"max_features must be in (0, n_features]\")\n",
      "ValueError: max_features must be in (0, n_features]\n",
      "\n",
      "  FitFailedWarning)\n"
     ]
    },
    {
     "name": "stderr",
     "output_type": "stream",
     "text": [
      "D:\\Denis\\miniconda\\envs\\neural-networks\\lib\\site-packages\\sklearn\\model_selection\\_validation.py:614: FitFailedWarning: Estimator fit failed. The score on this train-test partition for these parameters will be set to nan. Details: \n",
      "Traceback (most recent call last):\n",
      "  File \"D:\\Denis\\miniconda\\envs\\neural-networks\\lib\\site-packages\\sklearn\\model_selection\\_validation.py\", line 593, in _fit_and_score\n",
      "    estimator.fit(X_train, y_train, **fit_params)\n",
      "  File \"D:\\Denis\\miniconda\\envs\\neural-networks\\lib\\site-packages\\sklearn\\pipeline.py\", line 346, in fit\n",
      "    self._final_estimator.fit(Xt, y, **fit_params_last_step)\n",
      "  File \"D:\\Denis\\miniconda\\envs\\neural-networks\\lib\\site-packages\\sklearn\\ensemble\\_forest.py\", line 393, in fit\n",
      "    for i, t in enumerate(trees))\n",
      "  File \"D:\\Denis\\miniconda\\envs\\neural-networks\\lib\\site-packages\\joblib\\parallel.py\", line 1041, in __call__\n",
      "    if self.dispatch_one_batch(iterator):\n",
      "  File \"D:\\Denis\\miniconda\\envs\\neural-networks\\lib\\site-packages\\joblib\\parallel.py\", line 859, in dispatch_one_batch\n",
      "    self._dispatch(tasks)\n",
      "  File \"D:\\Denis\\miniconda\\envs\\neural-networks\\lib\\site-packages\\joblib\\parallel.py\", line 777, in _dispatch\n",
      "    job = self._backend.apply_async(batch, callback=cb)\n",
      "  File \"D:\\Denis\\miniconda\\envs\\neural-networks\\lib\\site-packages\\joblib\\_parallel_backends.py\", line 208, in apply_async\n",
      "    result = ImmediateResult(func)\n",
      "  File \"D:\\Denis\\miniconda\\envs\\neural-networks\\lib\\site-packages\\joblib\\_parallel_backends.py\", line 572, in __init__\n",
      "    self.results = batch()\n",
      "  File \"D:\\Denis\\miniconda\\envs\\neural-networks\\lib\\site-packages\\joblib\\parallel.py\", line 263, in __call__\n",
      "    for func, args, kwargs in self.items]\n",
      "  File \"D:\\Denis\\miniconda\\envs\\neural-networks\\lib\\site-packages\\joblib\\parallel.py\", line 263, in <listcomp>\n",
      "    for func, args, kwargs in self.items]\n",
      "  File \"D:\\Denis\\miniconda\\envs\\neural-networks\\lib\\site-packages\\sklearn\\utils\\fixes.py\", line 222, in __call__\n",
      "    return self.function(*args, **kwargs)\n",
      "  File \"D:\\Denis\\miniconda\\envs\\neural-networks\\lib\\site-packages\\sklearn\\ensemble\\_forest.py\", line 169, in _parallel_build_trees\n",
      "    tree.fit(X, y, sample_weight=curr_sample_weight, check_input=False)\n",
      "  File \"D:\\Denis\\miniconda\\envs\\neural-networks\\lib\\site-packages\\sklearn\\tree\\_classes.py\", line 902, in fit\n",
      "    X_idx_sorted=X_idx_sorted)\n",
      "  File \"D:\\Denis\\miniconda\\envs\\neural-networks\\lib\\site-packages\\sklearn\\tree\\_classes.py\", line 288, in fit\n",
      "    raise ValueError(\"max_features must be in (0, n_features]\")\n",
      "ValueError: max_features must be in (0, n_features]\n",
      "\n",
      "  FitFailedWarning)\n",
      "D:\\Denis\\miniconda\\envs\\neural-networks\\lib\\site-packages\\sklearn\\model_selection\\_validation.py:614: FitFailedWarning: Estimator fit failed. The score on this train-test partition for these parameters will be set to nan. Details: \n",
      "Traceback (most recent call last):\n",
      "  File \"D:\\Denis\\miniconda\\envs\\neural-networks\\lib\\site-packages\\sklearn\\model_selection\\_validation.py\", line 593, in _fit_and_score\n",
      "    estimator.fit(X_train, y_train, **fit_params)\n",
      "  File \"D:\\Denis\\miniconda\\envs\\neural-networks\\lib\\site-packages\\sklearn\\pipeline.py\", line 346, in fit\n",
      "    self._final_estimator.fit(Xt, y, **fit_params_last_step)\n",
      "  File \"D:\\Denis\\miniconda\\envs\\neural-networks\\lib\\site-packages\\sklearn\\ensemble\\_forest.py\", line 393, in fit\n",
      "    for i, t in enumerate(trees))\n",
      "  File \"D:\\Denis\\miniconda\\envs\\neural-networks\\lib\\site-packages\\joblib\\parallel.py\", line 1041, in __call__\n",
      "    if self.dispatch_one_batch(iterator):\n",
      "  File \"D:\\Denis\\miniconda\\envs\\neural-networks\\lib\\site-packages\\joblib\\parallel.py\", line 859, in dispatch_one_batch\n",
      "    self._dispatch(tasks)\n",
      "  File \"D:\\Denis\\miniconda\\envs\\neural-networks\\lib\\site-packages\\joblib\\parallel.py\", line 777, in _dispatch\n",
      "    job = self._backend.apply_async(batch, callback=cb)\n",
      "  File \"D:\\Denis\\miniconda\\envs\\neural-networks\\lib\\site-packages\\joblib\\_parallel_backends.py\", line 208, in apply_async\n",
      "    result = ImmediateResult(func)\n",
      "  File \"D:\\Denis\\miniconda\\envs\\neural-networks\\lib\\site-packages\\joblib\\_parallel_backends.py\", line 572, in __init__\n",
      "    self.results = batch()\n",
      "  File \"D:\\Denis\\miniconda\\envs\\neural-networks\\lib\\site-packages\\joblib\\parallel.py\", line 263, in __call__\n",
      "    for func, args, kwargs in self.items]\n",
      "  File \"D:\\Denis\\miniconda\\envs\\neural-networks\\lib\\site-packages\\joblib\\parallel.py\", line 263, in <listcomp>\n",
      "    for func, args, kwargs in self.items]\n",
      "  File \"D:\\Denis\\miniconda\\envs\\neural-networks\\lib\\site-packages\\sklearn\\utils\\fixes.py\", line 222, in __call__\n",
      "    return self.function(*args, **kwargs)\n",
      "  File \"D:\\Denis\\miniconda\\envs\\neural-networks\\lib\\site-packages\\sklearn\\ensemble\\_forest.py\", line 169, in _parallel_build_trees\n",
      "    tree.fit(X, y, sample_weight=curr_sample_weight, check_input=False)\n",
      "  File \"D:\\Denis\\miniconda\\envs\\neural-networks\\lib\\site-packages\\sklearn\\tree\\_classes.py\", line 902, in fit\n",
      "    X_idx_sorted=X_idx_sorted)\n",
      "  File \"D:\\Denis\\miniconda\\envs\\neural-networks\\lib\\site-packages\\sklearn\\tree\\_classes.py\", line 288, in fit\n",
      "    raise ValueError(\"max_features must be in (0, n_features]\")\n",
      "ValueError: max_features must be in (0, n_features]\n",
      "\n",
      "  FitFailedWarning)\n",
      "D:\\Denis\\miniconda\\envs\\neural-networks\\lib\\site-packages\\sklearn\\model_selection\\_validation.py:614: FitFailedWarning: Estimator fit failed. The score on this train-test partition for these parameters will be set to nan. Details: \n",
      "Traceback (most recent call last):\n",
      "  File \"D:\\Denis\\miniconda\\envs\\neural-networks\\lib\\site-packages\\sklearn\\model_selection\\_validation.py\", line 593, in _fit_and_score\n",
      "    estimator.fit(X_train, y_train, **fit_params)\n",
      "  File \"D:\\Denis\\miniconda\\envs\\neural-networks\\lib\\site-packages\\sklearn\\pipeline.py\", line 346, in fit\n",
      "    self._final_estimator.fit(Xt, y, **fit_params_last_step)\n",
      "  File \"D:\\Denis\\miniconda\\envs\\neural-networks\\lib\\site-packages\\sklearn\\ensemble\\_forest.py\", line 393, in fit\n",
      "    for i, t in enumerate(trees))\n",
      "  File \"D:\\Denis\\miniconda\\envs\\neural-networks\\lib\\site-packages\\joblib\\parallel.py\", line 1041, in __call__\n",
      "    if self.dispatch_one_batch(iterator):\n",
      "  File \"D:\\Denis\\miniconda\\envs\\neural-networks\\lib\\site-packages\\joblib\\parallel.py\", line 859, in dispatch_one_batch\n",
      "    self._dispatch(tasks)\n",
      "  File \"D:\\Denis\\miniconda\\envs\\neural-networks\\lib\\site-packages\\joblib\\parallel.py\", line 777, in _dispatch\n",
      "    job = self._backend.apply_async(batch, callback=cb)\n",
      "  File \"D:\\Denis\\miniconda\\envs\\neural-networks\\lib\\site-packages\\joblib\\_parallel_backends.py\", line 208, in apply_async\n",
      "    result = ImmediateResult(func)\n",
      "  File \"D:\\Denis\\miniconda\\envs\\neural-networks\\lib\\site-packages\\joblib\\_parallel_backends.py\", line 572, in __init__\n",
      "    self.results = batch()\n",
      "  File \"D:\\Denis\\miniconda\\envs\\neural-networks\\lib\\site-packages\\joblib\\parallel.py\", line 263, in __call__\n",
      "    for func, args, kwargs in self.items]\n",
      "  File \"D:\\Denis\\miniconda\\envs\\neural-networks\\lib\\site-packages\\joblib\\parallel.py\", line 263, in <listcomp>\n",
      "    for func, args, kwargs in self.items]\n",
      "  File \"D:\\Denis\\miniconda\\envs\\neural-networks\\lib\\site-packages\\sklearn\\utils\\fixes.py\", line 222, in __call__\n",
      "    return self.function(*args, **kwargs)\n",
      "  File \"D:\\Denis\\miniconda\\envs\\neural-networks\\lib\\site-packages\\sklearn\\ensemble\\_forest.py\", line 169, in _parallel_build_trees\n",
      "    tree.fit(X, y, sample_weight=curr_sample_weight, check_input=False)\n",
      "  File \"D:\\Denis\\miniconda\\envs\\neural-networks\\lib\\site-packages\\sklearn\\tree\\_classes.py\", line 902, in fit\n",
      "    X_idx_sorted=X_idx_sorted)\n",
      "  File \"D:\\Denis\\miniconda\\envs\\neural-networks\\lib\\site-packages\\sklearn\\tree\\_classes.py\", line 288, in fit\n",
      "    raise ValueError(\"max_features must be in (0, n_features]\")\n",
      "ValueError: max_features must be in (0, n_features]\n",
      "\n",
      "  FitFailedWarning)\n",
      "D:\\Denis\\miniconda\\envs\\neural-networks\\lib\\site-packages\\sklearn\\model_selection\\_search.py:921: UserWarning: One or more of the test scores are non-finite: [0.81 0.81 0.82 0.82 0.83 0.83 0.82 0.83 0.83 0.83 0.83 0.81 0.81 0.81\n",
      " 0.81 0.82 0.82 0.80 0.81 0.81 0.81 0.82 0.82 0.80 0.82 0.82 0.81 0.81\n",
      " 0.82 0.79 0.80 0.82 0.82 0.81 0.81 0.81 0.82 0.81 0.82 0.82 0.81 nan nan\n",
      " nan nan nan nan 0.62 0.62 0.62 0.62 0.62 0.62 0.62 0.70 0.62 0.71 0.71\n",
      " 0.74 0.76 0.77 0.79 0.79 0.79 0.80 0.80 0.80 0.80 0.80 0.80 0.81 0.80\n",
      " 0.81 0.80 0.80 0.80 0.80 0.80 0.80 0.80 0.80 0.80 0.80 0.80 0.80 0.80\n",
      " 0.80 0.76 0.77 0.80 0.80 0.80 0.80 0.80 0.80]\n",
      "  category=UserWarning\n"
     ]
    }
   ],
   "source": [
    "group_B_results = grid_search.fit(group_B, y_train)"
   ]
  },
  {
   "cell_type": "code",
   "execution_count": 199,
   "id": "eae19da7",
   "metadata": {},
   "outputs": [
    {
     "data": {
      "text/plain": [
       "Pipeline(steps=[('classifier', SVC(C=8))])"
      ]
     },
     "execution_count": 199,
     "metadata": {},
     "output_type": "execute_result"
    }
   ],
   "source": [
    "group_B_results.best_estimator_"
   ]
  },
  {
   "cell_type": "code",
   "execution_count": null,
   "id": "29dbbd48",
   "metadata": {},
   "outputs": [],
   "source": [
    "B_group_scores = cross_val_score(group_B_results.best_estimator_, group_B, y_train, scoring='accuracy', cv=100)"
   ]
  },
  {
   "cell_type": "code",
   "execution_count": null,
   "id": "a7a1c85b",
   "metadata": {},
   "outputs": [],
   "source": [
    "B_group_scores"
   ]
  },
  {
   "cell_type": "code",
   "execution_count": 232,
   "id": "667b06a9",
   "metadata": {},
   "outputs": [
    {
     "data": {
      "text/plain": [
       "<AxesSubplot:ylabel='Count'>"
      ]
     },
     "execution_count": 232,
     "metadata": {},
     "output_type": "execute_result"
    },
    {
     "data": {
      "image/png": "[encoded data removed]",
      "text/plain": [
       "<Figure size 432x288 with 1 Axes>"
      ]
     },
     "metadata": {
      "needs_background": "light"
     },
     "output_type": "display_data"
    }
   ],
   "source": [
    "sns.histplot(A_group_scores, bins=10, alpha=0.5)\n",
    "sns.histplot(B_group_scores, bins=10, color='blue', alpha=0.3)"
   ]
  },
  {
   "cell_type": "code",
   "execution_count": null,
   "id": "412c2ade",
   "metadata": {},
   "outputs": [],
   "source": []
  },
  {
   "cell_type": "code",
   "execution_count": null,
   "id": "eeb8408d",
   "metadata": {},
   "outputs": [],
   "source": []
  },
  {
   "cell_type": "code",
   "execution_count": null,
   "id": "5b64567c",
   "metadata": {},
   "outputs": [],
   "source": []
  },
  {
   "cell_type": "code",
   "execution_count": null,
   "id": "1f0c7697",
   "metadata": {},
   "outputs": [],
   "source": []
  },
  {
   "cell_type": "code",
   "execution_count": null,
   "id": "61dff8f5",
   "metadata": {},
   "outputs": [],
   "source": []
  }
 ],
 "metadata": {
  "kernelspec": {
   "display_name": "Python 3",
   "language": "python",
   "name": "python3"
  },
  "language_info": {
   "codemirror_mode": {
    "name": "ipython",
    "version": 3
   },
   "file_extension": ".py",
   "mimetype": "text/x-python",
   "name": "python",
   "nbconvert_exporter": "python",
   "pygments_lexer": "ipython3",
   "version": "3.6.13"
  }
 },
 "nbformat": 4,
 "nbformat_minor": 5
}
