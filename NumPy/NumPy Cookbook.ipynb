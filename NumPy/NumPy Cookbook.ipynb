{
 "cells": [
  {
   "cell_type": "markdown",
   "metadata": {},
   "source": [
    "# NumPy Cookbook\n",
    "\n",
    "Working with matrices, arrays and vectors"
   ]
  },
  {
   "cell_type": "code",
   "execution_count": 1,
   "metadata": {},
   "outputs": [],
   "source": [
    "import numpy as np"
   ]
  },
  {
   "cell_type": "markdown",
   "metadata": {},
   "source": [
    "## 1.1 Creating vector\n",
    "\n",
    "Creating as a ROW and as a COLUMN"
   ]
  },
  {
   "cell_type": "code",
   "execution_count": 6,
   "metadata": {},
   "outputs": [],
   "source": [
    "vector_row = np.array([1, 2, 3, 4, 5])\n",
    "\n",
    "vector_col = np.array([ [1],\n",
    "                        [2],\n",
    "                        [3] ])"
   ]
  },
  {
   "cell_type": "markdown",
   "metadata": {},
   "source": [
    "## 1.2 Creating matrix\n",
    "\n",
    "We can create matrix just using array and it's more common and right decision. However, Numpy has its own matrix structure, which shouldn't be used a lot because most of the numpy functions return arrays instead of matrices.\n",
    "\n",
    "The code below will create matrix using different data structures. The matrix will have 3 rows with 2 columns.\n",
    "\n",
    "```\n",
    "[[1, 2],\n",
    " [1, 2],\n",
    " [1, 2]]\n",
    "```\n"
   ]
  },
  {
   "cell_type": "code",
   "execution_count": 7,
   "metadata": {},
   "outputs": [],
   "source": [
    "matrix_arr = np.array([[1, 2],\n",
    "                      [1, 2],\n",
    "                      [1, 2]])\n",
    "\n",
    "matrix_obj = np.mat([[1, 2],\n",
    "                    [1, 2],\n",
    "                    [1, 2]])"
   ]
  },
  {
   "cell_type": "markdown",
   "metadata": {},
   "source": [
    "## 1.3 Sparse Matrices\n",
    "\n",
    "If we have data with with a predominant amount of null(zero) values, it's better to use sparse matrices which give us possibility to store data in more efficient way. To start using sparse matrices we will use library **scipy**.\n",
    "\n",
    "There are seven available sparse matrix types:\n",
    "\n",
    "    csc_matrix: Compressed Sparse Column format\n",
    "    csr_matrix: Compressed Sparse Row format\n",
    "    bsr_matrix: Block Sparse Row format\n",
    "    lil_matrix: List of Lists format\n",
    "    dok_matrix: Dictionary of Keys format\n",
    "    coo_matrix: COOrdinate format (aka IJV, triplet format)\n",
    "    dia_matrix: DIAgonal format"
   ]
  },
  {
   "cell_type": "code",
   "execution_count": 17,
   "metadata": {},
   "outputs": [],
   "source": [
    "from scipy import sparse"
   ]
  },
  {
   "cell_type": "code",
   "execution_count": 81,
   "metadata": {},
   "outputs": [],
   "source": [
    "sparse.csc_matrix?"
   ]
  },
  {
   "cell_type": "code",
   "execution_count": 92,
   "metadata": {},
   "outputs": [],
   "source": [
    "def matrix_info(sparse_matrix, name):\n",
    "    print(name)\n",
    "    print(sparse_matrix)\n",
    "    print('data: ' + str(sparse_matrix.data))\n",
    "    print('ndim:' + str(sparse_matrix.ndim))\n",
    "    try:\n",
    "        print('indices: ' + str(sparse_matrix.indices))\n",
    "    except Exception:\n",
    "        print('indice: none')\n",
    "        \n",
    "    try:\n",
    "        print('indptr: ' + str(sparse_matrix.indptr))\n",
    "    except Exception:\n",
    "        print('indptr: none')\n",
    "\n",
    "    print(20 * '-')"
   ]
  },
  {
   "cell_type": "code",
   "execution_count": 93,
   "metadata": {},
   "outputs": [
    {
     "name": "stdout",
     "output_type": "stream",
     "text": [
      "CSR\n",
      "  (0, 0)\t1\n",
      "  (0, 1)\t2\n",
      "  (1, 2)\t3\n",
      "  (2, 0)\t4\n",
      "  (2, 2)\t5\n",
      "data: [1 2 3 4 5]\n",
      "ndim:2\n",
      "indices: [0 1 2 0 2]\n",
      "indptr: [0 2 3 5]\n",
      "--------------------\n",
      "CSC\n",
      "  (0, 0)\t1\n",
      "  (2, 0)\t4\n",
      "  (0, 1)\t2\n",
      "  (1, 2)\t3\n",
      "  (2, 2)\t5\n",
      "data: [1 4 2 3 5]\n",
      "ndim:2\n",
      "indices: [0 2 0 1 2]\n",
      "indptr: [0 2 3 5]\n",
      "--------------------\n",
      "BSR\n",
      "  (0, 0)\t1\n",
      "  (0, 1)\t2\n",
      "  (1, 2)\t3\n",
      "  (2, 0)\t4\n",
      "  (2, 2)\t5\n",
      "data: [[[1]]\n",
      "\n",
      " [[2]]\n",
      "\n",
      " [[3]]\n",
      "\n",
      " [[4]]\n",
      "\n",
      " [[5]]]\n",
      "ndim:2\n",
      "indices: [0 1 2 0 2]\n",
      "indptr: [0 2 3 5]\n",
      "--------------------\n",
      "LIL\n",
      "  (0, 0)\t1\n",
      "  (0, 1)\t2\n",
      "  (1, 2)\t3\n",
      "  (2, 0)\t4\n",
      "  (2, 2)\t5\n",
      "data: [list([1, 2]) list([3]) list([4, 5])]\n",
      "ndim:2\n",
      "indice: none\n",
      "indptr: none\n",
      "--------------------\n",
      "COO\n",
      "  (0, 0)\t1\n",
      "  (0, 1)\t2\n",
      "  (1, 2)\t3\n",
      "  (2, 0)\t4\n",
      "  (2, 2)\t5\n",
      "data: [1 2 3 4 5]\n",
      "ndim:2\n",
      "indice: none\n",
      "indptr: none\n",
      "--------------------\n",
      "DIA\n",
      "  (2, 0)\t4\n",
      "  (0, 0)\t1\n",
      "  (2, 2)\t5\n",
      "  (0, 1)\t2\n",
      "  (1, 2)\t3\n",
      "data: [[4 0 0]\n",
      " [1 0 5]\n",
      " [0 2 3]]\n",
      "ndim:2\n",
      "indice: none\n",
      "indptr: none\n",
      "--------------------\n"
     ]
    }
   ],
   "source": [
    "matrix = np.array([[1, 2, 0], [0, 0, 3], [4, 0, 5]])\n",
    "\n",
    "matrices = {\n",
    "    'CSR': sparse.csr_matrix(matrix),\n",
    "    'CSC': sparse.csc_matrix(matrix),\n",
    "    'BSR': sparse.bsr_matrix(matrix),\n",
    "    'LIL': sparse.lil_matrix(matrix),\n",
    "    'COO': sparse.coo_matrix(matrix),\n",
    "    'DIA': sparse.dia_matrix(matrix)\n",
    "}\n",
    "\n",
    "for key, value in matrices.items():\n",
    "    matrix_info(value, key)"
   ]
  },
  {
   "cell_type": "markdown",
   "metadata": {},
   "source": [
    "method **todense()** return a dense matrix representation of this matrix."
   ]
  },
  {
   "cell_type": "code",
   "execution_count": 91,
   "metadata": {},
   "outputs": [
    {
     "name": "stdout",
     "output_type": "stream",
     "text": [
      "  (0, 0)\t1\n",
      "  (2, 0)\t4\n",
      "  (0, 1)\t2\n",
      "  (1, 2)\t3\n",
      "  (2, 2)\t5\n",
      "--------------------\n",
      "[[1 2 0]\n",
      " [0 0 3]\n",
      " [4 0 5]]\n"
     ]
    }
   ],
   "source": [
    "print(matrices['CSC'])\n",
    "print(20 * '-')\n",
    "print(matrices['CSC'].todense())"
   ]
  },
  {
   "cell_type": "code",
   "execution_count": null,
   "metadata": {},
   "outputs": [],
   "source": []
  }
 ],
 "metadata": {
  "kernelspec": {
   "display_name": "Python 3",
   "language": "python",
   "name": "python3"
  },
  "language_info": {
   "codemirror_mode": {
    "name": "ipython",
    "version": 3
   },
   "file_extension": ".py",
   "mimetype": "text/x-python",
   "name": "python",
   "nbconvert_exporter": "python",
   "pygments_lexer": "ipython3",
   "version": "3.8.5"
  }
 },
 "nbformat": 4,
 "nbformat_minor": 4
}
