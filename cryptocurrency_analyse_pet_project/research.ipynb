{
 "cells": [
  {
   "cell_type": "code",
   "execution_count": 2,
   "id": "dd323b25",
   "metadata": {},
   "outputs": [],
   "source": [
    "import pandas as pd\n",
    "import numpy as np\n",
    "import matplotlib.pyplot as plt\n",
    "import seaborn as sns"
   ]
  },
  {
   "cell_type": "code",
   "execution_count": 17,
   "id": "700b3b18",
   "metadata": {},
   "outputs": [],
   "source": [
    "columns = ['tweet_id', 'publisher_id', 'tweet_content', 'publisher_name', 'datetime', 'likes', 'retweets', 'hashtags']\n",
    "\n",
    "df = pd.read_csv('cz_binance_data.csv', names=columns)"
   ]
  },
  {
   "cell_type": "code",
   "execution_count": 19,
   "id": "7138bc0d",
   "metadata": {},
   "outputs": [
    {
     "data": {
      "text/html": [
       "<div>\n",
       "<style scoped>\n",
       "    .dataframe tbody tr th:only-of-type {\n",
       "        vertical-align: middle;\n",
       "    }\n",
       "\n",
       "    .dataframe tbody tr th {\n",
       "        vertical-align: top;\n",
       "    }\n",
       "\n",
       "    .dataframe thead th {\n",
       "        text-align: right;\n",
       "    }\n",
       "</style>\n",
       "<table border=\"1\" class=\"dataframe\">\n",
       "  <thead>\n",
       "    <tr style=\"text-align: right;\">\n",
       "      <th></th>\n",
       "      <th>tweet_id</th>\n",
       "      <th>publisher_id</th>\n",
       "      <th>tweet_content</th>\n",
       "      <th>publisher_name</th>\n",
       "      <th>datetime</th>\n",
       "      <th>likes</th>\n",
       "      <th>retweets</th>\n",
       "      <th>hashtags</th>\n",
       "    </tr>\n",
       "  </thead>\n",
       "  <tbody>\n",
       "    <tr>\n",
       "      <th>0</th>\n",
       "      <td>1289803701599625220</td>\n",
       "      <td>902926941413453824</td>\n",
       "      <td>Another day in crypto. We do have price band p...</td>\n",
       "      <td>CZ Binance</td>\n",
       "      <td>2020-08-02 06:02:20</td>\n",
       "      <td>1057</td>\n",
       "      <td>200</td>\n",
       "      <td>[]</td>\n",
       "    </tr>\n",
       "    <tr>\n",
       "      <th>1</th>\n",
       "      <td>1290287228371918850</td>\n",
       "      <td>902926941413453824</td>\n",
       "      <td>#Bitcoin still not dead. #BNB likes DeFi.</td>\n",
       "      <td>CZ Binance</td>\n",
       "      <td>2020-08-03 14:03:42</td>\n",
       "      <td>952</td>\n",
       "      <td>123</td>\n",
       "      <td>['Bitcoin', 'BNB']</td>\n",
       "    </tr>\n",
       "    <tr>\n",
       "      <th>2</th>\n",
       "      <td>1290569810334507009</td>\n",
       "      <td>902926941413453824</td>\n",
       "      <td>and Agoda Partner to Boost Travel with Bitcoin...</td>\n",
       "      <td>CZ Binance</td>\n",
       "      <td>2020-08-04 08:46:35</td>\n",
       "      <td>1249</td>\n",
       "      <td>318</td>\n",
       "      <td>[]</td>\n",
       "    </tr>\n",
       "    <tr>\n",
       "      <th>3</th>\n",
       "      <td>1290677164950470656</td>\n",
       "      <td>902926941413453824</td>\n",
       "      <td>Our hearts go out to the people in #Beirut Hop...</td>\n",
       "      <td>CZ Binance</td>\n",
       "      <td>2020-08-04 15:53:10</td>\n",
       "      <td>1107</td>\n",
       "      <td>114</td>\n",
       "      <td>['Beirut', 'SAFU']</td>\n",
       "    </tr>\n",
       "    <tr>\n",
       "      <th>4</th>\n",
       "      <td>1291033456332247041</td>\n",
       "      <td>902926941413453824</td>\n",
       "      <td>Remember, no one is forcing you (or others) to...</td>\n",
       "      <td>CZ Binance</td>\n",
       "      <td>2020-08-05 15:28:56</td>\n",
       "      <td>1371</td>\n",
       "      <td>153</td>\n",
       "      <td>['crypto', 'btc', 'bnb']</td>\n",
       "    </tr>\n",
       "  </tbody>\n",
       "</table>\n",
       "</div>"
      ],
      "text/plain": [
       "              tweet_id        publisher_id  \\\n",
       "0  1289803701599625220  902926941413453824   \n",
       "1  1290287228371918850  902926941413453824   \n",
       "2  1290569810334507009  902926941413453824   \n",
       "3  1290677164950470656  902926941413453824   \n",
       "4  1291033456332247041  902926941413453824   \n",
       "\n",
       "                                       tweet_content publisher_name  \\\n",
       "0  Another day in crypto. We do have price band p...     CZ Binance   \n",
       "1          #Bitcoin still not dead. #BNB likes DeFi.     CZ Binance   \n",
       "2  and Agoda Partner to Boost Travel with Bitcoin...     CZ Binance   \n",
       "3  Our hearts go out to the people in #Beirut Hop...     CZ Binance   \n",
       "4  Remember, no one is forcing you (or others) to...     CZ Binance   \n",
       "\n",
       "              datetime  likes  retweets                  hashtags  \n",
       "0  2020-08-02 06:02:20   1057       200                        []  \n",
       "1  2020-08-03 14:03:42    952       123        ['Bitcoin', 'BNB']  \n",
       "2  2020-08-04 08:46:35   1249       318                        []  \n",
       "3  2020-08-04 15:53:10   1107       114        ['Beirut', 'SAFU']  \n",
       "4  2020-08-05 15:28:56   1371       153  ['crypto', 'btc', 'bnb']  "
      ]
     },
     "execution_count": 19,
     "metadata": {},
     "output_type": "execute_result"
    }
   ],
   "source": [
    "df.head()"
   ]
  },
  {
   "cell_type": "code",
   "execution_count": null,
   "id": "fba4b42a",
   "metadata": {},
   "outputs": [],
   "source": []
  },
  {
   "cell_type": "code",
   "execution_count": null,
   "id": "235ae810",
   "metadata": {},
   "outputs": [],
   "source": []
  },
  {
   "cell_type": "code",
   "execution_count": null,
   "id": "245f057e",
   "metadata": {},
   "outputs": [],
   "source": []
  },
  {
   "cell_type": "code",
   "execution_count": null,
   "id": "af927580",
   "metadata": {},
   "outputs": [],
   "source": []
  }
 ],
 "metadata": {
  "kernelspec": {
   "display_name": "Python 3",
   "language": "python",
   "name": "python3"
  },
  "language_info": {
   "codemirror_mode": {
    "name": "ipython",
    "version": 3
   },
   "file_extension": ".py",
   "mimetype": "text/x-python",
   "name": "python",
   "nbconvert_exporter": "python",
   "pygments_lexer": "ipython3",
   "version": "3.6.13"
  }
 },
 "nbformat": 4,
 "nbformat_minor": 5
}
