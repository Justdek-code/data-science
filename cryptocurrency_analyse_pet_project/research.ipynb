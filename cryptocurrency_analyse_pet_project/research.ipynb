{
 "cells": [
  {
   "cell_type": "code",
   "execution_count": 88,
   "id": "dd323b25",
   "metadata": {},
   "outputs": [],
   "source": [
    "import pandas as pd\n",
    "import numpy as np\n",
    "import matplotlib.pyplot as plt\n",
    "import seaborn as sns\n",
    "\n",
    "from sklearn.preprocessing import Normalizer\n",
    "from datetime import datetime"
   ]
  },
  {
   "cell_type": "code",
   "execution_count": 18,
   "id": "700b3b18",
   "metadata": {},
   "outputs": [],
   "source": [
    "columns = ['tweet_id', 'publisher_id', 'tweet_content', 'publisher_name', 'datetime', 'likes', 'retweets', 'hashtags']\n",
    "\n",
    "df = pd.read_csv('elonmusk_tweets_extended.csv', names=columns)"
   ]
  },
  {
   "cell_type": "code",
   "execution_count": 19,
   "id": "7138bc0d",
   "metadata": {},
   "outputs": [
    {
     "data": {
      "text/html": [
       "<div>\n",
       "<style scoped>\n",
       "    .dataframe tbody tr th:only-of-type {\n",
       "        vertical-align: middle;\n",
       "    }\n",
       "\n",
       "    .dataframe tbody tr th {\n",
       "        vertical-align: top;\n",
       "    }\n",
       "\n",
       "    .dataframe thead th {\n",
       "        text-align: right;\n",
       "    }\n",
       "</style>\n",
       "<table border=\"1\" class=\"dataframe\">\n",
       "  <thead>\n",
       "    <tr style=\"text-align: right;\">\n",
       "      <th></th>\n",
       "      <th>tweet_id</th>\n",
       "      <th>publisher_id</th>\n",
       "      <th>tweet_content</th>\n",
       "      <th>publisher_name</th>\n",
       "      <th>datetime</th>\n",
       "      <th>likes</th>\n",
       "      <th>retweets</th>\n",
       "      <th>hashtags</th>\n",
       "    </tr>\n",
       "  </thead>\n",
       "  <tbody>\n",
       "    <tr>\n",
       "      <th>0</th>\n",
       "      <td>1344044584712728581</td>\n",
       "      <td>44196397</td>\n",
       "      <td>All Tesla cars delivered in the final three da...</td>\n",
       "      <td>Elon Musk</td>\n",
       "      <td>2020-12-29 22:16:14</td>\n",
       "      <td>73052</td>\n",
       "      <td>3507</td>\n",
       "      <td>[]</td>\n",
       "    </tr>\n",
       "    <tr>\n",
       "      <th>1</th>\n",
       "      <td>1344154578678214657</td>\n",
       "      <td>44196397</td>\n",
       "      <td>Destiny, destinyNo escaping that for me</td>\n",
       "      <td>Elon Musk</td>\n",
       "      <td>2020-12-30 05:33:19</td>\n",
       "      <td>155133</td>\n",
       "      <td>11438</td>\n",
       "      <td>[]</td>\n",
       "    </tr>\n",
       "    <tr>\n",
       "      <th>2</th>\n",
       "      <td>1344190775182016512</td>\n",
       "      <td>44196397</td>\n",
       "      <td>@tobyliiiiiiiiii Are we sure this is real?</td>\n",
       "      <td>Elon Musk</td>\n",
       "      <td>2020-12-30 07:57:09</td>\n",
       "      <td>5680</td>\n",
       "      <td>179</td>\n",
       "      <td>[]</td>\n",
       "    </tr>\n",
       "    <tr>\n",
       "      <th>3</th>\n",
       "      <td>1344210828052946944</td>\n",
       "      <td>44196397</td>\n",
       "      <td>@harsimranbansal Literally</td>\n",
       "      <td>Elon Musk</td>\n",
       "      <td>2020-12-30 09:16:50</td>\n",
       "      <td>3033</td>\n",
       "      <td>56</td>\n",
       "      <td>[]</td>\n",
       "    </tr>\n",
       "    <tr>\n",
       "      <th>4</th>\n",
       "      <td>1344212785228435457</td>\n",
       "      <td>44196397</td>\n",
       "      <td>@Tesmanian_com This is very sensible. Oppositi...</td>\n",
       "      <td>Elon Musk</td>\n",
       "      <td>2020-12-30 09:24:36</td>\n",
       "      <td>4322</td>\n",
       "      <td>165</td>\n",
       "      <td>[]</td>\n",
       "    </tr>\n",
       "  </tbody>\n",
       "</table>\n",
       "</div>"
      ],
      "text/plain": [
       "              tweet_id  publisher_id  \\\n",
       "0  1344044584712728581      44196397   \n",
       "1  1344154578678214657      44196397   \n",
       "2  1344190775182016512      44196397   \n",
       "3  1344210828052946944      44196397   \n",
       "4  1344212785228435457      44196397   \n",
       "\n",
       "                                       tweet_content publisher_name  \\\n",
       "0  All Tesla cars delivered in the final three da...      Elon Musk   \n",
       "1            Destiny, destinyNo escaping that for me      Elon Musk   \n",
       "2         @tobyliiiiiiiiii Are we sure this is real?      Elon Musk   \n",
       "3                         @harsimranbansal Literally      Elon Musk   \n",
       "4  @Tesmanian_com This is very sensible. Oppositi...      Elon Musk   \n",
       "\n",
       "              datetime   likes  retweets hashtags  \n",
       "0  2020-12-29 22:16:14   73052      3507       []  \n",
       "1  2020-12-30 05:33:19  155133     11438       []  \n",
       "2  2020-12-30 07:57:09    5680       179       []  \n",
       "3  2020-12-30 09:16:50    3033        56       []  \n",
       "4  2020-12-30 09:24:36    4322       165       []  "
      ]
     },
     "execution_count": 19,
     "metadata": {},
     "output_type": "execute_result"
    }
   ],
   "source": [
    "df.head()"
   ]
  },
  {
   "cell_type": "code",
   "execution_count": 20,
   "id": "fba4b42a",
   "metadata": {},
   "outputs": [],
   "source": [
    "df = df.drop(['tweet_id', 'publisher_id', 'publisher_name', 'hashtags'], axis=1)"
   ]
  },
  {
   "cell_type": "code",
   "execution_count": 21,
   "id": "235ae810",
   "metadata": {},
   "outputs": [
    {
     "data": {
      "text/html": [
       "<div>\n",
       "<style scoped>\n",
       "    .dataframe tbody tr th:only-of-type {\n",
       "        vertical-align: middle;\n",
       "    }\n",
       "\n",
       "    .dataframe tbody tr th {\n",
       "        vertical-align: top;\n",
       "    }\n",
       "\n",
       "    .dataframe thead th {\n",
       "        text-align: right;\n",
       "    }\n",
       "</style>\n",
       "<table border=\"1\" class=\"dataframe\">\n",
       "  <thead>\n",
       "    <tr style=\"text-align: right;\">\n",
       "      <th></th>\n",
       "      <th>tweet_content</th>\n",
       "      <th>datetime</th>\n",
       "      <th>likes</th>\n",
       "      <th>retweets</th>\n",
       "    </tr>\n",
       "  </thead>\n",
       "  <tbody>\n",
       "    <tr>\n",
       "      <th>0</th>\n",
       "      <td>All Tesla cars delivered in the final three da...</td>\n",
       "      <td>2020-12-29 22:16:14</td>\n",
       "      <td>73052</td>\n",
       "      <td>3507</td>\n",
       "    </tr>\n",
       "    <tr>\n",
       "      <th>1</th>\n",
       "      <td>Destiny, destinyNo escaping that for me</td>\n",
       "      <td>2020-12-30 05:33:19</td>\n",
       "      <td>155133</td>\n",
       "      <td>11438</td>\n",
       "    </tr>\n",
       "    <tr>\n",
       "      <th>2</th>\n",
       "      <td>@tobyliiiiiiiiii Are we sure this is real?</td>\n",
       "      <td>2020-12-30 07:57:09</td>\n",
       "      <td>5680</td>\n",
       "      <td>179</td>\n",
       "    </tr>\n",
       "    <tr>\n",
       "      <th>3</th>\n",
       "      <td>@harsimranbansal Literally</td>\n",
       "      <td>2020-12-30 09:16:50</td>\n",
       "      <td>3033</td>\n",
       "      <td>56</td>\n",
       "    </tr>\n",
       "    <tr>\n",
       "      <th>4</th>\n",
       "      <td>@Tesmanian_com This is very sensible. Oppositi...</td>\n",
       "      <td>2020-12-30 09:24:36</td>\n",
       "      <td>4322</td>\n",
       "      <td>165</td>\n",
       "    </tr>\n",
       "  </tbody>\n",
       "</table>\n",
       "</div>"
      ],
      "text/plain": [
       "                                       tweet_content             datetime  \\\n",
       "0  All Tesla cars delivered in the final three da...  2020-12-29 22:16:14   \n",
       "1            Destiny, destinyNo escaping that for me  2020-12-30 05:33:19   \n",
       "2         @tobyliiiiiiiiii Are we sure this is real?  2020-12-30 07:57:09   \n",
       "3                         @harsimranbansal Literally  2020-12-30 09:16:50   \n",
       "4  @Tesmanian_com This is very sensible. Oppositi...  2020-12-30 09:24:36   \n",
       "\n",
       "    likes  retweets  \n",
       "0   73052      3507  \n",
       "1  155133     11438  \n",
       "2    5680       179  \n",
       "3    3033        56  \n",
       "4    4322       165  "
      ]
     },
     "execution_count": 21,
     "metadata": {},
     "output_type": "execute_result"
    }
   ],
   "source": [
    "df.head()"
   ]
  },
  {
   "cell_type": "code",
   "execution_count": 22,
   "id": "245f057e",
   "metadata": {},
   "outputs": [],
   "source": [
    "dogecoin_data = pd.read_csv('dogecoin.csv')"
   ]
  },
  {
   "cell_type": "code",
   "execution_count": 23,
   "id": "af927580",
   "metadata": {},
   "outputs": [
    {
     "data": {
      "text/plain": [
       "(1827, 7)"
      ]
     },
     "execution_count": 23,
     "metadata": {},
     "output_type": "execute_result"
    }
   ],
   "source": [
    "dogecoin_data.shape"
   ]
  },
  {
   "cell_type": "code",
   "execution_count": 24,
   "id": "542de250",
   "metadata": {},
   "outputs": [
    {
     "data": {
      "text/html": [
       "<div>\n",
       "<style scoped>\n",
       "    .dataframe tbody tr th:only-of-type {\n",
       "        vertical-align: middle;\n",
       "    }\n",
       "\n",
       "    .dataframe tbody tr th {\n",
       "        vertical-align: top;\n",
       "    }\n",
       "\n",
       "    .dataframe thead th {\n",
       "        text-align: right;\n",
       "    }\n",
       "</style>\n",
       "<table border=\"1\" class=\"dataframe\">\n",
       "  <thead>\n",
       "    <tr style=\"text-align: right;\">\n",
       "      <th></th>\n",
       "      <th>Date</th>\n",
       "      <th>Open</th>\n",
       "      <th>High</th>\n",
       "      <th>Low</th>\n",
       "      <th>Close</th>\n",
       "      <th>Adj Close</th>\n",
       "      <th>Volume</th>\n",
       "    </tr>\n",
       "  </thead>\n",
       "  <tbody>\n",
       "    <tr>\n",
       "      <th>1822</th>\n",
       "      <td>2021-05-03</td>\n",
       "      <td>0.373631</td>\n",
       "      <td>0.445567</td>\n",
       "      <td>0.373631</td>\n",
       "      <td>0.441707</td>\n",
       "      <td>0.441707</td>\n",
       "      <td>1.052665e+10</td>\n",
       "    </tr>\n",
       "    <tr>\n",
       "      <th>1823</th>\n",
       "      <td>2021-05-04</td>\n",
       "      <td>0.440274</td>\n",
       "      <td>0.605998</td>\n",
       "      <td>0.400800</td>\n",
       "      <td>0.541334</td>\n",
       "      <td>0.541334</td>\n",
       "      <td>3.823813e+10</td>\n",
       "    </tr>\n",
       "    <tr>\n",
       "      <th>1824</th>\n",
       "      <td>2021-05-05</td>\n",
       "      <td>0.537355</td>\n",
       "      <td>0.695262</td>\n",
       "      <td>0.523822</td>\n",
       "      <td>0.657633</td>\n",
       "      <td>0.657633</td>\n",
       "      <td>4.252510e+10</td>\n",
       "    </tr>\n",
       "    <tr>\n",
       "      <th>1825</th>\n",
       "      <td>2021-05-06</td>\n",
       "      <td>0.652842</td>\n",
       "      <td>0.663616</td>\n",
       "      <td>0.545102</td>\n",
       "      <td>0.580804</td>\n",
       "      <td>0.580804</td>\n",
       "      <td>1.898990e+10</td>\n",
       "    </tr>\n",
       "    <tr>\n",
       "      <th>1826</th>\n",
       "      <td>2021-05-07</td>\n",
       "      <td>0.582930</td>\n",
       "      <td>0.653523</td>\n",
       "      <td>0.520342</td>\n",
       "      <td>0.645051</td>\n",
       "      <td>0.645051</td>\n",
       "      <td>2.076569e+10</td>\n",
       "    </tr>\n",
       "  </tbody>\n",
       "</table>\n",
       "</div>"
      ],
      "text/plain": [
       "            Date      Open      High       Low     Close  Adj Close  \\\n",
       "1822  2021-05-03  0.373631  0.445567  0.373631  0.441707   0.441707   \n",
       "1823  2021-05-04  0.440274  0.605998  0.400800  0.541334   0.541334   \n",
       "1824  2021-05-05  0.537355  0.695262  0.523822  0.657633   0.657633   \n",
       "1825  2021-05-06  0.652842  0.663616  0.545102  0.580804   0.580804   \n",
       "1826  2021-05-07  0.582930  0.653523  0.520342  0.645051   0.645051   \n",
       "\n",
       "            Volume  \n",
       "1822  1.052665e+10  \n",
       "1823  3.823813e+10  \n",
       "1824  4.252510e+10  \n",
       "1825  1.898990e+10  \n",
       "1826  2.076569e+10  "
      ]
     },
     "execution_count": 24,
     "metadata": {},
     "output_type": "execute_result"
    }
   ],
   "source": [
    "dogecoin_data.tail()"
   ]
  },
  {
   "cell_type": "markdown",
   "id": "4e589602",
   "metadata": {},
   "source": [
    "### Convert str date to date"
   ]
  },
  {
   "cell_type": "code",
   "execution_count": 25,
   "id": "df6882eb",
   "metadata": {},
   "outputs": [],
   "source": [
    "df['datetime'] = pd.to_datetime(df.datetime)"
   ]
  },
  {
   "cell_type": "code",
   "execution_count": 26,
   "id": "17cf4aba",
   "metadata": {},
   "outputs": [],
   "source": [
    "dogecoin_data['datetime'] = pd.to_datetime(dogecoin_data.Date)"
   ]
  },
  {
   "cell_type": "code",
   "execution_count": 27,
   "id": "9bb46900",
   "metadata": {},
   "outputs": [
    {
     "data": {
      "text/html": [
       "<div>\n",
       "<style scoped>\n",
       "    .dataframe tbody tr th:only-of-type {\n",
       "        vertical-align: middle;\n",
       "    }\n",
       "\n",
       "    .dataframe tbody tr th {\n",
       "        vertical-align: top;\n",
       "    }\n",
       "\n",
       "    .dataframe thead th {\n",
       "        text-align: right;\n",
       "    }\n",
       "</style>\n",
       "<table border=\"1\" class=\"dataframe\">\n",
       "  <thead>\n",
       "    <tr style=\"text-align: right;\">\n",
       "      <th></th>\n",
       "      <th>tweet_content</th>\n",
       "      <th>datetime</th>\n",
       "      <th>likes</th>\n",
       "      <th>retweets</th>\n",
       "    </tr>\n",
       "  </thead>\n",
       "  <tbody>\n",
       "    <tr>\n",
       "      <th>0</th>\n",
       "      <td>All Tesla cars delivered in the final three da...</td>\n",
       "      <td>2020-12-29 22:16:14</td>\n",
       "      <td>73052</td>\n",
       "      <td>3507</td>\n",
       "    </tr>\n",
       "    <tr>\n",
       "      <th>1</th>\n",
       "      <td>Destiny, destinyNo escaping that for me</td>\n",
       "      <td>2020-12-30 05:33:19</td>\n",
       "      <td>155133</td>\n",
       "      <td>11438</td>\n",
       "    </tr>\n",
       "    <tr>\n",
       "      <th>2</th>\n",
       "      <td>@tobyliiiiiiiiii Are we sure this is real?</td>\n",
       "      <td>2020-12-30 07:57:09</td>\n",
       "      <td>5680</td>\n",
       "      <td>179</td>\n",
       "    </tr>\n",
       "    <tr>\n",
       "      <th>3</th>\n",
       "      <td>@harsimranbansal Literally</td>\n",
       "      <td>2020-12-30 09:16:50</td>\n",
       "      <td>3033</td>\n",
       "      <td>56</td>\n",
       "    </tr>\n",
       "    <tr>\n",
       "      <th>4</th>\n",
       "      <td>@Tesmanian_com This is very sensible. Oppositi...</td>\n",
       "      <td>2020-12-30 09:24:36</td>\n",
       "      <td>4322</td>\n",
       "      <td>165</td>\n",
       "    </tr>\n",
       "  </tbody>\n",
       "</table>\n",
       "</div>"
      ],
      "text/plain": [
       "                                       tweet_content            datetime  \\\n",
       "0  All Tesla cars delivered in the final three da... 2020-12-29 22:16:14   \n",
       "1            Destiny, destinyNo escaping that for me 2020-12-30 05:33:19   \n",
       "2         @tobyliiiiiiiiii Are we sure this is real? 2020-12-30 07:57:09   \n",
       "3                         @harsimranbansal Literally 2020-12-30 09:16:50   \n",
       "4  @Tesmanian_com This is very sensible. Oppositi... 2020-12-30 09:24:36   \n",
       "\n",
       "    likes  retweets  \n",
       "0   73052      3507  \n",
       "1  155133     11438  \n",
       "2    5680       179  \n",
       "3    3033        56  \n",
       "4    4322       165  "
      ]
     },
     "execution_count": 27,
     "metadata": {},
     "output_type": "execute_result"
    }
   ],
   "source": [
    "df.head()"
   ]
  },
  {
   "cell_type": "code",
   "execution_count": 28,
   "id": "aee6b390",
   "metadata": {},
   "outputs": [
    {
     "data": {
      "text/html": [
       "<div>\n",
       "<style scoped>\n",
       "    .dataframe tbody tr th:only-of-type {\n",
       "        vertical-align: middle;\n",
       "    }\n",
       "\n",
       "    .dataframe tbody tr th {\n",
       "        vertical-align: top;\n",
       "    }\n",
       "\n",
       "    .dataframe thead th {\n",
       "        text-align: right;\n",
       "    }\n",
       "</style>\n",
       "<table border=\"1\" class=\"dataframe\">\n",
       "  <thead>\n",
       "    <tr style=\"text-align: right;\">\n",
       "      <th></th>\n",
       "      <th>likes</th>\n",
       "      <th>retweets</th>\n",
       "    </tr>\n",
       "  </thead>\n",
       "  <tbody>\n",
       "    <tr>\n",
       "      <th>count</th>\n",
       "      <td>9.590000e+02</td>\n",
       "      <td>959.000000</td>\n",
       "    </tr>\n",
       "    <tr>\n",
       "      <th>mean</th>\n",
       "      <td>7.553052e+04</td>\n",
       "      <td>6231.608968</td>\n",
       "    </tr>\n",
       "    <tr>\n",
       "      <th>std</th>\n",
       "      <td>1.412828e+05</td>\n",
       "      <td>15516.214275</td>\n",
       "    </tr>\n",
       "    <tr>\n",
       "      <th>min</th>\n",
       "      <td>8.710000e+02</td>\n",
       "      <td>21.000000</td>\n",
       "    </tr>\n",
       "    <tr>\n",
       "      <th>25%</th>\n",
       "      <td>4.983500e+03</td>\n",
       "      <td>230.000000</td>\n",
       "    </tr>\n",
       "    <tr>\n",
       "      <th>50%</th>\n",
       "      <td>1.254200e+04</td>\n",
       "      <td>618.000000</td>\n",
       "    </tr>\n",
       "    <tr>\n",
       "      <th>75%</th>\n",
       "      <td>7.458800e+04</td>\n",
       "      <td>3712.500000</td>\n",
       "    </tr>\n",
       "    <tr>\n",
       "      <th>max</th>\n",
       "      <td>1.001120e+06</td>\n",
       "      <td>149329.000000</td>\n",
       "    </tr>\n",
       "  </tbody>\n",
       "</table>\n",
       "</div>"
      ],
      "text/plain": [
       "              likes       retweets\n",
       "count  9.590000e+02     959.000000\n",
       "mean   7.553052e+04    6231.608968\n",
       "std    1.412828e+05   15516.214275\n",
       "min    8.710000e+02      21.000000\n",
       "25%    4.983500e+03     230.000000\n",
       "50%    1.254200e+04     618.000000\n",
       "75%    7.458800e+04    3712.500000\n",
       "max    1.001120e+06  149329.000000"
      ]
     },
     "execution_count": 28,
     "metadata": {},
     "output_type": "execute_result"
    }
   ],
   "source": [
    "df.describe()"
   ]
  },
  {
   "cell_type": "markdown",
   "id": "a9cc984b",
   "metadata": {},
   "source": [
    "# EDA"
   ]
  },
  {
   "cell_type": "markdown",
   "id": "426affdf",
   "metadata": {},
   "source": [
    "### Transfrom all tweet content into lowercase"
   ]
  },
  {
   "cell_type": "code",
   "execution_count": 29,
   "id": "d4f3924b",
   "metadata": {},
   "outputs": [],
   "source": [
    "df.tweet_content = df.tweet_content.str.lower()"
   ]
  },
  {
   "cell_type": "markdown",
   "id": "aece7b6e",
   "metadata": {},
   "source": [
    "# Search for dogecoin mentions"
   ]
  },
  {
   "cell_type": "code",
   "execution_count": 30,
   "id": "79e75af3",
   "metadata": {},
   "outputs": [],
   "source": [
    "tweets_about_dogecoin_indeces = df.tweet_content.str.find('doge')\n",
    "df['isDogecoin'] = 0\n",
    "df.loc[tweets_about_dogecoin_indeces >= 0, 'isDogecoin'] = 1"
   ]
  },
  {
   "cell_type": "code",
   "execution_count": 31,
   "id": "4ecc4ab1",
   "metadata": {},
   "outputs": [
    {
     "data": {
      "text/html": [
       "<div>\n",
       "<style scoped>\n",
       "    .dataframe tbody tr th:only-of-type {\n",
       "        vertical-align: middle;\n",
       "    }\n",
       "\n",
       "    .dataframe tbody tr th {\n",
       "        vertical-align: top;\n",
       "    }\n",
       "\n",
       "    .dataframe thead th {\n",
       "        text-align: right;\n",
       "    }\n",
       "</style>\n",
       "<table border=\"1\" class=\"dataframe\">\n",
       "  <thead>\n",
       "    <tr style=\"text-align: right;\">\n",
       "      <th></th>\n",
       "      <th>tweet_content</th>\n",
       "      <th>datetime</th>\n",
       "      <th>likes</th>\n",
       "      <th>retweets</th>\n",
       "      <th>isDogecoin</th>\n",
       "    </tr>\n",
       "  </thead>\n",
       "  <tbody>\n",
       "    <tr>\n",
       "      <th>0</th>\n",
       "      <td>all tesla cars delivered in the final three da...</td>\n",
       "      <td>2020-12-29 22:16:14</td>\n",
       "      <td>73052</td>\n",
       "      <td>3507</td>\n",
       "      <td>0</td>\n",
       "    </tr>\n",
       "    <tr>\n",
       "      <th>1</th>\n",
       "      <td>destiny, destinyno escaping that for me</td>\n",
       "      <td>2020-12-30 05:33:19</td>\n",
       "      <td>155133</td>\n",
       "      <td>11438</td>\n",
       "      <td>0</td>\n",
       "    </tr>\n",
       "    <tr>\n",
       "      <th>2</th>\n",
       "      <td>@tobyliiiiiiiiii are we sure this is real?</td>\n",
       "      <td>2020-12-30 07:57:09</td>\n",
       "      <td>5680</td>\n",
       "      <td>179</td>\n",
       "      <td>0</td>\n",
       "    </tr>\n",
       "    <tr>\n",
       "      <th>3</th>\n",
       "      <td>@harsimranbansal literally</td>\n",
       "      <td>2020-12-30 09:16:50</td>\n",
       "      <td>3033</td>\n",
       "      <td>56</td>\n",
       "      <td>0</td>\n",
       "    </tr>\n",
       "    <tr>\n",
       "      <th>4</th>\n",
       "      <td>@tesmanian_com this is very sensible. oppositi...</td>\n",
       "      <td>2020-12-30 09:24:36</td>\n",
       "      <td>4322</td>\n",
       "      <td>165</td>\n",
       "      <td>0</td>\n",
       "    </tr>\n",
       "  </tbody>\n",
       "</table>\n",
       "</div>"
      ],
      "text/plain": [
       "                                       tweet_content            datetime  \\\n",
       "0  all tesla cars delivered in the final three da... 2020-12-29 22:16:14   \n",
       "1            destiny, destinyno escaping that for me 2020-12-30 05:33:19   \n",
       "2         @tobyliiiiiiiiii are we sure this is real? 2020-12-30 07:57:09   \n",
       "3                         @harsimranbansal literally 2020-12-30 09:16:50   \n",
       "4  @tesmanian_com this is very sensible. oppositi... 2020-12-30 09:24:36   \n",
       "\n",
       "    likes  retweets  isDogecoin  \n",
       "0   73052      3507           0  \n",
       "1  155133     11438           0  \n",
       "2    5680       179           0  \n",
       "3    3033        56           0  \n",
       "4    4322       165           0  "
      ]
     },
     "execution_count": 31,
     "metadata": {},
     "output_type": "execute_result"
    }
   ],
   "source": [
    "df.head()"
   ]
  },
  {
   "cell_type": "code",
   "execution_count": 32,
   "id": "6a4fbc96",
   "metadata": {},
   "outputs": [
    {
     "data": {
      "text/plain": [
       "Timestamp('2020-12-29 22:16:14')"
      ]
     },
     "execution_count": 32,
     "metadata": {},
     "output_type": "execute_result"
    }
   ],
   "source": [
    "df.datetime.min()"
   ]
  },
  {
   "cell_type": "code",
   "execution_count": 33,
   "id": "949288ba",
   "metadata": {},
   "outputs": [
    {
     "data": {
      "text/plain": [
       "Timestamp('2021-05-07 04:24:20')"
      ]
     },
     "execution_count": 33,
     "metadata": {},
     "output_type": "execute_result"
    }
   ],
   "source": [
    "df.datetime.max()"
   ]
  },
  {
   "cell_type": "code",
   "execution_count": 34,
   "id": "aff7d1bf",
   "metadata": {},
   "outputs": [
    {
     "data": {
      "image/png": "[encoded data removed]",
      "text/plain": [
       "<Figure size 1080x216 with 1 Axes>"
      ]
     },
     "metadata": {
      "needs_background": "light"
     },
     "output_type": "display_data"
    }
   ],
   "source": [
    "plt.figure(figsize=(15, 3))\n",
    "sns.scatterplot(data=df, x=df.datetime, y=df.isDogecoin[df.isDogecoin == 1], hue=df.likes, \n",
    "                palette=sns.color_palette(\"ch:start=.2,rot=-.3\", as_cmap=True), s=700, alpha=0.9);"
   ]
  },
  {
   "cell_type": "code",
   "execution_count": 35,
   "id": "6832785a",
   "metadata": {},
   "outputs": [
    {
     "data": {
      "image/png": "[encoded data removed]",
      "text/plain": [
       "<Figure size 720x144 with 1 Axes>"
      ]
     },
     "metadata": {
      "needs_background": "light"
     },
     "output_type": "display_data"
    }
   ],
   "source": [
    "plt.figure(figsize=(10, 2))\n",
    "sns.histplot(df.likes, bins=15);"
   ]
  },
  {
   "cell_type": "code",
   "execution_count": 36,
   "id": "0c352798",
   "metadata": {},
   "outputs": [
    {
     "data": {
      "image/png": "[encoded data removed]",
      "text/plain": [
       "<Figure size 720x144 with 1 Axes>"
      ]
     },
     "metadata": {
      "needs_background": "light"
     },
     "output_type": "display_data"
    }
   ],
   "source": [
    "plt.figure(figsize=(10, 2))\n",
    "sns.histplot(df.retweets, bins=25);"
   ]
  },
  {
   "cell_type": "code",
   "execution_count": 37,
   "id": "481c4f08",
   "metadata": {},
   "outputs": [
    {
     "data": {
      "image/png": "[encoded data removed]",
      "text/plain": [
       "<Figure size 432x288 with 1 Axes>"
      ]
     },
     "metadata": {
      "needs_background": "light"
     },
     "output_type": "display_data"
    }
   ],
   "source": [
    "sns.scatterplot(x=df.likes, y=df.retweets);"
   ]
  },
  {
   "cell_type": "markdown",
   "id": "3edb1541",
   "metadata": {},
   "source": [
    "There we can see a linera correlation between tweets and likes"
   ]
  },
  {
   "cell_type": "code",
   "execution_count": 38,
   "id": "304bfb03",
   "metadata": {},
   "outputs": [],
   "source": [
    "mean_likes = df[df.likes != 0].groupby(by=[df.datetime.dt.year, df.datetime.dt.month]).agg({'likes': 'mean'})"
   ]
  },
  {
   "cell_type": "code",
   "execution_count": 39,
   "id": "2828c8c7",
   "metadata": {},
   "outputs": [],
   "source": [
    "mean_likes['date'] = [datetime.date(date[0], date[1], 1) for date in mean_likes.index]"
   ]
  },
  {
   "cell_type": "code",
   "execution_count": 40,
   "id": "e3f93971",
   "metadata": {},
   "outputs": [],
   "source": [
    "mean_likes = mean_likes.set_index(mean_likes['date']).drop('date', axis=1)"
   ]
  },
  {
   "cell_type": "code",
   "execution_count": 41,
   "id": "4173cef4",
   "metadata": {},
   "outputs": [
    {
     "data": {
      "text/plain": [
       "<AxesSubplot:xlabel='date', ylabel='likes'>"
      ]
     },
     "execution_count": 41,
     "metadata": {},
     "output_type": "execute_result"
    },
    {
     "data": {
      "image/png": "[encoded data removed]",
      "text/plain": [
       "<Figure size 1080x144 with 1 Axes>"
      ]
     },
     "metadata": {
      "needs_background": "light"
     },
     "output_type": "display_data"
    }
   ],
   "source": [
    "plt.figure(figsize=(15, 2))\n",
    "\n",
    "sns.lineplot(y=mean_likes.likes, x=mean_likes.index)"
   ]
  },
  {
   "cell_type": "code",
   "execution_count": 46,
   "id": "1d5f3a4e",
   "metadata": {},
   "outputs": [
    {
     "data": {
      "image/png": "[encoded data removed]",
      "text/plain": [
       "<Figure size 432x288 with 1 Axes>"
      ]
     },
     "metadata": {
      "needs_background": "light"
     },
     "output_type": "display_data"
    }
   ],
   "source": [
    "likes_log = np.log(df.likes)\n",
    "\n",
    "likes_mean = likes_log.mean()\n",
    "likes_median = likes_log.median()\n",
    "\n",
    "sns.histplot(likes_log);\n",
    "plt.axvline(likes_mean, color='red', linestyle='--', linewidth=5);\n",
    "plt.axvline(likes_median, color='black', linestyle='-', linewidth=5);"
   ]
  },
  {
   "cell_type": "code",
   "execution_count": 43,
   "id": "33feec3c",
   "metadata": {},
   "outputs": [
    {
     "data": {
      "image/png": "[encoded data removed]",
      "text/plain": [
       "<Figure size 720x144 with 1 Axes>"
      ]
     },
     "metadata": {
      "needs_background": "light"
     },
     "output_type": "display_data"
    }
   ],
   "source": [
    "plt.figure(figsize=(10, 2))\n",
    "sns.boxplot(x=np.log(df.likes));"
   ]
  },
  {
   "cell_type": "markdown",
   "id": "12da9f10",
   "metadata": {},
   "source": [
    "# A/B testing \n",
    "\n",
    "I am going to have two subsets A and B. \n",
    "\n",
    "- **A** subset will include standard deviation of price of dogecoin, when dogecoin was mentioned, with price of one day before and after this event. \n",
    "- **B** subset will contain standard deviation of price of samples that were taken from the remain data.  \n",
    "\n",
    "Considering that price can grow through time, I am going to compare standard deviations of samples."
   ]
  },
  {
   "cell_type": "code",
   "execution_count": 49,
   "id": "0451821f",
   "metadata": {},
   "outputs": [
    {
     "data": {
      "text/plain": [
       "(34, 5)"
      ]
     },
     "execution_count": 49,
     "metadata": {},
     "output_type": "execute_result"
    }
   ],
   "source": [
    "df[df.isDogecoin == 1].shape"
   ]
  },
  {
   "cell_type": "code",
   "execution_count": 50,
   "id": "2de1e79e",
   "metadata": {},
   "outputs": [
    {
     "data": {
      "text/plain": [
       "(959, 5)"
      ]
     },
     "execution_count": 50,
     "metadata": {},
     "output_type": "execute_result"
    }
   ],
   "source": [
    "df.shape"
   ]
  },
  {
   "cell_type": "code",
   "execution_count": 51,
   "id": "2bfe5701",
   "metadata": {},
   "outputs": [
    {
     "data": {
      "text/html": [
       "<div>\n",
       "<style scoped>\n",
       "    .dataframe tbody tr th:only-of-type {\n",
       "        vertical-align: middle;\n",
       "    }\n",
       "\n",
       "    .dataframe tbody tr th {\n",
       "        vertical-align: top;\n",
       "    }\n",
       "\n",
       "    .dataframe thead th {\n",
       "        text-align: right;\n",
       "    }\n",
       "</style>\n",
       "<table border=\"1\" class=\"dataframe\">\n",
       "  <thead>\n",
       "    <tr style=\"text-align: right;\">\n",
       "      <th></th>\n",
       "      <th>tweet_content</th>\n",
       "      <th>datetime</th>\n",
       "      <th>likes</th>\n",
       "      <th>retweets</th>\n",
       "      <th>isDogecoin</th>\n",
       "    </tr>\n",
       "  </thead>\n",
       "  <tbody>\n",
       "    <tr>\n",
       "      <th>0</th>\n",
       "      <td>all tesla cars delivered in the final three da...</td>\n",
       "      <td>2020-12-29 22:16:14</td>\n",
       "      <td>73052</td>\n",
       "      <td>3507</td>\n",
       "      <td>0</td>\n",
       "    </tr>\n",
       "    <tr>\n",
       "      <th>1</th>\n",
       "      <td>destiny, destinyno escaping that for me</td>\n",
       "      <td>2020-12-30 05:33:19</td>\n",
       "      <td>155133</td>\n",
       "      <td>11438</td>\n",
       "      <td>0</td>\n",
       "    </tr>\n",
       "    <tr>\n",
       "      <th>2</th>\n",
       "      <td>@tobyliiiiiiiiii are we sure this is real?</td>\n",
       "      <td>2020-12-30 07:57:09</td>\n",
       "      <td>5680</td>\n",
       "      <td>179</td>\n",
       "      <td>0</td>\n",
       "    </tr>\n",
       "    <tr>\n",
       "      <th>3</th>\n",
       "      <td>@harsimranbansal literally</td>\n",
       "      <td>2020-12-30 09:16:50</td>\n",
       "      <td>3033</td>\n",
       "      <td>56</td>\n",
       "      <td>0</td>\n",
       "    </tr>\n",
       "    <tr>\n",
       "      <th>4</th>\n",
       "      <td>@tesmanian_com this is very sensible. oppositi...</td>\n",
       "      <td>2020-12-30 09:24:36</td>\n",
       "      <td>4322</td>\n",
       "      <td>165</td>\n",
       "      <td>0</td>\n",
       "    </tr>\n",
       "  </tbody>\n",
       "</table>\n",
       "</div>"
      ],
      "text/plain": [
       "                                       tweet_content            datetime  \\\n",
       "0  all tesla cars delivered in the final three da... 2020-12-29 22:16:14   \n",
       "1            destiny, destinyno escaping that for me 2020-12-30 05:33:19   \n",
       "2         @tobyliiiiiiiiii are we sure this is real? 2020-12-30 07:57:09   \n",
       "3                         @harsimranbansal literally 2020-12-30 09:16:50   \n",
       "4  @tesmanian_com this is very sensible. oppositi... 2020-12-30 09:24:36   \n",
       "\n",
       "    likes  retweets  isDogecoin  \n",
       "0   73052      3507           0  \n",
       "1  155133     11438           0  \n",
       "2    5680       179           0  \n",
       "3    3033        56           0  \n",
       "4    4322       165           0  "
      ]
     },
     "execution_count": 51,
     "metadata": {},
     "output_type": "execute_result"
    }
   ],
   "source": [
    "df.head()"
   ]
  },
  {
   "cell_type": "code",
   "execution_count": 63,
   "id": "19ad9f10",
   "metadata": {},
   "outputs": [
    {
     "data": {
      "text/html": [
       "<div>\n",
       "<style scoped>\n",
       "    .dataframe tbody tr th:only-of-type {\n",
       "        vertical-align: middle;\n",
       "    }\n",
       "\n",
       "    .dataframe tbody tr th {\n",
       "        vertical-align: top;\n",
       "    }\n",
       "\n",
       "    .dataframe thead th {\n",
       "        text-align: right;\n",
       "    }\n",
       "</style>\n",
       "<table border=\"1\" class=\"dataframe\">\n",
       "  <thead>\n",
       "    <tr style=\"text-align: right;\">\n",
       "      <th></th>\n",
       "      <th>Date</th>\n",
       "      <th>Open</th>\n",
       "      <th>High</th>\n",
       "      <th>Low</th>\n",
       "      <th>Close</th>\n",
       "      <th>Adj Close</th>\n",
       "      <th>Volume</th>\n",
       "      <th>datetime</th>\n",
       "    </tr>\n",
       "  </thead>\n",
       "  <tbody>\n",
       "    <tr>\n",
       "      <th>0</th>\n",
       "      <td>2016-05-07</td>\n",
       "      <td>0.000224</td>\n",
       "      <td>0.000225</td>\n",
       "      <td>0.000221</td>\n",
       "      <td>0.000223</td>\n",
       "      <td>0.000223</td>\n",
       "      <td>83754.0</td>\n",
       "      <td>2016-05-07</td>\n",
       "    </tr>\n",
       "    <tr>\n",
       "      <th>1</th>\n",
       "      <td>2016-05-08</td>\n",
       "      <td>0.000222</td>\n",
       "      <td>0.000223</td>\n",
       "      <td>0.000220</td>\n",
       "      <td>0.000222</td>\n",
       "      <td>0.000222</td>\n",
       "      <td>46961.0</td>\n",
       "      <td>2016-05-08</td>\n",
       "    </tr>\n",
       "    <tr>\n",
       "      <th>2</th>\n",
       "      <td>2016-05-09</td>\n",
       "      <td>0.000222</td>\n",
       "      <td>0.000225</td>\n",
       "      <td>0.000220</td>\n",
       "      <td>0.000224</td>\n",
       "      <td>0.000224</td>\n",
       "      <td>75340.0</td>\n",
       "      <td>2016-05-09</td>\n",
       "    </tr>\n",
       "    <tr>\n",
       "      <th>3</th>\n",
       "      <td>2016-05-10</td>\n",
       "      <td>0.000222</td>\n",
       "      <td>0.000224</td>\n",
       "      <td>0.000220</td>\n",
       "      <td>0.000220</td>\n",
       "      <td>0.000220</td>\n",
       "      <td>76419.0</td>\n",
       "      <td>2016-05-10</td>\n",
       "    </tr>\n",
       "    <tr>\n",
       "      <th>4</th>\n",
       "      <td>2016-05-11</td>\n",
       "      <td>0.000220</td>\n",
       "      <td>0.000224</td>\n",
       "      <td>0.000220</td>\n",
       "      <td>0.000224</td>\n",
       "      <td>0.000224</td>\n",
       "      <td>71369.0</td>\n",
       "      <td>2016-05-11</td>\n",
       "    </tr>\n",
       "  </tbody>\n",
       "</table>\n",
       "</div>"
      ],
      "text/plain": [
       "         Date      Open      High       Low     Close  Adj Close   Volume  \\\n",
       "0  2016-05-07  0.000224  0.000225  0.000221  0.000223   0.000223  83754.0   \n",
       "1  2016-05-08  0.000222  0.000223  0.000220  0.000222   0.000222  46961.0   \n",
       "2  2016-05-09  0.000222  0.000225  0.000220  0.000224   0.000224  75340.0   \n",
       "3  2016-05-10  0.000222  0.000224  0.000220  0.000220   0.000220  76419.0   \n",
       "4  2016-05-11  0.000220  0.000224  0.000220  0.000224   0.000224  71369.0   \n",
       "\n",
       "    datetime  \n",
       "0 2016-05-07  \n",
       "1 2016-05-08  \n",
       "2 2016-05-09  \n",
       "3 2016-05-10  \n",
       "4 2016-05-11  "
      ]
     },
     "execution_count": 63,
     "metadata": {},
     "output_type": "execute_result"
    }
   ],
   "source": [
    "dogecoin_data.head()"
   ]
  },
  {
   "cell_type": "code",
   "execution_count": 208,
   "id": "ec2b2af1",
   "metadata": {},
   "outputs": [],
   "source": [
    "def get_previous_and_following_day(date):\n",
    "    one_day_timestamp = 86400\n",
    "    \n",
    "    current_date_timestamp = datetime.timestamp(date)\n",
    "    previous_date_timestamp = current_date_timestamp - one_day_timestamp\n",
    "    following_date_timestamp = current_date_timestamp + one_day_timestamp\n",
    "    \n",
    "    previous_date = datetime.fromtimestamp(previous_date_timestamp)\n",
    "    following_date = datetime.fromtimestamp(following_date_timestamp)\n",
    "    \n",
    "    previous_date = datetime(previous_date.year, previous_date.month, previous_date.day)\n",
    "    following_date = datetime(following_date.year, following_date.month, following_date.day)\n",
    "    \n",
    "    return previous_date, following_date"
   ]
  },
  {
   "cell_type": "code",
   "execution_count": 209,
   "id": "6819d602",
   "metadata": {},
   "outputs": [
    {
     "data": {
      "text/plain": [
       "(datetime.datetime(2020, 12, 28, 0, 0), datetime.datetime(2020, 12, 30, 0, 0))"
      ]
     },
     "execution_count": 209,
     "metadata": {},
     "output_type": "execute_result"
    }
   ],
   "source": [
    "get_previous_and_following_day(df.loc[0, ['datetime']].values[0])"
   ]
  },
  {
   "cell_type": "code",
   "execution_count": 210,
   "id": "adb690aa",
   "metadata": {},
   "outputs": [
    {
     "data": {
      "text/html": [
       "<div>\n",
       "<style scoped>\n",
       "    .dataframe tbody tr th:only-of-type {\n",
       "        vertical-align: middle;\n",
       "    }\n",
       "\n",
       "    .dataframe tbody tr th {\n",
       "        vertical-align: top;\n",
       "    }\n",
       "\n",
       "    .dataframe thead th {\n",
       "        text-align: right;\n",
       "    }\n",
       "</style>\n",
       "<table border=\"1\" class=\"dataframe\">\n",
       "  <thead>\n",
       "    <tr style=\"text-align: right;\">\n",
       "      <th></th>\n",
       "      <th>Open</th>\n",
       "      <th>High</th>\n",
       "      <th>Low</th>\n",
       "      <th>Close</th>\n",
       "      <th>Adj Close</th>\n",
       "      <th>Volume</th>\n",
       "    </tr>\n",
       "  </thead>\n",
       "  <tbody>\n",
       "    <tr>\n",
       "      <th>count</th>\n",
       "      <td>1823.000000</td>\n",
       "      <td>1823.000000</td>\n",
       "      <td>1823.000000</td>\n",
       "      <td>1823.000000</td>\n",
       "      <td>1823.000000</td>\n",
       "      <td>1.823000e+03</td>\n",
       "    </tr>\n",
       "    <tr>\n",
       "      <th>mean</th>\n",
       "      <td>0.009050</td>\n",
       "      <td>0.010098</td>\n",
       "      <td>0.008324</td>\n",
       "      <td>0.009395</td>\n",
       "      <td>0.009395</td>\n",
       "      <td>4.438836e+08</td>\n",
       "    </tr>\n",
       "    <tr>\n",
       "      <th>std</th>\n",
       "      <td>0.041315</td>\n",
       "      <td>0.047866</td>\n",
       "      <td>0.036952</td>\n",
       "      <td>0.043992</td>\n",
       "      <td>0.043992</td>\n",
       "      <td>2.952867e+09</td>\n",
       "    </tr>\n",
       "    <tr>\n",
       "      <th>min</th>\n",
       "      <td>0.000197</td>\n",
       "      <td>0.000205</td>\n",
       "      <td>0.000195</td>\n",
       "      <td>0.000197</td>\n",
       "      <td>0.000197</td>\n",
       "      <td>4.679900e+04</td>\n",
       "    </tr>\n",
       "    <tr>\n",
       "      <th>25%</th>\n",
       "      <td>0.001553</td>\n",
       "      <td>0.001676</td>\n",
       "      <td>0.001460</td>\n",
       "      <td>0.001567</td>\n",
       "      <td>0.001567</td>\n",
       "      <td>4.301310e+06</td>\n",
       "    </tr>\n",
       "    <tr>\n",
       "      <th>50%</th>\n",
       "      <td>0.002514</td>\n",
       "      <td>0.002577</td>\n",
       "      <td>0.002447</td>\n",
       "      <td>0.002516</td>\n",
       "      <td>0.002516</td>\n",
       "      <td>1.996860e+07</td>\n",
       "    </tr>\n",
       "    <tr>\n",
       "      <th>75%</th>\n",
       "      <td>0.003331</td>\n",
       "      <td>0.003467</td>\n",
       "      <td>0.003197</td>\n",
       "      <td>0.003325</td>\n",
       "      <td>0.003325</td>\n",
       "      <td>7.360159e+07</td>\n",
       "    </tr>\n",
       "    <tr>\n",
       "      <th>max</th>\n",
       "      <td>0.652842</td>\n",
       "      <td>0.695262</td>\n",
       "      <td>0.545102</td>\n",
       "      <td>0.657633</td>\n",
       "      <td>0.657633</td>\n",
       "      <td>6.941068e+10</td>\n",
       "    </tr>\n",
       "  </tbody>\n",
       "</table>\n",
       "</div>"
      ],
      "text/plain": [
       "              Open         High          Low        Close    Adj Close  \\\n",
       "count  1823.000000  1823.000000  1823.000000  1823.000000  1823.000000   \n",
       "mean      0.009050     0.010098     0.008324     0.009395     0.009395   \n",
       "std       0.041315     0.047866     0.036952     0.043992     0.043992   \n",
       "min       0.000197     0.000205     0.000195     0.000197     0.000197   \n",
       "25%       0.001553     0.001676     0.001460     0.001567     0.001567   \n",
       "50%       0.002514     0.002577     0.002447     0.002516     0.002516   \n",
       "75%       0.003331     0.003467     0.003197     0.003325     0.003325   \n",
       "max       0.652842     0.695262     0.545102     0.657633     0.657633   \n",
       "\n",
       "             Volume  \n",
       "count  1.823000e+03  \n",
       "mean   4.438836e+08  \n",
       "std    2.952867e+09  \n",
       "min    4.679900e+04  \n",
       "25%    4.301310e+06  \n",
       "50%    1.996860e+07  \n",
       "75%    7.360159e+07  \n",
       "max    6.941068e+10  "
      ]
     },
     "execution_count": 210,
     "metadata": {},
     "output_type": "execute_result"
    }
   ],
   "source": [
    "dogecoin_data.describe()"
   ]
  },
  {
   "cell_type": "code",
   "execution_count": 211,
   "id": "2d0efcf4",
   "metadata": {},
   "outputs": [
    {
     "data": {
      "text/plain": [
       "Timestamp('2021-05-07 00:00:00')"
      ]
     },
     "execution_count": 211,
     "metadata": {},
     "output_type": "execute_result"
    }
   ],
   "source": [
    "dogecoin_data.datetime.max()"
   ]
  },
  {
   "cell_type": "code",
   "execution_count": 212,
   "id": "e52c68f0",
   "metadata": {},
   "outputs": [
    {
     "data": {
      "text/plain": [
       "Timestamp('2016-05-07 00:00:00')"
      ]
     },
     "execution_count": 212,
     "metadata": {},
     "output_type": "execute_result"
    }
   ],
   "source": [
    "dogecoin_data.datetime.min()"
   ]
  },
  {
   "cell_type": "code",
   "execution_count": 213,
   "id": "902320da",
   "metadata": {},
   "outputs": [
    {
     "name": "stdout",
     "output_type": "stream",
     "text": [
      "<class 'pandas.core.frame.DataFrame'>\n",
      "RangeIndex: 1827 entries, 0 to 1826\n",
      "Data columns (total 8 columns):\n",
      " #   Column     Non-Null Count  Dtype         \n",
      "---  ------     --------------  -----         \n",
      " 0   Date       1827 non-null   object        \n",
      " 1   Open       1823 non-null   float64       \n",
      " 2   High       1823 non-null   float64       \n",
      " 3   Low        1823 non-null   float64       \n",
      " 4   Close      1823 non-null   float64       \n",
      " 5   Adj Close  1823 non-null   float64       \n",
      " 6   Volume     1823 non-null   float64       \n",
      " 7   datetime   1827 non-null   datetime64[ns]\n",
      "dtypes: datetime64[ns](1), float64(6), object(1)\n",
      "memory usage: 114.3+ KB\n"
     ]
    }
   ],
   "source": [
    "dogecoin_data.info()"
   ]
  },
  {
   "cell_type": "code",
   "execution_count": 227,
   "id": "ada5ac2a",
   "metadata": {},
   "outputs": [],
   "source": [
    "def get_A_subset(tweets_data, price_data):\n",
    "    \n",
    "    dates_dogecoins_mentioned = tweets_data.loc[tweets_data.isDogecoin == 1, ['datetime']] \n",
    "    \n",
    "    for date in dates_dogecoins_mentioned.datetime:\n",
    "        current_date = datetime(date.year, date.month, date.day)\n",
    "        \n",
    "        previous_day, following_day = get_previous_and_following_day(date) \n",
    "        print(previous_day, date, following_day)\n",
    "                \n",
    "        previous_day_price = price_data.loc[price_data.datetime == previous_day, 'High'].values\n",
    "        following_day_price = price_data.loc[price_data.datetime == following_day, 'High'].values\n",
    "        \n",
    "        current_date_price = price_data.loc[price_data.datetime == current_date, 'High'].values\n",
    "        \n",
    "        print(previous_day_price, current_date_price, following_day_price)\n",
    "        print(20*'--', ;)"
   ]
  },
  {
   "cell_type": "code",
   "execution_count": 228,
   "id": "624dc69b",
   "metadata": {},
   "outputs": [
    {
     "name": "stdout",
     "output_type": "stream",
     "text": [
      "2021-02-03 00:00:00 2021-02-04 07:35:35 2021-02-05 00:00:00\n",
      "[0.039105] [0.057869] [0.05374]\n",
      "----------------------------------------\n",
      "2021-02-03 00:00:00 2021-02-04 08:15:26 2021-02-05 00:00:00\n",
      "[0.039105] [0.057869] [0.05374]\n",
      "----------------------------------------\n",
      "2021-02-03 00:00:00 2021-02-04 08:27:10 2021-02-05 00:00:00\n",
      "[0.039105] [0.057869] [0.05374]\n",
      "----------------------------------------\n",
      "2021-02-05 00:00:00 2021-02-06 08:42:25 2021-02-07 00:00:00\n",
      "[0.05374] [0.058308] [0.084357]\n",
      "----------------------------------------\n",
      "2021-02-06 00:00:00 2021-02-07 02:24:19 2021-02-08 00:00:00\n",
      "[0.058308] [0.084357] [0.084945]\n",
      "----------------------------------------\n",
      "2021-02-06 00:00:00 2021-02-07 02:36:32 2021-02-08 00:00:00\n",
      "[0.058308] [0.084357] [0.084945]\n",
      "----------------------------------------\n",
      "2021-02-06 00:00:00 2021-02-07 22:25:14 2021-02-08 00:00:00\n",
      "[0.058308] [0.084357] [0.084945]\n",
      "----------------------------------------\n",
      "2021-02-07 00:00:00 2021-02-08 05:27:36 2021-02-09 00:00:00\n",
      "[0.084357] [0.084945] [0.083128]\n",
      "----------------------------------------\n",
      "2021-02-09 00:00:00 2021-02-10 15:08:11 2021-02-11 00:00:00\n",
      "[0.083128] [0.081091] [0.074301]\n",
      "----------------------------------------\n",
      "2021-02-10 00:00:00 2021-02-11 09:08:33 2021-02-12 00:00:00\n",
      "[0.081091] [0.074301] [0.07261]\n",
      "----------------------------------------\n",
      "2021-02-10 00:00:00 2021-02-11 23:27:37 2021-02-12 00:00:00\n",
      "[0.081091] [0.074301] [0.07261]\n",
      "----------------------------------------\n",
      "2021-02-13 00:00:00 2021-02-14 23:25:16 2021-02-15 00:00:00\n",
      "[0.071646] [0.066448] [0.063924]\n",
      "----------------------------------------\n",
      "2021-02-13 00:00:00 2021-02-14 23:33:22 2021-02-15 00:00:00\n",
      "[0.071646] [0.066448] [0.063924]\n",
      "----------------------------------------\n",
      "2021-02-19 00:00:00 2021-02-20 08:42:28 2021-02-21 00:00:00\n",
      "[0.059497] [0.060286] [0.058428]\n",
      "----------------------------------------\n",
      "2021-02-19 00:00:00 2021-02-20 10:06:29 2021-02-21 00:00:00\n",
      "[0.059497] [0.060286] [0.058428]\n",
      "----------------------------------------\n",
      "2021-02-20 00:00:00 2021-02-21 21:27:06 2021-02-22 00:00:00\n",
      "[0.060286] [0.058428] [0.060466]\n",
      "----------------------------------------\n",
      "2021-02-28 00:00:00 2021-03-01 19:57:08 2021-03-02 00:00:00\n",
      "[0.050134] [0.051479] [0.052382]\n",
      "----------------------------------------\n",
      "2021-03-01 00:00:00 2021-03-02 08:36:34 2021-03-03 00:00:00\n",
      "[0.051479] [0.052382] [0.052126]\n",
      "----------------------------------------\n",
      "2021-03-01 00:00:00 2021-03-02 21:07:09 2021-03-03 00:00:00\n",
      "[0.051479] [0.052382] [0.052126]\n",
      "----------------------------------------\n",
      "2021-03-05 00:00:00 2021-03-06 04:40:30 2021-03-07 00:00:00\n",
      "[0.050854] [0.052397] [0.052141]\n",
      "----------------------------------------\n",
      "2021-03-12 00:00:00 2021-03-13 23:40:41 2021-03-14 00:00:00\n",
      "[0.05698] [0.062432] [0.063052]\n",
      "----------------------------------------\n",
      "2021-03-12 00:00:00 2021-03-13 23:46:16 2021-03-14 00:00:00\n",
      "[0.05698] [0.062432] [0.063052]\n",
      "----------------------------------------\n",
      "2021-03-12 00:00:00 2021-03-13 23:51:05 2021-03-14 00:00:00\n",
      "[0.05698] [0.062432] [0.063052]\n",
      "----------------------------------------\n",
      "2021-03-14 00:00:00 2021-03-15 23:11:50 2021-03-16 00:00:00\n",
      "[0.063052] [0.059689] [0.058921]\n",
      "----------------------------------------\n",
      "2021-03-17 00:00:00 2021-03-18 21:17:16 2021-03-19 00:00:00\n",
      "[0.058866] [0.058828] [0.059721]\n",
      "----------------------------------------\n",
      "2021-03-24 00:00:00 2021-03-25 07:33:56 2021-03-26 00:00:00\n",
      "[0.056494] [0.052407] [0.054028]\n",
      "----------------------------------------\n",
      "2021-03-31 00:00:00 2021-04-01 10:25:23 2021-04-02 00:00:00\n",
      "[0.054468] [0.070111] [0.062249]\n",
      "----------------------------------------\n",
      "2021-04-07 00:00:00 2021-04-08 20:45:19 2021-04-09 00:00:00\n",
      "[0.067299] [0.061745] [0.06391]\n",
      "----------------------------------------\n",
      "2021-04-13 00:00:00 2021-04-14 22:19:48 2021-04-15 00:00:00\n",
      "[0.095181] [0.14251] [0.187326]\n",
      "----------------------------------------\n",
      "2021-04-13 00:00:00 2021-04-14 22:32:57 2021-04-15 00:00:00\n",
      "[0.095181] [0.14251] [0.187326]\n",
      "----------------------------------------\n",
      "2021-04-14 00:00:00 2021-04-15 04:28:47 2021-04-16 00:00:00\n",
      "[0.14251] [0.187326] [0.4377]\n",
      "----------------------------------------\n",
      "2021-04-14 00:00:00 2021-04-15 04:33:18 2021-04-16 00:00:00\n",
      "[0.14251] [0.187326] [0.4377]\n",
      "----------------------------------------\n",
      "2021-04-14 00:00:00 2021-04-15 21:10:47 2021-04-16 00:00:00\n",
      "[0.14251] [0.187326] [0.4377]\n",
      "----------------------------------------\n",
      "2021-04-27 00:00:00 2021-04-28 06:20:47 2021-04-29 00:00:00\n",
      "[0.279629] [0.344662] [0.323881]\n",
      "----------------------------------------\n"
     ]
    }
   ],
   "source": [
    "get_A_subset(df, dogecoin_data)"
   ]
  },
  {
   "cell_type": "code",
   "execution_count": 196,
   "id": "769c0d0e",
   "metadata": {},
   "outputs": [
    {
     "data": {
      "text/plain": [
       "1464    0.002613\n",
       "Name: High, dtype: float64"
      ]
     },
     "execution_count": 196,
     "metadata": {},
     "output_type": "execute_result"
    }
   ],
   "source": [
    "dogecoin_data.loc[dogecoin_data.datetime == datetime(2020, 5, 10), 'High']"
   ]
  },
  {
   "cell_type": "code",
   "execution_count": 199,
   "id": "9d1c712d",
   "metadata": {},
   "outputs": [
    {
     "data": {
      "text/plain": [
       "datetime.datetime"
      ]
     },
     "execution_count": 199,
     "metadata": {},
     "output_type": "execute_result"
    }
   ],
   "source": [
    "type(datetime(2020, 4, 10))"
   ]
  },
  {
   "cell_type": "code",
   "execution_count": null,
   "id": "5c96a186",
   "metadata": {},
   "outputs": [],
   "source": []
  }
 ],
 "metadata": {
  "kernelspec": {
   "display_name": "Python 3",
   "language": "python",
   "name": "python3"
  },
  "language_info": {
   "codemirror_mode": {
    "name": "ipython",
    "version": 3
   },
   "file_extension": ".py",
   "mimetype": "text/x-python",
   "name": "python",
   "nbconvert_exporter": "python",
   "pygments_lexer": "ipython3",
   "version": "3.6.13"
  }
 },
 "nbformat": 4,
 "nbformat_minor": 5
}
