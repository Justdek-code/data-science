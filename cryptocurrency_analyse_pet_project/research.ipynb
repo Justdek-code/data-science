{
 "cells": [
  {
   "cell_type": "code",
   "execution_count": 1,
   "id": "dd323b25",
   "metadata": {},
   "outputs": [],
   "source": [
    "import pandas as pd\n",
    "import numpy as np\n",
    "import matplotlib.pyplot as plt\n",
    "import seaborn as sns\n",
    "\n",
    "from sklearn.preprocessing import Normalizer\n",
    "from sklearn.preprocessing import StandardScaler\n",
    "from datetime import datetime\n",
    "from scipy import stats\n",
    "import random"
   ]
  },
  {
   "cell_type": "code",
   "execution_count": 2,
   "id": "700b3b18",
   "metadata": {},
   "outputs": [],
   "source": [
    "columns = ['tweet_id', 'publisher_id', 'tweet_content', 'publisher_name', 'datetime', 'likes', 'retweets', 'hashtags']\n",
    "\n",
    "df = pd.read_csv('elonmusk_tweets_extended.csv', names=columns)"
   ]
  },
  {
   "cell_type": "code",
   "execution_count": 3,
   "id": "7138bc0d",
   "metadata": {},
   "outputs": [
    {
     "data": {
      "text/html": [
       "<div>\n",
       "<style scoped>\n",
       "    .dataframe tbody tr th:only-of-type {\n",
       "        vertical-align: middle;\n",
       "    }\n",
       "\n",
       "    .dataframe tbody tr th {\n",
       "        vertical-align: top;\n",
       "    }\n",
       "\n",
       "    .dataframe thead th {\n",
       "        text-align: right;\n",
       "    }\n",
       "</style>\n",
       "<table border=\"1\" class=\"dataframe\">\n",
       "  <thead>\n",
       "    <tr style=\"text-align: right;\">\n",
       "      <th></th>\n",
       "      <th>tweet_id</th>\n",
       "      <th>publisher_id</th>\n",
       "      <th>tweet_content</th>\n",
       "      <th>publisher_name</th>\n",
       "      <th>datetime</th>\n",
       "      <th>likes</th>\n",
       "      <th>retweets</th>\n",
       "      <th>hashtags</th>\n",
       "    </tr>\n",
       "  </thead>\n",
       "  <tbody>\n",
       "    <tr>\n",
       "      <th>0</th>\n",
       "      <td>1344044584712728581</td>\n",
       "      <td>44196397</td>\n",
       "      <td>All Tesla cars delivered in the final three da...</td>\n",
       "      <td>Elon Musk</td>\n",
       "      <td>2020-12-29 22:16:14</td>\n",
       "      <td>73052</td>\n",
       "      <td>3507</td>\n",
       "      <td>[]</td>\n",
       "    </tr>\n",
       "    <tr>\n",
       "      <th>1</th>\n",
       "      <td>1344154578678214657</td>\n",
       "      <td>44196397</td>\n",
       "      <td>Destiny, destinyNo escaping that for me</td>\n",
       "      <td>Elon Musk</td>\n",
       "      <td>2020-12-30 05:33:19</td>\n",
       "      <td>155133</td>\n",
       "      <td>11438</td>\n",
       "      <td>[]</td>\n",
       "    </tr>\n",
       "    <tr>\n",
       "      <th>2</th>\n",
       "      <td>1344190775182016512</td>\n",
       "      <td>44196397</td>\n",
       "      <td>@tobyliiiiiiiiii Are we sure this is real?</td>\n",
       "      <td>Elon Musk</td>\n",
       "      <td>2020-12-30 07:57:09</td>\n",
       "      <td>5680</td>\n",
       "      <td>179</td>\n",
       "      <td>[]</td>\n",
       "    </tr>\n",
       "    <tr>\n",
       "      <th>3</th>\n",
       "      <td>1344210828052946944</td>\n",
       "      <td>44196397</td>\n",
       "      <td>@harsimranbansal Literally</td>\n",
       "      <td>Elon Musk</td>\n",
       "      <td>2020-12-30 09:16:50</td>\n",
       "      <td>3033</td>\n",
       "      <td>56</td>\n",
       "      <td>[]</td>\n",
       "    </tr>\n",
       "    <tr>\n",
       "      <th>4</th>\n",
       "      <td>1344212785228435457</td>\n",
       "      <td>44196397</td>\n",
       "      <td>@Tesmanian_com This is very sensible. Oppositi...</td>\n",
       "      <td>Elon Musk</td>\n",
       "      <td>2020-12-30 09:24:36</td>\n",
       "      <td>4322</td>\n",
       "      <td>165</td>\n",
       "      <td>[]</td>\n",
       "    </tr>\n",
       "  </tbody>\n",
       "</table>\n",
       "</div>"
      ],
      "text/plain": [
       "              tweet_id  publisher_id  \\\n",
       "0  1344044584712728581      44196397   \n",
       "1  1344154578678214657      44196397   \n",
       "2  1344190775182016512      44196397   \n",
       "3  1344210828052946944      44196397   \n",
       "4  1344212785228435457      44196397   \n",
       "\n",
       "                                       tweet_content publisher_name  \\\n",
       "0  All Tesla cars delivered in the final three da...      Elon Musk   \n",
       "1            Destiny, destinyNo escaping that for me      Elon Musk   \n",
       "2         @tobyliiiiiiiiii Are we sure this is real?      Elon Musk   \n",
       "3                         @harsimranbansal Literally      Elon Musk   \n",
       "4  @Tesmanian_com This is very sensible. Oppositi...      Elon Musk   \n",
       "\n",
       "              datetime   likes  retweets hashtags  \n",
       "0  2020-12-29 22:16:14   73052      3507       []  \n",
       "1  2020-12-30 05:33:19  155133     11438       []  \n",
       "2  2020-12-30 07:57:09    5680       179       []  \n",
       "3  2020-12-30 09:16:50    3033        56       []  \n",
       "4  2020-12-30 09:24:36    4322       165       []  "
      ]
     },
     "execution_count": 3,
     "metadata": {},
     "output_type": "execute_result"
    }
   ],
   "source": [
    "df.head()"
   ]
  },
  {
   "cell_type": "code",
   "execution_count": 4,
   "id": "fba4b42a",
   "metadata": {},
   "outputs": [],
   "source": [
    "df = df.drop(['tweet_id', 'publisher_id', 'publisher_name', 'hashtags'], axis=1)"
   ]
  },
  {
   "cell_type": "code",
   "execution_count": 5,
   "id": "235ae810",
   "metadata": {},
   "outputs": [
    {
     "data": {
      "text/html": [
       "<div>\n",
       "<style scoped>\n",
       "    .dataframe tbody tr th:only-of-type {\n",
       "        vertical-align: middle;\n",
       "    }\n",
       "\n",
       "    .dataframe tbody tr th {\n",
       "        vertical-align: top;\n",
       "    }\n",
       "\n",
       "    .dataframe thead th {\n",
       "        text-align: right;\n",
       "    }\n",
       "</style>\n",
       "<table border=\"1\" class=\"dataframe\">\n",
       "  <thead>\n",
       "    <tr style=\"text-align: right;\">\n",
       "      <th></th>\n",
       "      <th>tweet_content</th>\n",
       "      <th>datetime</th>\n",
       "      <th>likes</th>\n",
       "      <th>retweets</th>\n",
       "    </tr>\n",
       "  </thead>\n",
       "  <tbody>\n",
       "    <tr>\n",
       "      <th>0</th>\n",
       "      <td>All Tesla cars delivered in the final three da...</td>\n",
       "      <td>2020-12-29 22:16:14</td>\n",
       "      <td>73052</td>\n",
       "      <td>3507</td>\n",
       "    </tr>\n",
       "    <tr>\n",
       "      <th>1</th>\n",
       "      <td>Destiny, destinyNo escaping that for me</td>\n",
       "      <td>2020-12-30 05:33:19</td>\n",
       "      <td>155133</td>\n",
       "      <td>11438</td>\n",
       "    </tr>\n",
       "    <tr>\n",
       "      <th>2</th>\n",
       "      <td>@tobyliiiiiiiiii Are we sure this is real?</td>\n",
       "      <td>2020-12-30 07:57:09</td>\n",
       "      <td>5680</td>\n",
       "      <td>179</td>\n",
       "    </tr>\n",
       "    <tr>\n",
       "      <th>3</th>\n",
       "      <td>@harsimranbansal Literally</td>\n",
       "      <td>2020-12-30 09:16:50</td>\n",
       "      <td>3033</td>\n",
       "      <td>56</td>\n",
       "    </tr>\n",
       "    <tr>\n",
       "      <th>4</th>\n",
       "      <td>@Tesmanian_com This is very sensible. Oppositi...</td>\n",
       "      <td>2020-12-30 09:24:36</td>\n",
       "      <td>4322</td>\n",
       "      <td>165</td>\n",
       "    </tr>\n",
       "  </tbody>\n",
       "</table>\n",
       "</div>"
      ],
      "text/plain": [
       "                                       tweet_content             datetime  \\\n",
       "0  All Tesla cars delivered in the final three da...  2020-12-29 22:16:14   \n",
       "1            Destiny, destinyNo escaping that for me  2020-12-30 05:33:19   \n",
       "2         @tobyliiiiiiiiii Are we sure this is real?  2020-12-30 07:57:09   \n",
       "3                         @harsimranbansal Literally  2020-12-30 09:16:50   \n",
       "4  @Tesmanian_com This is very sensible. Oppositi...  2020-12-30 09:24:36   \n",
       "\n",
       "    likes  retweets  \n",
       "0   73052      3507  \n",
       "1  155133     11438  \n",
       "2    5680       179  \n",
       "3    3033        56  \n",
       "4    4322       165  "
      ]
     },
     "execution_count": 5,
     "metadata": {},
     "output_type": "execute_result"
    }
   ],
   "source": [
    "df.head()"
   ]
  },
  {
   "cell_type": "code",
   "execution_count": 6,
   "id": "849f95aa",
   "metadata": {},
   "outputs": [],
   "source": [
    "df.datetime = pd.to_datetime(pd.to_datetime(df.datetime).dt.date)"
   ]
  },
  {
   "cell_type": "code",
   "execution_count": 7,
   "id": "389ef9d8",
   "metadata": {},
   "outputs": [
    {
     "data": {
      "text/html": [
       "<div>\n",
       "<style scoped>\n",
       "    .dataframe tbody tr th:only-of-type {\n",
       "        vertical-align: middle;\n",
       "    }\n",
       "\n",
       "    .dataframe tbody tr th {\n",
       "        vertical-align: top;\n",
       "    }\n",
       "\n",
       "    .dataframe thead th {\n",
       "        text-align: right;\n",
       "    }\n",
       "</style>\n",
       "<table border=\"1\" class=\"dataframe\">\n",
       "  <thead>\n",
       "    <tr style=\"text-align: right;\">\n",
       "      <th></th>\n",
       "      <th>tweet_content</th>\n",
       "      <th>datetime</th>\n",
       "      <th>likes</th>\n",
       "      <th>retweets</th>\n",
       "    </tr>\n",
       "  </thead>\n",
       "  <tbody>\n",
       "    <tr>\n",
       "      <th>0</th>\n",
       "      <td>All Tesla cars delivered in the final three da...</td>\n",
       "      <td>2020-12-29</td>\n",
       "      <td>73052</td>\n",
       "      <td>3507</td>\n",
       "    </tr>\n",
       "    <tr>\n",
       "      <th>1</th>\n",
       "      <td>Destiny, destinyNo escaping that for me</td>\n",
       "      <td>2020-12-30</td>\n",
       "      <td>155133</td>\n",
       "      <td>11438</td>\n",
       "    </tr>\n",
       "    <tr>\n",
       "      <th>2</th>\n",
       "      <td>@tobyliiiiiiiiii Are we sure this is real?</td>\n",
       "      <td>2020-12-30</td>\n",
       "      <td>5680</td>\n",
       "      <td>179</td>\n",
       "    </tr>\n",
       "    <tr>\n",
       "      <th>3</th>\n",
       "      <td>@harsimranbansal Literally</td>\n",
       "      <td>2020-12-30</td>\n",
       "      <td>3033</td>\n",
       "      <td>56</td>\n",
       "    </tr>\n",
       "    <tr>\n",
       "      <th>4</th>\n",
       "      <td>@Tesmanian_com This is very sensible. Oppositi...</td>\n",
       "      <td>2020-12-30</td>\n",
       "      <td>4322</td>\n",
       "      <td>165</td>\n",
       "    </tr>\n",
       "  </tbody>\n",
       "</table>\n",
       "</div>"
      ],
      "text/plain": [
       "                                       tweet_content   datetime   likes  \\\n",
       "0  All Tesla cars delivered in the final three da... 2020-12-29   73052   \n",
       "1            Destiny, destinyNo escaping that for me 2020-12-30  155133   \n",
       "2         @tobyliiiiiiiiii Are we sure this is real? 2020-12-30    5680   \n",
       "3                         @harsimranbansal Literally 2020-12-30    3033   \n",
       "4  @Tesmanian_com This is very sensible. Oppositi... 2020-12-30    4322   \n",
       "\n",
       "   retweets  \n",
       "0      3507  \n",
       "1     11438  \n",
       "2       179  \n",
       "3        56  \n",
       "4       165  "
      ]
     },
     "execution_count": 7,
     "metadata": {},
     "output_type": "execute_result"
    }
   ],
   "source": [
    "df.head()"
   ]
  },
  {
   "cell_type": "code",
   "execution_count": 8,
   "id": "245f057e",
   "metadata": {},
   "outputs": [],
   "source": [
    "dogecoin_data = pd.read_csv('dogecoin.csv')"
   ]
  },
  {
   "cell_type": "code",
   "execution_count": 9,
   "id": "af927580",
   "metadata": {},
   "outputs": [
    {
     "data": {
      "text/plain": [
       "(1827, 7)"
      ]
     },
     "execution_count": 9,
     "metadata": {},
     "output_type": "execute_result"
    }
   ],
   "source": [
    "dogecoin_data.shape"
   ]
  },
  {
   "cell_type": "code",
   "execution_count": 10,
   "id": "542de250",
   "metadata": {},
   "outputs": [
    {
     "data": {
      "text/html": [
       "<div>\n",
       "<style scoped>\n",
       "    .dataframe tbody tr th:only-of-type {\n",
       "        vertical-align: middle;\n",
       "    }\n",
       "\n",
       "    .dataframe tbody tr th {\n",
       "        vertical-align: top;\n",
       "    }\n",
       "\n",
       "    .dataframe thead th {\n",
       "        text-align: right;\n",
       "    }\n",
       "</style>\n",
       "<table border=\"1\" class=\"dataframe\">\n",
       "  <thead>\n",
       "    <tr style=\"text-align: right;\">\n",
       "      <th></th>\n",
       "      <th>Date</th>\n",
       "      <th>Open</th>\n",
       "      <th>High</th>\n",
       "      <th>Low</th>\n",
       "      <th>Close</th>\n",
       "      <th>Adj Close</th>\n",
       "      <th>Volume</th>\n",
       "    </tr>\n",
       "  </thead>\n",
       "  <tbody>\n",
       "    <tr>\n",
       "      <th>1822</th>\n",
       "      <td>2021-05-03</td>\n",
       "      <td>0.373631</td>\n",
       "      <td>0.445567</td>\n",
       "      <td>0.373631</td>\n",
       "      <td>0.441707</td>\n",
       "      <td>0.441707</td>\n",
       "      <td>1.052665e+10</td>\n",
       "    </tr>\n",
       "    <tr>\n",
       "      <th>1823</th>\n",
       "      <td>2021-05-04</td>\n",
       "      <td>0.440274</td>\n",
       "      <td>0.605998</td>\n",
       "      <td>0.400800</td>\n",
       "      <td>0.541334</td>\n",
       "      <td>0.541334</td>\n",
       "      <td>3.823813e+10</td>\n",
       "    </tr>\n",
       "    <tr>\n",
       "      <th>1824</th>\n",
       "      <td>2021-05-05</td>\n",
       "      <td>0.537355</td>\n",
       "      <td>0.695262</td>\n",
       "      <td>0.523822</td>\n",
       "      <td>0.657633</td>\n",
       "      <td>0.657633</td>\n",
       "      <td>4.252510e+10</td>\n",
       "    </tr>\n",
       "    <tr>\n",
       "      <th>1825</th>\n",
       "      <td>2021-05-06</td>\n",
       "      <td>0.652842</td>\n",
       "      <td>0.663616</td>\n",
       "      <td>0.545102</td>\n",
       "      <td>0.580804</td>\n",
       "      <td>0.580804</td>\n",
       "      <td>1.898990e+10</td>\n",
       "    </tr>\n",
       "    <tr>\n",
       "      <th>1826</th>\n",
       "      <td>2021-05-07</td>\n",
       "      <td>0.582930</td>\n",
       "      <td>0.653523</td>\n",
       "      <td>0.520342</td>\n",
       "      <td>0.645051</td>\n",
       "      <td>0.645051</td>\n",
       "      <td>2.076569e+10</td>\n",
       "    </tr>\n",
       "  </tbody>\n",
       "</table>\n",
       "</div>"
      ],
      "text/plain": [
       "            Date      Open      High       Low     Close  Adj Close  \\\n",
       "1822  2021-05-03  0.373631  0.445567  0.373631  0.441707   0.441707   \n",
       "1823  2021-05-04  0.440274  0.605998  0.400800  0.541334   0.541334   \n",
       "1824  2021-05-05  0.537355  0.695262  0.523822  0.657633   0.657633   \n",
       "1825  2021-05-06  0.652842  0.663616  0.545102  0.580804   0.580804   \n",
       "1826  2021-05-07  0.582930  0.653523  0.520342  0.645051   0.645051   \n",
       "\n",
       "            Volume  \n",
       "1822  1.052665e+10  \n",
       "1823  3.823813e+10  \n",
       "1824  4.252510e+10  \n",
       "1825  1.898990e+10  \n",
       "1826  2.076569e+10  "
      ]
     },
     "execution_count": 10,
     "metadata": {},
     "output_type": "execute_result"
    }
   ],
   "source": [
    "dogecoin_data.tail()"
   ]
  },
  {
   "cell_type": "markdown",
   "id": "4e589602",
   "metadata": {},
   "source": [
    "### Convert str date to date"
   ]
  },
  {
   "cell_type": "code",
   "execution_count": 11,
   "id": "df6882eb",
   "metadata": {},
   "outputs": [],
   "source": [
    "df['datetime'] = pd.to_datetime(df.datetime)"
   ]
  },
  {
   "cell_type": "code",
   "execution_count": 12,
   "id": "17cf4aba",
   "metadata": {},
   "outputs": [],
   "source": [
    "dogecoin_data['datetime'] = pd.to_datetime(dogecoin_data.Date)"
   ]
  },
  {
   "cell_type": "code",
   "execution_count": 13,
   "id": "9bb46900",
   "metadata": {},
   "outputs": [
    {
     "data": {
      "text/html": [
       "<div>\n",
       "<style scoped>\n",
       "    .dataframe tbody tr th:only-of-type {\n",
       "        vertical-align: middle;\n",
       "    }\n",
       "\n",
       "    .dataframe tbody tr th {\n",
       "        vertical-align: top;\n",
       "    }\n",
       "\n",
       "    .dataframe thead th {\n",
       "        text-align: right;\n",
       "    }\n",
       "</style>\n",
       "<table border=\"1\" class=\"dataframe\">\n",
       "  <thead>\n",
       "    <tr style=\"text-align: right;\">\n",
       "      <th></th>\n",
       "      <th>tweet_content</th>\n",
       "      <th>datetime</th>\n",
       "      <th>likes</th>\n",
       "      <th>retweets</th>\n",
       "    </tr>\n",
       "  </thead>\n",
       "  <tbody>\n",
       "    <tr>\n",
       "      <th>0</th>\n",
       "      <td>All Tesla cars delivered in the final three da...</td>\n",
       "      <td>2020-12-29</td>\n",
       "      <td>73052</td>\n",
       "      <td>3507</td>\n",
       "    </tr>\n",
       "    <tr>\n",
       "      <th>1</th>\n",
       "      <td>Destiny, destinyNo escaping that for me</td>\n",
       "      <td>2020-12-30</td>\n",
       "      <td>155133</td>\n",
       "      <td>11438</td>\n",
       "    </tr>\n",
       "    <tr>\n",
       "      <th>2</th>\n",
       "      <td>@tobyliiiiiiiiii Are we sure this is real?</td>\n",
       "      <td>2020-12-30</td>\n",
       "      <td>5680</td>\n",
       "      <td>179</td>\n",
       "    </tr>\n",
       "    <tr>\n",
       "      <th>3</th>\n",
       "      <td>@harsimranbansal Literally</td>\n",
       "      <td>2020-12-30</td>\n",
       "      <td>3033</td>\n",
       "      <td>56</td>\n",
       "    </tr>\n",
       "    <tr>\n",
       "      <th>4</th>\n",
       "      <td>@Tesmanian_com This is very sensible. Oppositi...</td>\n",
       "      <td>2020-12-30</td>\n",
       "      <td>4322</td>\n",
       "      <td>165</td>\n",
       "    </tr>\n",
       "  </tbody>\n",
       "</table>\n",
       "</div>"
      ],
      "text/plain": [
       "                                       tweet_content   datetime   likes  \\\n",
       "0  All Tesla cars delivered in the final three da... 2020-12-29   73052   \n",
       "1            Destiny, destinyNo escaping that for me 2020-12-30  155133   \n",
       "2         @tobyliiiiiiiiii Are we sure this is real? 2020-12-30    5680   \n",
       "3                         @harsimranbansal Literally 2020-12-30    3033   \n",
       "4  @Tesmanian_com This is very sensible. Oppositi... 2020-12-30    4322   \n",
       "\n",
       "   retweets  \n",
       "0      3507  \n",
       "1     11438  \n",
       "2       179  \n",
       "3        56  \n",
       "4       165  "
      ]
     },
     "execution_count": 13,
     "metadata": {},
     "output_type": "execute_result"
    }
   ],
   "source": [
    "df.head()"
   ]
  },
  {
   "cell_type": "code",
   "execution_count": 14,
   "id": "aee6b390",
   "metadata": {},
   "outputs": [
    {
     "data": {
      "text/html": [
       "<div>\n",
       "<style scoped>\n",
       "    .dataframe tbody tr th:only-of-type {\n",
       "        vertical-align: middle;\n",
       "    }\n",
       "\n",
       "    .dataframe tbody tr th {\n",
       "        vertical-align: top;\n",
       "    }\n",
       "\n",
       "    .dataframe thead th {\n",
       "        text-align: right;\n",
       "    }\n",
       "</style>\n",
       "<table border=\"1\" class=\"dataframe\">\n",
       "  <thead>\n",
       "    <tr style=\"text-align: right;\">\n",
       "      <th></th>\n",
       "      <th>likes</th>\n",
       "      <th>retweets</th>\n",
       "    </tr>\n",
       "  </thead>\n",
       "  <tbody>\n",
       "    <tr>\n",
       "      <th>count</th>\n",
       "      <td>9.590000e+02</td>\n",
       "      <td>959.000000</td>\n",
       "    </tr>\n",
       "    <tr>\n",
       "      <th>mean</th>\n",
       "      <td>7.553052e+04</td>\n",
       "      <td>6231.608968</td>\n",
       "    </tr>\n",
       "    <tr>\n",
       "      <th>std</th>\n",
       "      <td>1.412828e+05</td>\n",
       "      <td>15516.214275</td>\n",
       "    </tr>\n",
       "    <tr>\n",
       "      <th>min</th>\n",
       "      <td>8.710000e+02</td>\n",
       "      <td>21.000000</td>\n",
       "    </tr>\n",
       "    <tr>\n",
       "      <th>25%</th>\n",
       "      <td>4.983500e+03</td>\n",
       "      <td>230.000000</td>\n",
       "    </tr>\n",
       "    <tr>\n",
       "      <th>50%</th>\n",
       "      <td>1.254200e+04</td>\n",
       "      <td>618.000000</td>\n",
       "    </tr>\n",
       "    <tr>\n",
       "      <th>75%</th>\n",
       "      <td>7.458800e+04</td>\n",
       "      <td>3712.500000</td>\n",
       "    </tr>\n",
       "    <tr>\n",
       "      <th>max</th>\n",
       "      <td>1.001120e+06</td>\n",
       "      <td>149329.000000</td>\n",
       "    </tr>\n",
       "  </tbody>\n",
       "</table>\n",
       "</div>"
      ],
      "text/plain": [
       "              likes       retweets\n",
       "count  9.590000e+02     959.000000\n",
       "mean   7.553052e+04    6231.608968\n",
       "std    1.412828e+05   15516.214275\n",
       "min    8.710000e+02      21.000000\n",
       "25%    4.983500e+03     230.000000\n",
       "50%    1.254200e+04     618.000000\n",
       "75%    7.458800e+04    3712.500000\n",
       "max    1.001120e+06  149329.000000"
      ]
     },
     "execution_count": 14,
     "metadata": {},
     "output_type": "execute_result"
    }
   ],
   "source": [
    "df.describe()"
   ]
  },
  {
   "cell_type": "markdown",
   "id": "a9cc984b",
   "metadata": {},
   "source": [
    "# EDA"
   ]
  },
  {
   "cell_type": "markdown",
   "id": "cbcc87b1",
   "metadata": {},
   "source": [
    "### Transfrom all tweet content into lowercase"
   ]
  },
  {
   "cell_type": "code",
   "execution_count": 15,
   "id": "818bfc77",
   "metadata": {},
   "outputs": [],
   "source": [
    "df.tweet_content = df.tweet_content.str.lower()"
   ]
  },
  {
   "cell_type": "markdown",
   "id": "135c4ab3",
   "metadata": {},
   "source": [
    "# Search for dogecoin mentions"
   ]
  },
  {
   "cell_type": "code",
   "execution_count": 16,
   "id": "c70eab9a",
   "metadata": {},
   "outputs": [],
   "source": [
    "tweets_about_dogecoin_indeces = df.tweet_content.str.find('doge')\n",
    "df['isDogecoin'] = 0\n",
    "df.loc[tweets_about_dogecoin_indeces >= 0, 'isDogecoin'] = 1"
   ]
  },
  {
   "cell_type": "code",
   "execution_count": 17,
   "id": "8b639eb4",
   "metadata": {},
   "outputs": [
    {
     "data": {
      "text/html": [
       "<div>\n",
       "<style scoped>\n",
       "    .dataframe tbody tr th:only-of-type {\n",
       "        vertical-align: middle;\n",
       "    }\n",
       "\n",
       "    .dataframe tbody tr th {\n",
       "        vertical-align: top;\n",
       "    }\n",
       "\n",
       "    .dataframe thead th {\n",
       "        text-align: right;\n",
       "    }\n",
       "</style>\n",
       "<table border=\"1\" class=\"dataframe\">\n",
       "  <thead>\n",
       "    <tr style=\"text-align: right;\">\n",
       "      <th></th>\n",
       "      <th>tweet_content</th>\n",
       "      <th>datetime</th>\n",
       "      <th>likes</th>\n",
       "      <th>retweets</th>\n",
       "      <th>isDogecoin</th>\n",
       "    </tr>\n",
       "  </thead>\n",
       "  <tbody>\n",
       "    <tr>\n",
       "      <th>0</th>\n",
       "      <td>all tesla cars delivered in the final three da...</td>\n",
       "      <td>2020-12-29</td>\n",
       "      <td>73052</td>\n",
       "      <td>3507</td>\n",
       "      <td>0</td>\n",
       "    </tr>\n",
       "    <tr>\n",
       "      <th>1</th>\n",
       "      <td>destiny, destinyno escaping that for me</td>\n",
       "      <td>2020-12-30</td>\n",
       "      <td>155133</td>\n",
       "      <td>11438</td>\n",
       "      <td>0</td>\n",
       "    </tr>\n",
       "    <tr>\n",
       "      <th>2</th>\n",
       "      <td>@tobyliiiiiiiiii are we sure this is real?</td>\n",
       "      <td>2020-12-30</td>\n",
       "      <td>5680</td>\n",
       "      <td>179</td>\n",
       "      <td>0</td>\n",
       "    </tr>\n",
       "    <tr>\n",
       "      <th>3</th>\n",
       "      <td>@harsimranbansal literally</td>\n",
       "      <td>2020-12-30</td>\n",
       "      <td>3033</td>\n",
       "      <td>56</td>\n",
       "      <td>0</td>\n",
       "    </tr>\n",
       "    <tr>\n",
       "      <th>4</th>\n",
       "      <td>@tesmanian_com this is very sensible. oppositi...</td>\n",
       "      <td>2020-12-30</td>\n",
       "      <td>4322</td>\n",
       "      <td>165</td>\n",
       "      <td>0</td>\n",
       "    </tr>\n",
       "  </tbody>\n",
       "</table>\n",
       "</div>"
      ],
      "text/plain": [
       "                                       tweet_content   datetime   likes  \\\n",
       "0  all tesla cars delivered in the final three da... 2020-12-29   73052   \n",
       "1            destiny, destinyno escaping that for me 2020-12-30  155133   \n",
       "2         @tobyliiiiiiiiii are we sure this is real? 2020-12-30    5680   \n",
       "3                         @harsimranbansal literally 2020-12-30    3033   \n",
       "4  @tesmanian_com this is very sensible. oppositi... 2020-12-30    4322   \n",
       "\n",
       "   retweets  isDogecoin  \n",
       "0      3507           0  \n",
       "1     11438           0  \n",
       "2       179           0  \n",
       "3        56           0  \n",
       "4       165           0  "
      ]
     },
     "execution_count": 17,
     "metadata": {},
     "output_type": "execute_result"
    }
   ],
   "source": [
    "df.head()"
   ]
  },
  {
   "cell_type": "code",
   "execution_count": 18,
   "id": "540c9811",
   "metadata": {},
   "outputs": [
    {
     "data": {
      "text/plain": [
       "Timestamp('2020-12-29 00:00:00')"
      ]
     },
     "execution_count": 18,
     "metadata": {},
     "output_type": "execute_result"
    }
   ],
   "source": [
    "df.datetime.min()"
   ]
  },
  {
   "cell_type": "code",
   "execution_count": 19,
   "id": "f6106878",
   "metadata": {},
   "outputs": [
    {
     "data": {
      "text/plain": [
       "Timestamp('2021-05-07 00:00:00')"
      ]
     },
     "execution_count": 19,
     "metadata": {},
     "output_type": "execute_result"
    }
   ],
   "source": [
    "df.datetime.max()"
   ]
  },
  {
   "cell_type": "code",
   "execution_count": 20,
   "id": "a3a9e200",
   "metadata": {},
   "outputs": [
    {
     "data": {
      "image/png": "[encoded data removed]",
      "text/plain": [
       "<Figure size 1080x216 with 1 Axes>"
      ]
     },
     "metadata": {
      "needs_background": "light"
     },
     "output_type": "display_data"
    }
   ],
   "source": [
    "plt.figure(figsize=(15, 3))\n",
    "sns.scatterplot(data=df, x=df.datetime, y=df.isDogecoin[df.isDogecoin == 1], hue=df.likes, \n",
    "                palette=sns.color_palette(\"ch:start=.2,rot=-.3\", as_cmap=True), s=700, alpha=0.9);"
   ]
  },
  {
   "cell_type": "code",
   "execution_count": 21,
   "id": "6832785a",
   "metadata": {},
   "outputs": [
    {
     "data": {
      "image/png": "[encoded data removed]",
      "text/plain": [
       "<Figure size 720x144 with 1 Axes>"
      ]
     },
     "metadata": {
      "needs_background": "light"
     },
     "output_type": "display_data"
    }
   ],
   "source": [
    "plt.figure(figsize=(10, 2))\n",
    "sns.histplot(df.likes, bins=15);"
   ]
  },
  {
   "cell_type": "code",
   "execution_count": 22,
   "id": "0c352798",
   "metadata": {},
   "outputs": [
    {
     "data": {
      "image/png": "[encoded data removed]",
      "text/plain": [
       "<Figure size 720x144 with 1 Axes>"
      ]
     },
     "metadata": {
      "needs_background": "light"
     },
     "output_type": "display_data"
    }
   ],
   "source": [
    "plt.figure(figsize=(10, 2))\n",
    "sns.histplot(df.retweets, bins=25);"
   ]
  },
  {
   "cell_type": "code",
   "execution_count": 23,
   "id": "481c4f08",
   "metadata": {},
   "outputs": [
    {
     "data": {
      "image/png": "[encoded data removed]",
      "text/plain": [
       "<Figure size 432x288 with 1 Axes>"
      ]
     },
     "metadata": {
      "needs_background": "light"
     },
     "output_type": "display_data"
    }
   ],
   "source": [
    "sns.scatterplot(x=df.likes, y=df.retweets);"
   ]
  },
  {
   "cell_type": "markdown",
   "id": "3edb1541",
   "metadata": {},
   "source": [
    "There we can see a linera correlation between tweets and likes"
   ]
  },
  {
   "cell_type": "code",
   "execution_count": 24,
   "id": "1d5f3a4e",
   "metadata": {},
   "outputs": [
    {
     "data": {
      "image/png": "[encoded data removed]",
      "text/plain": [
       "<Figure size 432x288 with 1 Axes>"
      ]
     },
     "metadata": {
      "needs_background": "light"
     },
     "output_type": "display_data"
    }
   ],
   "source": [
    "likes_log = np.log(df.likes)\n",
    "\n",
    "likes_mean = likes_log.mean()\n",
    "likes_median = likes_log.median()\n",
    "\n",
    "sns.histplot(likes_log);\n",
    "plt.axvline(likes_mean, color='red', linestyle='--', linewidth=5);\n",
    "plt.axvline(likes_median, color='black', linestyle='-', linewidth=5);"
   ]
  },
  {
   "cell_type": "code",
   "execution_count": 25,
   "id": "33feec3c",
   "metadata": {},
   "outputs": [
    {
     "data": {
      "image/png": "[encoded data removed]",
      "text/plain": [
       "<Figure size 1080x144 with 1 Axes>"
      ]
     },
     "metadata": {
      "needs_background": "light"
     },
     "output_type": "display_data"
    }
   ],
   "source": [
    "plt.figure(figsize=(15, 2))\n",
    "sns.boxplot(x=np.log(df.likes));"
   ]
  },
  {
   "cell_type": "code",
   "execution_count": 26,
   "id": "17b3b8b3",
   "metadata": {},
   "outputs": [
    {
     "data": {
      "image/png": "[encoded data removed]",
      "text/plain": [
       "<Figure size 1152x144 with 1 Axes>"
      ]
     },
     "metadata": {
      "needs_background": "light"
     },
     "output_type": "display_data"
    }
   ],
   "source": [
    "plt.figure(figsize=(16, 2))\n",
    "sns.lineplot(y=np.log(dogecoin_data.High), x=dogecoin_data.datetime);"
   ]
  },
  {
   "cell_type": "markdown",
   "id": "3213abb1",
   "metadata": {},
   "source": [
    "# A/B testing \n",
    "\n",
    "I am going to have two subsets A and B. \n",
    "\n",
    "- **A** subset will include standard deviation of price of dogecoin, when dogecoin was mentioned, with price of one day before and after this event. \n",
    "- **B** subset will contain standard deviation of price of samples that were taken from the remain data.  \n",
    "\n",
    "Considering that price can grow through time, I am going to compare standard deviations of samples."
   ]
  },
  {
   "cell_type": "code",
   "execution_count": 27,
   "id": "b3604e35",
   "metadata": {},
   "outputs": [
    {
     "data": {
      "text/plain": [
       "(34, 5)"
      ]
     },
     "execution_count": 27,
     "metadata": {},
     "output_type": "execute_result"
    }
   ],
   "source": [
    "df[df.isDogecoin == 1].shape"
   ]
  },
  {
   "cell_type": "code",
   "execution_count": 28,
   "id": "11ec83fd",
   "metadata": {},
   "outputs": [
    {
     "data": {
      "text/plain": [
       "(959, 5)"
      ]
     },
     "execution_count": 28,
     "metadata": {},
     "output_type": "execute_result"
    }
   ],
   "source": [
    "df.shape"
   ]
  },
  {
   "cell_type": "code",
   "execution_count": 29,
   "id": "bddded41",
   "metadata": {},
   "outputs": [
    {
     "data": {
      "text/html": [
       "<div>\n",
       "<style scoped>\n",
       "    .dataframe tbody tr th:only-of-type {\n",
       "        vertical-align: middle;\n",
       "    }\n",
       "\n",
       "    .dataframe tbody tr th {\n",
       "        vertical-align: top;\n",
       "    }\n",
       "\n",
       "    .dataframe thead th {\n",
       "        text-align: right;\n",
       "    }\n",
       "</style>\n",
       "<table border=\"1\" class=\"dataframe\">\n",
       "  <thead>\n",
       "    <tr style=\"text-align: right;\">\n",
       "      <th></th>\n",
       "      <th>tweet_content</th>\n",
       "      <th>datetime</th>\n",
       "      <th>likes</th>\n",
       "      <th>retweets</th>\n",
       "      <th>isDogecoin</th>\n",
       "    </tr>\n",
       "  </thead>\n",
       "  <tbody>\n",
       "    <tr>\n",
       "      <th>0</th>\n",
       "      <td>all tesla cars delivered in the final three da...</td>\n",
       "      <td>2020-12-29</td>\n",
       "      <td>73052</td>\n",
       "      <td>3507</td>\n",
       "      <td>0</td>\n",
       "    </tr>\n",
       "    <tr>\n",
       "      <th>1</th>\n",
       "      <td>destiny, destinyno escaping that for me</td>\n",
       "      <td>2020-12-30</td>\n",
       "      <td>155133</td>\n",
       "      <td>11438</td>\n",
       "      <td>0</td>\n",
       "    </tr>\n",
       "    <tr>\n",
       "      <th>2</th>\n",
       "      <td>@tobyliiiiiiiiii are we sure this is real?</td>\n",
       "      <td>2020-12-30</td>\n",
       "      <td>5680</td>\n",
       "      <td>179</td>\n",
       "      <td>0</td>\n",
       "    </tr>\n",
       "    <tr>\n",
       "      <th>3</th>\n",
       "      <td>@harsimranbansal literally</td>\n",
       "      <td>2020-12-30</td>\n",
       "      <td>3033</td>\n",
       "      <td>56</td>\n",
       "      <td>0</td>\n",
       "    </tr>\n",
       "    <tr>\n",
       "      <th>4</th>\n",
       "      <td>@tesmanian_com this is very sensible. oppositi...</td>\n",
       "      <td>2020-12-30</td>\n",
       "      <td>4322</td>\n",
       "      <td>165</td>\n",
       "      <td>0</td>\n",
       "    </tr>\n",
       "  </tbody>\n",
       "</table>\n",
       "</div>"
      ],
      "text/plain": [
       "                                       tweet_content   datetime   likes  \\\n",
       "0  all tesla cars delivered in the final three da... 2020-12-29   73052   \n",
       "1            destiny, destinyno escaping that for me 2020-12-30  155133   \n",
       "2         @tobyliiiiiiiiii are we sure this is real? 2020-12-30    5680   \n",
       "3                         @harsimranbansal literally 2020-12-30    3033   \n",
       "4  @tesmanian_com this is very sensible. oppositi... 2020-12-30    4322   \n",
       "\n",
       "   retweets  isDogecoin  \n",
       "0      3507           0  \n",
       "1     11438           0  \n",
       "2       179           0  \n",
       "3        56           0  \n",
       "4       165           0  "
      ]
     },
     "execution_count": 29,
     "metadata": {},
     "output_type": "execute_result"
    }
   ],
   "source": [
    "df.head()"
   ]
  },
  {
   "cell_type": "code",
   "execution_count": 30,
   "id": "c004a2ca",
   "metadata": {},
   "outputs": [
    {
     "data": {
      "text/html": [
       "<div>\n",
       "<style scoped>\n",
       "    .dataframe tbody tr th:only-of-type {\n",
       "        vertical-align: middle;\n",
       "    }\n",
       "\n",
       "    .dataframe tbody tr th {\n",
       "        vertical-align: top;\n",
       "    }\n",
       "\n",
       "    .dataframe thead th {\n",
       "        text-align: right;\n",
       "    }\n",
       "</style>\n",
       "<table border=\"1\" class=\"dataframe\">\n",
       "  <thead>\n",
       "    <tr style=\"text-align: right;\">\n",
       "      <th></th>\n",
       "      <th>Date</th>\n",
       "      <th>Open</th>\n",
       "      <th>High</th>\n",
       "      <th>Low</th>\n",
       "      <th>Close</th>\n",
       "      <th>Adj Close</th>\n",
       "      <th>Volume</th>\n",
       "      <th>datetime</th>\n",
       "    </tr>\n",
       "  </thead>\n",
       "  <tbody>\n",
       "    <tr>\n",
       "      <th>0</th>\n",
       "      <td>2016-05-07</td>\n",
       "      <td>0.000224</td>\n",
       "      <td>0.000225</td>\n",
       "      <td>0.000221</td>\n",
       "      <td>0.000223</td>\n",
       "      <td>0.000223</td>\n",
       "      <td>83754.0</td>\n",
       "      <td>2016-05-07</td>\n",
       "    </tr>\n",
       "    <tr>\n",
       "      <th>1</th>\n",
       "      <td>2016-05-08</td>\n",
       "      <td>0.000222</td>\n",
       "      <td>0.000223</td>\n",
       "      <td>0.000220</td>\n",
       "      <td>0.000222</td>\n",
       "      <td>0.000222</td>\n",
       "      <td>46961.0</td>\n",
       "      <td>2016-05-08</td>\n",
       "    </tr>\n",
       "    <tr>\n",
       "      <th>2</th>\n",
       "      <td>2016-05-09</td>\n",
       "      <td>0.000222</td>\n",
       "      <td>0.000225</td>\n",
       "      <td>0.000220</td>\n",
       "      <td>0.000224</td>\n",
       "      <td>0.000224</td>\n",
       "      <td>75340.0</td>\n",
       "      <td>2016-05-09</td>\n",
       "    </tr>\n",
       "    <tr>\n",
       "      <th>3</th>\n",
       "      <td>2016-05-10</td>\n",
       "      <td>0.000222</td>\n",
       "      <td>0.000224</td>\n",
       "      <td>0.000220</td>\n",
       "      <td>0.000220</td>\n",
       "      <td>0.000220</td>\n",
       "      <td>76419.0</td>\n",
       "      <td>2016-05-10</td>\n",
       "    </tr>\n",
       "    <tr>\n",
       "      <th>4</th>\n",
       "      <td>2016-05-11</td>\n",
       "      <td>0.000220</td>\n",
       "      <td>0.000224</td>\n",
       "      <td>0.000220</td>\n",
       "      <td>0.000224</td>\n",
       "      <td>0.000224</td>\n",
       "      <td>71369.0</td>\n",
       "      <td>2016-05-11</td>\n",
       "    </tr>\n",
       "  </tbody>\n",
       "</table>\n",
       "</div>"
      ],
      "text/plain": [
       "         Date      Open      High       Low     Close  Adj Close   Volume  \\\n",
       "0  2016-05-07  0.000224  0.000225  0.000221  0.000223   0.000223  83754.0   \n",
       "1  2016-05-08  0.000222  0.000223  0.000220  0.000222   0.000222  46961.0   \n",
       "2  2016-05-09  0.000222  0.000225  0.000220  0.000224   0.000224  75340.0   \n",
       "3  2016-05-10  0.000222  0.000224  0.000220  0.000220   0.000220  76419.0   \n",
       "4  2016-05-11  0.000220  0.000224  0.000220  0.000224   0.000224  71369.0   \n",
       "\n",
       "    datetime  \n",
       "0 2016-05-07  \n",
       "1 2016-05-08  \n",
       "2 2016-05-09  \n",
       "3 2016-05-10  \n",
       "4 2016-05-11  "
      ]
     },
     "execution_count": 30,
     "metadata": {},
     "output_type": "execute_result"
    }
   ],
   "source": [
    "dogecoin_data.head()"
   ]
  },
  {
   "cell_type": "code",
   "execution_count": 31,
   "id": "f34a4e2e",
   "metadata": {},
   "outputs": [],
   "source": [
    "def get_previous_and_following_day(date):\n",
    "    one_day_timestamp = 86400\n",
    "    \n",
    "    current_date_timestamp = datetime.timestamp(date)\n",
    "    previous_date_timestamp = current_date_timestamp - one_day_timestamp\n",
    "    following_date_timestamp = current_date_timestamp + one_day_timestamp\n",
    "    \n",
    "    previous_date = datetime.fromtimestamp(previous_date_timestamp)\n",
    "    following_date = datetime.fromtimestamp(following_date_timestamp)\n",
    "    \n",
    "    previous_date = datetime(previous_date.year, previous_date.month, previous_date.day)\n",
    "    following_date = datetime(following_date.year, following_date.month, following_date.day)\n",
    "    \n",
    "    return previous_date, following_date"
   ]
  },
  {
   "cell_type": "code",
   "execution_count": 32,
   "id": "57e66dcc",
   "metadata": {},
   "outputs": [
    {
     "data": {
      "text/plain": [
       "(datetime.datetime(2020, 12, 28, 0, 0), datetime.datetime(2020, 12, 30, 0, 0))"
      ]
     },
     "execution_count": 32,
     "metadata": {},
     "output_type": "execute_result"
    }
   ],
   "source": [
    "get_previous_and_following_day(df.loc[0, ['datetime']].values[0])"
   ]
  },
  {
   "cell_type": "code",
   "execution_count": 33,
   "id": "ceaea5dd",
   "metadata": {},
   "outputs": [
    {
     "data": {
      "text/html": [
       "<div>\n",
       "<style scoped>\n",
       "    .dataframe tbody tr th:only-of-type {\n",
       "        vertical-align: middle;\n",
       "    }\n",
       "\n",
       "    .dataframe tbody tr th {\n",
       "        vertical-align: top;\n",
       "    }\n",
       "\n",
       "    .dataframe thead th {\n",
       "        text-align: right;\n",
       "    }\n",
       "</style>\n",
       "<table border=\"1\" class=\"dataframe\">\n",
       "  <thead>\n",
       "    <tr style=\"text-align: right;\">\n",
       "      <th></th>\n",
       "      <th>Open</th>\n",
       "      <th>High</th>\n",
       "      <th>Low</th>\n",
       "      <th>Close</th>\n",
       "      <th>Adj Close</th>\n",
       "      <th>Volume</th>\n",
       "    </tr>\n",
       "  </thead>\n",
       "  <tbody>\n",
       "    <tr>\n",
       "      <th>count</th>\n",
       "      <td>1823.000000</td>\n",
       "      <td>1823.000000</td>\n",
       "      <td>1823.000000</td>\n",
       "      <td>1823.000000</td>\n",
       "      <td>1823.000000</td>\n",
       "      <td>1.823000e+03</td>\n",
       "    </tr>\n",
       "    <tr>\n",
       "      <th>mean</th>\n",
       "      <td>0.009050</td>\n",
       "      <td>0.010098</td>\n",
       "      <td>0.008324</td>\n",
       "      <td>0.009395</td>\n",
       "      <td>0.009395</td>\n",
       "      <td>4.438836e+08</td>\n",
       "    </tr>\n",
       "    <tr>\n",
       "      <th>std</th>\n",
       "      <td>0.041315</td>\n",
       "      <td>0.047866</td>\n",
       "      <td>0.036952</td>\n",
       "      <td>0.043992</td>\n",
       "      <td>0.043992</td>\n",
       "      <td>2.952867e+09</td>\n",
       "    </tr>\n",
       "    <tr>\n",
       "      <th>min</th>\n",
       "      <td>0.000197</td>\n",
       "      <td>0.000205</td>\n",
       "      <td>0.000195</td>\n",
       "      <td>0.000197</td>\n",
       "      <td>0.000197</td>\n",
       "      <td>4.679900e+04</td>\n",
       "    </tr>\n",
       "    <tr>\n",
       "      <th>25%</th>\n",
       "      <td>0.001553</td>\n",
       "      <td>0.001676</td>\n",
       "      <td>0.001460</td>\n",
       "      <td>0.001567</td>\n",
       "      <td>0.001567</td>\n",
       "      <td>4.301310e+06</td>\n",
       "    </tr>\n",
       "    <tr>\n",
       "      <th>50%</th>\n",
       "      <td>0.002514</td>\n",
       "      <td>0.002577</td>\n",
       "      <td>0.002447</td>\n",
       "      <td>0.002516</td>\n",
       "      <td>0.002516</td>\n",
       "      <td>1.996860e+07</td>\n",
       "    </tr>\n",
       "    <tr>\n",
       "      <th>75%</th>\n",
       "      <td>0.003331</td>\n",
       "      <td>0.003467</td>\n",
       "      <td>0.003197</td>\n",
       "      <td>0.003325</td>\n",
       "      <td>0.003325</td>\n",
       "      <td>7.360159e+07</td>\n",
       "    </tr>\n",
       "    <tr>\n",
       "      <th>max</th>\n",
       "      <td>0.652842</td>\n",
       "      <td>0.695262</td>\n",
       "      <td>0.545102</td>\n",
       "      <td>0.657633</td>\n",
       "      <td>0.657633</td>\n",
       "      <td>6.941068e+10</td>\n",
       "    </tr>\n",
       "  </tbody>\n",
       "</table>\n",
       "</div>"
      ],
      "text/plain": [
       "              Open         High          Low        Close    Adj Close  \\\n",
       "count  1823.000000  1823.000000  1823.000000  1823.000000  1823.000000   \n",
       "mean      0.009050     0.010098     0.008324     0.009395     0.009395   \n",
       "std       0.041315     0.047866     0.036952     0.043992     0.043992   \n",
       "min       0.000197     0.000205     0.000195     0.000197     0.000197   \n",
       "25%       0.001553     0.001676     0.001460     0.001567     0.001567   \n",
       "50%       0.002514     0.002577     0.002447     0.002516     0.002516   \n",
       "75%       0.003331     0.003467     0.003197     0.003325     0.003325   \n",
       "max       0.652842     0.695262     0.545102     0.657633     0.657633   \n",
       "\n",
       "             Volume  \n",
       "count  1.823000e+03  \n",
       "mean   4.438836e+08  \n",
       "std    2.952867e+09  \n",
       "min    4.679900e+04  \n",
       "25%    4.301310e+06  \n",
       "50%    1.996860e+07  \n",
       "75%    7.360159e+07  \n",
       "max    6.941068e+10  "
      ]
     },
     "execution_count": 33,
     "metadata": {},
     "output_type": "execute_result"
    }
   ],
   "source": [
    "dogecoin_data.describe()"
   ]
  },
  {
   "cell_type": "code",
   "execution_count": 34,
   "id": "adeff761",
   "metadata": {},
   "outputs": [
    {
     "data": {
      "text/plain": [
       "Timestamp('2021-05-07 00:00:00')"
      ]
     },
     "execution_count": 34,
     "metadata": {},
     "output_type": "execute_result"
    }
   ],
   "source": [
    "dogecoin_data.datetime.max()"
   ]
  },
  {
   "cell_type": "code",
   "execution_count": 35,
   "id": "e1701c54",
   "metadata": {},
   "outputs": [
    {
     "data": {
      "text/plain": [
       "Timestamp('2016-05-07 00:00:00')"
      ]
     },
     "execution_count": 35,
     "metadata": {},
     "output_type": "execute_result"
    }
   ],
   "source": [
    "dogecoin_data.datetime.min()"
   ]
  },
  {
   "cell_type": "code",
   "execution_count": 36,
   "id": "31e3d36e",
   "metadata": {},
   "outputs": [
    {
     "name": "stdout",
     "output_type": "stream",
     "text": [
      "<class 'pandas.core.frame.DataFrame'>\n",
      "RangeIndex: 1827 entries, 0 to 1826\n",
      "Data columns (total 8 columns):\n",
      " #   Column     Non-Null Count  Dtype         \n",
      "---  ------     --------------  -----         \n",
      " 0   Date       1827 non-null   object        \n",
      " 1   Open       1823 non-null   float64       \n",
      " 2   High       1823 non-null   float64       \n",
      " 3   Low        1823 non-null   float64       \n",
      " 4   Close      1823 non-null   float64       \n",
      " 5   Adj Close  1823 non-null   float64       \n",
      " 6   Volume     1823 non-null   float64       \n",
      " 7   datetime   1827 non-null   datetime64[ns]\n",
      "dtypes: datetime64[ns](1), float64(6), object(1)\n",
      "memory usage: 114.3+ KB\n"
     ]
    }
   ],
   "source": [
    "dogecoin_data.info()"
   ]
  },
  {
   "cell_type": "code",
   "execution_count": 37,
   "id": "5ebc16d6",
   "metadata": {},
   "outputs": [],
   "source": [
    "def get_A_subset(tweets_data, price_data):\n",
    "    \n",
    "    dates_dogecoins_mentioned = tweets_data.loc[tweets_data.isDogecoin == 1, ['datetime']] \n",
    "    \n",
    "    standard_deviations = []\n",
    "    used_dates = [] # to remove them from B subset\n",
    "    \n",
    "    for date in dates_dogecoins_mentioned.datetime:\n",
    "        previous_day, following_day = get_previous_and_following_day(date) \n",
    "        \n",
    "        used_dates.append(previous_day)\n",
    "        used_dates.append(date.to_pydatetime())\n",
    "        used_dates.append(following_day)\n",
    "                \n",
    "        previous_day_price = price_data.loc[price_data.datetime == previous_day, 'High'].values\n",
    "        following_day_price = price_data.loc[price_data.datetime == following_day, 'High'].values\n",
    "        \n",
    "        current_date_price = price_data.loc[price_data.datetime == date, 'High'].values\n",
    "        \n",
    "        prices = np.concatenate((previous_day_price, current_date_price, following_day_price), axis=0)\n",
    "        standard_deviations.append(prices.std())\n",
    "        \n",
    "    return standard_deviations, used_dates"
   ]
  },
  {
   "cell_type": "code",
   "execution_count": 38,
   "id": "ceeadc0b",
   "metadata": {},
   "outputs": [],
   "source": [
    "subset_A, dates = get_A_subset(df, dogecoin_data)"
   ]
  },
  {
   "cell_type": "code",
   "execution_count": 39,
   "id": "9d4c193e",
   "metadata": {},
   "outputs": [
    {
     "data": {
      "text/plain": [
       "[datetime.datetime(2021, 2, 3, 0, 0),\n",
       " datetime.datetime(2021, 2, 4, 0, 0),\n",
       " datetime.datetime(2021, 2, 5, 0, 0),\n",
       " datetime.datetime(2021, 2, 3, 0, 0),\n",
       " datetime.datetime(2021, 2, 4, 0, 0)]"
      ]
     },
     "execution_count": 39,
     "metadata": {},
     "output_type": "execute_result"
    }
   ],
   "source": [
    "dates[:5]"
   ]
  },
  {
   "cell_type": "code",
   "execution_count": 40,
   "id": "a6f98e99",
   "metadata": {},
   "outputs": [
    {
     "data": {
      "text/plain": [
       "<AxesSubplot:ylabel='Count'>"
      ]
     },
     "execution_count": 40,
     "metadata": {},
     "output_type": "execute_result"
    },
    {
     "data": {
      "image/png": "[encoded data removed]",
      "text/plain": [
       "<Figure size 432x288 with 1 Axes>"
      ]
     },
     "metadata": {
      "needs_background": "light"
     },
     "output_type": "display_data"
    }
   ],
   "source": [
    "sns.histplot(subset_A)"
   ]
  },
  {
   "cell_type": "code",
   "execution_count": 41,
   "id": "20220022",
   "metadata": {},
   "outputs": [
    {
     "data": {
      "image/png": "[encoded data removed]",
      "text/plain": [
       "<Figure size 432x288 with 1 Axes>"
      ]
     },
     "metadata": {
      "needs_background": "light"
     },
     "output_type": "display_data"
    }
   ],
   "source": [
    "sns.kdeplot(subset_A);"
   ]
  },
  {
   "cell_type": "code",
   "execution_count": 42,
   "id": "0631237d",
   "metadata": {},
   "outputs": [
    {
     "data": {
      "image/png": "[encoded data removed]",
      "text/plain": [
       "<Figure size 432x288 with 1 Axes>"
      ]
     },
     "metadata": {
      "needs_background": "light"
     },
     "output_type": "display_data"
    }
   ],
   "source": [
    "sns.histplot(np.log(subset_A), bins=15);"
   ]
  },
  {
   "cell_type": "code",
   "execution_count": 43,
   "id": "25c2d9bd",
   "metadata": {},
   "outputs": [
    {
     "data": {
      "image/png": "[encoded data removed]",
      "text/plain": [
       "<Figure size 432x288 with 1 Axes>"
      ]
     },
     "metadata": {
      "needs_background": "light"
     },
     "output_type": "display_data"
    }
   ],
   "source": [
    "sns.kdeplot(np.log(subset_A));"
   ]
  },
  {
   "cell_type": "code",
   "execution_count": 44,
   "id": "36059880",
   "metadata": {},
   "outputs": [
    {
     "data": {
      "image/png": "[encoded data removed]",
      "text/plain": [
       "<Figure size 1152x144 with 1 Axes>"
      ]
     },
     "metadata": {
      "needs_background": "light"
     },
     "output_type": "display_data"
    }
   ],
   "source": [
    "plt.figure(figsize=(16, 2))\n",
    "sns.boxplot(x=subset_A);"
   ]
  },
  {
   "cell_type": "code",
   "execution_count": 45,
   "id": "dbdf4759",
   "metadata": {},
   "outputs": [
    {
     "data": {
      "image/png": "[encoded data removed]",
      "text/plain": [
       "<Figure size 1152x144 with 1 Axes>"
      ]
     },
     "metadata": {
      "needs_background": "light"
     },
     "output_type": "display_data"
    }
   ],
   "source": [
    "plt.figure(figsize=(16, 2))\n",
    "sns.boxplot(x=np.log(subset_A));"
   ]
  },
  {
   "cell_type": "code",
   "execution_count": 46,
   "id": "134fbd44",
   "metadata": {},
   "outputs": [
    {
     "data": {
      "text/html": [
       "<div>\n",
       "<style scoped>\n",
       "    .dataframe tbody tr th:only-of-type {\n",
       "        vertical-align: middle;\n",
       "    }\n",
       "\n",
       "    .dataframe tbody tr th {\n",
       "        vertical-align: top;\n",
       "    }\n",
       "\n",
       "    .dataframe thead th {\n",
       "        text-align: right;\n",
       "    }\n",
       "</style>\n",
       "<table border=\"1\" class=\"dataframe\">\n",
       "  <thead>\n",
       "    <tr style=\"text-align: right;\">\n",
       "      <th></th>\n",
       "      <th>tweet_content</th>\n",
       "      <th>datetime</th>\n",
       "      <th>likes</th>\n",
       "      <th>retweets</th>\n",
       "      <th>isDogecoin</th>\n",
       "    </tr>\n",
       "  </thead>\n",
       "  <tbody>\n",
       "    <tr>\n",
       "      <th>0</th>\n",
       "      <td>all tesla cars delivered in the final three da...</td>\n",
       "      <td>2020-12-29</td>\n",
       "      <td>73052</td>\n",
       "      <td>3507</td>\n",
       "      <td>0</td>\n",
       "    </tr>\n",
       "  </tbody>\n",
       "</table>\n",
       "</div>"
      ],
      "text/plain": [
       "                                       tweet_content   datetime  likes  \\\n",
       "0  all tesla cars delivered in the final three da... 2020-12-29  73052   \n",
       "\n",
       "   retweets  isDogecoin  \n",
       "0      3507           0  "
      ]
     },
     "execution_count": 46,
     "metadata": {},
     "output_type": "execute_result"
    }
   ],
   "source": [
    "df.head(1)"
   ]
  },
  {
   "cell_type": "code",
   "execution_count": 47,
   "id": "a278433d",
   "metadata": {},
   "outputs": [
    {
     "data": {
      "text/plain": [
       "(959, 5)"
      ]
     },
     "execution_count": 47,
     "metadata": {},
     "output_type": "execute_result"
    }
   ],
   "source": [
    "df.shape"
   ]
  },
  {
   "cell_type": "code",
   "execution_count": 48,
   "id": "c5a07e11",
   "metadata": {},
   "outputs": [
    {
     "data": {
      "text/plain": [
       "0    2020-12-29\n",
       "1    2020-12-30\n",
       "2    2020-12-30\n",
       "3    2020-12-30\n",
       "4    2020-12-30\n",
       "Name: datetime, dtype: object"
      ]
     },
     "execution_count": 48,
     "metadata": {},
     "output_type": "execute_result"
    }
   ],
   "source": [
    "pd.to_datetime(df.datetime).dt.date.head()"
   ]
  },
  {
   "cell_type": "code",
   "execution_count": 49,
   "id": "50f4f1d7",
   "metadata": {},
   "outputs": [
    {
     "data": {
      "text/plain": [
       "34"
      ]
     },
     "execution_count": 49,
     "metadata": {},
     "output_type": "execute_result"
    }
   ],
   "source": [
    "len(subset_A)"
   ]
  },
  {
   "cell_type": "code",
   "execution_count": 50,
   "id": "9df293f1",
   "metadata": {},
   "outputs": [
    {
     "data": {
      "text/html": [
       "<div>\n",
       "<style scoped>\n",
       "    .dataframe tbody tr th:only-of-type {\n",
       "        vertical-align: middle;\n",
       "    }\n",
       "\n",
       "    .dataframe tbody tr th {\n",
       "        vertical-align: top;\n",
       "    }\n",
       "\n",
       "    .dataframe thead th {\n",
       "        text-align: right;\n",
       "    }\n",
       "</style>\n",
       "<table border=\"1\" class=\"dataframe\">\n",
       "  <thead>\n",
       "    <tr style=\"text-align: right;\">\n",
       "      <th></th>\n",
       "      <th>Date</th>\n",
       "      <th>Open</th>\n",
       "      <th>High</th>\n",
       "      <th>Low</th>\n",
       "      <th>Close</th>\n",
       "      <th>Adj Close</th>\n",
       "      <th>Volume</th>\n",
       "      <th>datetime</th>\n",
       "    </tr>\n",
       "  </thead>\n",
       "  <tbody>\n",
       "    <tr>\n",
       "      <th>0</th>\n",
       "      <td>2016-05-07</td>\n",
       "      <td>0.000224</td>\n",
       "      <td>0.000225</td>\n",
       "      <td>0.000221</td>\n",
       "      <td>0.000223</td>\n",
       "      <td>0.000223</td>\n",
       "      <td>83754.0</td>\n",
       "      <td>2016-05-07</td>\n",
       "    </tr>\n",
       "    <tr>\n",
       "      <th>1</th>\n",
       "      <td>2016-05-08</td>\n",
       "      <td>0.000222</td>\n",
       "      <td>0.000223</td>\n",
       "      <td>0.000220</td>\n",
       "      <td>0.000222</td>\n",
       "      <td>0.000222</td>\n",
       "      <td>46961.0</td>\n",
       "      <td>2016-05-08</td>\n",
       "    </tr>\n",
       "    <tr>\n",
       "      <th>2</th>\n",
       "      <td>2016-05-09</td>\n",
       "      <td>0.000222</td>\n",
       "      <td>0.000225</td>\n",
       "      <td>0.000220</td>\n",
       "      <td>0.000224</td>\n",
       "      <td>0.000224</td>\n",
       "      <td>75340.0</td>\n",
       "      <td>2016-05-09</td>\n",
       "    </tr>\n",
       "    <tr>\n",
       "      <th>3</th>\n",
       "      <td>2016-05-10</td>\n",
       "      <td>0.000222</td>\n",
       "      <td>0.000224</td>\n",
       "      <td>0.000220</td>\n",
       "      <td>0.000220</td>\n",
       "      <td>0.000220</td>\n",
       "      <td>76419.0</td>\n",
       "      <td>2016-05-10</td>\n",
       "    </tr>\n",
       "    <tr>\n",
       "      <th>4</th>\n",
       "      <td>2016-05-11</td>\n",
       "      <td>0.000220</td>\n",
       "      <td>0.000224</td>\n",
       "      <td>0.000220</td>\n",
       "      <td>0.000224</td>\n",
       "      <td>0.000224</td>\n",
       "      <td>71369.0</td>\n",
       "      <td>2016-05-11</td>\n",
       "    </tr>\n",
       "  </tbody>\n",
       "</table>\n",
       "</div>"
      ],
      "text/plain": [
       "         Date      Open      High       Low     Close  Adj Close   Volume  \\\n",
       "0  2016-05-07  0.000224  0.000225  0.000221  0.000223   0.000223  83754.0   \n",
       "1  2016-05-08  0.000222  0.000223  0.000220  0.000222   0.000222  46961.0   \n",
       "2  2016-05-09  0.000222  0.000225  0.000220  0.000224   0.000224  75340.0   \n",
       "3  2016-05-10  0.000222  0.000224  0.000220  0.000220   0.000220  76419.0   \n",
       "4  2016-05-11  0.000220  0.000224  0.000220  0.000224   0.000224  71369.0   \n",
       "\n",
       "    datetime  \n",
       "0 2016-05-07  \n",
       "1 2016-05-08  \n",
       "2 2016-05-09  \n",
       "3 2016-05-10  \n",
       "4 2016-05-11  "
      ]
     },
     "execution_count": 50,
     "metadata": {},
     "output_type": "execute_result"
    }
   ],
   "source": [
    "dogecoin_data.head()"
   ]
  },
  {
   "cell_type": "code",
   "execution_count": 51,
   "id": "66dd8ae4",
   "metadata": {},
   "outputs": [],
   "source": [
    "def get_three_following_dates_samples(data, start_date, n_samples=30):\n",
    "    start_index = data[data.datetime == start_date].index[0]\n",
    "    end_index = data[data.datetime == data.datetime.max()].index[0]\n",
    "    \n",
    "    price_indeces = data.index.tolist()\n",
    "    \n",
    "    result = []\n",
    "    \n",
    "    while n_samples > 0:\n",
    "        \n",
    "        index = random.randint(start_index + 1, end_index - 1)\n",
    "        indeces = [index - 1, index, index + 1]\n",
    "        \n",
    "        if len(set(price_indeces) & set(indeces)) < 3:\n",
    "            continue;\n",
    "        \n",
    "        result.append(data.loc[indeces, 'High'].values)\n",
    "        n_samples -= 1\n",
    "        \n",
    "    return result"
   ]
  },
  {
   "cell_type": "code",
   "execution_count": 52,
   "id": "e4b46d33",
   "metadata": {},
   "outputs": [
    {
     "data": {
      "text/plain": [
       "[array([0.045289, 0.04325 , 0.034926]),\n",
       " array([0.013826, 0.077973, 0.049901]),\n",
       " array([0.056494, 0.052407, 0.054028]),\n",
       " array([0.445567, 0.605998, 0.695262]),\n",
       " array([0.280452, 0.279629, 0.344662])]"
      ]
     },
     "execution_count": 52,
     "metadata": {},
     "output_type": "execute_result"
    }
   ],
   "source": [
    "get_three_following_dates_samples(dogecoin_data, df.datetime.min())[:5]"
   ]
  },
  {
   "cell_type": "code",
   "execution_count": 54,
   "id": "8a3017fe",
   "metadata": {},
   "outputs": [],
   "source": [
    "def get_B_subset(tweets_data, price_data):\n",
    "    subset_A, used_dates = get_A_subset(tweets_data, price_data)\n",
    "\n",
    "    price_data = price_data.copy()\n",
    "    price_data = price_data[~price_data.datetime.isin(used_dates)]\n",
    "    \n",
    "    result = []\n",
    "    \n",
    "    samples = get_three_following_dates_samples(price_data, tweets_data.datetime.min())\n",
    "    for sample in samples:\n",
    "        result.append(sample.std())\n",
    "        \n",
    "    return result"
   ]
  },
  {
   "cell_type": "code",
   "execution_count": 55,
   "id": "1b06eab4",
   "metadata": {},
   "outputs": [],
   "source": [
    "subset_B = get_B_subset(df, dogecoin_data)"
   ]
  },
  {
   "cell_type": "code",
   "execution_count": 56,
   "id": "af4519fc",
   "metadata": {},
   "outputs": [
    {
     "data": {
      "text/plain": [
       "30"
      ]
     },
     "execution_count": 56,
     "metadata": {},
     "output_type": "execute_result"
    }
   ],
   "source": [
    "len(subset_B)"
   ]
  },
  {
   "cell_type": "code",
   "execution_count": 57,
   "id": "b4e080cd",
   "metadata": {},
   "outputs": [
    {
     "data": {
      "text/plain": [
       "[0.004017842953625738,\n",
       " 0.0031182602343115757,\n",
       " 0.000851782836173631,\n",
       " 7.824037036949436e-05,\n",
       " 0.004075356371601839]"
      ]
     },
     "execution_count": 57,
     "metadata": {},
     "output_type": "execute_result"
    }
   ],
   "source": [
    "subset_B[:5]"
   ]
  },
  {
   "cell_type": "code",
   "execution_count": 58,
   "id": "e32ca8ef",
   "metadata": {},
   "outputs": [
    {
     "data": {
      "image/png": "[encoded data removed]",
      "text/plain": [
       "<Figure size 432x288 with 1 Axes>"
      ]
     },
     "metadata": {
      "needs_background": "light"
     },
     "output_type": "display_data"
    }
   ],
   "source": [
    "sns.kdeplot(subset_B);"
   ]
  },
  {
   "cell_type": "code",
   "execution_count": 59,
   "id": "77a070a1",
   "metadata": {},
   "outputs": [
    {
     "data": {
      "image/png": "[encoded data removed]",
      "text/plain": [
       "<Figure size 432x288 with 1 Axes>"
      ]
     },
     "metadata": {
      "needs_background": "light"
     },
     "output_type": "display_data"
    }
   ],
   "source": [
    "sns.histplot(subset_B);"
   ]
  },
  {
   "cell_type": "code",
   "execution_count": 60,
   "id": "ae9f2726",
   "metadata": {},
   "outputs": [
    {
     "data": {
      "image/png": "[encoded data removed]",
      "text/plain": [
       "<Figure size 1152x144 with 1 Axes>"
      ]
     },
     "metadata": {
      "needs_background": "light"
     },
     "output_type": "display_data"
    }
   ],
   "source": [
    "plt.figure(figsize=(16, 2))\n",
    "sns.boxplot(x=subset_B);"
   ]
  },
  {
   "cell_type": "code",
   "execution_count": 61,
   "id": "5ccdd42d",
   "metadata": {},
   "outputs": [
    {
     "data": {
      "image/png": "[encoded data removed]",
      "text/plain": [
       "<Figure size 1152x144 with 1 Axes>"
      ]
     },
     "metadata": {
      "needs_background": "light"
     },
     "output_type": "display_data"
    }
   ],
   "source": [
    "plt.figure(figsize=(16, 2))\n",
    "sns.boxplot(x=np.log(subset_B));"
   ]
  },
  {
   "cell_type": "markdown",
   "id": "f9f9b4dc",
   "metadata": {},
   "source": [
    "# Compare sets A and B "
   ]
  },
  {
   "cell_type": "code",
   "execution_count": 72,
   "id": "e38c8ba0",
   "metadata": {},
   "outputs": [
    {
     "data": {
      "image/png": "[encoded data removed]",
      "text/plain": [
       "<Figure size 576x288 with 1 Axes>"
      ]
     },
     "metadata": {
      "needs_background": "light"
     },
     "output_type": "display_data"
    }
   ],
   "source": [
    "plt.figure(figsize=(8, 4))\n",
    "sns.kdeplot(subset_A, color='r', label='Dogecoin_is_mentioned');\n",
    "sns.kdeplot(subset_B, label=\"Dogecoin_isn't_mentioned\");\n",
    "plt.legend();"
   ]
  },
  {
   "cell_type": "code",
   "execution_count": 74,
   "id": "fdc68d57",
   "metadata": {},
   "outputs": [
    {
     "data": {
      "image/png": "[encoded data removed]",
      "text/plain": [
       "<Figure size 576x288 with 1 Axes>"
      ]
     },
     "metadata": {
      "needs_background": "light"
     },
     "output_type": "display_data"
    }
   ],
   "source": [
    "plt.figure(figsize=(8, 4))\n",
    "sns.kdeplot(np.log(subset_A), color='r', label='Dogecoin_is_mentioned');\n",
    "sns.kdeplot(np.log(subset_B), label=\"Dogecoin_isn't_mentioned\");\n",
    "plt.legend();"
   ]
  },
  {
   "cell_type": "code",
   "execution_count": 101,
   "id": "a6c5d627",
   "metadata": {},
   "outputs": [
    {
     "data": {
      "text/plain": [
       "Ttest_indResult(statistic=0.4727941992328691, pvalue=0.6381318143708554)"
      ]
     },
     "execution_count": 101,
     "metadata": {},
     "output_type": "execute_result"
    }
   ],
   "source": [
    "stats.ttest_ind(subset_A, subset_B, equal_var=False)"
   ]
  },
  {
   "cell_type": "code",
   "execution_count": 102,
   "id": "afeabda1",
   "metadata": {},
   "outputs": [
    {
     "data": {
      "text/plain": [
       "Ttest_indResult(statistic=0.8300784615809597, pvalue=0.4099774481654891)"
      ]
     },
     "execution_count": 102,
     "metadata": {},
     "output_type": "execute_result"
    }
   ],
   "source": [
    "stats.ttest_ind(np.log(subset_A), np.log(subset_B), equal_var=False)"
   ]
  },
  {
   "cell_type": "code",
   "execution_count": null,
   "id": "d6cb3f75",
   "metadata": {},
   "outputs": [],
   "source": [
    "stats.ttest_ind(np.log(subset_A), np.log(subset_B), equal_var=T)"
   ]
  },
  {
   "cell_type": "markdown",
   "id": "b0b7cc81",
   "metadata": {},
   "source": [
    "**Conclusion:**\n",
    "We can't say that there is a significant difference between two sets of standard deviations"
   ]
  },
  {
   "cell_type": "code",
   "execution_count": 96,
   "id": "5edbc3e6",
   "metadata": {},
   "outputs": [
    {
     "data": {
      "image/png": "[encoded data removed]",
      "text/plain": [
       "<Figure size 720x144 with 1 Axes>"
      ]
     },
     "metadata": {
      "needs_background": "light"
     },
     "output_type": "display_data"
    },
    {
     "data": {
      "image/png": "[encoded data removed]",
      "text/plain": [
       "<Figure size 720x144 with 1 Axes>"
      ]
     },
     "metadata": {
      "needs_background": "light"
     },
     "output_type": "display_data"
    }
   ],
   "source": [
    "plt.figure(figsize=(10, 2))\n",
    "sns.boxplot(x=subset_A, color='#029d9f');\n",
    "plt.show()\n",
    "plt.figure(figsize=(10, 2))\n",
    "sns.boxplot(x=subset_B);"
   ]
  },
  {
   "cell_type": "code",
   "execution_count": null,
   "id": "495b0069",
   "metadata": {},
   "outputs": [],
   "source": []
  }
 ],
 "metadata": {
  "kernelspec": {
   "display_name": "Python 3",
   "language": "python",
   "name": "python3"
  }
 },
 "nbformat": 4,
 "nbformat_minor": 5
}
