{
 "cells": [
  {
   "cell_type": "code",
   "execution_count": 26,
   "id": "dd323b25",
   "metadata": {},
   "outputs": [],
   "source": [
    "import pandas as pd\n",
    "import numpy as np\n",
    "import matplotlib.pyplot as plt\n",
    "import seaborn as sns\n",
    "\n",
    "from sklearn.preprocessing import Normalizer\n",
    "import datetime"
   ]
  },
  {
   "cell_type": "code",
   "execution_count": 27,
   "id": "700b3b18",
   "metadata": {},
   "outputs": [],
   "source": [
    "columns = ['tweet_id', 'publisher_id', 'tweet_content', 'publisher_name', 'datetime', 'likes', 'retweets', 'hashtags']\n",
    "\n",
    "df = pd.read_csv('elonmusk_tweets.csv', names=columns)"
   ]
  },
  {
   "cell_type": "code",
   "execution_count": 28,
   "id": "7138bc0d",
   "metadata": {},
   "outputs": [
    {
     "data": {
      "text/html": [
       "<div>\n",
       "<style scoped>\n",
       "    .dataframe tbody tr th:only-of-type {\n",
       "        vertical-align: middle;\n",
       "    }\n",
       "\n",
       "    .dataframe tbody tr th {\n",
       "        vertical-align: top;\n",
       "    }\n",
       "\n",
       "    .dataframe thead th {\n",
       "        text-align: right;\n",
       "    }\n",
       "</style>\n",
       "<table border=\"1\" class=\"dataframe\">\n",
       "  <thead>\n",
       "    <tr style=\"text-align: right;\">\n",
       "      <th></th>\n",
       "      <th>tweet_id</th>\n",
       "      <th>publisher_id</th>\n",
       "      <th>tweet_content</th>\n",
       "      <th>publisher_name</th>\n",
       "      <th>datetime</th>\n",
       "      <th>likes</th>\n",
       "      <th>retweets</th>\n",
       "      <th>hashtags</th>\n",
       "    </tr>\n",
       "  </thead>\n",
       "  <tbody>\n",
       "    <tr>\n",
       "      <th>0</th>\n",
       "      <td>1363476057169432579</td>\n",
       "      <td>44196397</td>\n",
       "      <td>@RationalEtienne</td>\n",
       "      <td>Elon Musk</td>\n",
       "      <td>2021-02-21 13:09:58</td>\n",
       "      <td>6238</td>\n",
       "      <td>209</td>\n",
       "      <td>[]</td>\n",
       "    </tr>\n",
       "    <tr>\n",
       "      <th>1</th>\n",
       "      <td>1363476143735595014</td>\n",
       "      <td>44196397</td>\n",
       "      <td>@PPathole Should we?</td>\n",
       "      <td>Elon Musk</td>\n",
       "      <td>2021-02-21 13:10:19</td>\n",
       "      <td>15941</td>\n",
       "      <td>2688</td>\n",
       "      <td>[]</td>\n",
       "    </tr>\n",
       "    <tr>\n",
       "      <th>2</th>\n",
       "      <td>1363600651712794624</td>\n",
       "      <td>44196397</td>\n",
       "      <td>@BocaChicaGal @NASASpaceflight Good chance of ...</td>\n",
       "      <td>Elon Musk</td>\n",
       "      <td>2021-02-21 21:25:04</td>\n",
       "      <td>20829</td>\n",
       "      <td>1190</td>\n",
       "      <td>[]</td>\n",
       "    </tr>\n",
       "    <tr>\n",
       "      <th>3</th>\n",
       "      <td>1363601164344823810</td>\n",
       "      <td>44196397</td>\n",
       "      <td>Dojo 4 Doge</td>\n",
       "      <td>Elon Musk</td>\n",
       "      <td>2021-02-21 21:27:06</td>\n",
       "      <td>327511</td>\n",
       "      <td>32960</td>\n",
       "      <td>[]</td>\n",
       "    </tr>\n",
       "    <tr>\n",
       "      <th>4</th>\n",
       "      <td>1363609428281360386</td>\n",
       "      <td>44196397</td>\n",
       "      <td>Hypernominalization</td>\n",
       "      <td>Elon Musk</td>\n",
       "      <td>2021-02-21 21:59:56</td>\n",
       "      <td>178021</td>\n",
       "      <td>10701</td>\n",
       "      <td>[]</td>\n",
       "    </tr>\n",
       "  </tbody>\n",
       "</table>\n",
       "</div>"
      ],
      "text/plain": [
       "              tweet_id  publisher_id  \\\n",
       "0  1363476057169432579      44196397   \n",
       "1  1363476143735595014      44196397   \n",
       "2  1363600651712794624      44196397   \n",
       "3  1363601164344823810      44196397   \n",
       "4  1363609428281360386      44196397   \n",
       "\n",
       "                                       tweet_content publisher_name  \\\n",
       "0                                   @RationalEtienne      Elon Musk   \n",
       "1                               @PPathole Should we?      Elon Musk   \n",
       "2  @BocaChicaGal @NASASpaceflight Good chance of ...      Elon Musk   \n",
       "3                                        Dojo 4 Doge      Elon Musk   \n",
       "4                                Hypernominalization      Elon Musk   \n",
       "\n",
       "              datetime   likes  retweets hashtags  \n",
       "0  2021-02-21 13:09:58    6238       209       []  \n",
       "1  2021-02-21 13:10:19   15941      2688       []  \n",
       "2  2021-02-21 21:25:04   20829      1190       []  \n",
       "3  2021-02-21 21:27:06  327511     32960       []  \n",
       "4  2021-02-21 21:59:56  178021     10701       []  "
      ]
     },
     "execution_count": 28,
     "metadata": {},
     "output_type": "execute_result"
    }
   ],
   "source": [
    "df.head()"
   ]
  },
  {
   "cell_type": "code",
   "execution_count": 29,
   "id": "fba4b42a",
   "metadata": {},
   "outputs": [],
   "source": [
    "df = df.drop(['tweet_id', 'publisher_id', 'tweet_content', 'publisher_name', 'hashtags'], axis=1)"
   ]
  },
  {
   "cell_type": "code",
   "execution_count": 30,
   "id": "235ae810",
   "metadata": {},
   "outputs": [
    {
     "data": {
      "text/html": [
       "<div>\n",
       "<style scoped>\n",
       "    .dataframe tbody tr th:only-of-type {\n",
       "        vertical-align: middle;\n",
       "    }\n",
       "\n",
       "    .dataframe tbody tr th {\n",
       "        vertical-align: top;\n",
       "    }\n",
       "\n",
       "    .dataframe thead th {\n",
       "        text-align: right;\n",
       "    }\n",
       "</style>\n",
       "<table border=\"1\" class=\"dataframe\">\n",
       "  <thead>\n",
       "    <tr style=\"text-align: right;\">\n",
       "      <th></th>\n",
       "      <th>datetime</th>\n",
       "      <th>likes</th>\n",
       "      <th>retweets</th>\n",
       "    </tr>\n",
       "  </thead>\n",
       "  <tbody>\n",
       "    <tr>\n",
       "      <th>0</th>\n",
       "      <td>2021-02-21 13:09:58</td>\n",
       "      <td>6238</td>\n",
       "      <td>209</td>\n",
       "    </tr>\n",
       "    <tr>\n",
       "      <th>1</th>\n",
       "      <td>2021-02-21 13:10:19</td>\n",
       "      <td>15941</td>\n",
       "      <td>2688</td>\n",
       "    </tr>\n",
       "    <tr>\n",
       "      <th>2</th>\n",
       "      <td>2021-02-21 21:25:04</td>\n",
       "      <td>20829</td>\n",
       "      <td>1190</td>\n",
       "    </tr>\n",
       "    <tr>\n",
       "      <th>3</th>\n",
       "      <td>2021-02-21 21:27:06</td>\n",
       "      <td>327511</td>\n",
       "      <td>32960</td>\n",
       "    </tr>\n",
       "    <tr>\n",
       "      <th>4</th>\n",
       "      <td>2021-02-21 21:59:56</td>\n",
       "      <td>178021</td>\n",
       "      <td>10701</td>\n",
       "    </tr>\n",
       "  </tbody>\n",
       "</table>\n",
       "</div>"
      ],
      "text/plain": [
       "              datetime   likes  retweets\n",
       "0  2021-02-21 13:09:58    6238       209\n",
       "1  2021-02-21 13:10:19   15941      2688\n",
       "2  2021-02-21 21:25:04   20829      1190\n",
       "3  2021-02-21 21:27:06  327511     32960\n",
       "4  2021-02-21 21:59:56  178021     10701"
      ]
     },
     "execution_count": 30,
     "metadata": {},
     "output_type": "execute_result"
    }
   ],
   "source": [
    "df.head()"
   ]
  },
  {
   "cell_type": "code",
   "execution_count": 31,
   "id": "245f057e",
   "metadata": {},
   "outputs": [],
   "source": [
    "dogecoin_data = pd.read_csv('dogecoin.csv')"
   ]
  },
  {
   "cell_type": "code",
   "execution_count": 32,
   "id": "af927580",
   "metadata": {},
   "outputs": [
    {
     "data": {
      "text/plain": [
       "(1827, 7)"
      ]
     },
     "execution_count": 32,
     "metadata": {},
     "output_type": "execute_result"
    }
   ],
   "source": [
    "dogecoin_data.shape"
   ]
  },
  {
   "cell_type": "code",
   "execution_count": 33,
   "id": "542de250",
   "metadata": {},
   "outputs": [
    {
     "data": {
      "text/html": [
       "<div>\n",
       "<style scoped>\n",
       "    .dataframe tbody tr th:only-of-type {\n",
       "        vertical-align: middle;\n",
       "    }\n",
       "\n",
       "    .dataframe tbody tr th {\n",
       "        vertical-align: top;\n",
       "    }\n",
       "\n",
       "    .dataframe thead th {\n",
       "        text-align: right;\n",
       "    }\n",
       "</style>\n",
       "<table border=\"1\" class=\"dataframe\">\n",
       "  <thead>\n",
       "    <tr style=\"text-align: right;\">\n",
       "      <th></th>\n",
       "      <th>Date</th>\n",
       "      <th>Open</th>\n",
       "      <th>High</th>\n",
       "      <th>Low</th>\n",
       "      <th>Close</th>\n",
       "      <th>Adj Close</th>\n",
       "      <th>Volume</th>\n",
       "    </tr>\n",
       "  </thead>\n",
       "  <tbody>\n",
       "    <tr>\n",
       "      <th>1822</th>\n",
       "      <td>2021-05-03</td>\n",
       "      <td>0.373631</td>\n",
       "      <td>0.445567</td>\n",
       "      <td>0.373631</td>\n",
       "      <td>0.441707</td>\n",
       "      <td>0.441707</td>\n",
       "      <td>1.052665e+10</td>\n",
       "    </tr>\n",
       "    <tr>\n",
       "      <th>1823</th>\n",
       "      <td>2021-05-04</td>\n",
       "      <td>0.440274</td>\n",
       "      <td>0.605998</td>\n",
       "      <td>0.400800</td>\n",
       "      <td>0.541334</td>\n",
       "      <td>0.541334</td>\n",
       "      <td>3.823813e+10</td>\n",
       "    </tr>\n",
       "    <tr>\n",
       "      <th>1824</th>\n",
       "      <td>2021-05-05</td>\n",
       "      <td>0.537355</td>\n",
       "      <td>0.695262</td>\n",
       "      <td>0.523822</td>\n",
       "      <td>0.657633</td>\n",
       "      <td>0.657633</td>\n",
       "      <td>4.252510e+10</td>\n",
       "    </tr>\n",
       "    <tr>\n",
       "      <th>1825</th>\n",
       "      <td>2021-05-06</td>\n",
       "      <td>0.652842</td>\n",
       "      <td>0.663616</td>\n",
       "      <td>0.545102</td>\n",
       "      <td>0.580804</td>\n",
       "      <td>0.580804</td>\n",
       "      <td>1.898990e+10</td>\n",
       "    </tr>\n",
       "    <tr>\n",
       "      <th>1826</th>\n",
       "      <td>2021-05-07</td>\n",
       "      <td>0.582930</td>\n",
       "      <td>0.653523</td>\n",
       "      <td>0.520342</td>\n",
       "      <td>0.645051</td>\n",
       "      <td>0.645051</td>\n",
       "      <td>2.076569e+10</td>\n",
       "    </tr>\n",
       "  </tbody>\n",
       "</table>\n",
       "</div>"
      ],
      "text/plain": [
       "            Date      Open      High       Low     Close  Adj Close  \\\n",
       "1822  2021-05-03  0.373631  0.445567  0.373631  0.441707   0.441707   \n",
       "1823  2021-05-04  0.440274  0.605998  0.400800  0.541334   0.541334   \n",
       "1824  2021-05-05  0.537355  0.695262  0.523822  0.657633   0.657633   \n",
       "1825  2021-05-06  0.652842  0.663616  0.545102  0.580804   0.580804   \n",
       "1826  2021-05-07  0.582930  0.653523  0.520342  0.645051   0.645051   \n",
       "\n",
       "            Volume  \n",
       "1822  1.052665e+10  \n",
       "1823  3.823813e+10  \n",
       "1824  4.252510e+10  \n",
       "1825  1.898990e+10  \n",
       "1826  2.076569e+10  "
      ]
     },
     "execution_count": 33,
     "metadata": {},
     "output_type": "execute_result"
    }
   ],
   "source": [
    "dogecoin_data.tail()"
   ]
  },
  {
   "cell_type": "markdown",
   "id": "4e589602",
   "metadata": {},
   "source": [
    "### Convert str date to date"
   ]
  },
  {
   "cell_type": "code",
   "execution_count": 34,
   "id": "df6882eb",
   "metadata": {},
   "outputs": [],
   "source": [
    "df['datetime'] = pd.to_datetime(df.datetime)"
   ]
  },
  {
   "cell_type": "code",
   "execution_count": 35,
   "id": "17cf4aba",
   "metadata": {},
   "outputs": [],
   "source": [
    "dogecoin_data['datetime'] = pd.to_datetime(dogecoin_data.Date)"
   ]
  },
  {
   "cell_type": "code",
   "execution_count": 36,
   "id": "9bb46900",
   "metadata": {},
   "outputs": [
    {
     "data": {
      "text/html": [
       "<div>\n",
       "<style scoped>\n",
       "    .dataframe tbody tr th:only-of-type {\n",
       "        vertical-align: middle;\n",
       "    }\n",
       "\n",
       "    .dataframe tbody tr th {\n",
       "        vertical-align: top;\n",
       "    }\n",
       "\n",
       "    .dataframe thead th {\n",
       "        text-align: right;\n",
       "    }\n",
       "</style>\n",
       "<table border=\"1\" class=\"dataframe\">\n",
       "  <thead>\n",
       "    <tr style=\"text-align: right;\">\n",
       "      <th></th>\n",
       "      <th>datetime</th>\n",
       "      <th>likes</th>\n",
       "      <th>retweets</th>\n",
       "    </tr>\n",
       "  </thead>\n",
       "  <tbody>\n",
       "    <tr>\n",
       "      <th>0</th>\n",
       "      <td>2021-02-21 13:09:58</td>\n",
       "      <td>6238</td>\n",
       "      <td>209</td>\n",
       "    </tr>\n",
       "    <tr>\n",
       "      <th>1</th>\n",
       "      <td>2021-02-21 13:10:19</td>\n",
       "      <td>15941</td>\n",
       "      <td>2688</td>\n",
       "    </tr>\n",
       "    <tr>\n",
       "      <th>2</th>\n",
       "      <td>2021-02-21 21:25:04</td>\n",
       "      <td>20829</td>\n",
       "      <td>1190</td>\n",
       "    </tr>\n",
       "    <tr>\n",
       "      <th>3</th>\n",
       "      <td>2021-02-21 21:27:06</td>\n",
       "      <td>327511</td>\n",
       "      <td>32960</td>\n",
       "    </tr>\n",
       "    <tr>\n",
       "      <th>4</th>\n",
       "      <td>2021-02-21 21:59:56</td>\n",
       "      <td>178021</td>\n",
       "      <td>10701</td>\n",
       "    </tr>\n",
       "  </tbody>\n",
       "</table>\n",
       "</div>"
      ],
      "text/plain": [
       "             datetime   likes  retweets\n",
       "0 2021-02-21 13:09:58    6238       209\n",
       "1 2021-02-21 13:10:19   15941      2688\n",
       "2 2021-02-21 21:25:04   20829      1190\n",
       "3 2021-02-21 21:27:06  327511     32960\n",
       "4 2021-02-21 21:59:56  178021     10701"
      ]
     },
     "execution_count": 36,
     "metadata": {},
     "output_type": "execute_result"
    }
   ],
   "source": [
    "df.head()"
   ]
  },
  {
   "cell_type": "code",
   "execution_count": 37,
   "id": "1a9adfef",
   "metadata": {},
   "outputs": [
    {
     "data": {
      "text/html": [
       "<div>\n",
       "<style scoped>\n",
       "    .dataframe tbody tr th:only-of-type {\n",
       "        vertical-align: middle;\n",
       "    }\n",
       "\n",
       "    .dataframe tbody tr th {\n",
       "        vertical-align: top;\n",
       "    }\n",
       "\n",
       "    .dataframe thead th {\n",
       "        text-align: right;\n",
       "    }\n",
       "</style>\n",
       "<table border=\"1\" class=\"dataframe\">\n",
       "  <thead>\n",
       "    <tr style=\"text-align: right;\">\n",
       "      <th></th>\n",
       "      <th>Date</th>\n",
       "      <th>Open</th>\n",
       "      <th>High</th>\n",
       "      <th>Low</th>\n",
       "      <th>Close</th>\n",
       "      <th>Adj Close</th>\n",
       "      <th>Volume</th>\n",
       "    </tr>\n",
       "  </thead>\n",
       "  <tbody>\n",
       "    <tr>\n",
       "      <th>0</th>\n",
       "      <td>2016-05-07</td>\n",
       "      <td>0.000224</td>\n",
       "      <td>0.000225</td>\n",
       "      <td>0.000221</td>\n",
       "      <td>0.000223</td>\n",
       "      <td>0.000223</td>\n",
       "      <td>83754.0</td>\n",
       "    </tr>\n",
       "    <tr>\n",
       "      <th>1</th>\n",
       "      <td>2016-05-08</td>\n",
       "      <td>0.000222</td>\n",
       "      <td>0.000223</td>\n",
       "      <td>0.000220</td>\n",
       "      <td>0.000222</td>\n",
       "      <td>0.000222</td>\n",
       "      <td>46961.0</td>\n",
       "    </tr>\n",
       "    <tr>\n",
       "      <th>2</th>\n",
       "      <td>2016-05-09</td>\n",
       "      <td>0.000222</td>\n",
       "      <td>0.000225</td>\n",
       "      <td>0.000220</td>\n",
       "      <td>0.000224</td>\n",
       "      <td>0.000224</td>\n",
       "      <td>75340.0</td>\n",
       "    </tr>\n",
       "    <tr>\n",
       "      <th>3</th>\n",
       "      <td>2016-05-10</td>\n",
       "      <td>0.000222</td>\n",
       "      <td>0.000224</td>\n",
       "      <td>0.000220</td>\n",
       "      <td>0.000220</td>\n",
       "      <td>0.000220</td>\n",
       "      <td>76419.0</td>\n",
       "    </tr>\n",
       "    <tr>\n",
       "      <th>4</th>\n",
       "      <td>2016-05-11</td>\n",
       "      <td>0.000220</td>\n",
       "      <td>0.000224</td>\n",
       "      <td>0.000220</td>\n",
       "      <td>0.000224</td>\n",
       "      <td>0.000224</td>\n",
       "      <td>71369.0</td>\n",
       "    </tr>\n",
       "  </tbody>\n",
       "</table>\n",
       "</div>"
      ],
      "text/plain": [
       "         Date      Open      High       Low     Close  Adj Close   Volume\n",
       "0  2016-05-07  0.000224  0.000225  0.000221  0.000223   0.000223  83754.0\n",
       "1  2016-05-08  0.000222  0.000223  0.000220  0.000222   0.000222  46961.0\n",
       "2  2016-05-09  0.000222  0.000225  0.000220  0.000224   0.000224  75340.0\n",
       "3  2016-05-10  0.000222  0.000224  0.000220  0.000220   0.000220  76419.0\n",
       "4  2016-05-11  0.000220  0.000224  0.000220  0.000224   0.000224  71369.0"
      ]
     },
     "execution_count": 37,
     "metadata": {},
     "output_type": "execute_result"
    }
   ],
   "source": [
    "btc_data.head()"
   ]
  },
  {
   "cell_type": "code",
   "execution_count": 38,
   "id": "aee6b390",
   "metadata": {},
   "outputs": [
    {
     "data": {
      "text/html": [
       "<div>\n",
       "<style scoped>\n",
       "    .dataframe tbody tr th:only-of-type {\n",
       "        vertical-align: middle;\n",
       "    }\n",
       "\n",
       "    .dataframe tbody tr th {\n",
       "        vertical-align: top;\n",
       "    }\n",
       "\n",
       "    .dataframe thead th {\n",
       "        text-align: right;\n",
       "    }\n",
       "</style>\n",
       "<table border=\"1\" class=\"dataframe\">\n",
       "  <thead>\n",
       "    <tr style=\"text-align: right;\">\n",
       "      <th></th>\n",
       "      <th>likes</th>\n",
       "      <th>retweets</th>\n",
       "    </tr>\n",
       "  </thead>\n",
       "  <tbody>\n",
       "    <tr>\n",
       "      <th>count</th>\n",
       "      <td>567.000000</td>\n",
       "      <td>567.000000</td>\n",
       "    </tr>\n",
       "    <tr>\n",
       "      <th>mean</th>\n",
       "      <td>65567.585538</td>\n",
       "      <td>4999.878307</td>\n",
       "    </tr>\n",
       "    <tr>\n",
       "      <th>std</th>\n",
       "      <td>118368.870881</td>\n",
       "      <td>11404.022833</td>\n",
       "    </tr>\n",
       "    <tr>\n",
       "      <th>min</th>\n",
       "      <td>1142.000000</td>\n",
       "      <td>30.000000</td>\n",
       "    </tr>\n",
       "    <tr>\n",
       "      <th>25%</th>\n",
       "      <td>4476.000000</td>\n",
       "      <td>228.000000</td>\n",
       "    </tr>\n",
       "    <tr>\n",
       "      <th>50%</th>\n",
       "      <td>11315.000000</td>\n",
       "      <td>543.000000</td>\n",
       "    </tr>\n",
       "    <tr>\n",
       "      <th>75%</th>\n",
       "      <td>64418.500000</td>\n",
       "      <td>3297.000000</td>\n",
       "    </tr>\n",
       "    <tr>\n",
       "      <th>max</th>\n",
       "      <td>900850.000000</td>\n",
       "      <td>115238.000000</td>\n",
       "    </tr>\n",
       "  </tbody>\n",
       "</table>\n",
       "</div>"
      ],
      "text/plain": [
       "               likes       retweets\n",
       "count     567.000000     567.000000\n",
       "mean    65567.585538    4999.878307\n",
       "std    118368.870881   11404.022833\n",
       "min      1142.000000      30.000000\n",
       "25%      4476.000000     228.000000\n",
       "50%     11315.000000     543.000000\n",
       "75%     64418.500000    3297.000000\n",
       "max    900850.000000  115238.000000"
      ]
     },
     "execution_count": 38,
     "metadata": {},
     "output_type": "execute_result"
    }
   ],
   "source": [
    "df.describe()"
   ]
  },
  {
   "cell_type": "markdown",
   "id": "a9cc984b",
   "metadata": {},
   "source": [
    "# EDA"
   ]
  },
  {
   "cell_type": "code",
   "execution_count": 39,
   "id": "6832785a",
   "metadata": {},
   "outputs": [
    {
     "data": {
      "image/png": "[encoded data removed]",
      "text/plain": [
       "<Figure size 720x144 with 1 Axes>"
      ]
     },
     "metadata": {
      "needs_background": "light"
     },
     "output_type": "display_data"
    }
   ],
   "source": [
    "plt.figure(figsize=(10, 2))\n",
    "sns.histplot(df.likes, bins=15);"
   ]
  },
  {
   "cell_type": "code",
   "execution_count": 40,
   "id": "0c352798",
   "metadata": {},
   "outputs": [
    {
     "data": {
      "image/png": "[encoded data removed]",
      "text/plain": [
       "<Figure size 720x144 with 1 Axes>"
      ]
     },
     "metadata": {
      "needs_background": "light"
     },
     "output_type": "display_data"
    }
   ],
   "source": [
    "plt.figure(figsize=(10, 2))\n",
    "sns.histplot(df.retweets, bins=25);"
   ]
  },
  {
   "cell_type": "code",
   "execution_count": 41,
   "id": "481c4f08",
   "metadata": {},
   "outputs": [
    {
     "data": {
      "image/png": "[encoded data removed]",
      "text/plain": [
       "<Figure size 432x288 with 1 Axes>"
      ]
     },
     "metadata": {
      "needs_background": "light"
     },
     "output_type": "display_data"
    }
   ],
   "source": [
    "sns.scatterplot(x=df.likes, y=df.retweets);"
   ]
  },
  {
   "cell_type": "markdown",
   "id": "3edb1541",
   "metadata": {},
   "source": [
    "There we can see a linera correlation between tweets and likes"
   ]
  },
  {
   "cell_type": "code",
   "execution_count": 49,
   "id": "304bfb03",
   "metadata": {},
   "outputs": [],
   "source": [
    "mean_likes = df[df.likes != 0].groupby(by=[df.datetime.dt.year, df.datetime.dt.month]).agg({'likes': 'mean'})"
   ]
  },
  {
   "cell_type": "code",
   "execution_count": 50,
   "id": "2828c8c7",
   "metadata": {},
   "outputs": [],
   "source": [
    "mean_likes['date'] = [datetime.date(date[0], date[1], 1) for date in mean_likes.index]"
   ]
  },
  {
   "cell_type": "code",
   "execution_count": 51,
   "id": "e3f93971",
   "metadata": {},
   "outputs": [],
   "source": [
    "mean_likes = mean_likes.set_index(mean_likes['date']).drop('date', axis=1)"
   ]
  },
  {
   "cell_type": "code",
   "execution_count": 52,
   "id": "4173cef4",
   "metadata": {},
   "outputs": [
    {
     "data": {
      "text/plain": [
       "<AxesSubplot:xlabel='date', ylabel='likes'>"
      ]
     },
     "execution_count": 52,
     "metadata": {},
     "output_type": "execute_result"
    },
    {
     "data": {
      "image/png": "[encoded data removed]",
      "text/plain": [
       "<Figure size 1080x144 with 1 Axes>"
      ]
     },
     "metadata": {
      "needs_background": "light"
     },
     "output_type": "display_data"
    }
   ],
   "source": [
    "plt.figure(figsize=(15, 2))\n",
    "\n",
    "sns.lineplot(y=mean_likes.likes, x=mean_likes.index)"
   ]
  },
  {
   "cell_type": "code",
   "execution_count": 48,
   "id": "a80f6743",
   "metadata": {},
   "outputs": [
    {
     "data": {
      "text/plain": [
       "<AxesSubplot:xlabel='datetime', ylabel='likes'>"
      ]
     },
     "execution_count": 48,
     "metadata": {},
     "output_type": "execute_result"
    },
    {
     "data": {
      "image/png": "[encoded data removed]",
      "text/plain": [
       "<Figure size 1080x144 with 1 Axes>"
      ]
     },
     "metadata": {
      "needs_background": "light"
     },
     "output_type": "display_data"
    }
   ],
   "source": [
    "plt.figure(figsize=(15, 2))\n",
    "\n",
    "sns.lineplot(y=df.likes[df.likes != 0], x=df.datetime[df.likes != 0])"
   ]
  },
  {
   "cell_type": "code",
   "execution_count": 46,
   "id": "1d5f3a4e",
   "metadata": {},
   "outputs": [
    {
     "data": {
      "image/png": "[encoded data removed]",
      "text/plain": [
       "<Figure size 432x288 with 1 Axes>"
      ]
     },
     "metadata": {
      "needs_background": "light"
     },
     "output_type": "display_data"
    }
   ],
   "source": [
    "likes_log = np.log(df.likes)\n",
    "\n",
    "likes_mean = likes_log.mean()\n",
    "likes_median = likes_log.median()\n",
    "\n",
    "sns.histplot(likes_log);\n",
    "plt.axvline(likes_mean, color='r', linestyle='--', linewidth=10);\n",
    "plt.axvline(likes_median, color='g', linestyle='-', linewidth=10);"
   ]
  },
  {
   "cell_type": "code",
   "execution_count": 47,
   "id": "33feec3c",
   "metadata": {},
   "outputs": [
    {
     "data": {
      "image/png": "[encoded data removed]",
      "text/plain": [
       "<Figure size 720x144 with 1 Axes>"
      ]
     },
     "metadata": {
      "needs_background": "light"
     },
     "output_type": "display_data"
    }
   ],
   "source": [
    "plt.figure(figsize=(10, 2))\n",
    "sns.boxplot(x=np.log(df.likes));"
   ]
  },
  {
   "cell_type": "code",
   "execution_count": null,
   "id": "bf380e71",
   "metadata": {},
   "outputs": [],
   "source": []
  }
 ],
 "metadata": {
  "kernelspec": {
   "display_name": "Python 3",
   "language": "python",
   "name": "python3"
  },
  "language_info": {
   "codemirror_mode": {
    "name": "ipython",
    "version": 3
   },
   "file_extension": ".py",
   "mimetype": "text/x-python",
   "name": "python",
   "nbconvert_exporter": "python",
   "pygments_lexer": "ipython3",
   "version": "3.6.13"
  }
 },
 "nbformat": 4,
 "nbformat_minor": 5
}
