{
 "cells": [
  {
   "cell_type": "markdown",
   "id": "1c537568",
   "metadata": {},
   "source": [
    "# How Elon Musk influence Dogecoin"
   ]
  },
  {
   "cell_type": "code",
   "execution_count": 1,
   "id": "dd323b25",
   "metadata": {},
   "outputs": [],
   "source": [
    "import pandas as pd\n",
    "import numpy as np\n",
    "import matplotlib.pyplot as plt\n",
    "import seaborn as sns\n",
    "\n",
    "from sklearn.preprocessing import Normalizer\n",
    "from sklearn.preprocessing import StandardScaler\n",
    "from datetime import datetime\n",
    "from scipy import stats\n",
    "import random"
   ]
  },
  {
   "cell_type": "code",
   "execution_count": 2,
   "id": "700b3b18",
   "metadata": {},
   "outputs": [],
   "source": [
    "columns = ['tweet_id', 'publisher_id', 'tweet_content', 'publisher_name', 'datetime', 'likes', 'retweets', 'hashtags']\n",
    "\n",
    "df = pd.read_csv('elonmusk_tweets_extended.csv', names=columns)"
   ]
  },
  {
   "cell_type": "code",
   "execution_count": 3,
   "id": "7138bc0d",
   "metadata": {},
   "outputs": [
    {
     "data": {
      "text/html": [
       "<div>\n",
       "<style scoped>\n",
       "    .dataframe tbody tr th:only-of-type {\n",
       "        vertical-align: middle;\n",
       "    }\n",
       "\n",
       "    .dataframe tbody tr th {\n",
       "        vertical-align: top;\n",
       "    }\n",
       "\n",
       "    .dataframe thead th {\n",
       "        text-align: right;\n",
       "    }\n",
       "</style>\n",
       "<table border=\"1\" class=\"dataframe\">\n",
       "  <thead>\n",
       "    <tr style=\"text-align: right;\">\n",
       "      <th></th>\n",
       "      <th>tweet_id</th>\n",
       "      <th>publisher_id</th>\n",
       "      <th>tweet_content</th>\n",
       "      <th>publisher_name</th>\n",
       "      <th>datetime</th>\n",
       "      <th>likes</th>\n",
       "      <th>retweets</th>\n",
       "      <th>hashtags</th>\n",
       "    </tr>\n",
       "  </thead>\n",
       "  <tbody>\n",
       "    <tr>\n",
       "      <th>0</th>\n",
       "      <td>1344044584712728581</td>\n",
       "      <td>44196397</td>\n",
       "      <td>All Tesla cars delivered in the final three da...</td>\n",
       "      <td>Elon Musk</td>\n",
       "      <td>2020-12-29 22:16:14</td>\n",
       "      <td>73052</td>\n",
       "      <td>3507</td>\n",
       "      <td>[]</td>\n",
       "    </tr>\n",
       "    <tr>\n",
       "      <th>1</th>\n",
       "      <td>1344154578678214657</td>\n",
       "      <td>44196397</td>\n",
       "      <td>Destiny, destinyNo escaping that for me</td>\n",
       "      <td>Elon Musk</td>\n",
       "      <td>2020-12-30 05:33:19</td>\n",
       "      <td>155133</td>\n",
       "      <td>11438</td>\n",
       "      <td>[]</td>\n",
       "    </tr>\n",
       "    <tr>\n",
       "      <th>2</th>\n",
       "      <td>1344190775182016512</td>\n",
       "      <td>44196397</td>\n",
       "      <td>@tobyliiiiiiiiii Are we sure this is real?</td>\n",
       "      <td>Elon Musk</td>\n",
       "      <td>2020-12-30 07:57:09</td>\n",
       "      <td>5680</td>\n",
       "      <td>179</td>\n",
       "      <td>[]</td>\n",
       "    </tr>\n",
       "    <tr>\n",
       "      <th>3</th>\n",
       "      <td>1344210828052946944</td>\n",
       "      <td>44196397</td>\n",
       "      <td>@harsimranbansal Literally</td>\n",
       "      <td>Elon Musk</td>\n",
       "      <td>2020-12-30 09:16:50</td>\n",
       "      <td>3033</td>\n",
       "      <td>56</td>\n",
       "      <td>[]</td>\n",
       "    </tr>\n",
       "    <tr>\n",
       "      <th>4</th>\n",
       "      <td>1344212785228435457</td>\n",
       "      <td>44196397</td>\n",
       "      <td>@Tesmanian_com This is very sensible. Oppositi...</td>\n",
       "      <td>Elon Musk</td>\n",
       "      <td>2020-12-30 09:24:36</td>\n",
       "      <td>4322</td>\n",
       "      <td>165</td>\n",
       "      <td>[]</td>\n",
       "    </tr>\n",
       "  </tbody>\n",
       "</table>\n",
       "</div>"
      ],
      "text/plain": [
       "              tweet_id  publisher_id  \\\n",
       "0  1344044584712728581      44196397   \n",
       "1  1344154578678214657      44196397   \n",
       "2  1344190775182016512      44196397   \n",
       "3  1344210828052946944      44196397   \n",
       "4  1344212785228435457      44196397   \n",
       "\n",
       "                                       tweet_content publisher_name  \\\n",
       "0  All Tesla cars delivered in the final three da...      Elon Musk   \n",
       "1            Destiny, destinyNo escaping that for me      Elon Musk   \n",
       "2         @tobyliiiiiiiiii Are we sure this is real?      Elon Musk   \n",
       "3                         @harsimranbansal Literally      Elon Musk   \n",
       "4  @Tesmanian_com This is very sensible. Oppositi...      Elon Musk   \n",
       "\n",
       "              datetime   likes  retweets hashtags  \n",
       "0  2020-12-29 22:16:14   73052      3507       []  \n",
       "1  2020-12-30 05:33:19  155133     11438       []  \n",
       "2  2020-12-30 07:57:09    5680       179       []  \n",
       "3  2020-12-30 09:16:50    3033        56       []  \n",
       "4  2020-12-30 09:24:36    4322       165       []  "
      ]
     },
     "execution_count": 3,
     "metadata": {},
     "output_type": "execute_result"
    }
   ],
   "source": [
    "df.head()"
   ]
  },
  {
   "cell_type": "code",
   "execution_count": 4,
   "id": "fba4b42a",
   "metadata": {},
   "outputs": [],
   "source": [
    "df = df.drop(['tweet_id', 'publisher_id', 'publisher_name', 'hashtags'], axis=1)"
   ]
  },
  {
   "cell_type": "code",
   "execution_count": 5,
   "id": "235ae810",
   "metadata": {},
   "outputs": [
    {
     "data": {
      "text/html": [
       "<div>\n",
       "<style scoped>\n",
       "    .dataframe tbody tr th:only-of-type {\n",
       "        vertical-align: middle;\n",
       "    }\n",
       "\n",
       "    .dataframe tbody tr th {\n",
       "        vertical-align: top;\n",
       "    }\n",
       "\n",
       "    .dataframe thead th {\n",
       "        text-align: right;\n",
       "    }\n",
       "</style>\n",
       "<table border=\"1\" class=\"dataframe\">\n",
       "  <thead>\n",
       "    <tr style=\"text-align: right;\">\n",
       "      <th></th>\n",
       "      <th>tweet_content</th>\n",
       "      <th>datetime</th>\n",
       "      <th>likes</th>\n",
       "      <th>retweets</th>\n",
       "    </tr>\n",
       "  </thead>\n",
       "  <tbody>\n",
       "    <tr>\n",
       "      <th>0</th>\n",
       "      <td>All Tesla cars delivered in the final three da...</td>\n",
       "      <td>2020-12-29 22:16:14</td>\n",
       "      <td>73052</td>\n",
       "      <td>3507</td>\n",
       "    </tr>\n",
       "    <tr>\n",
       "      <th>1</th>\n",
       "      <td>Destiny, destinyNo escaping that for me</td>\n",
       "      <td>2020-12-30 05:33:19</td>\n",
       "      <td>155133</td>\n",
       "      <td>11438</td>\n",
       "    </tr>\n",
       "    <tr>\n",
       "      <th>2</th>\n",
       "      <td>@tobyliiiiiiiiii Are we sure this is real?</td>\n",
       "      <td>2020-12-30 07:57:09</td>\n",
       "      <td>5680</td>\n",
       "      <td>179</td>\n",
       "    </tr>\n",
       "    <tr>\n",
       "      <th>3</th>\n",
       "      <td>@harsimranbansal Literally</td>\n",
       "      <td>2020-12-30 09:16:50</td>\n",
       "      <td>3033</td>\n",
       "      <td>56</td>\n",
       "    </tr>\n",
       "    <tr>\n",
       "      <th>4</th>\n",
       "      <td>@Tesmanian_com This is very sensible. Oppositi...</td>\n",
       "      <td>2020-12-30 09:24:36</td>\n",
       "      <td>4322</td>\n",
       "      <td>165</td>\n",
       "    </tr>\n",
       "  </tbody>\n",
       "</table>\n",
       "</div>"
      ],
      "text/plain": [
       "                                       tweet_content             datetime  \\\n",
       "0  All Tesla cars delivered in the final three da...  2020-12-29 22:16:14   \n",
       "1            Destiny, destinyNo escaping that for me  2020-12-30 05:33:19   \n",
       "2         @tobyliiiiiiiiii Are we sure this is real?  2020-12-30 07:57:09   \n",
       "3                         @harsimranbansal Literally  2020-12-30 09:16:50   \n",
       "4  @Tesmanian_com This is very sensible. Oppositi...  2020-12-30 09:24:36   \n",
       "\n",
       "    likes  retweets  \n",
       "0   73052      3507  \n",
       "1  155133     11438  \n",
       "2    5680       179  \n",
       "3    3033        56  \n",
       "4    4322       165  "
      ]
     },
     "execution_count": 5,
     "metadata": {},
     "output_type": "execute_result"
    }
   ],
   "source": [
    "df.head()"
   ]
  },
  {
   "cell_type": "code",
   "execution_count": 6,
   "id": "dc0487a0",
   "metadata": {},
   "outputs": [],
   "source": [
    "df.datetime = pd.to_datetime(pd.to_datetime(df.datetime).dt.date)"
   ]
  },
  {
   "cell_type": "code",
   "execution_count": 7,
   "id": "66334bef",
   "metadata": {},
   "outputs": [
    {
     "data": {
      "text/html": [
       "<div>\n",
       "<style scoped>\n",
       "    .dataframe tbody tr th:only-of-type {\n",
       "        vertical-align: middle;\n",
       "    }\n",
       "\n",
       "    .dataframe tbody tr th {\n",
       "        vertical-align: top;\n",
       "    }\n",
       "\n",
       "    .dataframe thead th {\n",
       "        text-align: right;\n",
       "    }\n",
       "</style>\n",
       "<table border=\"1\" class=\"dataframe\">\n",
       "  <thead>\n",
       "    <tr style=\"text-align: right;\">\n",
       "      <th></th>\n",
       "      <th>tweet_content</th>\n",
       "      <th>datetime</th>\n",
       "      <th>likes</th>\n",
       "      <th>retweets</th>\n",
       "    </tr>\n",
       "  </thead>\n",
       "  <tbody>\n",
       "    <tr>\n",
       "      <th>0</th>\n",
       "      <td>All Tesla cars delivered in the final three da...</td>\n",
       "      <td>2020-12-29</td>\n",
       "      <td>73052</td>\n",
       "      <td>3507</td>\n",
       "    </tr>\n",
       "    <tr>\n",
       "      <th>1</th>\n",
       "      <td>Destiny, destinyNo escaping that for me</td>\n",
       "      <td>2020-12-30</td>\n",
       "      <td>155133</td>\n",
       "      <td>11438</td>\n",
       "    </tr>\n",
       "    <tr>\n",
       "      <th>2</th>\n",
       "      <td>@tobyliiiiiiiiii Are we sure this is real?</td>\n",
       "      <td>2020-12-30</td>\n",
       "      <td>5680</td>\n",
       "      <td>179</td>\n",
       "    </tr>\n",
       "    <tr>\n",
       "      <th>3</th>\n",
       "      <td>@harsimranbansal Literally</td>\n",
       "      <td>2020-12-30</td>\n",
       "      <td>3033</td>\n",
       "      <td>56</td>\n",
       "    </tr>\n",
       "    <tr>\n",
       "      <th>4</th>\n",
       "      <td>@Tesmanian_com This is very sensible. Oppositi...</td>\n",
       "      <td>2020-12-30</td>\n",
       "      <td>4322</td>\n",
       "      <td>165</td>\n",
       "    </tr>\n",
       "  </tbody>\n",
       "</table>\n",
       "</div>"
      ],
      "text/plain": [
       "                                       tweet_content   datetime   likes  \\\n",
       "0  All Tesla cars delivered in the final three da... 2020-12-29   73052   \n",
       "1            Destiny, destinyNo escaping that for me 2020-12-30  155133   \n",
       "2         @tobyliiiiiiiiii Are we sure this is real? 2020-12-30    5680   \n",
       "3                         @harsimranbansal Literally 2020-12-30    3033   \n",
       "4  @Tesmanian_com This is very sensible. Oppositi... 2020-12-30    4322   \n",
       "\n",
       "   retweets  \n",
       "0      3507  \n",
       "1     11438  \n",
       "2       179  \n",
       "3        56  \n",
       "4       165  "
      ]
     },
     "execution_count": 7,
     "metadata": {},
     "output_type": "execute_result"
    }
   ],
   "source": [
    "df.head()"
   ]
  },
  {
   "cell_type": "code",
   "execution_count": 8,
   "id": "245f057e",
   "metadata": {},
   "outputs": [],
   "source": [
    "dogecoin_data = pd.read_csv('dogecoin.csv')"
   ]
  },
  {
   "cell_type": "code",
   "execution_count": 9,
   "id": "af927580",
   "metadata": {},
   "outputs": [
    {
     "data": {
      "text/plain": [
       "(1827, 7)"
      ]
     },
     "execution_count": 9,
     "metadata": {},
     "output_type": "execute_result"
    }
   ],
   "source": [
    "dogecoin_data.shape"
   ]
  },
  {
   "cell_type": "code",
   "execution_count": 10,
   "id": "542de250",
   "metadata": {},
   "outputs": [
    {
     "data": {
      "text/html": [
       "<div>\n",
       "<style scoped>\n",
       "    .dataframe tbody tr th:only-of-type {\n",
       "        vertical-align: middle;\n",
       "    }\n",
       "\n",
       "    .dataframe tbody tr th {\n",
       "        vertical-align: top;\n",
       "    }\n",
       "\n",
       "    .dataframe thead th {\n",
       "        text-align: right;\n",
       "    }\n",
       "</style>\n",
       "<table border=\"1\" class=\"dataframe\">\n",
       "  <thead>\n",
       "    <tr style=\"text-align: right;\">\n",
       "      <th></th>\n",
       "      <th>Date</th>\n",
       "      <th>Open</th>\n",
       "      <th>High</th>\n",
       "      <th>Low</th>\n",
       "      <th>Close</th>\n",
       "      <th>Adj Close</th>\n",
       "      <th>Volume</th>\n",
       "    </tr>\n",
       "  </thead>\n",
       "  <tbody>\n",
       "    <tr>\n",
       "      <th>1822</th>\n",
       "      <td>2021-05-03</td>\n",
       "      <td>0.373631</td>\n",
       "      <td>0.445567</td>\n",
       "      <td>0.373631</td>\n",
       "      <td>0.441707</td>\n",
       "      <td>0.441707</td>\n",
       "      <td>1.052665e+10</td>\n",
       "    </tr>\n",
       "    <tr>\n",
       "      <th>1823</th>\n",
       "      <td>2021-05-04</td>\n",
       "      <td>0.440274</td>\n",
       "      <td>0.605998</td>\n",
       "      <td>0.400800</td>\n",
       "      <td>0.541334</td>\n",
       "      <td>0.541334</td>\n",
       "      <td>3.823813e+10</td>\n",
       "    </tr>\n",
       "    <tr>\n",
       "      <th>1824</th>\n",
       "      <td>2021-05-05</td>\n",
       "      <td>0.537355</td>\n",
       "      <td>0.695262</td>\n",
       "      <td>0.523822</td>\n",
       "      <td>0.657633</td>\n",
       "      <td>0.657633</td>\n",
       "      <td>4.252510e+10</td>\n",
       "    </tr>\n",
       "    <tr>\n",
       "      <th>1825</th>\n",
       "      <td>2021-05-06</td>\n",
       "      <td>0.652842</td>\n",
       "      <td>0.663616</td>\n",
       "      <td>0.545102</td>\n",
       "      <td>0.580804</td>\n",
       "      <td>0.580804</td>\n",
       "      <td>1.898990e+10</td>\n",
       "    </tr>\n",
       "    <tr>\n",
       "      <th>1826</th>\n",
       "      <td>2021-05-07</td>\n",
       "      <td>0.582930</td>\n",
       "      <td>0.653523</td>\n",
       "      <td>0.520342</td>\n",
       "      <td>0.645051</td>\n",
       "      <td>0.645051</td>\n",
       "      <td>2.076569e+10</td>\n",
       "    </tr>\n",
       "  </tbody>\n",
       "</table>\n",
       "</div>"
      ],
      "text/plain": [
       "            Date      Open      High       Low     Close  Adj Close  \\\n",
       "1822  2021-05-03  0.373631  0.445567  0.373631  0.441707   0.441707   \n",
       "1823  2021-05-04  0.440274  0.605998  0.400800  0.541334   0.541334   \n",
       "1824  2021-05-05  0.537355  0.695262  0.523822  0.657633   0.657633   \n",
       "1825  2021-05-06  0.652842  0.663616  0.545102  0.580804   0.580804   \n",
       "1826  2021-05-07  0.582930  0.653523  0.520342  0.645051   0.645051   \n",
       "\n",
       "            Volume  \n",
       "1822  1.052665e+10  \n",
       "1823  3.823813e+10  \n",
       "1824  4.252510e+10  \n",
       "1825  1.898990e+10  \n",
       "1826  2.076569e+10  "
      ]
     },
     "execution_count": 10,
     "metadata": {},
     "output_type": "execute_result"
    }
   ],
   "source": [
    "dogecoin_data.tail()"
   ]
  },
  {
   "cell_type": "markdown",
   "id": "4e589602",
   "metadata": {},
   "source": [
    "### Convert str date to date"
   ]
  },
  {
   "cell_type": "code",
   "execution_count": 11,
   "id": "df6882eb",
   "metadata": {},
   "outputs": [],
   "source": [
    "df['datetime'] = pd.to_datetime(df.datetime)"
   ]
  },
  {
   "cell_type": "code",
   "execution_count": 12,
   "id": "17cf4aba",
   "metadata": {},
   "outputs": [],
   "source": [
    "dogecoin_data['datetime'] = pd.to_datetime(dogecoin_data.Date)"
   ]
  },
  {
   "cell_type": "code",
   "execution_count": 13,
   "id": "9bb46900",
   "metadata": {},
   "outputs": [
    {
     "data": {
      "text/html": [
       "<div>\n",
       "<style scoped>\n",
       "    .dataframe tbody tr th:only-of-type {\n",
       "        vertical-align: middle;\n",
       "    }\n",
       "\n",
       "    .dataframe tbody tr th {\n",
       "        vertical-align: top;\n",
       "    }\n",
       "\n",
       "    .dataframe thead th {\n",
       "        text-align: right;\n",
       "    }\n",
       "</style>\n",
       "<table border=\"1\" class=\"dataframe\">\n",
       "  <thead>\n",
       "    <tr style=\"text-align: right;\">\n",
       "      <th></th>\n",
       "      <th>tweet_content</th>\n",
       "      <th>datetime</th>\n",
       "      <th>likes</th>\n",
       "      <th>retweets</th>\n",
       "    </tr>\n",
       "  </thead>\n",
       "  <tbody>\n",
       "    <tr>\n",
       "      <th>0</th>\n",
       "      <td>All Tesla cars delivered in the final three da...</td>\n",
       "      <td>2020-12-29</td>\n",
       "      <td>73052</td>\n",
       "      <td>3507</td>\n",
       "    </tr>\n",
       "    <tr>\n",
       "      <th>1</th>\n",
       "      <td>Destiny, destinyNo escaping that for me</td>\n",
       "      <td>2020-12-30</td>\n",
       "      <td>155133</td>\n",
       "      <td>11438</td>\n",
       "    </tr>\n",
       "    <tr>\n",
       "      <th>2</th>\n",
       "      <td>@tobyliiiiiiiiii Are we sure this is real?</td>\n",
       "      <td>2020-12-30</td>\n",
       "      <td>5680</td>\n",
       "      <td>179</td>\n",
       "    </tr>\n",
       "    <tr>\n",
       "      <th>3</th>\n",
       "      <td>@harsimranbansal Literally</td>\n",
       "      <td>2020-12-30</td>\n",
       "      <td>3033</td>\n",
       "      <td>56</td>\n",
       "    </tr>\n",
       "    <tr>\n",
       "      <th>4</th>\n",
       "      <td>@Tesmanian_com This is very sensible. Oppositi...</td>\n",
       "      <td>2020-12-30</td>\n",
       "      <td>4322</td>\n",
       "      <td>165</td>\n",
       "    </tr>\n",
       "  </tbody>\n",
       "</table>\n",
       "</div>"
      ],
      "text/plain": [
       "                                       tweet_content   datetime   likes  \\\n",
       "0  All Tesla cars delivered in the final three da... 2020-12-29   73052   \n",
       "1            Destiny, destinyNo escaping that for me 2020-12-30  155133   \n",
       "2         @tobyliiiiiiiiii Are we sure this is real? 2020-12-30    5680   \n",
       "3                         @harsimranbansal Literally 2020-12-30    3033   \n",
       "4  @Tesmanian_com This is very sensible. Oppositi... 2020-12-30    4322   \n",
       "\n",
       "   retweets  \n",
       "0      3507  \n",
       "1     11438  \n",
       "2       179  \n",
       "3        56  \n",
       "4       165  "
      ]
     },
     "execution_count": 13,
     "metadata": {},
     "output_type": "execute_result"
    }
   ],
   "source": [
    "df.head()"
   ]
  },
  {
   "cell_type": "code",
   "execution_count": 14,
   "id": "aee6b390",
   "metadata": {},
   "outputs": [
    {
     "data": {
      "text/html": [
       "<div>\n",
       "<style scoped>\n",
       "    .dataframe tbody tr th:only-of-type {\n",
       "        vertical-align: middle;\n",
       "    }\n",
       "\n",
       "    .dataframe tbody tr th {\n",
       "        vertical-align: top;\n",
       "    }\n",
       "\n",
       "    .dataframe thead th {\n",
       "        text-align: right;\n",
       "    }\n",
       "</style>\n",
       "<table border=\"1\" class=\"dataframe\">\n",
       "  <thead>\n",
       "    <tr style=\"text-align: right;\">\n",
       "      <th></th>\n",
       "      <th>likes</th>\n",
       "      <th>retweets</th>\n",
       "    </tr>\n",
       "  </thead>\n",
       "  <tbody>\n",
       "    <tr>\n",
       "      <th>count</th>\n",
       "      <td>9.590000e+02</td>\n",
       "      <td>959.000000</td>\n",
       "    </tr>\n",
       "    <tr>\n",
       "      <th>mean</th>\n",
       "      <td>7.553052e+04</td>\n",
       "      <td>6231.608968</td>\n",
       "    </tr>\n",
       "    <tr>\n",
       "      <th>std</th>\n",
       "      <td>1.412828e+05</td>\n",
       "      <td>15516.214275</td>\n",
       "    </tr>\n",
       "    <tr>\n",
       "      <th>min</th>\n",
       "      <td>8.710000e+02</td>\n",
       "      <td>21.000000</td>\n",
       "    </tr>\n",
       "    <tr>\n",
       "      <th>25%</th>\n",
       "      <td>4.983500e+03</td>\n",
       "      <td>230.000000</td>\n",
       "    </tr>\n",
       "    <tr>\n",
       "      <th>50%</th>\n",
       "      <td>1.254200e+04</td>\n",
       "      <td>618.000000</td>\n",
       "    </tr>\n",
       "    <tr>\n",
       "      <th>75%</th>\n",
       "      <td>7.458800e+04</td>\n",
       "      <td>3712.500000</td>\n",
       "    </tr>\n",
       "    <tr>\n",
       "      <th>max</th>\n",
       "      <td>1.001120e+06</td>\n",
       "      <td>149329.000000</td>\n",
       "    </tr>\n",
       "  </tbody>\n",
       "</table>\n",
       "</div>"
      ],
      "text/plain": [
       "              likes       retweets\n",
       "count  9.590000e+02     959.000000\n",
       "mean   7.553052e+04    6231.608968\n",
       "std    1.412828e+05   15516.214275\n",
       "min    8.710000e+02      21.000000\n",
       "25%    4.983500e+03     230.000000\n",
       "50%    1.254200e+04     618.000000\n",
       "75%    7.458800e+04    3712.500000\n",
       "max    1.001120e+06  149329.000000"
      ]
     },
     "execution_count": 14,
     "metadata": {},
     "output_type": "execute_result"
    }
   ],
   "source": [
    "df.describe()"
   ]
  },
  {
   "cell_type": "markdown",
   "id": "a9cc984b",
   "metadata": {},
   "source": [
    "# EDA"
   ]
  },
  {
   "cell_type": "markdown",
   "id": "a8dc1684",
   "metadata": {},
   "source": [
    "### Transfrom all tweet content into lowercase"
   ]
  },
  {
   "cell_type": "code",
   "execution_count": 15,
   "id": "f12064b8",
   "metadata": {},
   "outputs": [],
   "source": [
    "df.tweet_content = df.tweet_content.str.lower()"
   ]
  },
  {
   "cell_type": "markdown",
   "id": "9c3b8889",
   "metadata": {},
   "source": [
    "# Search for dogecoin mentions"
   ]
  },
  {
   "cell_type": "code",
   "execution_count": 16,
   "id": "9c856ac2",
   "metadata": {},
   "outputs": [],
   "source": [
    "tweets_about_dogecoin_indeces = df.tweet_content.str.find('doge')\n",
    "df['isDogecoin'] = 0\n",
    "df.loc[tweets_about_dogecoin_indeces >= 0, 'isDogecoin'] = 1"
   ]
  },
  {
   "cell_type": "code",
   "execution_count": 17,
   "id": "b45b9a48",
   "metadata": {},
   "outputs": [
    {
     "data": {
      "text/html": [
       "<div>\n",
       "<style scoped>\n",
       "    .dataframe tbody tr th:only-of-type {\n",
       "        vertical-align: middle;\n",
       "    }\n",
       "\n",
       "    .dataframe tbody tr th {\n",
       "        vertical-align: top;\n",
       "    }\n",
       "\n",
       "    .dataframe thead th {\n",
       "        text-align: right;\n",
       "    }\n",
       "</style>\n",
       "<table border=\"1\" class=\"dataframe\">\n",
       "  <thead>\n",
       "    <tr style=\"text-align: right;\">\n",
       "      <th></th>\n",
       "      <th>tweet_content</th>\n",
       "      <th>datetime</th>\n",
       "      <th>likes</th>\n",
       "      <th>retweets</th>\n",
       "      <th>isDogecoin</th>\n",
       "    </tr>\n",
       "  </thead>\n",
       "  <tbody>\n",
       "    <tr>\n",
       "      <th>0</th>\n",
       "      <td>all tesla cars delivered in the final three da...</td>\n",
       "      <td>2020-12-29</td>\n",
       "      <td>73052</td>\n",
       "      <td>3507</td>\n",
       "      <td>0</td>\n",
       "    </tr>\n",
       "    <tr>\n",
       "      <th>1</th>\n",
       "      <td>destiny, destinyno escaping that for me</td>\n",
       "      <td>2020-12-30</td>\n",
       "      <td>155133</td>\n",
       "      <td>11438</td>\n",
       "      <td>0</td>\n",
       "    </tr>\n",
       "    <tr>\n",
       "      <th>2</th>\n",
       "      <td>@tobyliiiiiiiiii are we sure this is real?</td>\n",
       "      <td>2020-12-30</td>\n",
       "      <td>5680</td>\n",
       "      <td>179</td>\n",
       "      <td>0</td>\n",
       "    </tr>\n",
       "    <tr>\n",
       "      <th>3</th>\n",
       "      <td>@harsimranbansal literally</td>\n",
       "      <td>2020-12-30</td>\n",
       "      <td>3033</td>\n",
       "      <td>56</td>\n",
       "      <td>0</td>\n",
       "    </tr>\n",
       "    <tr>\n",
       "      <th>4</th>\n",
       "      <td>@tesmanian_com this is very sensible. oppositi...</td>\n",
       "      <td>2020-12-30</td>\n",
       "      <td>4322</td>\n",
       "      <td>165</td>\n",
       "      <td>0</td>\n",
       "    </tr>\n",
       "  </tbody>\n",
       "</table>\n",
       "</div>"
      ],
      "text/plain": [
       "                                       tweet_content   datetime   likes  \\\n",
       "0  all tesla cars delivered in the final three da... 2020-12-29   73052   \n",
       "1            destiny, destinyno escaping that for me 2020-12-30  155133   \n",
       "2         @tobyliiiiiiiiii are we sure this is real? 2020-12-30    5680   \n",
       "3                         @harsimranbansal literally 2020-12-30    3033   \n",
       "4  @tesmanian_com this is very sensible. oppositi... 2020-12-30    4322   \n",
       "\n",
       "   retweets  isDogecoin  \n",
       "0      3507           0  \n",
       "1     11438           0  \n",
       "2       179           0  \n",
       "3        56           0  \n",
       "4       165           0  "
      ]
     },
     "execution_count": 17,
     "metadata": {},
     "output_type": "execute_result"
    }
   ],
   "source": [
    "df.head()"
   ]
  },
  {
   "cell_type": "code",
   "execution_count": 18,
   "id": "02a943cc",
   "metadata": {},
   "outputs": [
    {
     "data": {
      "text/plain": [
       "Timestamp('2020-12-29 00:00:00')"
      ]
     },
     "execution_count": 18,
     "metadata": {},
     "output_type": "execute_result"
    }
   ],
   "source": [
    "df.datetime.min()"
   ]
  },
  {
   "cell_type": "code",
   "execution_count": 19,
   "id": "2e0622ac",
   "metadata": {},
   "outputs": [
    {
     "data": {
      "text/plain": [
       "Timestamp('2021-05-07 00:00:00')"
      ]
     },
     "execution_count": 19,
     "metadata": {},
     "output_type": "execute_result"
    }
   ],
   "source": [
    "df.datetime.max()"
   ]
  },
  {
   "cell_type": "code",
   "execution_count": 20,
   "id": "0c1e28c8",
   "metadata": {},
   "outputs": [
    {
     "data": {
      "image/png": "[encoded data removed]",
      "text/plain": [
       "<Figure size 1080x216 with 1 Axes>"
      ]
     },
     "metadata": {
      "needs_background": "light"
     },
     "output_type": "display_data"
    }
   ],
   "source": [
    "plt.figure(figsize=(15, 3))\n",
    "sns.scatterplot(data=df, x=df.datetime, y=df.isDogecoin[df.isDogecoin == 1], s=700, alpha=0.4);"
   ]
  },
  {
   "cell_type": "code",
   "execution_count": 21,
   "id": "6832785a",
   "metadata": {},
   "outputs": [
    {
     "data": {
      "image/png": "[encoded data removed]",
      "text/plain": [
       "<Figure size 720x144 with 1 Axes>"
      ]
     },
     "metadata": {
      "needs_background": "light"
     },
     "output_type": "display_data"
    }
   ],
   "source": [
    "plt.figure(figsize=(10, 2))\n",
    "sns.histplot(df.likes, bins=15);"
   ]
  },
  {
   "cell_type": "code",
   "execution_count": 22,
   "id": "0c352798",
   "metadata": {},
   "outputs": [
    {
     "data": {
      "image/png": "[encoded data removed]",
      "text/plain": [
       "<Figure size 720x144 with 1 Axes>"
      ]
     },
     "metadata": {
      "needs_background": "light"
     },
     "output_type": "display_data"
    }
   ],
   "source": [
    "plt.figure(figsize=(10, 2))\n",
    "sns.histplot(df.retweets, bins=25);"
   ]
  },
  {
   "cell_type": "code",
   "execution_count": 23,
   "id": "481c4f08",
   "metadata": {},
   "outputs": [
    {
     "data": {
      "image/png": "[encoded data removed]",
      "text/plain": [
       "<Figure size 432x288 with 1 Axes>"
      ]
     },
     "metadata": {
      "needs_background": "light"
     },
     "output_type": "display_data"
    }
   ],
   "source": [
    "sns.scatterplot(x=df.likes, y=df.retweets);"
   ]
  },
  {
   "cell_type": "markdown",
   "id": "3edb1541",
   "metadata": {},
   "source": [
    "There we can see a linera correlation between tweets and likes"
   ]
  },
  {
   "cell_type": "code",
   "execution_count": 24,
   "id": "1d5f3a4e",
   "metadata": {},
   "outputs": [
    {
     "data": {
      "image/png": "[encoded data removed]",
      "text/plain": [
       "<Figure size 432x288 with 1 Axes>"
      ]
     },
     "metadata": {
      "needs_background": "light"
     },
     "output_type": "display_data"
    }
   ],
   "source": [
    "likes_log = np.log(df.likes)\n",
    "\n",
    "likes_mean = likes_log.mean()\n",
    "likes_median = likes_log.median()\n",
    "\n",
    "sns.histplot(likes_log);\n",
    "plt.axvline(likes_mean, color='red', linestyle='--', linewidth=5);\n",
    "plt.axvline(likes_median, color='black', linestyle='-', linewidth=5);"
   ]
  },
  {
   "cell_type": "code",
   "execution_count": 25,
   "id": "33feec3c",
   "metadata": {},
   "outputs": [
    {
     "data": {
      "image/png": "[encoded data removed]",
      "text/plain": [
       "<Figure size 1080x144 with 1 Axes>"
      ]
     },
     "metadata": {
      "needs_background": "light"
     },
     "output_type": "display_data"
    }
   ],
   "source": [
    "plt.figure(figsize=(15, 2))\n",
    "sns.boxplot(x=np.log(df.likes));"
   ]
  },
  {
   "cell_type": "code",
   "execution_count": 26,
   "id": "52058a17",
   "metadata": {},
   "outputs": [
    {
     "data": {
      "text/html": [
       "<div>\n",
       "<style scoped>\n",
       "    .dataframe tbody tr th:only-of-type {\n",
       "        vertical-align: middle;\n",
       "    }\n",
       "\n",
       "    .dataframe tbody tr th {\n",
       "        vertical-align: top;\n",
       "    }\n",
       "\n",
       "    .dataframe thead th {\n",
       "        text-align: right;\n",
       "    }\n",
       "</style>\n",
       "<table border=\"1\" class=\"dataframe\">\n",
       "  <thead>\n",
       "    <tr style=\"text-align: right;\">\n",
       "      <th></th>\n",
       "      <th>tweet_content</th>\n",
       "      <th>datetime</th>\n",
       "      <th>likes</th>\n",
       "      <th>retweets</th>\n",
       "      <th>isDogecoin</th>\n",
       "    </tr>\n",
       "  </thead>\n",
       "  <tbody>\n",
       "    <tr>\n",
       "      <th>0</th>\n",
       "      <td>all tesla cars delivered in the final three da...</td>\n",
       "      <td>2020-12-29</td>\n",
       "      <td>73052</td>\n",
       "      <td>3507</td>\n",
       "      <td>0</td>\n",
       "    </tr>\n",
       "    <tr>\n",
       "      <th>1</th>\n",
       "      <td>destiny, destinyno escaping that for me</td>\n",
       "      <td>2020-12-30</td>\n",
       "      <td>155133</td>\n",
       "      <td>11438</td>\n",
       "      <td>0</td>\n",
       "    </tr>\n",
       "    <tr>\n",
       "      <th>2</th>\n",
       "      <td>@tobyliiiiiiiiii are we sure this is real?</td>\n",
       "      <td>2020-12-30</td>\n",
       "      <td>5680</td>\n",
       "      <td>179</td>\n",
       "      <td>0</td>\n",
       "    </tr>\n",
       "    <tr>\n",
       "      <th>3</th>\n",
       "      <td>@harsimranbansal literally</td>\n",
       "      <td>2020-12-30</td>\n",
       "      <td>3033</td>\n",
       "      <td>56</td>\n",
       "      <td>0</td>\n",
       "    </tr>\n",
       "    <tr>\n",
       "      <th>4</th>\n",
       "      <td>@tesmanian_com this is very sensible. oppositi...</td>\n",
       "      <td>2020-12-30</td>\n",
       "      <td>4322</td>\n",
       "      <td>165</td>\n",
       "      <td>0</td>\n",
       "    </tr>\n",
       "  </tbody>\n",
       "</table>\n",
       "</div>"
      ],
      "text/plain": [
       "                                       tweet_content   datetime   likes  \\\n",
       "0  all tesla cars delivered in the final three da... 2020-12-29   73052   \n",
       "1            destiny, destinyno escaping that for me 2020-12-30  155133   \n",
       "2         @tobyliiiiiiiiii are we sure this is real? 2020-12-30    5680   \n",
       "3                         @harsimranbansal literally 2020-12-30    3033   \n",
       "4  @tesmanian_com this is very sensible. oppositi... 2020-12-30    4322   \n",
       "\n",
       "   retweets  isDogecoin  \n",
       "0      3507           0  \n",
       "1     11438           0  \n",
       "2       179           0  \n",
       "3        56           0  \n",
       "4       165           0  "
      ]
     },
     "execution_count": 26,
     "metadata": {},
     "output_type": "execute_result"
    }
   ],
   "source": [
    "df.head()"
   ]
  },
  {
   "cell_type": "code",
   "execution_count": 27,
   "id": "cfad4562",
   "metadata": {},
   "outputs": [
    {
     "data": {
      "image/png": "[encoded data removed]",
      "text/plain": [
       "<Figure size 1152x144 with 1 Axes>"
      ]
     },
     "metadata": {
      "needs_background": "light"
     },
     "output_type": "display_data"
    }
   ],
   "source": [
    "plt.figure(figsize=(16, 2))\n",
    "sns.lineplot(y=np.log(dogecoin_data.High), x=dogecoin_data.datetime, color='#f44336');"
   ]
  },
  {
   "cell_type": "code",
   "execution_count": 28,
   "id": "b217fc83",
   "metadata": {},
   "outputs": [
    {
     "data": {
      "text/html": [
       "<div>\n",
       "<style scoped>\n",
       "    .dataframe tbody tr th:only-of-type {\n",
       "        vertical-align: middle;\n",
       "    }\n",
       "\n",
       "    .dataframe tbody tr th {\n",
       "        vertical-align: top;\n",
       "    }\n",
       "\n",
       "    .dataframe thead th {\n",
       "        text-align: right;\n",
       "    }\n",
       "</style>\n",
       "<table border=\"1\" class=\"dataframe\">\n",
       "  <thead>\n",
       "    <tr style=\"text-align: right;\">\n",
       "      <th></th>\n",
       "      <th>Date</th>\n",
       "      <th>Open</th>\n",
       "      <th>High</th>\n",
       "      <th>Low</th>\n",
       "      <th>Close</th>\n",
       "      <th>Adj Close</th>\n",
       "      <th>Volume</th>\n",
       "      <th>datetime</th>\n",
       "    </tr>\n",
       "  </thead>\n",
       "  <tbody>\n",
       "    <tr>\n",
       "      <th>0</th>\n",
       "      <td>2016-05-07</td>\n",
       "      <td>0.000224</td>\n",
       "      <td>0.000225</td>\n",
       "      <td>0.000221</td>\n",
       "      <td>0.000223</td>\n",
       "      <td>0.000223</td>\n",
       "      <td>83754.0</td>\n",
       "      <td>2016-05-07</td>\n",
       "    </tr>\n",
       "    <tr>\n",
       "      <th>1</th>\n",
       "      <td>2016-05-08</td>\n",
       "      <td>0.000222</td>\n",
       "      <td>0.000223</td>\n",
       "      <td>0.000220</td>\n",
       "      <td>0.000222</td>\n",
       "      <td>0.000222</td>\n",
       "      <td>46961.0</td>\n",
       "      <td>2016-05-08</td>\n",
       "    </tr>\n",
       "    <tr>\n",
       "      <th>2</th>\n",
       "      <td>2016-05-09</td>\n",
       "      <td>0.000222</td>\n",
       "      <td>0.000225</td>\n",
       "      <td>0.000220</td>\n",
       "      <td>0.000224</td>\n",
       "      <td>0.000224</td>\n",
       "      <td>75340.0</td>\n",
       "      <td>2016-05-09</td>\n",
       "    </tr>\n",
       "    <tr>\n",
       "      <th>3</th>\n",
       "      <td>2016-05-10</td>\n",
       "      <td>0.000222</td>\n",
       "      <td>0.000224</td>\n",
       "      <td>0.000220</td>\n",
       "      <td>0.000220</td>\n",
       "      <td>0.000220</td>\n",
       "      <td>76419.0</td>\n",
       "      <td>2016-05-10</td>\n",
       "    </tr>\n",
       "    <tr>\n",
       "      <th>4</th>\n",
       "      <td>2016-05-11</td>\n",
       "      <td>0.000220</td>\n",
       "      <td>0.000224</td>\n",
       "      <td>0.000220</td>\n",
       "      <td>0.000224</td>\n",
       "      <td>0.000224</td>\n",
       "      <td>71369.0</td>\n",
       "      <td>2016-05-11</td>\n",
       "    </tr>\n",
       "  </tbody>\n",
       "</table>\n",
       "</div>"
      ],
      "text/plain": [
       "         Date      Open      High       Low     Close  Adj Close   Volume  \\\n",
       "0  2016-05-07  0.000224  0.000225  0.000221  0.000223   0.000223  83754.0   \n",
       "1  2016-05-08  0.000222  0.000223  0.000220  0.000222   0.000222  46961.0   \n",
       "2  2016-05-09  0.000222  0.000225  0.000220  0.000224   0.000224  75340.0   \n",
       "3  2016-05-10  0.000222  0.000224  0.000220  0.000220   0.000220  76419.0   \n",
       "4  2016-05-11  0.000220  0.000224  0.000220  0.000224   0.000224  71369.0   \n",
       "\n",
       "    datetime  \n",
       "0 2016-05-07  \n",
       "1 2016-05-08  \n",
       "2 2016-05-09  \n",
       "3 2016-05-10  \n",
       "4 2016-05-11  "
      ]
     },
     "execution_count": 28,
     "metadata": {},
     "output_type": "execute_result"
    }
   ],
   "source": [
    "dogecoin_data.head()"
   ]
  },
  {
   "cell_type": "markdown",
   "id": "c04fa7a6",
   "metadata": {},
   "source": [
    "# Highest price"
   ]
  },
  {
   "cell_type": "code",
   "execution_count": 29,
   "id": "c90f8e25",
   "metadata": {},
   "outputs": [
    {
     "data": {
      "image/png": "[encoded data removed]",
      "text/plain": [
       "<Figure size 1152x360 with 1 Axes>"
      ]
     },
     "metadata": {
      "needs_background": "light"
     },
     "output_type": "display_data"
    }
   ],
   "source": [
    "plt.figure(figsize=(16, 5))\n",
    "sns.lineplot(y=np.log(dogecoin_data.loc[dogecoin_data.datetime > df.datetime.min(), 'High']), x=dogecoin_data.datetime);\n",
    "\n",
    "for date in df.loc[df.isDogecoin == 1, 'datetime']:\n",
    "    plt.axvline(date, color='red', linestyle='-', linewidth=1);"
   ]
  },
  {
   "cell_type": "markdown",
   "id": "9d032a38",
   "metadata": {},
   "source": [
    "# Lowest price"
   ]
  },
  {
   "cell_type": "code",
   "execution_count": 30,
   "id": "74399645",
   "metadata": {},
   "outputs": [
    {
     "data": {
      "image/png": "[encoded data removed]",
      "text/plain": [
       "<Figure size 1152x360 with 1 Axes>"
      ]
     },
     "metadata": {
      "needs_background": "light"
     },
     "output_type": "display_data"
    }
   ],
   "source": [
    "plt.figure(figsize=(16, 5))\n",
    "sns.lineplot(y=np.log(dogecoin_data.loc[dogecoin_data.datetime > df.datetime.min(), 'Low']), x=dogecoin_data.datetime);\n",
    "\n",
    "for date in df.loc[df.isDogecoin == 1, 'datetime']:\n",
    "    plt.axvline(date, color='red', linestyle='-', linewidth=1);"
   ]
  },
  {
   "cell_type": "markdown",
   "id": "949cb17b",
   "metadata": {},
   "source": [
    "# Open price"
   ]
  },
  {
   "cell_type": "code",
   "execution_count": 31,
   "id": "df664c7c",
   "metadata": {},
   "outputs": [
    {
     "data": {
      "image/png": "[encoded data removed]",
      "text/plain": [
       "<Figure size 1152x360 with 1 Axes>"
      ]
     },
     "metadata": {
      "needs_background": "light"
     },
     "output_type": "display_data"
    }
   ],
   "source": [
    "plt.figure(figsize=(16, 5))\n",
    "sns.lineplot(y=np.log(dogecoin_data.loc[dogecoin_data.datetime > df.datetime.min(), 'Open']), x=dogecoin_data.datetime);\n",
    "\n",
    "for date in df.loc[df.isDogecoin == 1, 'datetime']:\n",
    "    plt.axvline(date, color='red', linestyle='-', linewidth=1);"
   ]
  },
  {
   "cell_type": "markdown",
   "id": "3f69cff0",
   "metadata": {},
   "source": [
    "# Close price"
   ]
  },
  {
   "cell_type": "code",
   "execution_count": 32,
   "id": "c9ba296e",
   "metadata": {},
   "outputs": [
    {
     "data": {
      "image/png": "[encoded data removed]",
      "text/plain": [
       "<Figure size 1152x360 with 1 Axes>"
      ]
     },
     "metadata": {
      "needs_background": "light"
     },
     "output_type": "display_data"
    }
   ],
   "source": [
    "plt.figure(figsize=(16, 5))\n",
    "sns.lineplot(y=np.log(dogecoin_data.loc[dogecoin_data.datetime > df.datetime.min(), 'Close']), x=dogecoin_data.datetime);\n",
    "\n",
    "for date in df.loc[df.isDogecoin == 1, 'datetime']:\n",
    "    plt.axvline(date, color='red', linestyle='-', linewidth=1);"
   ]
  },
  {
   "cell_type": "code",
   "execution_count": 33,
   "id": "a9b2ce1c",
   "metadata": {},
   "outputs": [
    {
     "data": {
      "image/png": "[encoded data removed]",
      "text/plain": [
       "<Figure size 1152x360 with 1 Axes>"
      ]
     },
     "metadata": {
      "needs_background": "light"
     },
     "output_type": "display_data"
    }
   ],
   "source": [
    "plt.figure(figsize=(16, 5))\n",
    "sns.lineplot(y=np.log(dogecoin_data.loc[dogecoin_data.datetime > df.datetime.min(), 'Open']), x=dogecoin_data.datetime, \n",
    "            label='open price', color='red');\n",
    "sns.lineplot(y=np.log(dogecoin_data.loc[dogecoin_data.datetime > df.datetime.min(), 'Close']), x=dogecoin_data.datetime,\n",
    "            label='close price', alpha=0.2, linewidth=3, color='blue');\n",
    "plt.legend();"
   ]
  },
  {
   "cell_type": "markdown",
   "id": "f9bd48a9",
   "metadata": {},
   "source": [
    "The plot above shows that Open and Close price have pretty much the same chart, but the interesting thing it that Open price is a little bit shifted to right. So maybe I can predict them."
   ]
  },
  {
   "cell_type": "code",
   "execution_count": 34,
   "id": "99182245",
   "metadata": {},
   "outputs": [
    {
     "data": {
      "image/png": "[encoded data removed]",
      "text/plain": [
       "<Figure size 1152x360 with 1 Axes>"
      ]
     },
     "metadata": {
      "needs_background": "light"
     },
     "output_type": "display_data"
    }
   ],
   "source": [
    "plt.figure(figsize=(16, 5))\n",
    "sns.lineplot(y=dogecoin_data.loc[dogecoin_data.datetime > df.datetime.min(), 'Open'], x=dogecoin_data.datetime, \n",
    "            label='open price', color='red');\n",
    "sns.lineplot(y=dogecoin_data.loc[dogecoin_data.datetime > df.datetime.min(), 'Close'], x=dogecoin_data.datetime,\n",
    "            label='close price', alpha=0.2, linewidth=3, color='blue');\n",
    "plt.legend();"
   ]
  },
  {
   "cell_type": "code",
   "execution_count": 35,
   "id": "122e87d0",
   "metadata": {},
   "outputs": [
    {
     "data": {
      "image/png": "[encoded data removed]",
      "text/plain": [
       "<Figure size 432x288 with 1 Axes>"
      ]
     },
     "metadata": {
      "needs_background": "light"
     },
     "output_type": "display_data"
    }
   ],
   "source": [
    "sns.regplot(data=dogecoin_data, x='Open', y='Close', color='#263238');"
   ]
  },
  {
   "cell_type": "markdown",
   "id": "e6016886",
   "metadata": {},
   "source": [
    "The plot above shows correlation between open and close price with heteroscedasticity. So it will be pretty hard to make a regression model that predicts one of the features based on another."
   ]
  },
  {
   "cell_type": "code",
   "execution_count": 36,
   "id": "7e831a95",
   "metadata": {},
   "outputs": [
    {
     "data": {
      "image/png": "[encoded data removed]",
      "text/plain": [
       "<Figure size 432x288 with 1 Axes>"
      ]
     },
     "metadata": {
      "needs_background": "light"
     },
     "output_type": "display_data"
    }
   ],
   "source": [
    "sns.regplot(x=np.log(dogecoin_data.Open), y=np.log(dogecoin_data.Close), line_kws={'color': '#f44336', 'linewidth': 3}, \n",
    "            scatter_kws={'color':'#263238'});"
   ]
  },
  {
   "cell_type": "markdown",
   "id": "adf6ab82",
   "metadata": {},
   "source": [
    "After putting Open and Close features under the log the plot shows that there is strong linear correlation. The log just made influence from outliers smaller."
   ]
  },
  {
   "cell_type": "code",
   "execution_count": 37,
   "id": "b207b598",
   "metadata": {},
   "outputs": [
    {
     "data": {
      "image/png": "[encoded data removed]",
      "text/plain": [
       "<Figure size 1152x360 with 1 Axes>"
      ]
     },
     "metadata": {
      "needs_background": "light"
     },
     "output_type": "display_data"
    }
   ],
   "source": [
    "plt.figure(figsize=(16, 5))\n",
    "sns.lineplot(y=dogecoin_data.loc[dogecoin_data.datetime > df.datetime.min(), 'High'], x=dogecoin_data.datetime, \n",
    "            label='highest price', color='red');\n",
    "sns.lineplot(y=dogecoin_data.loc[dogecoin_data.datetime > df.datetime.min(), 'Low'], x=dogecoin_data.datetime,\n",
    "            label='lowest price', alpha=0.2, linewidth=3, color='blue');\n",
    "plt.legend();"
   ]
  },
  {
   "cell_type": "code",
   "execution_count": 38,
   "id": "51b28faf",
   "metadata": {},
   "outputs": [
    {
     "data": {
      "image/png": "[encoded data removed]",
      "text/plain": [
       "<Figure size 1152x360 with 1 Axes>"
      ]
     },
     "metadata": {
      "needs_background": "light"
     },
     "output_type": "display_data"
    }
   ],
   "source": [
    "plt.figure(figsize=(16, 5))\n",
    "sns.lineplot(y=np.log(dogecoin_data.loc[dogecoin_data.datetime > df.datetime.min(), 'High']), x=dogecoin_data.datetime, \n",
    "            label='highest price', color='red');\n",
    "sns.lineplot(y=np.log(dogecoin_data.loc[dogecoin_data.datetime > df.datetime.min(), 'Low']), x=dogecoin_data.datetime,\n",
    "            label='lowest price', alpha=0.2, linewidth=3, color='blue');\n",
    "plt.legend();"
   ]
  },
  {
   "cell_type": "code",
   "execution_count": 39,
   "id": "ecca16a3",
   "metadata": {},
   "outputs": [
    {
     "data": {
      "image/png": "[encoded data removed]",
      "text/plain": [
       "<Figure size 432x288 with 1 Axes>"
      ]
     },
     "metadata": {
      "needs_background": "light"
     },
     "output_type": "display_data"
    }
   ],
   "source": [
    "sns.regplot(data=dogecoin_data, x='High', y='Low', color='#263238');"
   ]
  },
  {
   "cell_type": "markdown",
   "id": "23662197",
   "metadata": {},
   "source": [
    "There is still heteroscedasticity, but it is pretty small."
   ]
  },
  {
   "cell_type": "code",
   "execution_count": 40,
   "id": "648491fc",
   "metadata": {},
   "outputs": [
    {
     "data": {
      "image/png": "[encoded data removed]",
      "text/plain": [
       "<Figure size 432x288 with 1 Axes>"
      ]
     },
     "metadata": {
      "needs_background": "light"
     },
     "output_type": "display_data"
    }
   ],
   "source": [
    "sns.regplot(x=np.log(dogecoin_data.High), y=np.log(dogecoin_data.Low), line_kws={'color': '#f44336', 'linewidth': 3}, \n",
    "            scatter_kws={'color':'#263238'});"
   ]
  },
  {
   "cell_type": "markdown",
   "id": "4e7f6885",
   "metadata": {},
   "source": [
    "And again using log I made influnce from outliers smaller and now the plot shows strong linear relation between Highest and Lowest prices"
   ]
  },
  {
   "cell_type": "code",
   "execution_count": 41,
   "id": "b026d4e0",
   "metadata": {},
   "outputs": [
    {
     "data": {
      "text/html": [
       "<div>\n",
       "<style scoped>\n",
       "    .dataframe tbody tr th:only-of-type {\n",
       "        vertical-align: middle;\n",
       "    }\n",
       "\n",
       "    .dataframe tbody tr th {\n",
       "        vertical-align: top;\n",
       "    }\n",
       "\n",
       "    .dataframe thead th {\n",
       "        text-align: right;\n",
       "    }\n",
       "</style>\n",
       "<table border=\"1\" class=\"dataframe\">\n",
       "  <thead>\n",
       "    <tr style=\"text-align: right;\">\n",
       "      <th></th>\n",
       "      <th>Close</th>\n",
       "      <th>Open</th>\n",
       "      <th>High</th>\n",
       "      <th>Low</th>\n",
       "    </tr>\n",
       "  </thead>\n",
       "  <tbody>\n",
       "    <tr>\n",
       "      <th>0</th>\n",
       "      <td>0.000223</td>\n",
       "      <td>0.000224</td>\n",
       "      <td>0.000225</td>\n",
       "      <td>0.000221</td>\n",
       "    </tr>\n",
       "    <tr>\n",
       "      <th>1</th>\n",
       "      <td>0.000222</td>\n",
       "      <td>0.000222</td>\n",
       "      <td>0.000223</td>\n",
       "      <td>0.000220</td>\n",
       "    </tr>\n",
       "    <tr>\n",
       "      <th>2</th>\n",
       "      <td>0.000224</td>\n",
       "      <td>0.000222</td>\n",
       "      <td>0.000225</td>\n",
       "      <td>0.000220</td>\n",
       "    </tr>\n",
       "    <tr>\n",
       "      <th>3</th>\n",
       "      <td>0.000220</td>\n",
       "      <td>0.000222</td>\n",
       "      <td>0.000224</td>\n",
       "      <td>0.000220</td>\n",
       "    </tr>\n",
       "    <tr>\n",
       "      <th>4</th>\n",
       "      <td>0.000224</td>\n",
       "      <td>0.000220</td>\n",
       "      <td>0.000224</td>\n",
       "      <td>0.000220</td>\n",
       "    </tr>\n",
       "  </tbody>\n",
       "</table>\n",
       "</div>"
      ],
      "text/plain": [
       "      Close      Open      High       Low\n",
       "0  0.000223  0.000224  0.000225  0.000221\n",
       "1  0.000222  0.000222  0.000223  0.000220\n",
       "2  0.000224  0.000222  0.000225  0.000220\n",
       "3  0.000220  0.000222  0.000224  0.000220\n",
       "4  0.000224  0.000220  0.000224  0.000220"
      ]
     },
     "execution_count": 41,
     "metadata": {},
     "output_type": "execute_result"
    }
   ],
   "source": [
    "dogecoin_price_data = dogecoin_data[['Close', 'Open', 'High', 'Low']]\n",
    "dogecoin_price_data.head()"
   ]
  },
  {
   "cell_type": "code",
   "execution_count": 42,
   "id": "93d3c2b2",
   "metadata": {},
   "outputs": [
    {
     "data": {
      "image/png": "[encoded data removed]",
      "text/plain": [
       "<Figure size 432x288 with 2 Axes>"
      ]
     },
     "metadata": {
      "needs_background": "light"
     },
     "output_type": "display_data"
    }
   ],
   "source": [
    "sns.heatmap(dogecoin_price_data.corr(), annot=True);"
   ]
  },
  {
   "cell_type": "code",
   "execution_count": 43,
   "id": "3db5a5cc",
   "metadata": {},
   "outputs": [
    {
     "data": {
      "image/png": "[encoded data removed]",
      "text/plain": [
       "<Figure size 720x720 with 20 Axes>"
      ]
     },
     "metadata": {
      "needs_background": "light"
     },
     "output_type": "display_data"
    }
   ],
   "source": [
    "sns.pairplot(dogecoin_price_data, diag_kws = {'bins':10});"
   ]
  },
  {
   "cell_type": "code",
   "execution_count": 44,
   "id": "8dc38017",
   "metadata": {},
   "outputs": [],
   "source": [
    "log_dogecoin_price_data = np.log(dogecoin_price_data)"
   ]
  },
  {
   "cell_type": "code",
   "execution_count": 45,
   "id": "b8b3cb35",
   "metadata": {},
   "outputs": [
    {
     "data": {
      "image/png": "[encoded data removed]",
      "text/plain": [
       "<Figure size 720x720 with 20 Axes>"
      ]
     },
     "metadata": {
      "needs_background": "light"
     },
     "output_type": "display_data"
    }
   ],
   "source": [
    "sns.pairplot(log_dogecoin_price_data, diag_kws = {'bins':15});"
   ]
  },
  {
   "cell_type": "markdown",
   "id": "0b92b02a",
   "metadata": {},
   "source": [
    "# A/B testing \n",
    "\n",
    "I am going to have two subsets A and B. \n",
    "\n",
    "- **A** subset will include standard deviation of price of dogecoin, when dogecoin was mentioned, with price of one day before and after this event. \n",
    "- **B** subset will contain standard deviation of price of samples that were taken from the remain data.  \n",
    "\n",
    "Considering that price can grow through time, I am going to compare standard deviations of samples."
   ]
  },
  {
   "cell_type": "code",
   "execution_count": 46,
   "id": "0bed5028",
   "metadata": {},
   "outputs": [
    {
     "data": {
      "text/plain": [
       "(34, 5)"
      ]
     },
     "execution_count": 46,
     "metadata": {},
     "output_type": "execute_result"
    }
   ],
   "source": [
    "df[df.isDogecoin == 1].shape"
   ]
  },
  {
   "cell_type": "code",
   "execution_count": 47,
   "id": "18390d11",
   "metadata": {},
   "outputs": [
    {
     "data": {
      "text/plain": [
       "(959, 5)"
      ]
     },
     "execution_count": 47,
     "metadata": {},
     "output_type": "execute_result"
    }
   ],
   "source": [
    "df.shape"
   ]
  },
  {
   "cell_type": "code",
   "execution_count": 48,
   "id": "c43938ba",
   "metadata": {},
   "outputs": [
    {
     "data": {
      "text/html": [
       "<div>\n",
       "<style scoped>\n",
       "    .dataframe tbody tr th:only-of-type {\n",
       "        vertical-align: middle;\n",
       "    }\n",
       "\n",
       "    .dataframe tbody tr th {\n",
       "        vertical-align: top;\n",
       "    }\n",
       "\n",
       "    .dataframe thead th {\n",
       "        text-align: right;\n",
       "    }\n",
       "</style>\n",
       "<table border=\"1\" class=\"dataframe\">\n",
       "  <thead>\n",
       "    <tr style=\"text-align: right;\">\n",
       "      <th></th>\n",
       "      <th>tweet_content</th>\n",
       "      <th>datetime</th>\n",
       "      <th>likes</th>\n",
       "      <th>retweets</th>\n",
       "      <th>isDogecoin</th>\n",
       "    </tr>\n",
       "  </thead>\n",
       "  <tbody>\n",
       "    <tr>\n",
       "      <th>0</th>\n",
       "      <td>all tesla cars delivered in the final three da...</td>\n",
       "      <td>2020-12-29</td>\n",
       "      <td>73052</td>\n",
       "      <td>3507</td>\n",
       "      <td>0</td>\n",
       "    </tr>\n",
       "    <tr>\n",
       "      <th>1</th>\n",
       "      <td>destiny, destinyno escaping that for me</td>\n",
       "      <td>2020-12-30</td>\n",
       "      <td>155133</td>\n",
       "      <td>11438</td>\n",
       "      <td>0</td>\n",
       "    </tr>\n",
       "    <tr>\n",
       "      <th>2</th>\n",
       "      <td>@tobyliiiiiiiiii are we sure this is real?</td>\n",
       "      <td>2020-12-30</td>\n",
       "      <td>5680</td>\n",
       "      <td>179</td>\n",
       "      <td>0</td>\n",
       "    </tr>\n",
       "    <tr>\n",
       "      <th>3</th>\n",
       "      <td>@harsimranbansal literally</td>\n",
       "      <td>2020-12-30</td>\n",
       "      <td>3033</td>\n",
       "      <td>56</td>\n",
       "      <td>0</td>\n",
       "    </tr>\n",
       "    <tr>\n",
       "      <th>4</th>\n",
       "      <td>@tesmanian_com this is very sensible. oppositi...</td>\n",
       "      <td>2020-12-30</td>\n",
       "      <td>4322</td>\n",
       "      <td>165</td>\n",
       "      <td>0</td>\n",
       "    </tr>\n",
       "  </tbody>\n",
       "</table>\n",
       "</div>"
      ],
      "text/plain": [
       "                                       tweet_content   datetime   likes  \\\n",
       "0  all tesla cars delivered in the final three da... 2020-12-29   73052   \n",
       "1            destiny, destinyno escaping that for me 2020-12-30  155133   \n",
       "2         @tobyliiiiiiiiii are we sure this is real? 2020-12-30    5680   \n",
       "3                         @harsimranbansal literally 2020-12-30    3033   \n",
       "4  @tesmanian_com this is very sensible. oppositi... 2020-12-30    4322   \n",
       "\n",
       "   retweets  isDogecoin  \n",
       "0      3507           0  \n",
       "1     11438           0  \n",
       "2       179           0  \n",
       "3        56           0  \n",
       "4       165           0  "
      ]
     },
     "execution_count": 48,
     "metadata": {},
     "output_type": "execute_result"
    }
   ],
   "source": [
    "df.head()"
   ]
  },
  {
   "cell_type": "code",
   "execution_count": 49,
   "id": "78e19b7b",
   "metadata": {},
   "outputs": [
    {
     "data": {
      "text/html": [
       "<div>\n",
       "<style scoped>\n",
       "    .dataframe tbody tr th:only-of-type {\n",
       "        vertical-align: middle;\n",
       "    }\n",
       "\n",
       "    .dataframe tbody tr th {\n",
       "        vertical-align: top;\n",
       "    }\n",
       "\n",
       "    .dataframe thead th {\n",
       "        text-align: right;\n",
       "    }\n",
       "</style>\n",
       "<table border=\"1\" class=\"dataframe\">\n",
       "  <thead>\n",
       "    <tr style=\"text-align: right;\">\n",
       "      <th></th>\n",
       "      <th>Date</th>\n",
       "      <th>Open</th>\n",
       "      <th>High</th>\n",
       "      <th>Low</th>\n",
       "      <th>Close</th>\n",
       "      <th>Adj Close</th>\n",
       "      <th>Volume</th>\n",
       "      <th>datetime</th>\n",
       "    </tr>\n",
       "  </thead>\n",
       "  <tbody>\n",
       "    <tr>\n",
       "      <th>0</th>\n",
       "      <td>2016-05-07</td>\n",
       "      <td>0.000224</td>\n",
       "      <td>0.000225</td>\n",
       "      <td>0.000221</td>\n",
       "      <td>0.000223</td>\n",
       "      <td>0.000223</td>\n",
       "      <td>83754.0</td>\n",
       "      <td>2016-05-07</td>\n",
       "    </tr>\n",
       "    <tr>\n",
       "      <th>1</th>\n",
       "      <td>2016-05-08</td>\n",
       "      <td>0.000222</td>\n",
       "      <td>0.000223</td>\n",
       "      <td>0.000220</td>\n",
       "      <td>0.000222</td>\n",
       "      <td>0.000222</td>\n",
       "      <td>46961.0</td>\n",
       "      <td>2016-05-08</td>\n",
       "    </tr>\n",
       "    <tr>\n",
       "      <th>2</th>\n",
       "      <td>2016-05-09</td>\n",
       "      <td>0.000222</td>\n",
       "      <td>0.000225</td>\n",
       "      <td>0.000220</td>\n",
       "      <td>0.000224</td>\n",
       "      <td>0.000224</td>\n",
       "      <td>75340.0</td>\n",
       "      <td>2016-05-09</td>\n",
       "    </tr>\n",
       "    <tr>\n",
       "      <th>3</th>\n",
       "      <td>2016-05-10</td>\n",
       "      <td>0.000222</td>\n",
       "      <td>0.000224</td>\n",
       "      <td>0.000220</td>\n",
       "      <td>0.000220</td>\n",
       "      <td>0.000220</td>\n",
       "      <td>76419.0</td>\n",
       "      <td>2016-05-10</td>\n",
       "    </tr>\n",
       "    <tr>\n",
       "      <th>4</th>\n",
       "      <td>2016-05-11</td>\n",
       "      <td>0.000220</td>\n",
       "      <td>0.000224</td>\n",
       "      <td>0.000220</td>\n",
       "      <td>0.000224</td>\n",
       "      <td>0.000224</td>\n",
       "      <td>71369.0</td>\n",
       "      <td>2016-05-11</td>\n",
       "    </tr>\n",
       "  </tbody>\n",
       "</table>\n",
       "</div>"
      ],
      "text/plain": [
       "         Date      Open      High       Low     Close  Adj Close   Volume  \\\n",
       "0  2016-05-07  0.000224  0.000225  0.000221  0.000223   0.000223  83754.0   \n",
       "1  2016-05-08  0.000222  0.000223  0.000220  0.000222   0.000222  46961.0   \n",
       "2  2016-05-09  0.000222  0.000225  0.000220  0.000224   0.000224  75340.0   \n",
       "3  2016-05-10  0.000222  0.000224  0.000220  0.000220   0.000220  76419.0   \n",
       "4  2016-05-11  0.000220  0.000224  0.000220  0.000224   0.000224  71369.0   \n",
       "\n",
       "    datetime  \n",
       "0 2016-05-07  \n",
       "1 2016-05-08  \n",
       "2 2016-05-09  \n",
       "3 2016-05-10  \n",
       "4 2016-05-11  "
      ]
     },
     "execution_count": 49,
     "metadata": {},
     "output_type": "execute_result"
    }
   ],
   "source": [
    "dogecoin_data.head()"
   ]
  },
  {
   "cell_type": "code",
   "execution_count": 50,
   "id": "faa5cd44",
   "metadata": {},
   "outputs": [],
   "source": [
    "def get_previous_and_following_day(date):\n",
    "    one_day_timestamp = 86400\n",
    "    \n",
    "    current_date_timestamp = datetime.timestamp(date)\n",
    "    previous_date_timestamp = current_date_timestamp - one_day_timestamp\n",
    "    following_date_timestamp = current_date_timestamp + one_day_timestamp\n",
    "    \n",
    "    previous_date = datetime.fromtimestamp(previous_date_timestamp)\n",
    "    following_date = datetime.fromtimestamp(following_date_timestamp)\n",
    "    \n",
    "    previous_date = datetime(previous_date.year, previous_date.month, previous_date.day)\n",
    "    following_date = datetime(following_date.year, following_date.month, following_date.day)\n",
    "    \n",
    "    return previous_date, following_date"
   ]
  },
  {
   "cell_type": "code",
   "execution_count": 51,
   "id": "bbc18437",
   "metadata": {},
   "outputs": [
    {
     "data": {
      "text/plain": [
       "(datetime.datetime(2020, 12, 28, 0, 0), datetime.datetime(2020, 12, 30, 0, 0))"
      ]
     },
     "execution_count": 51,
     "metadata": {},
     "output_type": "execute_result"
    }
   ],
   "source": [
    "get_previous_and_following_day(df.loc[0, ['datetime']].values[0])"
   ]
  },
  {
   "cell_type": "code",
   "execution_count": 52,
   "id": "47875c0b",
   "metadata": {},
   "outputs": [
    {
     "data": {
      "text/html": [
       "<div>\n",
       "<style scoped>\n",
       "    .dataframe tbody tr th:only-of-type {\n",
       "        vertical-align: middle;\n",
       "    }\n",
       "\n",
       "    .dataframe tbody tr th {\n",
       "        vertical-align: top;\n",
       "    }\n",
       "\n",
       "    .dataframe thead th {\n",
       "        text-align: right;\n",
       "    }\n",
       "</style>\n",
       "<table border=\"1\" class=\"dataframe\">\n",
       "  <thead>\n",
       "    <tr style=\"text-align: right;\">\n",
       "      <th></th>\n",
       "      <th>Open</th>\n",
       "      <th>High</th>\n",
       "      <th>Low</th>\n",
       "      <th>Close</th>\n",
       "      <th>Adj Close</th>\n",
       "      <th>Volume</th>\n",
       "    </tr>\n",
       "  </thead>\n",
       "  <tbody>\n",
       "    <tr>\n",
       "      <th>count</th>\n",
       "      <td>1823.000000</td>\n",
       "      <td>1823.000000</td>\n",
       "      <td>1823.000000</td>\n",
       "      <td>1823.000000</td>\n",
       "      <td>1823.000000</td>\n",
       "      <td>1.823000e+03</td>\n",
       "    </tr>\n",
       "    <tr>\n",
       "      <th>mean</th>\n",
       "      <td>0.009050</td>\n",
       "      <td>0.010098</td>\n",
       "      <td>0.008324</td>\n",
       "      <td>0.009395</td>\n",
       "      <td>0.009395</td>\n",
       "      <td>4.438836e+08</td>\n",
       "    </tr>\n",
       "    <tr>\n",
       "      <th>std</th>\n",
       "      <td>0.041315</td>\n",
       "      <td>0.047866</td>\n",
       "      <td>0.036952</td>\n",
       "      <td>0.043992</td>\n",
       "      <td>0.043992</td>\n",
       "      <td>2.952867e+09</td>\n",
       "    </tr>\n",
       "    <tr>\n",
       "      <th>min</th>\n",
       "      <td>0.000197</td>\n",
       "      <td>0.000205</td>\n",
       "      <td>0.000195</td>\n",
       "      <td>0.000197</td>\n",
       "      <td>0.000197</td>\n",
       "      <td>4.679900e+04</td>\n",
       "    </tr>\n",
       "    <tr>\n",
       "      <th>25%</th>\n",
       "      <td>0.001553</td>\n",
       "      <td>0.001676</td>\n",
       "      <td>0.001460</td>\n",
       "      <td>0.001567</td>\n",
       "      <td>0.001567</td>\n",
       "      <td>4.301310e+06</td>\n",
       "    </tr>\n",
       "    <tr>\n",
       "      <th>50%</th>\n",
       "      <td>0.002514</td>\n",
       "      <td>0.002577</td>\n",
       "      <td>0.002447</td>\n",
       "      <td>0.002516</td>\n",
       "      <td>0.002516</td>\n",
       "      <td>1.996860e+07</td>\n",
       "    </tr>\n",
       "    <tr>\n",
       "      <th>75%</th>\n",
       "      <td>0.003331</td>\n",
       "      <td>0.003467</td>\n",
       "      <td>0.003197</td>\n",
       "      <td>0.003325</td>\n",
       "      <td>0.003325</td>\n",
       "      <td>7.360159e+07</td>\n",
       "    </tr>\n",
       "    <tr>\n",
       "      <th>max</th>\n",
       "      <td>0.652842</td>\n",
       "      <td>0.695262</td>\n",
       "      <td>0.545102</td>\n",
       "      <td>0.657633</td>\n",
       "      <td>0.657633</td>\n",
       "      <td>6.941068e+10</td>\n",
       "    </tr>\n",
       "  </tbody>\n",
       "</table>\n",
       "</div>"
      ],
      "text/plain": [
       "              Open         High          Low        Close    Adj Close  \\\n",
       "count  1823.000000  1823.000000  1823.000000  1823.000000  1823.000000   \n",
       "mean      0.009050     0.010098     0.008324     0.009395     0.009395   \n",
       "std       0.041315     0.047866     0.036952     0.043992     0.043992   \n",
       "min       0.000197     0.000205     0.000195     0.000197     0.000197   \n",
       "25%       0.001553     0.001676     0.001460     0.001567     0.001567   \n",
       "50%       0.002514     0.002577     0.002447     0.002516     0.002516   \n",
       "75%       0.003331     0.003467     0.003197     0.003325     0.003325   \n",
       "max       0.652842     0.695262     0.545102     0.657633     0.657633   \n",
       "\n",
       "             Volume  \n",
       "count  1.823000e+03  \n",
       "mean   4.438836e+08  \n",
       "std    2.952867e+09  \n",
       "min    4.679900e+04  \n",
       "25%    4.301310e+06  \n",
       "50%    1.996860e+07  \n",
       "75%    7.360159e+07  \n",
       "max    6.941068e+10  "
      ]
     },
     "execution_count": 52,
     "metadata": {},
     "output_type": "execute_result"
    }
   ],
   "source": [
    "dogecoin_data.describe()"
   ]
  },
  {
   "cell_type": "code",
   "execution_count": 53,
   "id": "8217681e",
   "metadata": {},
   "outputs": [
    {
     "data": {
      "text/plain": [
       "Timestamp('2021-05-07 00:00:00')"
      ]
     },
     "execution_count": 53,
     "metadata": {},
     "output_type": "execute_result"
    }
   ],
   "source": [
    "dogecoin_data.datetime.max()"
   ]
  },
  {
   "cell_type": "code",
   "execution_count": 54,
   "id": "8e3de4df",
   "metadata": {},
   "outputs": [
    {
     "data": {
      "text/plain": [
       "Timestamp('2016-05-07 00:00:00')"
      ]
     },
     "execution_count": 54,
     "metadata": {},
     "output_type": "execute_result"
    }
   ],
   "source": [
    "dogecoin_data.datetime.min()"
   ]
  },
  {
   "cell_type": "code",
   "execution_count": 55,
   "id": "ba0afcc7",
   "metadata": {},
   "outputs": [
    {
     "name": "stdout",
     "output_type": "stream",
     "text": [
      "<class 'pandas.core.frame.DataFrame'>\n",
      "RangeIndex: 1827 entries, 0 to 1826\n",
      "Data columns (total 8 columns):\n",
      " #   Column     Non-Null Count  Dtype         \n",
      "---  ------     --------------  -----         \n",
      " 0   Date       1827 non-null   object        \n",
      " 1   Open       1823 non-null   float64       \n",
      " 2   High       1823 non-null   float64       \n",
      " 3   Low        1823 non-null   float64       \n",
      " 4   Close      1823 non-null   float64       \n",
      " 5   Adj Close  1823 non-null   float64       \n",
      " 6   Volume     1823 non-null   float64       \n",
      " 7   datetime   1827 non-null   datetime64[ns]\n",
      "dtypes: datetime64[ns](1), float64(6), object(1)\n",
      "memory usage: 114.3+ KB\n"
     ]
    }
   ],
   "source": [
    "dogecoin_data.info()"
   ]
  },
  {
   "cell_type": "code",
   "execution_count": 56,
   "id": "7750784f",
   "metadata": {},
   "outputs": [],
   "source": [
    "def get_A_subset(tweets_data, price_data):\n",
    "    \n",
    "    dates_dogecoins_mentioned = tweets_data.loc[tweets_data.isDogecoin == 1, ['datetime']] \n",
    "    \n",
    "    standard_deviations = []\n",
    "    used_dates = [] # to remove them from B subset\n",
    "    \n",
    "    for date in dates_dogecoins_mentioned.datetime:\n",
    "        previous_day, following_day = get_previous_and_following_day(date) \n",
    "        \n",
    "        used_dates.append(previous_day)\n",
    "        used_dates.append(date.to_pydatetime())\n",
    "        used_dates.append(following_day)\n",
    "                \n",
    "        previous_day_price = price_data.loc[price_data.datetime == previous_day, 'High'].values\n",
    "        following_day_price = price_data.loc[price_data.datetime == following_day, 'High'].values\n",
    "        \n",
    "        current_date_price = price_data.loc[price_data.datetime == date, 'High'].values\n",
    "        \n",
    "        prices = np.concatenate((previous_day_price, current_date_price, following_day_price), axis=0)\n",
    "        standard_deviations.append(prices.std())\n",
    "        \n",
    "    return standard_deviations, used_dates"
   ]
  },
  {
   "cell_type": "code",
   "execution_count": 57,
   "id": "c3eadc31",
   "metadata": {},
   "outputs": [],
   "source": [
    "subset_A, dates = get_A_subset(df, dogecoin_data)"
   ]
  },
  {
   "cell_type": "code",
   "execution_count": 58,
   "id": "ac855349",
   "metadata": {},
   "outputs": [
    {
     "data": {
      "text/plain": [
       "[datetime.datetime(2021, 2, 3, 0, 0),\n",
       " datetime.datetime(2021, 2, 4, 0, 0),\n",
       " datetime.datetime(2021, 2, 5, 0, 0),\n",
       " datetime.datetime(2021, 2, 3, 0, 0),\n",
       " datetime.datetime(2021, 2, 4, 0, 0)]"
      ]
     },
     "execution_count": 58,
     "metadata": {},
     "output_type": "execute_result"
    }
   ],
   "source": [
    "dates[:5]"
   ]
  },
  {
   "cell_type": "code",
   "execution_count": 59,
   "id": "e23bf520",
   "metadata": {},
   "outputs": [
    {
     "data": {
      "image/png": "[encoded data removed]",
      "text/plain": [
       "<Figure size 432x288 with 1 Axes>"
      ]
     },
     "metadata": {
      "needs_background": "light"
     },
     "output_type": "display_data"
    }
   ],
   "source": [
    "sns.histplot(subset_A);"
   ]
  },
  {
   "cell_type": "code",
   "execution_count": 60,
   "id": "67c49fc0",
   "metadata": {},
   "outputs": [
    {
     "data": {
      "image/png": "[encoded data removed]",
      "text/plain": [
       "<Figure size 432x288 with 1 Axes>"
      ]
     },
     "metadata": {
      "needs_background": "light"
     },
     "output_type": "display_data"
    }
   ],
   "source": [
    "sns.kdeplot(subset_A, color='#f44336');"
   ]
  },
  {
   "cell_type": "code",
   "execution_count": 61,
   "id": "32a6d283",
   "metadata": {},
   "outputs": [
    {
     "data": {
      "image/png": "[encoded data removed]",
      "text/plain": [
       "<Figure size 432x288 with 1 Axes>"
      ]
     },
     "metadata": {
      "needs_background": "light"
     },
     "output_type": "display_data"
    }
   ],
   "source": [
    "sns.histplot(np.log(subset_A), bins=15);"
   ]
  },
  {
   "cell_type": "code",
   "execution_count": 62,
   "id": "82b549cc",
   "metadata": {},
   "outputs": [
    {
     "data": {
      "image/png": "[encoded data removed]",
      "text/plain": [
       "<Figure size 432x288 with 1 Axes>"
      ]
     },
     "metadata": {
      "needs_background": "light"
     },
     "output_type": "display_data"
    }
   ],
   "source": [
    "sns.kdeplot(np.log(subset_A), color='#f44336');"
   ]
  },
  {
   "cell_type": "code",
   "execution_count": 63,
   "id": "44bd4c91",
   "metadata": {},
   "outputs": [
    {
     "data": {
      "image/png": "[encoded data removed]",
      "text/plain": [
       "<Figure size 1152x144 with 1 Axes>"
      ]
     },
     "metadata": {
      "needs_background": "light"
     },
     "output_type": "display_data"
    }
   ],
   "source": [
    "plt.figure(figsize=(16, 2))\n",
    "sns.boxplot(x=subset_A);"
   ]
  },
  {
   "cell_type": "code",
   "execution_count": 64,
   "id": "c78ddad6",
   "metadata": {},
   "outputs": [
    {
     "data": {
      "image/png": "[encoded data removed]",
      "text/plain": [
       "<Figure size 1152x144 with 1 Axes>"
      ]
     },
     "metadata": {
      "needs_background": "light"
     },
     "output_type": "display_data"
    }
   ],
   "source": [
    "plt.figure(figsize=(16, 2))\n",
    "sns.boxplot(x=np.log(subset_A));"
   ]
  },
  {
   "cell_type": "code",
   "execution_count": 65,
   "id": "3523f106",
   "metadata": {},
   "outputs": [
    {
     "data": {
      "text/html": [
       "<div>\n",
       "<style scoped>\n",
       "    .dataframe tbody tr th:only-of-type {\n",
       "        vertical-align: middle;\n",
       "    }\n",
       "\n",
       "    .dataframe tbody tr th {\n",
       "        vertical-align: top;\n",
       "    }\n",
       "\n",
       "    .dataframe thead th {\n",
       "        text-align: right;\n",
       "    }\n",
       "</style>\n",
       "<table border=\"1\" class=\"dataframe\">\n",
       "  <thead>\n",
       "    <tr style=\"text-align: right;\">\n",
       "      <th></th>\n",
       "      <th>tweet_content</th>\n",
       "      <th>datetime</th>\n",
       "      <th>likes</th>\n",
       "      <th>retweets</th>\n",
       "      <th>isDogecoin</th>\n",
       "    </tr>\n",
       "  </thead>\n",
       "  <tbody>\n",
       "    <tr>\n",
       "      <th>0</th>\n",
       "      <td>all tesla cars delivered in the final three da...</td>\n",
       "      <td>2020-12-29</td>\n",
       "      <td>73052</td>\n",
       "      <td>3507</td>\n",
       "      <td>0</td>\n",
       "    </tr>\n",
       "  </tbody>\n",
       "</table>\n",
       "</div>"
      ],
      "text/plain": [
       "                                       tweet_content   datetime  likes  \\\n",
       "0  all tesla cars delivered in the final three da... 2020-12-29  73052   \n",
       "\n",
       "   retweets  isDogecoin  \n",
       "0      3507           0  "
      ]
     },
     "execution_count": 65,
     "metadata": {},
     "output_type": "execute_result"
    }
   ],
   "source": [
    "df.head(1)"
   ]
  },
  {
   "cell_type": "code",
   "execution_count": 66,
   "id": "46775f91",
   "metadata": {},
   "outputs": [
    {
     "data": {
      "text/plain": [
       "(959, 5)"
      ]
     },
     "execution_count": 66,
     "metadata": {},
     "output_type": "execute_result"
    }
   ],
   "source": [
    "df.shape"
   ]
  },
  {
   "cell_type": "code",
   "execution_count": 67,
   "id": "3a23860a",
   "metadata": {},
   "outputs": [
    {
     "data": {
      "text/plain": [
       "0    2020-12-29\n",
       "1    2020-12-30\n",
       "2    2020-12-30\n",
       "3    2020-12-30\n",
       "4    2020-12-30\n",
       "Name: datetime, dtype: object"
      ]
     },
     "execution_count": 67,
     "metadata": {},
     "output_type": "execute_result"
    }
   ],
   "source": [
    "pd.to_datetime(df.datetime).dt.date.head()"
   ]
  },
  {
   "cell_type": "code",
   "execution_count": 68,
   "id": "22d0b7fb",
   "metadata": {},
   "outputs": [
    {
     "data": {
      "text/plain": [
       "34"
      ]
     },
     "execution_count": 68,
     "metadata": {},
     "output_type": "execute_result"
    }
   ],
   "source": [
    "len(subset_A)"
   ]
  },
  {
   "cell_type": "code",
   "execution_count": 69,
   "id": "ca90fa1a",
   "metadata": {},
   "outputs": [
    {
     "data": {
      "text/html": [
       "<div>\n",
       "<style scoped>\n",
       "    .dataframe tbody tr th:only-of-type {\n",
       "        vertical-align: middle;\n",
       "    }\n",
       "\n",
       "    .dataframe tbody tr th {\n",
       "        vertical-align: top;\n",
       "    }\n",
       "\n",
       "    .dataframe thead th {\n",
       "        text-align: right;\n",
       "    }\n",
       "</style>\n",
       "<table border=\"1\" class=\"dataframe\">\n",
       "  <thead>\n",
       "    <tr style=\"text-align: right;\">\n",
       "      <th></th>\n",
       "      <th>Date</th>\n",
       "      <th>Open</th>\n",
       "      <th>High</th>\n",
       "      <th>Low</th>\n",
       "      <th>Close</th>\n",
       "      <th>Adj Close</th>\n",
       "      <th>Volume</th>\n",
       "      <th>datetime</th>\n",
       "    </tr>\n",
       "  </thead>\n",
       "  <tbody>\n",
       "    <tr>\n",
       "      <th>0</th>\n",
       "      <td>2016-05-07</td>\n",
       "      <td>0.000224</td>\n",
       "      <td>0.000225</td>\n",
       "      <td>0.000221</td>\n",
       "      <td>0.000223</td>\n",
       "      <td>0.000223</td>\n",
       "      <td>83754.0</td>\n",
       "      <td>2016-05-07</td>\n",
       "    </tr>\n",
       "    <tr>\n",
       "      <th>1</th>\n",
       "      <td>2016-05-08</td>\n",
       "      <td>0.000222</td>\n",
       "      <td>0.000223</td>\n",
       "      <td>0.000220</td>\n",
       "      <td>0.000222</td>\n",
       "      <td>0.000222</td>\n",
       "      <td>46961.0</td>\n",
       "      <td>2016-05-08</td>\n",
       "    </tr>\n",
       "    <tr>\n",
       "      <th>2</th>\n",
       "      <td>2016-05-09</td>\n",
       "      <td>0.000222</td>\n",
       "      <td>0.000225</td>\n",
       "      <td>0.000220</td>\n",
       "      <td>0.000224</td>\n",
       "      <td>0.000224</td>\n",
       "      <td>75340.0</td>\n",
       "      <td>2016-05-09</td>\n",
       "    </tr>\n",
       "    <tr>\n",
       "      <th>3</th>\n",
       "      <td>2016-05-10</td>\n",
       "      <td>0.000222</td>\n",
       "      <td>0.000224</td>\n",
       "      <td>0.000220</td>\n",
       "      <td>0.000220</td>\n",
       "      <td>0.000220</td>\n",
       "      <td>76419.0</td>\n",
       "      <td>2016-05-10</td>\n",
       "    </tr>\n",
       "    <tr>\n",
       "      <th>4</th>\n",
       "      <td>2016-05-11</td>\n",
       "      <td>0.000220</td>\n",
       "      <td>0.000224</td>\n",
       "      <td>0.000220</td>\n",
       "      <td>0.000224</td>\n",
       "      <td>0.000224</td>\n",
       "      <td>71369.0</td>\n",
       "      <td>2016-05-11</td>\n",
       "    </tr>\n",
       "  </tbody>\n",
       "</table>\n",
       "</div>"
      ],
      "text/plain": [
       "         Date      Open      High       Low     Close  Adj Close   Volume  \\\n",
       "0  2016-05-07  0.000224  0.000225  0.000221  0.000223   0.000223  83754.0   \n",
       "1  2016-05-08  0.000222  0.000223  0.000220  0.000222   0.000222  46961.0   \n",
       "2  2016-05-09  0.000222  0.000225  0.000220  0.000224   0.000224  75340.0   \n",
       "3  2016-05-10  0.000222  0.000224  0.000220  0.000220   0.000220  76419.0   \n",
       "4  2016-05-11  0.000220  0.000224  0.000220  0.000224   0.000224  71369.0   \n",
       "\n",
       "    datetime  \n",
       "0 2016-05-07  \n",
       "1 2016-05-08  \n",
       "2 2016-05-09  \n",
       "3 2016-05-10  \n",
       "4 2016-05-11  "
      ]
     },
     "execution_count": 69,
     "metadata": {},
     "output_type": "execute_result"
    }
   ],
   "source": [
    "dogecoin_data.head()"
   ]
  },
  {
   "cell_type": "code",
   "execution_count": 70,
   "id": "5e1875c6",
   "metadata": {},
   "outputs": [],
   "source": [
    "def get_three_following_dates_samples(data, start_date, n_samples=30):\n",
    "    start_index = data[data.datetime == start_date].index[0]\n",
    "    end_index = data[data.datetime == data.datetime.max()].index[0]\n",
    "    \n",
    "    price_indeces = data.index.tolist()\n",
    "    result = []\n",
    "    \n",
    "    while n_samples > 0:\n",
    "        \n",
    "        index = random.randint(start_index + 1, end_index - 1)\n",
    "        indeces = [index - 1, index, index + 1]\n",
    "        \n",
    "        if len(set(price_indeces) & set(indeces)) < 3:\n",
    "            continue;\n",
    "        \n",
    "        result.append(data.loc[indeces, 'High'].values)\n",
    "        n_samples -= 1\n",
    "        \n",
    "    return result"
   ]
  },
  {
   "cell_type": "code",
   "execution_count": 71,
   "id": "6a3fd32c",
   "metadata": {},
   "outputs": [
    {
     "data": {
      "text/plain": [
       "[array([0.061745, 0.06391 , 0.065068]),\n",
       " array([0.009858, 0.009145, 0.008646]),\n",
       " array([0.009613, 0.009153, 0.009089]),\n",
       " array([0.010867, 0.009858, 0.009145]),\n",
       " array([0.14251 , 0.187326, 0.4377  ])]"
      ]
     },
     "execution_count": 71,
     "metadata": {},
     "output_type": "execute_result"
    }
   ],
   "source": [
    "get_three_following_dates_samples(dogecoin_data, df.datetime.min())[:5]"
   ]
  },
  {
   "cell_type": "code",
   "execution_count": 72,
   "id": "c9869daf",
   "metadata": {},
   "outputs": [],
   "source": [
    "def get_B_subset(tweets_data, price_data, n_samples):\n",
    "    subset_A, used_dates = get_A_subset(tweets_data, price_data)\n",
    "\n",
    "    price_data = price_data.copy()\n",
    "    price_data = price_data[~price_data.datetime.isin(used_dates)]\n",
    "    \n",
    "    result = []\n",
    "    \n",
    "    samples = get_three_following_dates_samples(price_data, tweets_data.datetime.min(), n_samples=n_samples)\n",
    "    for sample in samples:\n",
    "        result.append(sample.std())\n",
    "        \n",
    "    return result"
   ]
  },
  {
   "cell_type": "code",
   "execution_count": 73,
   "id": "a2e1736f",
   "metadata": {},
   "outputs": [],
   "source": [
    "subset_B = get_B_subset(df, dogecoin_data, 100)"
   ]
  },
  {
   "cell_type": "code",
   "execution_count": 74,
   "id": "a15c5ed4",
   "metadata": {},
   "outputs": [
    {
     "data": {
      "text/plain": [
       "100"
      ]
     },
     "execution_count": 74,
     "metadata": {},
     "output_type": "execute_result"
    }
   ],
   "source": [
    "len(subset_B)"
   ]
  },
  {
   "cell_type": "code",
   "execution_count": 75,
   "id": "a3f11e1a",
   "metadata": {},
   "outputs": [
    {
     "data": {
      "text/plain": [
       "[0.0002183620846209346,\n",
       " 0.009762523319078715,\n",
       " 0.0011972697644594898,\n",
       " 0.0031182602343115757,\n",
       " 0.0025354563472654986]"
      ]
     },
     "execution_count": 75,
     "metadata": {},
     "output_type": "execute_result"
    }
   ],
   "source": [
    "subset_B[:5]"
   ]
  },
  {
   "cell_type": "code",
   "execution_count": 76,
   "id": "b918da09",
   "metadata": {},
   "outputs": [
    {
     "data": {
      "image/png": "[encoded data removed]",
      "text/plain": [
       "<Figure size 432x288 with 1 Axes>"
      ]
     },
     "metadata": {
      "needs_background": "light"
     },
     "output_type": "display_data"
    }
   ],
   "source": [
    "sns.kdeplot(subset_B, color='#f44336');"
   ]
  },
  {
   "cell_type": "code",
   "execution_count": 77,
   "id": "5e12d8cf",
   "metadata": {},
   "outputs": [
    {
     "data": {
      "image/png": "[encoded data removed]",
      "text/plain": [
       "<Figure size 432x288 with 1 Axes>"
      ]
     },
     "metadata": {
      "needs_background": "light"
     },
     "output_type": "display_data"
    }
   ],
   "source": [
    "sns.histplot(subset_B);"
   ]
  },
  {
   "cell_type": "code",
   "execution_count": 78,
   "id": "8285ba3a",
   "metadata": {},
   "outputs": [
    {
     "data": {
      "image/png": "[encoded data removed]",
      "text/plain": [
       "<Figure size 1152x144 with 1 Axes>"
      ]
     },
     "metadata": {
      "needs_background": "light"
     },
     "output_type": "display_data"
    }
   ],
   "source": [
    "plt.figure(figsize=(16, 2))\n",
    "sns.boxplot(x=subset_B);"
   ]
  },
  {
   "cell_type": "code",
   "execution_count": 79,
   "id": "b9865d20",
   "metadata": {},
   "outputs": [
    {
     "data": {
      "image/png": "[encoded data removed]",
      "text/plain": [
       "<Figure size 1152x144 with 1 Axes>"
      ]
     },
     "metadata": {
      "needs_background": "light"
     },
     "output_type": "display_data"
    }
   ],
   "source": [
    "plt.figure(figsize=(16, 2))\n",
    "sns.boxplot(x=np.log(subset_B));"
   ]
  },
  {
   "cell_type": "markdown",
   "id": "e51ced8f",
   "metadata": {},
   "source": [
    "# Compare sets A and B "
   ]
  },
  {
   "cell_type": "code",
   "execution_count": 80,
   "id": "fc2cff1b",
   "metadata": {},
   "outputs": [
    {
     "data": {
      "image/png": "[encoded data removed]",
      "text/plain": [
       "<Figure size 864x360 with 1 Axes>"
      ]
     },
     "metadata": {
      "needs_background": "light"
     },
     "output_type": "display_data"
    }
   ],
   "source": [
    "plt.figure(figsize=(12, 5))\n",
    "sns.kdeplot(subset_A, color='r', label='Dogecoin_is_mentioned');\n",
    "sns.kdeplot(subset_B, label=\"Dogecoin_isn't_mentioned\");\n",
    "plt.axvline(np.array(subset_A).mean(), color='red', linestyle='-', linewidth=2);\n",
    "plt.axvline(np.array(subset_B).mean(), linestyle='-', linewidth=2);\n",
    "plt.axvline(np.median(subset_A), color='red', linestyle='--', linewidth=2);\n",
    "plt.axvline(np.median(subset_B), linestyle='--', linewidth=2);\n",
    "plt.legend();"
   ]
  },
  {
   "cell_type": "code",
   "execution_count": 81,
   "id": "cf4d82e7",
   "metadata": {},
   "outputs": [
    {
     "data": {
      "image/png": "[encoded data removed]",
      "text/plain": [
       "<Figure size 576x288 with 1 Axes>"
      ]
     },
     "metadata": {
      "needs_background": "light"
     },
     "output_type": "display_data"
    }
   ],
   "source": [
    "subset_A_log, subset_B_log = np.log(subset_A), np.log(subset_B)\n",
    "\n",
    "plt.figure(figsize=(8, 4))\n",
    "sns.kdeplot(subset_A_log, color='r', label='Dogecoin_is_mentioned');\n",
    "sns.kdeplot(subset_B_log, label=\"Dogecoin_isn't_mentioned\");\n",
    "plt.axvline(subset_A_log.mean(), color='red', linestyle='-', linewidth=2);\n",
    "plt.axvline(subset_B_log.mean(), linestyle='-', linewidth=2);\n",
    "plt.axvline(np.median(subset_A_log), color='red', linestyle='--', linewidth=2);\n",
    "plt.axvline(np.median(subset_B_log), linestyle='--', linewidth=2);\n",
    "plt.legend();"
   ]
  },
  {
   "cell_type": "code",
   "execution_count": 82,
   "id": "b5ffc262",
   "metadata": {},
   "outputs": [
    {
     "data": {
      "text/plain": [
       "Ttest_indResult(statistic=1.279836680640863, pvalue=0.2086922830450278)"
      ]
     },
     "execution_count": 82,
     "metadata": {},
     "output_type": "execute_result"
    }
   ],
   "source": [
    "stats.ttest_ind(subset_A, subset_B, equal_var=False)"
   ]
  },
  {
   "cell_type": "code",
   "execution_count": 83,
   "id": "a3ac54d6",
   "metadata": {},
   "outputs": [
    {
     "data": {
      "text/plain": [
       "Ttest_indResult(statistic=2.3362199313087784, pvalue=0.022323427469019105)"
      ]
     },
     "execution_count": 83,
     "metadata": {},
     "output_type": "execute_result"
    }
   ],
   "source": [
    "stats.ttest_ind(np.log(subset_A), np.log(subset_B), equal_var=False)"
   ]
  },
  {
   "cell_type": "code",
   "execution_count": 84,
   "id": "d62242c2",
   "metadata": {},
   "outputs": [
    {
     "data": {
      "text/plain": [
       "Ttest_indResult(statistic=2.0958883505105996, pvalue=0.03800170658269014)"
      ]
     },
     "execution_count": 84,
     "metadata": {},
     "output_type": "execute_result"
    }
   ],
   "source": [
    "stats.ttest_ind(np.log(subset_A), np.log(subset_B), equal_var=True)"
   ]
  },
  {
   "cell_type": "code",
   "execution_count": 85,
   "id": "f05b4e8f",
   "metadata": {},
   "outputs": [
    {
     "data": {
      "text/plain": [
       "Ttest_indResult(statistic=1.8815920496608123, pvalue=0.06209362035700547)"
      ]
     },
     "execution_count": 85,
     "metadata": {},
     "output_type": "execute_result"
    }
   ],
   "source": [
    "stats.ttest_ind(subset_A, subset_B, equal_var=True)"
   ]
  },
  {
   "cell_type": "markdown",
   "id": "777faf76",
   "metadata": {},
   "source": [
    "**Conclusion:**\n",
    "By looking at the first plot can't say that there is a significant difference between two sets of standard deviations. But when I put subsets under log it made influence of outliers smaller, therefore distribution became more closer to normal and after that we can use t-test which showed us that subsets are different. With significance level 0.05"
   ]
  },
  {
   "cell_type": "code",
   "execution_count": 86,
   "id": "7a5c367e",
   "metadata": {},
   "outputs": [
    {
     "data": {
      "image/png": "[encoded data removed]",
      "text/plain": [
       "<Figure size 1152x144 with 1 Axes>"
      ]
     },
     "metadata": {
      "needs_background": "light"
     },
     "output_type": "display_data"
    },
    {
     "data": {
      "image/png": "[encoded data removed]",
      "text/plain": [
       "<Figure size 1152x144 with 1 Axes>"
      ]
     },
     "metadata": {
      "needs_background": "light"
     },
     "output_type": "display_data"
    }
   ],
   "source": [
    "plt.figure(figsize=(16, 2))\n",
    "sns.boxplot(x=subset_A);\n",
    "plt.title(\"Subset A\")\n",
    "plt.show()\n",
    "plt.figure(figsize=(16, 2))\n",
    "sns.boxplot(x=subset_B);\n",
    "plt.title(\"Subset B\");"
   ]
  },
  {
   "cell_type": "markdown",
   "id": "5338ae38",
   "metadata": {},
   "source": [
    "**Conclusion:**\n",
    "This two box plots show us that the median of these subsets are very close to each other. And also we can assume that the subset B on which Elon's tweets didn't have any influence still has a lot of outliers or in other words the grow of price is still chaotic. And only some of Elon's tweets predicted price jump."
   ]
  },
  {
   "cell_type": "markdown",
   "id": "4f9f4a7a",
   "metadata": {},
   "source": [
    "# Experiment 1\n",
    "\n",
    "I want to make a visualization which will show how many times the price grew after Elon had mentioned dogecoin comparing with moments when it went down. After this experiment I will able to measure the probability of grow of price."
   ]
  },
  {
   "cell_type": "code",
   "execution_count": 87,
   "id": "984202bb",
   "metadata": {},
   "outputs": [],
   "source": [
    "def get_price_changes(tweets_data, price_data):\n",
    "    data = tweets_data.copy()\n",
    "    dates_dogecoin_was_mentioned = data.loc[data.isDogecoin == 1, 'datetime'].drop_duplicates()\n",
    "    dates_before = pd.to_datetime(dates_dogecoin_was_mentioned) - pd.to_timedelta(1, unit=\"D\")\n",
    "    dates_after = pd.to_datetime(dates_dogecoin_was_mentioned) + pd.to_timedelta(1, unit=\"D\")\n",
    "    \n",
    "    price_changes = price_data.loc[price_data.datetime.isin(dates_dogecoin_was_mentioned), 'High'].values - price_data.\\\n",
    "                                                    loc[price_data.datetime.isin(dates_before), 'High'].values\n",
    "    price_changes = pd.Series(price_changes)\n",
    "    \n",
    "    price_changes2 = price_data.loc[price_data.datetime.isin(dates_after), 'High'].values - price_data.\\\n",
    "                                                     loc[price_data.datetime.isin(dates_before), 'High'].values\n",
    "    price_changes2 = pd.Series(price_changes2)\n",
    "    \n",
    "    return price_changes, price_changes2"
   ]
  },
  {
   "cell_type": "code",
   "execution_count": 88,
   "id": "4237cd9c",
   "metadata": {},
   "outputs": [],
   "source": [
    "price_changes, price_changes_day_after = get_price_changes(df, dogecoin_data)"
   ]
  },
  {
   "cell_type": "code",
   "execution_count": 89,
   "id": "7192ec92",
   "metadata": {},
   "outputs": [],
   "source": [
    "price_changes = price_changes.apply(lambda x: 1 if x > 0 else 0)\n",
    "price_changes_day_after = price_changes_day_after.apply(lambda x: 1 if x > 0 else 0)"
   ]
  },
  {
   "cell_type": "code",
   "execution_count": 90,
   "id": "5039ca72",
   "metadata": {},
   "outputs": [],
   "source": [
    "price_changes_during_two_days = price_changes | price_changes_day_after"
   ]
  },
  {
   "cell_type": "code",
   "execution_count": 91,
   "id": "f8a33d0a",
   "metadata": {},
   "outputs": [
    {
     "data": {
      "text/plain": [
       "0    1\n",
       "1    1\n",
       "2    1\n",
       "3    1\n",
       "4    0\n",
       "dtype: int64"
      ]
     },
     "execution_count": 91,
     "metadata": {},
     "output_type": "execute_result"
    }
   ],
   "source": [
    "price_changes_during_two_days.head()"
   ]
  },
  {
   "cell_type": "code",
   "execution_count": 92,
   "id": "5bfe236e",
   "metadata": {},
   "outputs": [],
   "source": [
    "price_changes_during_two_days.replace([1, 0], ['increased', 'decreased'], inplace=True)"
   ]
  },
  {
   "cell_type": "code",
   "execution_count": 93,
   "id": "181f717e",
   "metadata": {},
   "outputs": [
    {
     "data": {
      "text/plain": [
       "0    increased\n",
       "1    increased\n",
       "2    increased\n",
       "3    increased\n",
       "4    decreased\n",
       "dtype: object"
      ]
     },
     "execution_count": 93,
     "metadata": {},
     "output_type": "execute_result"
    }
   ],
   "source": [
    "price_changes_during_two_days.head()"
   ]
  },
  {
   "cell_type": "code",
   "execution_count": 94,
   "id": "b6b0c5cd",
   "metadata": {},
   "outputs": [
    {
     "data": {
      "image/png": "[encoded data removed]",
      "text/plain": [
       "<Figure size 432x288 with 1 Axes>"
      ]
     },
     "metadata": {
      "needs_background": "light"
     },
     "output_type": "display_data"
    }
   ],
   "source": [
    "sns.countplot(x=price_changes_during_two_days);"
   ]
  },
  {
   "cell_type": "code",
   "execution_count": 95,
   "id": "6c789065",
   "metadata": {},
   "outputs": [
    {
     "data": {
      "text/plain": [
       "increased    15\n",
       "decreased     6\n",
       "dtype: int64"
      ]
     },
     "execution_count": 95,
     "metadata": {},
     "output_type": "execute_result"
    }
   ],
   "source": [
    "price_changes_during_two_days.value_counts()"
   ]
  },
  {
   "cell_type": "code",
   "execution_count": 96,
   "id": "6470781a",
   "metadata": {},
   "outputs": [
    {
     "data": {
      "text/plain": [
       "40.0"
      ]
     },
     "execution_count": 96,
     "metadata": {},
     "output_type": "execute_result"
    }
   ],
   "source": [
    "(6 * 100) / 15"
   ]
  },
  {
   "cell_type": "markdown",
   "id": "dd5e9793",
   "metadata": {},
   "source": [
    "**Conclusion:**\n",
    "In 60% of cases during the next two days the price grew. And in 40% of cases during the next two days the price went down all time."
   ]
  },
  {
   "cell_type": "code",
   "execution_count": 97,
   "id": "3f1f4e9e",
   "metadata": {},
   "outputs": [
    {
     "data": {
      "text/html": [
       "<div>\n",
       "<style scoped>\n",
       "    .dataframe tbody tr th:only-of-type {\n",
       "        vertical-align: middle;\n",
       "    }\n",
       "\n",
       "    .dataframe tbody tr th {\n",
       "        vertical-align: top;\n",
       "    }\n",
       "\n",
       "    .dataframe thead th {\n",
       "        text-align: right;\n",
       "    }\n",
       "</style>\n",
       "<table border=\"1\" class=\"dataframe\">\n",
       "  <thead>\n",
       "    <tr style=\"text-align: right;\">\n",
       "      <th></th>\n",
       "      <th>tweet_content</th>\n",
       "      <th>datetime</th>\n",
       "      <th>likes</th>\n",
       "      <th>retweets</th>\n",
       "      <th>isDogecoin</th>\n",
       "    </tr>\n",
       "  </thead>\n",
       "  <tbody>\n",
       "    <tr>\n",
       "      <th>0</th>\n",
       "      <td>all tesla cars delivered in the final three da...</td>\n",
       "      <td>2020-12-29</td>\n",
       "      <td>73052</td>\n",
       "      <td>3507</td>\n",
       "      <td>0</td>\n",
       "    </tr>\n",
       "    <tr>\n",
       "      <th>1</th>\n",
       "      <td>destiny, destinyno escaping that for me</td>\n",
       "      <td>2020-12-30</td>\n",
       "      <td>155133</td>\n",
       "      <td>11438</td>\n",
       "      <td>0</td>\n",
       "    </tr>\n",
       "    <tr>\n",
       "      <th>2</th>\n",
       "      <td>@tobyliiiiiiiiii are we sure this is real?</td>\n",
       "      <td>2020-12-30</td>\n",
       "      <td>5680</td>\n",
       "      <td>179</td>\n",
       "      <td>0</td>\n",
       "    </tr>\n",
       "    <tr>\n",
       "      <th>3</th>\n",
       "      <td>@harsimranbansal literally</td>\n",
       "      <td>2020-12-30</td>\n",
       "      <td>3033</td>\n",
       "      <td>56</td>\n",
       "      <td>0</td>\n",
       "    </tr>\n",
       "    <tr>\n",
       "      <th>4</th>\n",
       "      <td>@tesmanian_com this is very sensible. oppositi...</td>\n",
       "      <td>2020-12-30</td>\n",
       "      <td>4322</td>\n",
       "      <td>165</td>\n",
       "      <td>0</td>\n",
       "    </tr>\n",
       "  </tbody>\n",
       "</table>\n",
       "</div>"
      ],
      "text/plain": [
       "                                       tweet_content   datetime   likes  \\\n",
       "0  all tesla cars delivered in the final three da... 2020-12-29   73052   \n",
       "1            destiny, destinyno escaping that for me 2020-12-30  155133   \n",
       "2         @tobyliiiiiiiiii are we sure this is real? 2020-12-30    5680   \n",
       "3                         @harsimranbansal literally 2020-12-30    3033   \n",
       "4  @tesmanian_com this is very sensible. oppositi... 2020-12-30    4322   \n",
       "\n",
       "   retweets  isDogecoin  \n",
       "0      3507           0  \n",
       "1     11438           0  \n",
       "2       179           0  \n",
       "3        56           0  \n",
       "4       165           0  "
      ]
     },
     "execution_count": 97,
     "metadata": {},
     "output_type": "execute_result"
    }
   ],
   "source": [
    "df.head()"
   ]
  },
  {
   "cell_type": "markdown",
   "id": "73c0e8a7",
   "metadata": {},
   "source": [
    "# Eploring likes"
   ]
  },
  {
   "cell_type": "code",
   "execution_count": 98,
   "id": "1d3647c1",
   "metadata": {},
   "outputs": [
    {
     "data": {
      "text/html": [
       "<div>\n",
       "<style scoped>\n",
       "    .dataframe tbody tr th:only-of-type {\n",
       "        vertical-align: middle;\n",
       "    }\n",
       "\n",
       "    .dataframe tbody tr th {\n",
       "        vertical-align: top;\n",
       "    }\n",
       "\n",
       "    .dataframe thead th {\n",
       "        text-align: right;\n",
       "    }\n",
       "</style>\n",
       "<table border=\"1\" class=\"dataframe\">\n",
       "  <thead>\n",
       "    <tr style=\"text-align: right;\">\n",
       "      <th></th>\n",
       "      <th>tweet_content</th>\n",
       "      <th>datetime</th>\n",
       "      <th>likes</th>\n",
       "      <th>retweets</th>\n",
       "      <th>isDogecoin</th>\n",
       "    </tr>\n",
       "  </thead>\n",
       "  <tbody>\n",
       "    <tr>\n",
       "      <th>253</th>\n",
       "      <td>doge</td>\n",
       "      <td>2021-02-04</td>\n",
       "      <td>261684</td>\n",
       "      <td>46135</td>\n",
       "      <td>1</td>\n",
       "    </tr>\n",
       "    <tr>\n",
       "      <th>256</th>\n",
       "      <td>dogecoin is the peoples crypto</td>\n",
       "      <td>2021-02-04</td>\n",
       "      <td>554581</td>\n",
       "      <td>104041</td>\n",
       "      <td>1</td>\n",
       "    </tr>\n",
       "    <tr>\n",
       "      <th>258</th>\n",
       "      <td>no highs, no lows, only doge</td>\n",
       "      <td>2021-02-04</td>\n",
       "      <td>774800</td>\n",
       "      <td>114032</td>\n",
       "      <td>1</td>\n",
       "    </tr>\n",
       "    <tr>\n",
       "      <th>286</th>\n",
       "      <td>@grimezsz dogecake</td>\n",
       "      <td>2021-02-06</td>\n",
       "      <td>9609</td>\n",
       "      <td>1318</td>\n",
       "      <td>1</td>\n",
       "    </tr>\n",
       "    <tr>\n",
       "      <th>295</th>\n",
       "      <td>@dogecoinrich</td>\n",
       "      <td>2021-02-07</td>\n",
       "      <td>60922</td>\n",
       "      <td>3112</td>\n",
       "      <td>1</td>\n",
       "    </tr>\n",
       "    <tr>\n",
       "      <th>297</th>\n",
       "      <td>@jbuttermost @dogecoinrich</td>\n",
       "      <td>2021-02-07</td>\n",
       "      <td>7729</td>\n",
       "      <td>723</td>\n",
       "      <td>1</td>\n",
       "    </tr>\n",
       "    <tr>\n",
       "      <th>303</th>\n",
       "      <td>who let the doge out</td>\n",
       "      <td>2021-02-07</td>\n",
       "      <td>788302</td>\n",
       "      <td>114855</td>\n",
       "      <td>1</td>\n",
       "    </tr>\n",
       "    <tr>\n",
       "      <th>311</th>\n",
       "      <td>@itsallrisky doge appears to be inflationary, ...</td>\n",
       "      <td>2021-02-08</td>\n",
       "      <td>15173</td>\n",
       "      <td>3442</td>\n",
       "      <td>1</td>\n",
       "    </tr>\n",
       "    <tr>\n",
       "      <th>331</th>\n",
       "      <td>bought some dogecoin for lil x, so he can be a...</td>\n",
       "      <td>2021-02-10</td>\n",
       "      <td>549659</td>\n",
       "      <td>59294</td>\n",
       "      <td>1</td>\n",
       "    </tr>\n",
       "    <tr>\n",
       "      <th>339</th>\n",
       "      <td>frodo was the underdoge,all thought he would f...</td>\n",
       "      <td>2021-02-11</td>\n",
       "      <td>247301</td>\n",
       "      <td>30205</td>\n",
       "      <td>1</td>\n",
       "    </tr>\n",
       "    <tr>\n",
       "      <th>342</th>\n",
       "      <td>@gtera27 doge is underestimated</td>\n",
       "      <td>2021-02-11</td>\n",
       "      <td>28188</td>\n",
       "      <td>8256</td>\n",
       "      <td>1</td>\n",
       "    </tr>\n",
       "    <tr>\n",
       "      <th>353</th>\n",
       "      <td>if major dogecoin holders sell most of their c...</td>\n",
       "      <td>2021-02-14</td>\n",
       "      <td>331018</td>\n",
       "      <td>34853</td>\n",
       "      <td>1</td>\n",
       "    </tr>\n",
       "    <tr>\n",
       "      <th>354</th>\n",
       "      <td>@rationaletienne an acceptable percentage. dog...</td>\n",
       "      <td>2021-02-14</td>\n",
       "      <td>6067</td>\n",
       "      <td>746</td>\n",
       "      <td>1</td>\n",
       "    </tr>\n",
       "    <tr>\n",
       "      <th>384</th>\n",
       "      <td>@dogecoin i just set up some little doge minin...</td>\n",
       "      <td>2021-02-20</td>\n",
       "      <td>55919</td>\n",
       "      <td>6790</td>\n",
       "      <td>1</td>\n",
       "    </tr>\n",
       "    <tr>\n",
       "      <th>386</th>\n",
       "      <td>@ppathole @dogecoin just some used antminer l3...</td>\n",
       "      <td>2021-02-20</td>\n",
       "      <td>9060</td>\n",
       "      <td>764</td>\n",
       "      <td>1</td>\n",
       "    </tr>\n",
       "    <tr>\n",
       "      <th>395</th>\n",
       "      <td>dojo 4 doge</td>\n",
       "      <td>2021-02-21</td>\n",
       "      <td>327511</td>\n",
       "      <td>32960</td>\n",
       "      <td>1</td>\n",
       "    </tr>\n",
       "    <tr>\n",
       "      <th>452</th>\n",
       "      <td>doge meme shield (legendary item)</td>\n",
       "      <td>2021-03-01</td>\n",
       "      <td>284648</td>\n",
       "      <td>26813</td>\n",
       "      <td>1</td>\n",
       "    </tr>\n",
       "    <tr>\n",
       "      <th>458</th>\n",
       "      <td>@draecomino 2022: dogecoin is dumb</td>\n",
       "      <td>2021-03-02</td>\n",
       "      <td>14405</td>\n",
       "      <td>2005</td>\n",
       "      <td>1</td>\n",
       "    </tr>\n",
       "    <tr>\n",
       "      <th>464</th>\n",
       "      <td>@wootieztv very much so &amp;amp; its leader shall...</td>\n",
       "      <td>2021-03-02</td>\n",
       "      <td>16170</td>\n",
       "      <td>1658</td>\n",
       "      <td>1</td>\n",
       "    </tr>\n",
       "    <tr>\n",
       "      <th>499</th>\n",
       "      <td>doge spelled backwards is egod</td>\n",
       "      <td>2021-03-06</td>\n",
       "      <td>410601</td>\n",
       "      <td>38931</td>\n",
       "      <td>1</td>\n",
       "    </tr>\n",
       "    <tr>\n",
       "      <th>548</th>\n",
       "      <td>doge day afternoon</td>\n",
       "      <td>2021-03-13</td>\n",
       "      <td>176316</td>\n",
       "      <td>18907</td>\n",
       "      <td>1</td>\n",
       "    </tr>\n",
       "    <tr>\n",
       "      <th>549</th>\n",
       "      <td>origin of doge day afternoon:the ancient roman...</td>\n",
       "      <td>2021-03-13</td>\n",
       "      <td>76794</td>\n",
       "      <td>7878</td>\n",
       "      <td>1</td>\n",
       "    </tr>\n",
       "    <tr>\n",
       "      <th>550</th>\n",
       "      <td>why are you so dogematic, they ask</td>\n",
       "      <td>2021-03-13</td>\n",
       "      <td>247010</td>\n",
       "      <td>19508</td>\n",
       "      <td>1</td>\n",
       "    </tr>\n",
       "    <tr>\n",
       "      <th>567</th>\n",
       "      <td>@beeple 420m doge</td>\n",
       "      <td>2021-03-15</td>\n",
       "      <td>80502</td>\n",
       "      <td>5148</td>\n",
       "      <td>1</td>\n",
       "    </tr>\n",
       "    <tr>\n",
       "      <th>575</th>\n",
       "      <td>@lexfridman sometimes its about doge</td>\n",
       "      <td>2021-03-18</td>\n",
       "      <td>49661</td>\n",
       "      <td>3610</td>\n",
       "      <td>1</td>\n",
       "    </tr>\n",
       "    <tr>\n",
       "      <th>625</th>\n",
       "      <td>@dogecoinww @mattwallace888 @corinnakopf you r...</td>\n",
       "      <td>2021-03-25</td>\n",
       "      <td>8005</td>\n",
       "      <td>242</td>\n",
       "      <td>1</td>\n",
       "    </tr>\n",
       "    <tr>\n",
       "      <th>680</th>\n",
       "      <td>spacex is going to put a literal dogecoin on t...</td>\n",
       "      <td>2021-04-01</td>\n",
       "      <td>541980</td>\n",
       "      <td>51594</td>\n",
       "      <td>1</td>\n",
       "    </tr>\n",
       "    <tr>\n",
       "      <th>728</th>\n",
       "      <td>@dogeofficialceo @watcherstank @spacex looking...</td>\n",
       "      <td>2021-04-08</td>\n",
       "      <td>4214</td>\n",
       "      <td>487</td>\n",
       "      <td>1</td>\n",
       "    </tr>\n",
       "    <tr>\n",
       "      <th>798</th>\n",
       "      <td>@dogeofficialceo @f9block5</td>\n",
       "      <td>2021-04-14</td>\n",
       "      <td>1745</td>\n",
       "      <td>267</td>\n",
       "      <td>1</td>\n",
       "    </tr>\n",
       "    <tr>\n",
       "      <th>801</th>\n",
       "      <td>@astrojordy @dogeofficialceo @f9block5 insanel...</td>\n",
       "      <td>2021-04-14</td>\n",
       "      <td>2602</td>\n",
       "      <td>180</td>\n",
       "      <td>1</td>\n",
       "    </tr>\n",
       "    <tr>\n",
       "      <th>810</th>\n",
       "      <td>@wsbchairman doge barking at the moon miro</td>\n",
       "      <td>2021-04-15</td>\n",
       "      <td>20887</td>\n",
       "      <td>2647</td>\n",
       "      <td>1</td>\n",
       "    </tr>\n",
       "    <tr>\n",
       "      <th>811</th>\n",
       "      <td>doge barking at the moon</td>\n",
       "      <td>2021-04-15</td>\n",
       "      <td>335345</td>\n",
       "      <td>50767</td>\n",
       "      <td>1</td>\n",
       "    </tr>\n",
       "    <tr>\n",
       "      <th>815</th>\n",
       "      <td>@sadiaslayy @dogecoinbets</td>\n",
       "      <td>2021-04-15</td>\n",
       "      <td>40905</td>\n",
       "      <td>3598</td>\n",
       "      <td>1</td>\n",
       "    </tr>\n",
       "    <tr>\n",
       "      <th>900</th>\n",
       "      <td>the dogefathersnl may 8</td>\n",
       "      <td>2021-04-28</td>\n",
       "      <td>459570</td>\n",
       "      <td>80220</td>\n",
       "      <td>1</td>\n",
       "    </tr>\n",
       "  </tbody>\n",
       "</table>\n",
       "</div>"
      ],
      "text/plain": [
       "                                         tweet_content   datetime   likes  \\\n",
       "253                                               doge 2021-02-04  261684   \n",
       "256                     dogecoin is the peoples crypto 2021-02-04  554581   \n",
       "258                       no highs, no lows, only doge 2021-02-04  774800   \n",
       "286                                 @grimezsz dogecake 2021-02-06    9609   \n",
       "295                                      @dogecoinrich 2021-02-07   60922   \n",
       "297                         @jbuttermost @dogecoinrich 2021-02-07    7729   \n",
       "303                               who let the doge out 2021-02-07  788302   \n",
       "311  @itsallrisky doge appears to be inflationary, ... 2021-02-08   15173   \n",
       "331  bought some dogecoin for lil x, so he can be a... 2021-02-10  549659   \n",
       "339  frodo was the underdoge,all thought he would f... 2021-02-11  247301   \n",
       "342                    @gtera27 doge is underestimated 2021-02-11   28188   \n",
       "353  if major dogecoin holders sell most of their c... 2021-02-14  331018   \n",
       "354  @rationaletienne an acceptable percentage. dog... 2021-02-14    6067   \n",
       "384  @dogecoin i just set up some little doge minin... 2021-02-20   55919   \n",
       "386  @ppathole @dogecoin just some used antminer l3... 2021-02-20    9060   \n",
       "395                                        dojo 4 doge 2021-02-21  327511   \n",
       "452                  doge meme shield (legendary item) 2021-03-01  284648   \n",
       "458                 @draecomino 2022: dogecoin is dumb 2021-03-02   14405   \n",
       "464  @wootieztv very much so &amp; its leader shall... 2021-03-02   16170   \n",
       "499                     doge spelled backwards is egod 2021-03-06  410601   \n",
       "548                                 doge day afternoon 2021-03-13  176316   \n",
       "549  origin of doge day afternoon:the ancient roman... 2021-03-13   76794   \n",
       "550                 why are you so dogematic, they ask 2021-03-13  247010   \n",
       "567                                  @beeple 420m doge 2021-03-15   80502   \n",
       "575               @lexfridman sometimes its about doge 2021-03-18   49661   \n",
       "625  @dogecoinww @mattwallace888 @corinnakopf you r... 2021-03-25    8005   \n",
       "680  spacex is going to put a literal dogecoin on t... 2021-04-01  541980   \n",
       "728  @dogeofficialceo @watcherstank @spacex looking... 2021-04-08    4214   \n",
       "798                         @dogeofficialceo @f9block5 2021-04-14    1745   \n",
       "801  @astrojordy @dogeofficialceo @f9block5 insanel... 2021-04-14    2602   \n",
       "810         @wsbchairman doge barking at the moon miro 2021-04-15   20887   \n",
       "811                           doge barking at the moon 2021-04-15  335345   \n",
       "815                          @sadiaslayy @dogecoinbets 2021-04-15   40905   \n",
       "900                            the dogefathersnl may 8 2021-04-28  459570   \n",
       "\n",
       "     retweets  isDogecoin  \n",
       "253     46135           1  \n",
       "256    104041           1  \n",
       "258    114032           1  \n",
       "286      1318           1  \n",
       "295      3112           1  \n",
       "297       723           1  \n",
       "303    114855           1  \n",
       "311      3442           1  \n",
       "331     59294           1  \n",
       "339     30205           1  \n",
       "342      8256           1  \n",
       "353     34853           1  \n",
       "354       746           1  \n",
       "384      6790           1  \n",
       "386       764           1  \n",
       "395     32960           1  \n",
       "452     26813           1  \n",
       "458      2005           1  \n",
       "464      1658           1  \n",
       "499     38931           1  \n",
       "548     18907           1  \n",
       "549      7878           1  \n",
       "550     19508           1  \n",
       "567      5148           1  \n",
       "575      3610           1  \n",
       "625       242           1  \n",
       "680     51594           1  \n",
       "728       487           1  \n",
       "798       267           1  \n",
       "801       180           1  \n",
       "810      2647           1  \n",
       "811     50767           1  \n",
       "815      3598           1  \n",
       "900     80220           1  "
      ]
     },
     "execution_count": 98,
     "metadata": {},
     "output_type": "execute_result"
    }
   ],
   "source": [
    "df[df.isDogecoin == 1]"
   ]
  },
  {
   "cell_type": "code",
   "execution_count": 99,
   "id": "d53f69b8",
   "metadata": {},
   "outputs": [],
   "source": [
    "tweets_likes = df.loc[df.isDogecoin == 1, 'likes']"
   ]
  },
  {
   "cell_type": "code",
   "execution_count": 100,
   "id": "3825a0a7",
   "metadata": {},
   "outputs": [
    {
     "data": {
      "image/png": "[encoded data removed]",
      "text/plain": [
       "<Figure size 720x144 with 1 Axes>"
      ]
     },
     "metadata": {
      "needs_background": "light"
     },
     "output_type": "display_data"
    }
   ],
   "source": [
    "plt.figure(figsize=(10, 2));\n",
    "sns.histplot(tweets_likes, bins=20);"
   ]
  },
  {
   "cell_type": "code",
   "execution_count": 101,
   "id": "8ce919e8",
   "metadata": {},
   "outputs": [
    {
     "data": {
      "image/png": "[encoded data removed]",
      "text/plain": [
       "<Figure size 720x360 with 1 Axes>"
      ]
     },
     "metadata": {
      "needs_background": "light"
     },
     "output_type": "display_data"
    }
   ],
   "source": [
    "plt.figure(figsize=(10, 5));\n",
    "sns.histplot(np.log(tweets_likes), bins=20);"
   ]
  },
  {
   "cell_type": "code",
   "execution_count": 102,
   "id": "ed7c3c3b",
   "metadata": {},
   "outputs": [
    {
     "data": {
      "text/plain": [
       "199967.14705882352"
      ]
     },
     "execution_count": 102,
     "metadata": {},
     "output_type": "execute_result"
    }
   ],
   "source": [
    "tweets_likes.mean()"
   ]
  },
  {
   "cell_type": "code",
   "execution_count": 103,
   "id": "87b99742",
   "metadata": {},
   "outputs": [
    {
     "data": {
      "text/plain": [
       "68858.0"
      ]
     },
     "execution_count": 103,
     "metadata": {},
     "output_type": "execute_result"
    }
   ],
   "source": [
    "tweets_likes.median()"
   ]
  },
  {
   "cell_type": "markdown",
   "id": "478a926d",
   "metadata": {},
   "source": [
    "# Do experiment 1\n",
    "but I will remove records were amount of likes is less than, lets say, 10K"
   ]
  },
  {
   "cell_type": "code",
   "execution_count": 104,
   "id": "6caa400f",
   "metadata": {},
   "outputs": [],
   "source": [
    "def get_price_changes_remove_likes_outliers(tweets_data, price_data, likes_threshold=10000):\n",
    "    data = tweets_data.copy()\n",
    "    dates_dogecoin_was_mentioned = data.loc[(data.isDogecoin == 1) & (data.likes > likes_threshold), \n",
    "                                            'datetime'].drop_duplicates()\n",
    "    dates_before = pd.to_datetime(dates_dogecoin_was_mentioned) - pd.to_timedelta(1, unit=\"D\")\n",
    "    dates_after = pd.to_datetime(dates_dogecoin_was_mentioned) + pd.to_timedelta(1, unit=\"D\")\n",
    "    \n",
    "    price_changes = price_data.loc[price_data.datetime.isin(dates_dogecoin_was_mentioned), 'High'].values - price_data.\\\n",
    "                                                    loc[price_data.datetime.isin(dates_before), 'High'].values\n",
    "    price_changes = pd.Series(price_changes)\n",
    "    \n",
    "    price_changes_second_day = price_data.loc[price_data.datetime.isin(dates_after), 'High'].values - price_data.\\\n",
    "                                                    loc[price_data.datetime.isin(dates_before), 'High'].values\n",
    "    price_changes_second_day = pd.Series(price_changes_second_day)\n",
    "    \n",
    "    return price_changes, price_changes_second_day"
   ]
  },
  {
   "cell_type": "code",
   "execution_count": 105,
   "id": "e9cd59cb",
   "metadata": {},
   "outputs": [],
   "source": [
    "price_changes, price_changes_day_after = get_price_changes_remove_likes_outliers(df, dogecoin_data)"
   ]
  },
  {
   "cell_type": "code",
   "execution_count": 106,
   "id": "6c2e54c4",
   "metadata": {},
   "outputs": [],
   "source": [
    "price_changes = price_changes.apply(lambda x: 1 if x > 0 else 0)\n",
    "price_changes_day_after = price_changes_day_after.apply(lambda x: 1 if x > 0 else 0)"
   ]
  },
  {
   "cell_type": "code",
   "execution_count": 107,
   "id": "b51555c7",
   "metadata": {},
   "outputs": [],
   "source": [
    "price_changes_during_two_days = price_changes | price_changes_day_after"
   ]
  },
  {
   "cell_type": "code",
   "execution_count": 108,
   "id": "e3f4690b",
   "metadata": {},
   "outputs": [
    {
     "data": {
      "image/png": "[encoded data removed]",
      "text/plain": [
       "<Figure size 432x288 with 1 Axes>"
      ]
     },
     "metadata": {
      "needs_background": "light"
     },
     "output_type": "display_data"
    }
   ],
   "source": [
    "sns.countplot(x=price_changes_during_two_days);"
   ]
  },
  {
   "cell_type": "code",
   "execution_count": 109,
   "id": "6ab3ed7b",
   "metadata": {},
   "outputs": [
    {
     "data": {
      "text/plain": [
       "1    13\n",
       "0     4\n",
       "dtype: int64"
      ]
     },
     "execution_count": 109,
     "metadata": {},
     "output_type": "execute_result"
    }
   ],
   "source": [
    "price_changes_during_two_days.value_counts()"
   ]
  },
  {
   "cell_type": "code",
   "execution_count": 110,
   "id": "e544db31",
   "metadata": {},
   "outputs": [],
   "source": [
    "def do_1_experiment(likes_threshold=10000):\n",
    "    price_changes, price_changes_day_after = get_price_changes_remove_likes_outliers(df, dogecoin_data, likes_threshold)\n",
    "    price_changes = price_changes.apply(lambda x: 1 if x > 0 else 0)\n",
    "    price_changes_day_after = price_changes_day_after.apply(lambda x: 1 if x > 0 else 0)\n",
    "    price_changes_during_two_days = price_changes | price_changes_day_after\n",
    "    probability = price_changes_during_two_days.value_counts()[1] / price_changes_during_two_days.shape[0]\n",
    "    \n",
    "    print('Threshold: ', threshold, 'Probability: ', probability,\n",
    "          ' Amount of records: ', price_changes_during_two_days.shape[0])"
   ]
  },
  {
   "cell_type": "code",
   "execution_count": 111,
   "id": "5bab66fe",
   "metadata": {},
   "outputs": [
    {
     "name": "stdout",
     "output_type": "stream",
     "text": [
      "Threshold:  1 Probability:  0.7142857142857143  Amount of records:  21\n",
      "Threshold:  10001 Probability:  0.7647058823529411  Amount of records:  17\n",
      "Threshold:  20001 Probability:  0.7333333333333333  Amount of records:  15\n",
      "Threshold:  30001 Probability:  0.7333333333333333  Amount of records:  15\n",
      "Threshold:  40001 Probability:  0.7333333333333333  Amount of records:  15\n",
      "Threshold:  50001 Probability:  0.7142857142857143  Amount of records:  14\n",
      "Threshold:  60001 Probability:  0.6923076923076923  Amount of records:  13\n",
      "Threshold:  70001 Probability:  0.6923076923076923  Amount of records:  13\n",
      "Threshold:  80001 Probability:  0.6923076923076923  Amount of records:  13\n",
      "Threshold:  90001 Probability:  0.75  Amount of records:  12\n",
      "Threshold:  100001 Probability:  0.75  Amount of records:  12\n",
      "Threshold:  110001 Probability:  0.75  Amount of records:  12\n",
      "Threshold:  120001 Probability:  0.75  Amount of records:  12\n",
      "Threshold:  130001 Probability:  0.75  Amount of records:  12\n",
      "Threshold:  140001 Probability:  0.75  Amount of records:  12\n",
      "Threshold:  150001 Probability:  0.75  Amount of records:  12\n",
      "Threshold:  160001 Probability:  0.75  Amount of records:  12\n",
      "Threshold:  170001 Probability:  0.75  Amount of records:  12\n",
      "Threshold:  180001 Probability:  0.75  Amount of records:  12\n",
      "Threshold:  190001 Probability:  0.75  Amount of records:  12\n"
     ]
    }
   ],
   "source": [
    "step = 10000\n",
    "start_threshold = 1\n",
    "for threshold in range(start_threshold, int(tweets_likes.mean()), step):\n",
    "    do_1_experiment(threshold);"
   ]
  },
  {
   "cell_type": "markdown",
   "id": "ece8c9bc",
   "metadata": {},
   "source": [
    "After adding a threshold the probability of getting price growth has improved from 0.71 to 0.75. But the amount of records has descreased."
   ]
  },
  {
   "cell_type": "markdown",
   "id": "3cf16829",
   "metadata": {},
   "source": [
    "# Adding new feature (retweets / likes). ActivityRate\n",
    "\n",
    "What I'm going to do next is to create a new feature which will be just number of retweets devided by number of likes. Considering that usually there is more likes than retweets I will get the feature which will bound from 0 to 1 and will just show the popularity of this tweet. This will be helpful because the activity under any tweet will grow through time and after a while it won't be useful anymore. So this feature will show the popularity of the tweet in particular time."
   ]
  },
  {
   "cell_type": "code",
   "execution_count": 112,
   "id": "eeb1e35d",
   "metadata": {},
   "outputs": [
    {
     "data": {
      "text/html": [
       "<div>\n",
       "<style scoped>\n",
       "    .dataframe tbody tr th:only-of-type {\n",
       "        vertical-align: middle;\n",
       "    }\n",
       "\n",
       "    .dataframe tbody tr th {\n",
       "        vertical-align: top;\n",
       "    }\n",
       "\n",
       "    .dataframe thead th {\n",
       "        text-align: right;\n",
       "    }\n",
       "</style>\n",
       "<table border=\"1\" class=\"dataframe\">\n",
       "  <thead>\n",
       "    <tr style=\"text-align: right;\">\n",
       "      <th></th>\n",
       "      <th>tweet_content</th>\n",
       "      <th>datetime</th>\n",
       "      <th>likes</th>\n",
       "      <th>retweets</th>\n",
       "      <th>isDogecoin</th>\n",
       "    </tr>\n",
       "  </thead>\n",
       "  <tbody>\n",
       "    <tr>\n",
       "      <th>0</th>\n",
       "      <td>all tesla cars delivered in the final three da...</td>\n",
       "      <td>2020-12-29</td>\n",
       "      <td>73052</td>\n",
       "      <td>3507</td>\n",
       "      <td>0</td>\n",
       "    </tr>\n",
       "    <tr>\n",
       "      <th>1</th>\n",
       "      <td>destiny, destinyno escaping that for me</td>\n",
       "      <td>2020-12-30</td>\n",
       "      <td>155133</td>\n",
       "      <td>11438</td>\n",
       "      <td>0</td>\n",
       "    </tr>\n",
       "    <tr>\n",
       "      <th>2</th>\n",
       "      <td>@tobyliiiiiiiiii are we sure this is real?</td>\n",
       "      <td>2020-12-30</td>\n",
       "      <td>5680</td>\n",
       "      <td>179</td>\n",
       "      <td>0</td>\n",
       "    </tr>\n",
       "    <tr>\n",
       "      <th>3</th>\n",
       "      <td>@harsimranbansal literally</td>\n",
       "      <td>2020-12-30</td>\n",
       "      <td>3033</td>\n",
       "      <td>56</td>\n",
       "      <td>0</td>\n",
       "    </tr>\n",
       "    <tr>\n",
       "      <th>4</th>\n",
       "      <td>@tesmanian_com this is very sensible. oppositi...</td>\n",
       "      <td>2020-12-30</td>\n",
       "      <td>4322</td>\n",
       "      <td>165</td>\n",
       "      <td>0</td>\n",
       "    </tr>\n",
       "  </tbody>\n",
       "</table>\n",
       "</div>"
      ],
      "text/plain": [
       "                                       tweet_content   datetime   likes  \\\n",
       "0  all tesla cars delivered in the final three da... 2020-12-29   73052   \n",
       "1            destiny, destinyno escaping that for me 2020-12-30  155133   \n",
       "2         @tobyliiiiiiiiii are we sure this is real? 2020-12-30    5680   \n",
       "3                         @harsimranbansal literally 2020-12-30    3033   \n",
       "4  @tesmanian_com this is very sensible. oppositi... 2020-12-30    4322   \n",
       "\n",
       "   retweets  isDogecoin  \n",
       "0      3507           0  \n",
       "1     11438           0  \n",
       "2       179           0  \n",
       "3        56           0  \n",
       "4       165           0  "
      ]
     },
     "execution_count": 112,
     "metadata": {},
     "output_type": "execute_result"
    }
   ],
   "source": [
    "df.head()"
   ]
  },
  {
   "cell_type": "code",
   "execution_count": 113,
   "id": "eb5b4879",
   "metadata": {},
   "outputs": [],
   "source": [
    "df['activityRate'] = df.retweets / df.likes"
   ]
  },
  {
   "cell_type": "code",
   "execution_count": 114,
   "id": "f60842d7",
   "metadata": {},
   "outputs": [
    {
     "data": {
      "text/html": [
       "<div>\n",
       "<style scoped>\n",
       "    .dataframe tbody tr th:only-of-type {\n",
       "        vertical-align: middle;\n",
       "    }\n",
       "\n",
       "    .dataframe tbody tr th {\n",
       "        vertical-align: top;\n",
       "    }\n",
       "\n",
       "    .dataframe thead th {\n",
       "        text-align: right;\n",
       "    }\n",
       "</style>\n",
       "<table border=\"1\" class=\"dataframe\">\n",
       "  <thead>\n",
       "    <tr style=\"text-align: right;\">\n",
       "      <th></th>\n",
       "      <th>tweet_content</th>\n",
       "      <th>datetime</th>\n",
       "      <th>likes</th>\n",
       "      <th>retweets</th>\n",
       "      <th>isDogecoin</th>\n",
       "      <th>activityRate</th>\n",
       "    </tr>\n",
       "  </thead>\n",
       "  <tbody>\n",
       "    <tr>\n",
       "      <th>0</th>\n",
       "      <td>all tesla cars delivered in the final three da...</td>\n",
       "      <td>2020-12-29</td>\n",
       "      <td>73052</td>\n",
       "      <td>3507</td>\n",
       "      <td>0</td>\n",
       "      <td>0.048007</td>\n",
       "    </tr>\n",
       "    <tr>\n",
       "      <th>1</th>\n",
       "      <td>destiny, destinyno escaping that for me</td>\n",
       "      <td>2020-12-30</td>\n",
       "      <td>155133</td>\n",
       "      <td>11438</td>\n",
       "      <td>0</td>\n",
       "      <td>0.073730</td>\n",
       "    </tr>\n",
       "    <tr>\n",
       "      <th>2</th>\n",
       "      <td>@tobyliiiiiiiiii are we sure this is real?</td>\n",
       "      <td>2020-12-30</td>\n",
       "      <td>5680</td>\n",
       "      <td>179</td>\n",
       "      <td>0</td>\n",
       "      <td>0.031514</td>\n",
       "    </tr>\n",
       "    <tr>\n",
       "      <th>3</th>\n",
       "      <td>@harsimranbansal literally</td>\n",
       "      <td>2020-12-30</td>\n",
       "      <td>3033</td>\n",
       "      <td>56</td>\n",
       "      <td>0</td>\n",
       "      <td>0.018464</td>\n",
       "    </tr>\n",
       "    <tr>\n",
       "      <th>4</th>\n",
       "      <td>@tesmanian_com this is very sensible. oppositi...</td>\n",
       "      <td>2020-12-30</td>\n",
       "      <td>4322</td>\n",
       "      <td>165</td>\n",
       "      <td>0</td>\n",
       "      <td>0.038177</td>\n",
       "    </tr>\n",
       "  </tbody>\n",
       "</table>\n",
       "</div>"
      ],
      "text/plain": [
       "                                       tweet_content   datetime   likes  \\\n",
       "0  all tesla cars delivered in the final three da... 2020-12-29   73052   \n",
       "1            destiny, destinyno escaping that for me 2020-12-30  155133   \n",
       "2         @tobyliiiiiiiiii are we sure this is real? 2020-12-30    5680   \n",
       "3                         @harsimranbansal literally 2020-12-30    3033   \n",
       "4  @tesmanian_com this is very sensible. oppositi... 2020-12-30    4322   \n",
       "\n",
       "   retweets  isDogecoin  activityRate  \n",
       "0      3507           0      0.048007  \n",
       "1     11438           0      0.073730  \n",
       "2       179           0      0.031514  \n",
       "3        56           0      0.018464  \n",
       "4       165           0      0.038177  "
      ]
     },
     "execution_count": 114,
     "metadata": {},
     "output_type": "execute_result"
    }
   ],
   "source": [
    "df.head()"
   ]
  },
  {
   "cell_type": "code",
   "execution_count": 115,
   "id": "3a81a5d5",
   "metadata": {},
   "outputs": [
    {
     "data": {
      "text/plain": [
       "count    959.000000\n",
       "mean       0.059025\n",
       "std        0.035647\n",
       "min        0.010954\n",
       "25%        0.034038\n",
       "50%        0.048438\n",
       "75%        0.074077\n",
       "max        0.292891\n",
       "Name: activityRate, dtype: float64"
      ]
     },
     "execution_count": 115,
     "metadata": {},
     "output_type": "execute_result"
    }
   ],
   "source": [
    "df.activityRate.describe()"
   ]
  },
  {
   "cell_type": "code",
   "execution_count": 116,
   "id": "ab896fdd",
   "metadata": {},
   "outputs": [
    {
     "data": {
      "image/png": "[encoded data removed]",
      "text/plain": [
       "<Figure size 720x144 with 1 Axes>"
      ]
     },
     "metadata": {
      "needs_background": "light"
     },
     "output_type": "display_data"
    }
   ],
   "source": [
    "plt.figure(figsize=(10, 2))\n",
    "sns.boxplot(x=df['activityRate']);"
   ]
  },
  {
   "cell_type": "code",
   "execution_count": 117,
   "id": "3cf50ad1",
   "metadata": {},
   "outputs": [
    {
     "name": "stdout",
     "output_type": "stream",
     "text": [
      "0.040039496775096765 0.10849698371701397\n"
     ]
    }
   ],
   "source": [
    "Q1 = df.activityRate.quantile(0.25)\n",
    "Q3 = df.activityRate.quantile(0.75)\n",
    "IQR = Q3 - Q1\n",
    "outliers_threshold = np.median(df.activityRate) + IQR * 1.5\n",
    "print(IQR, outliers_threshold)"
   ]
  },
  {
   "cell_type": "code",
   "execution_count": 118,
   "id": "ad3a974d",
   "metadata": {},
   "outputs": [
    {
     "data": {
      "text/plain": [
       "False    18\n",
       "True     16\n",
       "Name: activityRate, dtype: int64"
      ]
     },
     "execution_count": 118,
     "metadata": {},
     "output_type": "execute_result"
    }
   ],
   "source": [
    "(df.loc[df.isDogecoin == 1, 'activityRate'] > outliers_threshold).value_counts()"
   ]
  },
  {
   "cell_type": "code",
   "execution_count": 119,
   "id": "94548622",
   "metadata": {},
   "outputs": [
    {
     "data": {
      "text/plain": [
       "False    854\n",
       "True      71\n",
       "Name: activityRate, dtype: int64"
      ]
     },
     "execution_count": 119,
     "metadata": {},
     "output_type": "execute_result"
    }
   ],
   "source": [
    "(df.loc[df.isDogecoin == 0, 'activityRate'] > outliers_threshold).value_counts()"
   ]
  },
  {
   "cell_type": "code",
   "execution_count": 120,
   "id": "aeef77dc",
   "metadata": {},
   "outputs": [
    {
     "data": {
      "text/html": [
       "<div>\n",
       "<style scoped>\n",
       "    .dataframe tbody tr th:only-of-type {\n",
       "        vertical-align: middle;\n",
       "    }\n",
       "\n",
       "    .dataframe tbody tr th {\n",
       "        vertical-align: top;\n",
       "    }\n",
       "\n",
       "    .dataframe thead th {\n",
       "        text-align: right;\n",
       "    }\n",
       "</style>\n",
       "<table border=\"1\" class=\"dataframe\">\n",
       "  <thead>\n",
       "    <tr style=\"text-align: right;\">\n",
       "      <th>activityRate</th>\n",
       "      <th>ISN'T_outlier</th>\n",
       "      <th>is_outlier</th>\n",
       "    </tr>\n",
       "    <tr>\n",
       "      <th>isDogecoin</th>\n",
       "      <th></th>\n",
       "      <th></th>\n",
       "    </tr>\n",
       "  </thead>\n",
       "  <tbody>\n",
       "    <tr>\n",
       "      <th>ISN'T_mentioned</th>\n",
       "      <td>854</td>\n",
       "      <td>71</td>\n",
       "    </tr>\n",
       "    <tr>\n",
       "      <th>is_mentioned</th>\n",
       "      <td>18</td>\n",
       "      <td>16</td>\n",
       "    </tr>\n",
       "  </tbody>\n",
       "</table>\n",
       "</div>"
      ],
      "text/plain": [
       "activityRate     ISN'T_outlier  is_outlier\n",
       "isDogecoin                                \n",
       "ISN'T_mentioned            854          71\n",
       "is_mentioned                18          16"
      ]
     },
     "execution_count": 120,
     "metadata": {},
     "output_type": "execute_result"
    }
   ],
   "source": [
    "pd.crosstab(df['isDogecoin'].apply(lambda x: 'is_mentioned' if x == 1 else \"ISN'T_mentioned\"), \n",
    "            (df['activityRate'] > outliers_threshold).apply(lambda x: 'is_outlier' if x == True else \"ISN'T_outlier\"))"
   ]
  },
  {
   "cell_type": "markdown",
   "id": "0788cd4a",
   "metadata": {},
   "source": [
    "So what I see there is that most of the tweets where dogecoin was mentioned have much higher activity rate and a lot of them are outliers 22/12. On the other hand tweets where dogecoin wasn't mentined have only 92 otliers to 833 normal records. "
   ]
  },
  {
   "cell_type": "code",
   "execution_count": 121,
   "id": "2270b10b",
   "metadata": {},
   "outputs": [],
   "source": [
    "df['isActivityRateOutlier'] = df.activityRate > outliers_threshold"
   ]
  },
  {
   "cell_type": "code",
   "execution_count": 122,
   "id": "3dd7c3ba",
   "metadata": {},
   "outputs": [
    {
     "data": {
      "text/html": [
       "<div>\n",
       "<style scoped>\n",
       "    .dataframe tbody tr th:only-of-type {\n",
       "        vertical-align: middle;\n",
       "    }\n",
       "\n",
       "    .dataframe tbody tr th {\n",
       "        vertical-align: top;\n",
       "    }\n",
       "\n",
       "    .dataframe thead th {\n",
       "        text-align: right;\n",
       "    }\n",
       "</style>\n",
       "<table border=\"1\" class=\"dataframe\">\n",
       "  <thead>\n",
       "    <tr style=\"text-align: right;\">\n",
       "      <th></th>\n",
       "      <th>tweet_content</th>\n",
       "      <th>datetime</th>\n",
       "      <th>likes</th>\n",
       "      <th>retweets</th>\n",
       "      <th>isDogecoin</th>\n",
       "      <th>activityRate</th>\n",
       "      <th>isActivityRateOutlier</th>\n",
       "    </tr>\n",
       "  </thead>\n",
       "  <tbody>\n",
       "    <tr>\n",
       "      <th>0</th>\n",
       "      <td>all tesla cars delivered in the final three da...</td>\n",
       "      <td>2020-12-29</td>\n",
       "      <td>73052</td>\n",
       "      <td>3507</td>\n",
       "      <td>0</td>\n",
       "      <td>0.048007</td>\n",
       "      <td>False</td>\n",
       "    </tr>\n",
       "    <tr>\n",
       "      <th>1</th>\n",
       "      <td>destiny, destinyno escaping that for me</td>\n",
       "      <td>2020-12-30</td>\n",
       "      <td>155133</td>\n",
       "      <td>11438</td>\n",
       "      <td>0</td>\n",
       "      <td>0.073730</td>\n",
       "      <td>False</td>\n",
       "    </tr>\n",
       "    <tr>\n",
       "      <th>2</th>\n",
       "      <td>@tobyliiiiiiiiii are we sure this is real?</td>\n",
       "      <td>2020-12-30</td>\n",
       "      <td>5680</td>\n",
       "      <td>179</td>\n",
       "      <td>0</td>\n",
       "      <td>0.031514</td>\n",
       "      <td>False</td>\n",
       "    </tr>\n",
       "    <tr>\n",
       "      <th>3</th>\n",
       "      <td>@harsimranbansal literally</td>\n",
       "      <td>2020-12-30</td>\n",
       "      <td>3033</td>\n",
       "      <td>56</td>\n",
       "      <td>0</td>\n",
       "      <td>0.018464</td>\n",
       "      <td>False</td>\n",
       "    </tr>\n",
       "    <tr>\n",
       "      <th>4</th>\n",
       "      <td>@tesmanian_com this is very sensible. oppositi...</td>\n",
       "      <td>2020-12-30</td>\n",
       "      <td>4322</td>\n",
       "      <td>165</td>\n",
       "      <td>0</td>\n",
       "      <td>0.038177</td>\n",
       "      <td>False</td>\n",
       "    </tr>\n",
       "  </tbody>\n",
       "</table>\n",
       "</div>"
      ],
      "text/plain": [
       "                                       tweet_content   datetime   likes  \\\n",
       "0  all tesla cars delivered in the final three da... 2020-12-29   73052   \n",
       "1            destiny, destinyno escaping that for me 2020-12-30  155133   \n",
       "2         @tobyliiiiiiiiii are we sure this is real? 2020-12-30    5680   \n",
       "3                         @harsimranbansal literally 2020-12-30    3033   \n",
       "4  @tesmanian_com this is very sensible. oppositi... 2020-12-30    4322   \n",
       "\n",
       "   retweets  isDogecoin  activityRate  isActivityRateOutlier  \n",
       "0      3507           0      0.048007                  False  \n",
       "1     11438           0      0.073730                  False  \n",
       "2       179           0      0.031514                  False  \n",
       "3        56           0      0.018464                  False  \n",
       "4       165           0      0.038177                  False  "
      ]
     },
     "execution_count": 122,
     "metadata": {},
     "output_type": "execute_result"
    }
   ],
   "source": [
    "df.head()"
   ]
  },
  {
   "cell_type": "code",
   "execution_count": 123,
   "id": "8e7c46c0",
   "metadata": {},
   "outputs": [
    {
     "data": {
      "image/png": "[encoded data removed]",
      "text/plain": [
       "<Figure size 720x360 with 1 Axes>"
      ]
     },
     "metadata": {
      "needs_background": "light"
     },
     "output_type": "display_data"
    }
   ],
   "source": [
    "plt.figure(figsize=(10, 5));\n",
    "sns.scatterplot(data=df, x='likes', y='retweets', hue='isActivityRateOutlier');"
   ]
  },
  {
   "cell_type": "code",
   "execution_count": 124,
   "id": "35ab16fc",
   "metadata": {},
   "outputs": [
    {
     "data": {
      "text/html": [
       "<div>\n",
       "<style scoped>\n",
       "    .dataframe tbody tr th:only-of-type {\n",
       "        vertical-align: middle;\n",
       "    }\n",
       "\n",
       "    .dataframe tbody tr th {\n",
       "        vertical-align: top;\n",
       "    }\n",
       "\n",
       "    .dataframe thead th {\n",
       "        text-align: right;\n",
       "    }\n",
       "</style>\n",
       "<table border=\"1\" class=\"dataframe\">\n",
       "  <thead>\n",
       "    <tr style=\"text-align: right;\">\n",
       "      <th></th>\n",
       "      <th>tweet_content</th>\n",
       "      <th>datetime</th>\n",
       "      <th>likes</th>\n",
       "      <th>retweets</th>\n",
       "      <th>isDogecoin</th>\n",
       "      <th>activityRate</th>\n",
       "      <th>isActivityRateOutlier</th>\n",
       "    </tr>\n",
       "  </thead>\n",
       "  <tbody>\n",
       "    <tr>\n",
       "      <th>253</th>\n",
       "      <td>doge</td>\n",
       "      <td>2021-02-04</td>\n",
       "      <td>261684</td>\n",
       "      <td>46135</td>\n",
       "      <td>1</td>\n",
       "      <td>0.176300</td>\n",
       "      <td>True</td>\n",
       "    </tr>\n",
       "    <tr>\n",
       "      <th>256</th>\n",
       "      <td>dogecoin is the peoples crypto</td>\n",
       "      <td>2021-02-04</td>\n",
       "      <td>554581</td>\n",
       "      <td>104041</td>\n",
       "      <td>1</td>\n",
       "      <td>0.187603</td>\n",
       "      <td>True</td>\n",
       "    </tr>\n",
       "    <tr>\n",
       "      <th>258</th>\n",
       "      <td>no highs, no lows, only doge</td>\n",
       "      <td>2021-02-04</td>\n",
       "      <td>774800</td>\n",
       "      <td>114032</td>\n",
       "      <td>1</td>\n",
       "      <td>0.147176</td>\n",
       "      <td>True</td>\n",
       "    </tr>\n",
       "    <tr>\n",
       "      <th>286</th>\n",
       "      <td>@grimezsz dogecake</td>\n",
       "      <td>2021-02-06</td>\n",
       "      <td>9609</td>\n",
       "      <td>1318</td>\n",
       "      <td>1</td>\n",
       "      <td>0.137163</td>\n",
       "      <td>True</td>\n",
       "    </tr>\n",
       "    <tr>\n",
       "      <th>295</th>\n",
       "      <td>@dogecoinrich</td>\n",
       "      <td>2021-02-07</td>\n",
       "      <td>60922</td>\n",
       "      <td>3112</td>\n",
       "      <td>1</td>\n",
       "      <td>0.051082</td>\n",
       "      <td>False</td>\n",
       "    </tr>\n",
       "  </tbody>\n",
       "</table>\n",
       "</div>"
      ],
      "text/plain": [
       "                      tweet_content   datetime   likes  retweets  isDogecoin  \\\n",
       "253                            doge 2021-02-04  261684     46135           1   \n",
       "256  dogecoin is the peoples crypto 2021-02-04  554581    104041           1   \n",
       "258    no highs, no lows, only doge 2021-02-04  774800    114032           1   \n",
       "286              @grimezsz dogecake 2021-02-06    9609      1318           1   \n",
       "295                   @dogecoinrich 2021-02-07   60922      3112           1   \n",
       "\n",
       "     activityRate  isActivityRateOutlier  \n",
       "253      0.176300                   True  \n",
       "256      0.187603                   True  \n",
       "258      0.147176                   True  \n",
       "286      0.137163                   True  \n",
       "295      0.051082                  False  "
      ]
     },
     "execution_count": 124,
     "metadata": {},
     "output_type": "execute_result"
    }
   ],
   "source": [
    "df[(df.isDogecoin == 1)].head()"
   ]
  },
  {
   "cell_type": "markdown",
   "id": "5ebb4362",
   "metadata": {},
   "source": [
    "# isReply feature"
   ]
  },
  {
   "cell_type": "code",
   "execution_count": 125,
   "id": "5a5df2bd",
   "metadata": {},
   "outputs": [],
   "source": [
    "df['isReply'] = df.tweet_content.str.startswith('@')"
   ]
  },
  {
   "cell_type": "code",
   "execution_count": 126,
   "id": "d29ef9c1",
   "metadata": {},
   "outputs": [
    {
     "data": {
      "text/html": [
       "<div>\n",
       "<style scoped>\n",
       "    .dataframe tbody tr th:only-of-type {\n",
       "        vertical-align: middle;\n",
       "    }\n",
       "\n",
       "    .dataframe tbody tr th {\n",
       "        vertical-align: top;\n",
       "    }\n",
       "\n",
       "    .dataframe thead th {\n",
       "        text-align: right;\n",
       "    }\n",
       "</style>\n",
       "<table border=\"1\" class=\"dataframe\">\n",
       "  <thead>\n",
       "    <tr style=\"text-align: right;\">\n",
       "      <th></th>\n",
       "      <th>tweet_content</th>\n",
       "      <th>datetime</th>\n",
       "      <th>likes</th>\n",
       "      <th>retweets</th>\n",
       "      <th>isDogecoin</th>\n",
       "      <th>activityRate</th>\n",
       "      <th>isActivityRateOutlier</th>\n",
       "      <th>isReply</th>\n",
       "    </tr>\n",
       "  </thead>\n",
       "  <tbody>\n",
       "    <tr>\n",
       "      <th>0</th>\n",
       "      <td>all tesla cars delivered in the final three da...</td>\n",
       "      <td>2020-12-29</td>\n",
       "      <td>73052</td>\n",
       "      <td>3507</td>\n",
       "      <td>0</td>\n",
       "      <td>0.048007</td>\n",
       "      <td>False</td>\n",
       "      <td>False</td>\n",
       "    </tr>\n",
       "    <tr>\n",
       "      <th>1</th>\n",
       "      <td>destiny, destinyno escaping that for me</td>\n",
       "      <td>2020-12-30</td>\n",
       "      <td>155133</td>\n",
       "      <td>11438</td>\n",
       "      <td>0</td>\n",
       "      <td>0.073730</td>\n",
       "      <td>False</td>\n",
       "      <td>False</td>\n",
       "    </tr>\n",
       "    <tr>\n",
       "      <th>2</th>\n",
       "      <td>@tobyliiiiiiiiii are we sure this is real?</td>\n",
       "      <td>2020-12-30</td>\n",
       "      <td>5680</td>\n",
       "      <td>179</td>\n",
       "      <td>0</td>\n",
       "      <td>0.031514</td>\n",
       "      <td>False</td>\n",
       "      <td>True</td>\n",
       "    </tr>\n",
       "    <tr>\n",
       "      <th>3</th>\n",
       "      <td>@harsimranbansal literally</td>\n",
       "      <td>2020-12-30</td>\n",
       "      <td>3033</td>\n",
       "      <td>56</td>\n",
       "      <td>0</td>\n",
       "      <td>0.018464</td>\n",
       "      <td>False</td>\n",
       "      <td>True</td>\n",
       "    </tr>\n",
       "    <tr>\n",
       "      <th>4</th>\n",
       "      <td>@tesmanian_com this is very sensible. oppositi...</td>\n",
       "      <td>2020-12-30</td>\n",
       "      <td>4322</td>\n",
       "      <td>165</td>\n",
       "      <td>0</td>\n",
       "      <td>0.038177</td>\n",
       "      <td>False</td>\n",
       "      <td>True</td>\n",
       "    </tr>\n",
       "  </tbody>\n",
       "</table>\n",
       "</div>"
      ],
      "text/plain": [
       "                                       tweet_content   datetime   likes  \\\n",
       "0  all tesla cars delivered in the final three da... 2020-12-29   73052   \n",
       "1            destiny, destinyno escaping that for me 2020-12-30  155133   \n",
       "2         @tobyliiiiiiiiii are we sure this is real? 2020-12-30    5680   \n",
       "3                         @harsimranbansal literally 2020-12-30    3033   \n",
       "4  @tesmanian_com this is very sensible. oppositi... 2020-12-30    4322   \n",
       "\n",
       "   retweets  isDogecoin  activityRate  isActivityRateOutlier isReply  \n",
       "0      3507           0      0.048007                  False   False  \n",
       "1     11438           0      0.073730                  False   False  \n",
       "2       179           0      0.031514                  False    True  \n",
       "3        56           0      0.018464                  False    True  \n",
       "4       165           0      0.038177                  False    True  "
      ]
     },
     "execution_count": 126,
     "metadata": {},
     "output_type": "execute_result"
    }
   ],
   "source": [
    "df.head()"
   ]
  },
  {
   "cell_type": "code",
   "execution_count": 132,
   "id": "dd3a17fb",
   "metadata": {},
   "outputs": [
    {
     "data": {
      "image/png": "[encoded data removed]",
      "text/plain": [
       "<Figure size 720x360 with 1 Axes>"
      ]
     },
     "metadata": {
      "needs_background": "light"
     },
     "output_type": "display_data"
    }
   ],
   "source": [
    "plt.figure(figsize=(10, 5));\n",
    "sns.scatterplot(data=df, x='likes', y='retweets', hue='isReply', alpha=0.5);"
   ]
  },
  {
   "cell_type": "markdown",
   "id": "eef26dc9",
   "metadata": {},
   "source": [
    "Looking at the plot above I see that almost all replies are at the bottom and their number of likes and retweets is different from real tweets. But still there are some replies when dogecoin was mentioned and it can somehow influence the price."
   ]
  },
  {
   "cell_type": "code",
   "execution_count": null,
   "id": "830315fe",
   "metadata": {},
   "outputs": [],
   "source": []
  },
  {
   "cell_type": "code",
   "execution_count": null,
   "id": "07d914ee",
   "metadata": {},
   "outputs": [],
   "source": []
  },
  {
   "cell_type": "code",
   "execution_count": null,
   "id": "8768f6de",
   "metadata": {},
   "outputs": [],
   "source": []
  },
  {
   "cell_type": "code",
   "execution_count": null,
   "id": "c727cc78",
   "metadata": {},
   "outputs": [],
   "source": []
  },
  {
   "cell_type": "code",
   "execution_count": null,
   "id": "83bc2066",
   "metadata": {},
   "outputs": [],
   "source": []
  },
  {
   "cell_type": "code",
   "execution_count": null,
   "id": "12757a18",
   "metadata": {},
   "outputs": [],
   "source": []
  }
 ],
 "metadata": {
  "kernelspec": {
   "display_name": "Python 3",
   "language": "python",
   "name": "python3"
  },
  "language_info": {
   "codemirror_mode": {
    "name": "ipython",
    "version": 3
   },
   "file_extension": ".py",
   "mimetype": "text/x-python",
   "name": "python",
   "nbconvert_exporter": "python",
   "pygments_lexer": "ipython3",
   "version": "3.6.13"
  }
 },
 "nbformat": 4,
 "nbformat_minor": 5
}
