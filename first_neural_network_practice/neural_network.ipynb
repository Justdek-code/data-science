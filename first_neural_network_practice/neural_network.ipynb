{
 "cells": [
  {
   "cell_type": "code",
   "execution_count": 31,
   "id": "0cd447f2",
   "metadata": {},
   "outputs": [],
   "source": [
    "import pandas as pd\n",
    "import numpy as np\n",
    "import matplotlib.pyplot as plt\n",
    "import seaborn as sns"
   ]
  },
  {
   "cell_type": "code",
   "execution_count": 32,
   "id": "c329678f",
   "metadata": {},
   "outputs": [],
   "source": [
    "from keras import models\n",
    "from keras import layers\n",
    "from keras.preprocessing.text import Tokenizer"
   ]
  },
  {
   "cell_type": "code",
   "execution_count": 33,
   "id": "9049c0a6",
   "metadata": {},
   "outputs": [],
   "source": [
    "from keras.datasets import imdb"
   ]
  },
  {
   "cell_type": "code",
   "execution_count": 46,
   "id": "5bd22b5a",
   "metadata": {},
   "outputs": [],
   "source": [
    "(X_train, y_train), (X_test, y_test) = imdb.load_data(num_words=1000)"
   ]
  },
  {
   "cell_type": "code",
   "execution_count": 47,
   "id": "1d6fca4f",
   "metadata": {},
   "outputs": [
    {
     "name": "stdout",
     "output_type": "stream",
     "text": [
      "(25000,) (25000,) (25000,) (25000,)\n"
     ]
    }
   ],
   "source": [
    "print(X_train.shape, y_train.shape, X_test.shape, y_test.shape)"
   ]
  },
  {
   "cell_type": "code",
   "execution_count": 48,
   "id": "41181dc5",
   "metadata": {},
   "outputs": [
    {
     "data": {
      "text/plain": [
       "array([list([1, 14, 22, 16, 43, 530, 973, 2, 2, 65, 458, 2, 66, 2, 4, 173, 36, 256, 5, 25, 100, 43, 838, 112, 50, 670, 2, 9, 35, 480, 284, 5, 150, 4, 172, 112, 167, 2, 336, 385, 39, 4, 172, 2, 2, 17, 546, 38, 13, 447, 4, 192, 50, 16, 6, 147, 2, 19, 14, 22, 4, 2, 2, 469, 4, 22, 71, 87, 12, 16, 43, 530, 38, 76, 15, 13, 2, 4, 22, 17, 515, 17, 12, 16, 626, 18, 2, 5, 62, 386, 12, 8, 316, 8, 106, 5, 4, 2, 2, 16, 480, 66, 2, 33, 4, 130, 12, 16, 38, 619, 5, 25, 124, 51, 36, 135, 48, 25, 2, 33, 6, 22, 12, 215, 28, 77, 52, 5, 14, 407, 16, 82, 2, 8, 4, 107, 117, 2, 15, 256, 4, 2, 7, 2, 5, 723, 36, 71, 43, 530, 476, 26, 400, 317, 46, 7, 4, 2, 2, 13, 104, 88, 4, 381, 15, 297, 98, 32, 2, 56, 26, 141, 6, 194, 2, 18, 4, 226, 22, 21, 134, 476, 26, 480, 5, 144, 30, 2, 18, 51, 36, 28, 224, 92, 25, 104, 4, 226, 65, 16, 38, 2, 88, 12, 16, 283, 5, 16, 2, 113, 103, 32, 15, 16, 2, 19, 178, 32]),\n",
       "       list([1, 194, 2, 194, 2, 78, 228, 5, 6, 2, 2, 2, 134, 26, 4, 715, 8, 118, 2, 14, 394, 20, 13, 119, 954, 189, 102, 5, 207, 110, 2, 21, 14, 69, 188, 8, 30, 23, 7, 4, 249, 126, 93, 4, 114, 9, 2, 2, 5, 647, 4, 116, 9, 35, 2, 4, 229, 9, 340, 2, 4, 118, 9, 4, 130, 2, 19, 4, 2, 5, 89, 29, 952, 46, 37, 4, 455, 9, 45, 43, 38, 2, 2, 398, 4, 2, 26, 2, 5, 163, 11, 2, 2, 4, 2, 9, 194, 775, 7, 2, 2, 349, 2, 148, 605, 2, 2, 15, 123, 125, 68, 2, 2, 15, 349, 165, 2, 98, 5, 4, 228, 9, 43, 2, 2, 15, 299, 120, 5, 120, 174, 11, 220, 175, 136, 50, 9, 2, 228, 2, 5, 2, 656, 245, 2, 5, 4, 2, 131, 152, 491, 18, 2, 32, 2, 2, 14, 9, 6, 371, 78, 22, 625, 64, 2, 9, 8, 168, 145, 23, 4, 2, 15, 16, 4, 2, 5, 28, 6, 52, 154, 462, 33, 89, 78, 285, 16, 145, 95])],\n",
       "      dtype=object)"
      ]
     },
     "execution_count": 48,
     "metadata": {},
     "output_type": "execute_result"
    }
   ],
   "source": [
    "X_train[:2]"
   ]
  },
  {
   "cell_type": "code",
   "execution_count": 49,
   "id": "ecce3e0c",
   "metadata": {},
   "outputs": [],
   "source": [
    "tokenizer = Tokenizer(num_words=1000)\n",
    "features_train = tokenizer.sequences_to_matrix(X_train, mode='binary')\n",
    "features_test = tokenizer.sequences_to_matrix(X_test, mode='binary')"
   ]
  },
  {
   "cell_type": "code",
   "execution_count": 50,
   "id": "be2f1bbd",
   "metadata": {},
   "outputs": [
    {
     "data": {
      "text/plain": [
       "(1000,)"
      ]
     },
     "execution_count": 50,
     "metadata": {},
     "output_type": "execute_result"
    }
   ],
   "source": [
    "features_train[0].shape"
   ]
  },
  {
   "cell_type": "code",
   "execution_count": 51,
   "id": "c9b8d758",
   "metadata": {},
   "outputs": [
    {
     "data": {
      "text/plain": [
       "array([0., 1., 1., 0., 1., 1., 1., 1., 1., 1., 0., 0., 1., 1., 1., 1., 1.,\n",
       "       1., 1., 1.])"
      ]
     },
     "execution_count": 51,
     "metadata": {},
     "output_type": "execute_result"
    }
   ],
   "source": [
    "features_train[0][:20]"
   ]
  },
  {
   "cell_type": "code",
   "execution_count": 60,
   "id": "756bc2e8",
   "metadata": {},
   "outputs": [],
   "source": [
    "network = models.Sequential()"
   ]
  },
  {
   "cell_type": "code",
   "execution_count": 61,
   "id": "fa829fe6",
   "metadata": {},
   "outputs": [],
   "source": [
    "network.add(layers.Dense(units=16, activation='relu', input_shape=(1000,)))"
   ]
  },
  {
   "cell_type": "code",
   "execution_count": 62,
   "id": "249db690",
   "metadata": {},
   "outputs": [],
   "source": [
    "network.add(layers.Dense(units=16, activation='relu'))"
   ]
  },
  {
   "cell_type": "code",
   "execution_count": 63,
   "id": "abedab80",
   "metadata": {},
   "outputs": [],
   "source": [
    "network.add(layers.Dense(units=1, activation='sigmoid'))"
   ]
  },
  {
   "cell_type": "code",
   "execution_count": 64,
   "id": "1933b1d9",
   "metadata": {},
   "outputs": [],
   "source": [
    "network.compile(\n",
    "    loss='binary_crossentropy',\n",
    "    optimizer='rmsprop',\n",
    "    metrics=['accuracy']\n",
    ")"
   ]
  },
  {
   "cell_type": "code",
   "execution_count": 66,
   "id": "90b52d5a",
   "metadata": {},
   "outputs": [
    {
     "name": "stdout",
     "output_type": "stream",
     "text": [
      "Train on 25000 samples, validate on 25000 samples\n",
      "Epoch 1/30\n",
      "25000/25000 [==============================] - 1s 57us/step - loss: 0.2172 - accuracy: 0.9139 - val_loss: 0.3695 - val_accuracy: 0.8485\n",
      "Epoch 2/30\n",
      "25000/25000 [==============================] - 1s 60us/step - loss: 0.2042 - accuracy: 0.9200 - val_loss: 0.3876 - val_accuracy: 0.8468\n",
      "Epoch 3/30\n",
      "25000/25000 [==============================] - 2s 63us/step - loss: 0.1919 - accuracy: 0.9266 - val_loss: 0.4028 - val_accuracy: 0.8410\n",
      "Epoch 4/30\n",
      "25000/25000 [==============================] - 1s 54us/step - loss: 0.1804 - accuracy: 0.9318 - val_loss: 0.4223 - val_accuracy: 0.8433\n",
      "Epoch 5/30\n",
      "25000/25000 [==============================] - 1s 58us/step - loss: 0.1693 - accuracy: 0.9365 - val_loss: 0.4465 - val_accuracy: 0.8397\n",
      "Epoch 6/30\n",
      "25000/25000 [==============================] - 1s 52us/step - loss: 0.1573 - accuracy: 0.9424 - val_loss: 0.4751 - val_accuracy: 0.8386\n",
      "Epoch 7/30\n",
      "25000/25000 [==============================] - 1s 56us/step - loss: 0.1464 - accuracy: 0.9473 - val_loss: 0.4909 - val_accuracy: 0.8388\n",
      "Epoch 8/30\n",
      "25000/25000 [==============================] - 1s 51us/step - loss: 0.1383 - accuracy: 0.9500 - val_loss: 0.5226 - val_accuracy: 0.8359\n",
      "Epoch 9/30\n",
      "25000/25000 [==============================] - 1s 49us/step - loss: 0.1282 - accuracy: 0.9557 - val_loss: 0.5568 - val_accuracy: 0.8349\n",
      "Epoch 10/30\n",
      "25000/25000 [==============================] - 1s 54us/step - loss: 0.1195 - accuracy: 0.9585 - val_loss: 0.5805 - val_accuracy: 0.8323\n",
      "Epoch 11/30\n",
      "25000/25000 [==============================] - 1s 52us/step - loss: 0.1103 - accuracy: 0.9628 - val_loss: 0.6149 - val_accuracy: 0.8317\n",
      "Epoch 12/30\n",
      "25000/25000 [==============================] - 1s 52us/step - loss: 0.1024 - accuracy: 0.9664 - val_loss: 0.6261 - val_accuracy: 0.8293\n",
      "Epoch 13/30\n",
      "25000/25000 [==============================] - 1s 49us/step - loss: 0.0946 - accuracy: 0.9690 - val_loss: 0.6843 - val_accuracy: 0.8298\n",
      "Epoch 14/30\n",
      "25000/25000 [==============================] - 1s 57us/step - loss: 0.0875 - accuracy: 0.9721 - val_loss: 0.6985 - val_accuracy: 0.8265\n",
      "Epoch 15/30\n",
      "25000/25000 [==============================] - 1s 49us/step - loss: 0.0808 - accuracy: 0.9746 - val_loss: 0.7506 - val_accuracy: 0.8265\n",
      "Epoch 16/30\n",
      "25000/25000 [==============================] - 1s 49us/step - loss: 0.0745 - accuracy: 0.9768 - val_loss: 0.8029 - val_accuracy: 0.8257\n",
      "Epoch 17/30\n",
      "25000/25000 [==============================] - 1s 46us/step - loss: 0.0676 - accuracy: 0.9797 - val_loss: 0.8206 - val_accuracy: 0.8245\n",
      "Epoch 18/30\n",
      "25000/25000 [==============================] - 1s 47us/step - loss: 0.0620 - accuracy: 0.9815 - val_loss: 0.8671 - val_accuracy: 0.8220\n",
      "Epoch 19/30\n",
      "25000/25000 [==============================] - 1s 49us/step - loss: 0.0557 - accuracy: 0.9850 - val_loss: 0.9364 - val_accuracy: 0.8238\n",
      "Epoch 20/30\n",
      "25000/25000 [==============================] - 1s 43us/step - loss: 0.0506 - accuracy: 0.9860 - val_loss: 1.0043 - val_accuracy: 0.8208\n",
      "Epoch 21/30\n",
      "25000/25000 [==============================] - 1s 47us/step - loss: 0.0456 - accuracy: 0.9883 - val_loss: 0.9912 - val_accuracy: 0.8183\n",
      "Epoch 22/30\n",
      "25000/25000 [==============================] - 1s 46us/step - loss: 0.0416 - accuracy: 0.9893 - val_loss: 1.0481 - val_accuracy: 0.8190\n",
      "Epoch 23/30\n",
      "25000/25000 [==============================] - 1s 51us/step - loss: 0.0383 - accuracy: 0.9905 - val_loss: 1.0888 - val_accuracy: 0.8200\n",
      "Epoch 24/30\n",
      "25000/25000 [==============================] - 1s 44us/step - loss: 0.0334 - accuracy: 0.9916 - val_loss: 1.1524 - val_accuracy: 0.8194\n",
      "Epoch 25/30\n",
      "25000/25000 [==============================] - 1s 54us/step - loss: 0.0305 - accuracy: 0.9924 - val_loss: 1.1980 - val_accuracy: 0.8183\n",
      "Epoch 26/30\n",
      "25000/25000 [==============================] - 1s 49us/step - loss: 0.0263 - accuracy: 0.9942 - val_loss: 1.2579 - val_accuracy: 0.8172\n",
      "Epoch 27/30\n",
      "25000/25000 [==============================] - 1s 52us/step - loss: 0.0239 - accuracy: 0.9950 - val_loss: 1.3036 - val_accuracy: 0.8147\n",
      "Epoch 28/30\n",
      "25000/25000 [==============================] - 1s 52us/step - loss: 0.0215 - accuracy: 0.9957 - val_loss: 1.3842 - val_accuracy: 0.8171\n",
      "Epoch 29/30\n",
      "25000/25000 [==============================] - 1s 52us/step - loss: 0.0185 - accuracy: 0.9964 - val_loss: 1.4045 - val_accuracy: 0.8126\n",
      "Epoch 30/30\n",
      "25000/25000 [==============================] - 1s 57us/step - loss: 0.0159 - accuracy: 0.9972 - val_loss: 1.4547 - val_accuracy: 0.8134\n"
     ]
    }
   ],
   "source": [
    "history = network.fit(\n",
    "    features_train,\n",
    "    y_train,\n",
    "    epochs=30,\n",
    "    verbose=1,\n",
    "    batch_size=100,\n",
    "    validation_data=(features_test, y_test)\n",
    ")"
   ]
  },
  {
   "cell_type": "code",
   "execution_count": null,
   "id": "94e3f549",
   "metadata": {},
   "outputs": [],
   "source": []
  },
  {
   "cell_type": "code",
   "execution_count": null,
   "id": "7af19804",
   "metadata": {},
   "outputs": [],
   "source": []
  },
  {
   "cell_type": "code",
   "execution_count": null,
   "id": "7efe9ac1",
   "metadata": {},
   "outputs": [],
   "source": []
  }
 ],
 "metadata": {
  "kernelspec": {
   "display_name": "Python 3",
   "language": "python",
   "name": "python3"
  },
  "language_info": {
   "codemirror_mode": {
    "name": "ipython",
    "version": 3
   },
   "file_extension": ".py",
   "mimetype": "text/x-python",
   "name": "python",
   "nbconvert_exporter": "python",
   "pygments_lexer": "ipython3",
   "version": "3.6.13"
  },
  "varInspector": {
   "cols": {
    "lenName": 16,
    "lenType": 16,
    "lenVar": 40
   },
   "kernels_config": {
    "python": {
     "delete_cmd_postfix": "",
     "delete_cmd_prefix": "del ",
     "library": "var_list.py",
     "varRefreshCmd": "print(var_dic_list())"
    },
    "r": {
     "delete_cmd_postfix": ") ",
     "delete_cmd_prefix": "rm(",
     "library": "var_list.r",
     "varRefreshCmd": "cat(var_dic_list()) "
    }
   },
   "types_to_exclude": [
    "module",
    "function",
    "builtin_function_or_method",
    "instance",
    "_Feature"
   ],
   "window_display": false
  }
 },
 "nbformat": 4,
 "nbformat_minor": 5
}
