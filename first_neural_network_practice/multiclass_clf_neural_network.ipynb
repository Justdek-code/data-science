{
 "cells": [
  {
   "cell_type": "code",
   "execution_count": 2,
   "id": "3a829692",
   "metadata": {},
   "outputs": [],
   "source": [
    "import pandas as pd\n",
    "import numpy as np"
   ]
  },
  {
   "cell_type": "code",
   "execution_count": 3,
   "id": "a3cd8f4f",
   "metadata": {},
   "outputs": [],
   "source": [
    "from keras import models\n",
    "from keras import layers"
   ]
  },
  {
   "cell_type": "code",
   "execution_count": 5,
   "id": "0a003d84",
   "metadata": {},
   "outputs": [],
   "source": [
    "from keras.datasets import reuters\n",
    "from keras.utils.np_utils import to_categorical\n",
    "from keras.preprocessing.text import Tokenizer"
   ]
  },
  {
   "cell_type": "code",
   "execution_count": 6,
   "id": "fdf99375",
   "metadata": {},
   "outputs": [],
   "source": [
    "np.random.seed(0)"
   ]
  },
  {
   "cell_type": "code",
   "execution_count": 7,
   "id": "e0725dac",
   "metadata": {},
   "outputs": [],
   "source": [
    "number_of_features = 5000"
   ]
  },
  {
   "cell_type": "code",
   "execution_count": 8,
   "id": "138211cf",
   "metadata": {},
   "outputs": [
    {
     "name": "stdout",
     "output_type": "stream",
     "text": [
      "Downloading data from https://s3.amazonaws.com/text-datasets/reuters.npz\n",
      "2113536/2110848 [==============================] - 742s 351us/step\n"
     ]
    },
    {
     "name": "stderr",
     "output_type": "stream",
     "text": [
      "D:\\Denis\\miniconda\\envs\\neural-networks\\lib\\site-packages\\keras\\datasets\\reuters.py:85: VisibleDeprecationWarning: Creating an ndarray from ragged nested sequences (which is a list-or-tuple of lists-or-tuples-or ndarrays with different lengths or shapes) is deprecated. If you meant to do this, you must specify 'dtype=object' when creating the ndarray\n",
      "  x_train, y_train = np.array(xs[:idx]), np.array(labels[:idx])\n",
      "D:\\Denis\\miniconda\\envs\\neural-networks\\lib\\site-packages\\keras\\datasets\\reuters.py:86: VisibleDeprecationWarning: Creating an ndarray from ragged nested sequences (which is a list-or-tuple of lists-or-tuples-or ndarrays with different lengths or shapes) is deprecated. If you meant to do this, you must specify 'dtype=object' when creating the ndarray\n",
      "  x_test, y_test = np.array(xs[idx:]), np.array(labels[idx:])\n"
     ]
    }
   ],
   "source": [
    "data = reuters.load_data(num_words=number_of_features)\n",
    "(data_train, target_vector_train), (data_test, target_vector_test) = data"
   ]
  },
  {
   "cell_type": "code",
   "execution_count": 9,
   "id": "03f4a2f0",
   "metadata": {},
   "outputs": [],
   "source": [
    "tokenizer = Tokenizer(num_words=number_of_features)\n",
    "features_train = tokenizer.sequences_to_matrix(data_train, mode='binary')\n",
    "features_test = tokenizer.sequences_to_matrix(data_test, mode='binary')"
   ]
  },
  {
   "cell_type": "code",
   "execution_count": 10,
   "id": "25ec69be",
   "metadata": {},
   "outputs": [],
   "source": [
    "target_train = to_categorical(target_vector_train)\n",
    "target_test = to_categorical(target_vector_test)"
   ]
  },
  {
   "cell_type": "code",
   "execution_count": 11,
   "id": "c5feb80d",
   "metadata": {},
   "outputs": [],
   "source": [
    "network = models.Sequential()"
   ]
  },
  {
   "cell_type": "code",
   "execution_count": 12,
   "id": "9836b6e9",
   "metadata": {},
   "outputs": [],
   "source": [
    "network.add(layers.Dense(\n",
    "    units=100,\n",
    "    activation='relu',\n",
    "    input_shape=(number_of_features,)\n",
    "))"
   ]
  },
  {
   "cell_type": "code",
   "execution_count": 13,
   "id": "b601e37c",
   "metadata": {},
   "outputs": [],
   "source": [
    "network.add(layers.Dense(units=100, activation='relu'))\n",
    "network.add(layers.Dense(units=46, activation='softmax'))"
   ]
  },
  {
   "cell_type": "code",
   "execution_count": 14,
   "id": "6e351562",
   "metadata": {},
   "outputs": [],
   "source": [
    "network.compile(\n",
    "    loss='categorical_crossentropy',\n",
    "    optimizer='rmsprop',\n",
    "    metrics=['accuracy']\n",
    ")"
   ]
  },
  {
   "cell_type": "code",
   "execution_count": 16,
   "id": "7f1551be",
   "metadata": {},
   "outputs": [
    {
     "name": "stdout",
     "output_type": "stream",
     "text": [
      "Train on 8982 samples, validate on 2246 samples\n",
      "Epoch 1/10\n",
      "8982/8982 [==============================] - 1s 138us/step - loss: 0.1796 - accuracy: 0.9510 - val_loss: 1.0980 - val_accuracy: 0.7965\n",
      "Epoch 2/10\n",
      "8982/8982 [==============================] - 1s 114us/step - loss: 0.1644 - accuracy: 0.9525 - val_loss: 1.1263 - val_accuracy: 0.7974\n",
      "Epoch 3/10\n",
      "8982/8982 [==============================] - 1s 116us/step - loss: 0.1521 - accuracy: 0.9526 - val_loss: 1.1679 - val_accuracy: 0.7996\n",
      "Epoch 4/10\n",
      "8982/8982 [==============================] - 1s 114us/step - loss: 0.1466 - accuracy: 0.9541 - val_loss: 1.1684 - val_accuracy: 0.7961\n",
      "Epoch 5/10\n",
      "8982/8982 [==============================] - 1s 113us/step - loss: 0.1376 - accuracy: 0.9525 - val_loss: 1.2910 - val_accuracy: 0.7916\n",
      "Epoch 6/10\n",
      "8982/8982 [==============================] - 1s 113us/step - loss: 0.1328 - accuracy: 0.9541 - val_loss: 1.2177 - val_accuracy: 0.7912\n",
      "Epoch 7/10\n",
      "8982/8982 [==============================] - 1s 114us/step - loss: 0.1265 - accuracy: 0.9555 - val_loss: 1.2726 - val_accuracy: 0.7956\n",
      "Epoch 8/10\n",
      "8982/8982 [==============================] - 1s 114us/step - loss: 0.1215 - accuracy: 0.9547 - val_loss: 1.3016 - val_accuracy: 0.7921\n",
      "Epoch 9/10\n",
      "8982/8982 [==============================] - 1s 114us/step - loss: 0.1167 - accuracy: 0.9542 - val_loss: 1.3891 - val_accuracy: 0.7934\n",
      "Epoch 10/10\n",
      "8982/8982 [==============================] - 1s 114us/step - loss: 0.1155 - accuracy: 0.9545 - val_loss: 1.4017 - val_accuracy: 0.7947\n"
     ]
    }
   ],
   "source": [
    "history = network.fit(\n",
    "    features_train,\n",
    "    target_train,\n",
    "    epochs=10,\n",
    "    verbose=1,\n",
    "    batch_size=100,\n",
    "    validation_data=(features_test, target_test)\n",
    ")"
   ]
  },
  {
   "cell_type": "code",
   "execution_count": null,
   "id": "d173ea63",
   "metadata": {},
   "outputs": [],
   "source": []
  },
  {
   "cell_type": "code",
   "execution_count": null,
   "id": "d10a59a9",
   "metadata": {},
   "outputs": [],
   "source": []
  },
  {
   "cell_type": "code",
   "execution_count": null,
   "id": "d981ac77",
   "metadata": {},
   "outputs": [],
   "source": []
  }
 ],
 "metadata": {
  "kernelspec": {
   "display_name": "Python 3",
   "language": "python",
   "name": "python3"
  },
  "language_info": {
   "codemirror_mode": {
    "name": "ipython",
    "version": 3
   },
   "file_extension": ".py",
   "mimetype": "text/x-python",
   "name": "python",
   "nbconvert_exporter": "python",
   "pygments_lexer": "ipython3",
   "version": "3.6.13"
  }
 },
 "nbformat": 4,
 "nbformat_minor": 5
}
