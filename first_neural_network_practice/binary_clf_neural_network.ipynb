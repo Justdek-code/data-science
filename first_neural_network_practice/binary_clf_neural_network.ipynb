{
 "cells": [
  {
   "cell_type": "code",
   "execution_count": 31,
   "id": "0cd447f2",
   "metadata": {},
   "outputs": [],
   "source": [
    "import pandas as pd\n",
    "import numpy as np\n",
    "import matplotlib.pyplot as plt\n",
    "import seaborn as sns"
   ]
  },
  {
   "cell_type": "code",
   "execution_count": 32,
   "id": "c329678f",
   "metadata": {},
   "outputs": [],
   "source": [
    "from keras import models\n",
    "from keras import layers\n",
    "from keras.preprocessing.text import Tokenizer"
   ]
  },
  {
   "cell_type": "code",
   "execution_count": 33,
   "id": "65ca3dd5",
   "metadata": {},
   "outputs": [],
   "source": [
    "from keras.datasets import imdb"
   ]
  },
  {
   "cell_type": "code",
   "execution_count": 78,
   "id": "957a6468",
   "metadata": {},
   "outputs": [],
   "source": [
    "from IPython.display import Image, SVG\n",
    "from IPython.core.display import HTML "
   ]
  },
  {
   "cell_type": "markdown",
   "id": "d864fc5b",
   "metadata": {},
   "source": [
    "**IMDB movie review sentiment classification dataset.**\n",
    "\n",
    "This is a dataset of 25,000 movies reviews from IMDB, labeled by sentiment (positive/negative). Reviews have been preprocessed, and each review is encoded as a list of word indexes (integers). For convenience, words are indexed by overall frequency in the dataset, so that for instance the integer \"3\" encodes the 3rd most frequent word in the data."
   ]
  },
  {
   "cell_type": "code",
   "execution_count": 46,
   "id": "6977ef21",
   "metadata": {},
   "outputs": [],
   "source": [
    "(X_train, y_train), (X_test, y_test) = imdb.load_data(num_words=1000)"
   ]
  },
  {
   "cell_type": "code",
   "execution_count": 47,
   "id": "32fa50a3",
   "metadata": {},
   "outputs": [
    {
     "name": "stdout",
     "output_type": "stream",
     "text": [
      "(25000,) (25000,) (25000,) (25000,)\n"
     ]
    }
   ],
   "source": [
    "print(X_train.shape, y_train.shape, X_test.shape, y_test.shape)"
   ]
  },
  {
   "cell_type": "code",
   "execution_count": 48,
   "id": "9edc9ac4",
   "metadata": {},
   "outputs": [
    {
     "data": {
      "text/plain": [
       "array([list([1, 14, 22, 16, 43, 530, 973, 2, 2, 65, 458, 2, 66, 2, 4, 173, 36, 256, 5, 25, 100, 43, 838, 112, 50, 670, 2, 9, 35, 480, 284, 5, 150, 4, 172, 112, 167, 2, 336, 385, 39, 4, 172, 2, 2, 17, 546, 38, 13, 447, 4, 192, 50, 16, 6, 147, 2, 19, 14, 22, 4, 2, 2, 469, 4, 22, 71, 87, 12, 16, 43, 530, 38, 76, 15, 13, 2, 4, 22, 17, 515, 17, 12, 16, 626, 18, 2, 5, 62, 386, 12, 8, 316, 8, 106, 5, 4, 2, 2, 16, 480, 66, 2, 33, 4, 130, 12, 16, 38, 619, 5, 25, 124, 51, 36, 135, 48, 25, 2, 33, 6, 22, 12, 215, 28, 77, 52, 5, 14, 407, 16, 82, 2, 8, 4, 107, 117, 2, 15, 256, 4, 2, 7, 2, 5, 723, 36, 71, 43, 530, 476, 26, 400, 317, 46, 7, 4, 2, 2, 13, 104, 88, 4, 381, 15, 297, 98, 32, 2, 56, 26, 141, 6, 194, 2, 18, 4, 226, 22, 21, 134, 476, 26, 480, 5, 144, 30, 2, 18, 51, 36, 28, 224, 92, 25, 104, 4, 226, 65, 16, 38, 2, 88, 12, 16, 283, 5, 16, 2, 113, 103, 32, 15, 16, 2, 19, 178, 32]),\n",
       "       list([1, 194, 2, 194, 2, 78, 228, 5, 6, 2, 2, 2, 134, 26, 4, 715, 8, 118, 2, 14, 394, 20, 13, 119, 954, 189, 102, 5, 207, 110, 2, 21, 14, 69, 188, 8, 30, 23, 7, 4, 249, 126, 93, 4, 114, 9, 2, 2, 5, 647, 4, 116, 9, 35, 2, 4, 229, 9, 340, 2, 4, 118, 9, 4, 130, 2, 19, 4, 2, 5, 89, 29, 952, 46, 37, 4, 455, 9, 45, 43, 38, 2, 2, 398, 4, 2, 26, 2, 5, 163, 11, 2, 2, 4, 2, 9, 194, 775, 7, 2, 2, 349, 2, 148, 605, 2, 2, 15, 123, 125, 68, 2, 2, 15, 349, 165, 2, 98, 5, 4, 228, 9, 43, 2, 2, 15, 299, 120, 5, 120, 174, 11, 220, 175, 136, 50, 9, 2, 228, 2, 5, 2, 656, 245, 2, 5, 4, 2, 131, 152, 491, 18, 2, 32, 2, 2, 14, 9, 6, 371, 78, 22, 625, 64, 2, 9, 8, 168, 145, 23, 4, 2, 15, 16, 4, 2, 5, 28, 6, 52, 154, 462, 33, 89, 78, 285, 16, 145, 95])],\n",
       "      dtype=object)"
      ]
     },
     "execution_count": 48,
     "metadata": {},
     "output_type": "execute_result"
    }
   ],
   "source": [
    "X_train[:2]"
   ]
  },
  {
   "cell_type": "markdown",
   "id": "8a318567",
   "metadata": {},
   "source": [
    "### Tokenizer\n",
    "\n",
    "This class allows to vectorize a text corpus, by turning each text into either a sequence of integers (each integer being the index of a token in a dictionary) or into a vector where the coefficient for each token could be binary, based on word count, based on tf-idf..."
   ]
  },
  {
   "cell_type": "code",
   "execution_count": 49,
   "id": "8aaaf77d",
   "metadata": {},
   "outputs": [],
   "source": [
    "tokenizer = Tokenizer(num_words=1000)\n",
    "features_train = tokenizer.sequences_to_matrix(X_train, mode='binary')\n",
    "features_test = tokenizer.sequences_to_matrix(X_test, mode='binary')"
   ]
  },
  {
   "cell_type": "markdown",
   "id": "1cb9d843",
   "metadata": {},
   "source": [
    "**sequences_to_matrix()**\n",
    "\n",
    "Converts a list of sequences into a Numpy matrix.\n",
    "\n",
    "sequences - list of sequences (a sequence is a list of integer word indices)."
   ]
  },
  {
   "cell_type": "code",
   "execution_count": 50,
   "id": "dbd674a6",
   "metadata": {},
   "outputs": [
    {
     "data": {
      "text/plain": [
       "(1000,)"
      ]
     },
     "execution_count": 50,
     "metadata": {},
     "output_type": "execute_result"
    }
   ],
   "source": [
    "features_train[0].shape"
   ]
  },
  {
   "cell_type": "code",
   "execution_count": 51,
   "id": "005d4e30",
   "metadata": {},
   "outputs": [
    {
     "data": {
      "text/plain": [
       "array([0., 1., 1., 0., 1., 1., 1., 1., 1., 1., 0., 0., 1., 1., 1., 1., 1.,\n",
       "       1., 1., 1.])"
      ]
     },
     "execution_count": 51,
     "metadata": {},
     "output_type": "execute_result"
    }
   ],
   "source": [
    "features_train[0][:20]"
   ]
  },
  {
   "cell_type": "code",
   "execution_count": 60,
   "id": "756bc2e8",
   "metadata": {},
   "outputs": [],
   "source": [
    "network = models.Sequential()"
   ]
  },
  {
   "cell_type": "markdown",
   "id": "8d17d27a",
   "metadata": {},
   "source": [
    "**Sequential model** is appropriate for a plain stack of layers where each layer has exactly one input tensor and one output tensor."
   ]
  },
  {
   "cell_type": "code",
   "execution_count": 61,
   "id": "fa829fe6",
   "metadata": {},
   "outputs": [],
   "source": [
    "network.add(layers.Dense(units=16, activation='relu', input_shape=(1000,)))"
   ]
  },
  {
   "cell_type": "code",
   "execution_count": 62,
   "id": "249db690",
   "metadata": {},
   "outputs": [],
   "source": [
    "network.add(layers.Dense(units=16, activation='relu'))"
   ]
  },
  {
   "cell_type": "code",
   "execution_count": 63,
   "id": "abedab80",
   "metadata": {},
   "outputs": [],
   "source": [
    "network.add(layers.Dense(units=1, activation='sigmoid'))"
   ]
  },
  {
   "cell_type": "markdown",
   "id": "d2cb35de",
   "metadata": {},
   "source": [
    "There we add 3 layers to our network. Two of them are hidden and the last one for output. For hidden layers we used ReLU activation function and for the output node we used sigmoid funtion."
   ]
  },
  {
   "cell_type": "code",
   "execution_count": 82,
   "id": "8a62e7d7",
   "metadata": {},
   "outputs": [
    {
     "data": {
      "image/png": "[encoded data removed]",
      "text/plain": [
       "<IPython.core.display.Image object>"
      ]
     },
     "execution_count": 82,
     "metadata": {
      "image/png": {
       "height": 300,
       "width": 300
      }
     },
     "output_type": "execute_result"
    }
   ],
   "source": [
    "Image(filename =\"img\\ReLU_activation_func.png\", width=300, height=300)"
   ]
  },
  {
   "cell_type": "code",
   "execution_count": 83,
   "id": "df9d7910",
   "metadata": {},
   "outputs": [
    {
     "data": {
      "image/svg+xml": [
       "<svg aria-labelledby=\"MathJax-SVG-1-Title\" focusable=\"false\" height=\"6.176ex\" role=\"img\" style=\"vertical-align: -2.505ex;\" viewBox=\"0 -1580.7 8289.7 2659.1\" width=\"19.253ex\" xmlns=\"http://www.w3.org/2000/svg\" xmlns:xlink=\"http://www.w3.org/1999/xlink\">\n",
       "<title id=\"MathJax-SVG-1-Title\">{\\displaystyle f(x)={\\begin{cases}0&amp;x&lt;0\\\\x&amp;x\\geqslant 0\\end{cases}}}</title>\n",
       "<defs aria-hidden=\"true\">\n",
       "<path d=\"M118 -162Q120 -162 124 -164T135 -167T147 -168Q160 -168 171 -155T187 -126Q197 -99 221 27T267 267T289 382V385H242Q195 385 192 387Q188 390 188 397L195 425Q197 430 203 430T250 431Q298 431 298 432Q298 434 307 482T319 540Q356 705 465 705Q502 703 526 683T550 630Q550 594 529 578T487 561Q443 561 443 603Q443 622 454 636T478 657L487 662Q471 668 457 668Q445 668 434 658T419 630Q412 601 403 552T387 469T380 433Q380 431 435 431Q480 431 487 430T498 424Q499 420 496 407T491 391Q489 386 482 386T428 385H372L349 263Q301 15 282 -47Q255 -132 212 -173Q175 -205 139 -205Q107 -205 81 -186T55 -132Q55 -95 76 -78T118 -61Q162 -61 162 -103Q162 -122 151 -136T127 -157L118 -162Z\" id=\"E1-MJMATHI-66\" stroke-width=\"1\"/>\n",
       "<path d=\"M94 250Q94 319 104 381T127 488T164 576T202 643T244 695T277 729T302 750H315H319Q333 750 333 741Q333 738 316 720T275 667T226 581T184 443T167 250T184 58T225 -81T274 -167T316 -220T333 -241Q333 -250 318 -250H315H302L274 -226Q180 -141 137 -14T94 250Z\" id=\"E1-MJMAIN-28\" stroke-width=\"1\"/>\n",
       "<path d=\"M52 289Q59 331 106 386T222 442Q257 442 286 424T329 379Q371 442 430 442Q467 442 494 420T522 361Q522 332 508 314T481 292T458 288Q439 288 427 299T415 328Q415 374 465 391Q454 404 425 404Q412 404 406 402Q368 386 350 336Q290 115 290 78Q290 50 306 38T341 26Q378 26 414 59T463 140Q466 150 469 151T485 153H489Q504 153 504 145Q504 144 502 134Q486 77 440 33T333 -11Q263 -11 227 52Q186 -10 133 -10H127Q78 -10 57 16T35 71Q35 103 54 123T99 143Q142 143 142 101Q142 81 130 66T107 46T94 41L91 40Q91 39 97 36T113 29T132 26Q168 26 194 71Q203 87 217 139T245 247T261 313Q266 340 266 352Q266 380 251 392T217 404Q177 404 142 372T93 290Q91 281 88 280T72 278H58Q52 284 52 289Z\" id=\"E1-MJMATHI-78\" stroke-width=\"1\"/>\n",
       "<path d=\"M60 749L64 750Q69 750 74 750H86L114 726Q208 641 251 514T294 250Q294 182 284 119T261 12T224 -76T186 -143T145 -194T113 -227T90 -246Q87 -249 86 -250H74Q66 -250 63 -250T58 -247T55 -238Q56 -237 66 -225Q221 -64 221 250T66 725Q56 737 55 738Q55 746 60 749Z\" id=\"E1-MJMAIN-29\" stroke-width=\"1\"/>\n",
       "<path d=\"M56 347Q56 360 70 367H707Q722 359 722 347Q722 336 708 328L390 327H72Q56 332 56 347ZM56 153Q56 168 72 173H708Q722 163 722 153Q722 140 707 133H70Q56 140 56 153Z\" id=\"E1-MJMAIN-3D\" stroke-width=\"1\"/>\n",
       "<path d=\"M434 -231Q434 -244 428 -250H410Q281 -250 230 -184Q225 -177 222 -172T217 -161T213 -148T211 -133T210 -111T209 -84T209 -47T209 0Q209 21 209 53Q208 142 204 153Q203 154 203 155Q189 191 153 211T82 231Q71 231 68 234T65 250T68 266T82 269Q116 269 152 289T203 345Q208 356 208 377T209 529V579Q209 634 215 656T244 698Q270 724 324 740Q361 748 377 749Q379 749 390 749T408 750H428Q434 744 434 732Q434 719 431 716Q429 713 415 713Q362 710 332 689T296 647Q291 634 291 499V417Q291 370 288 353T271 314Q240 271 184 255L170 250L184 245Q202 239 220 230T262 196T290 137Q291 131 291 1Q291 -134 296 -147Q306 -174 339 -192T415 -213Q429 -213 431 -216Q434 -219 434 -231Z\" id=\"E1-MJMAIN-7B\" stroke-width=\"1\"/>\n",
       "<path d=\"M96 585Q152 666 249 666Q297 666 345 640T423 548Q460 465 460 320Q460 165 417 83Q397 41 362 16T301 -15T250 -22Q224 -22 198 -16T137 16T82 83Q39 165 39 320Q39 494 96 585ZM321 597Q291 629 250 629Q208 629 178 597Q153 571 145 525T137 333Q137 175 145 125T181 46Q209 16 250 16Q290 16 318 46Q347 76 354 130T362 333Q362 478 354 524T321 597Z\" id=\"E1-MJMAIN-30\" stroke-width=\"1\"/>\n",
       "<path d=\"M694 -11T694 -19T688 -33T678 -40Q671 -40 524 29T234 166L90 235Q83 240 83 250Q83 261 91 266Q664 540 678 540Q681 540 687 534T694 519T687 505Q686 504 417 376L151 250L417 124Q686 -4 687 -5Q694 -11 694 -19Z\" id=\"E1-MJMAIN-3C\" stroke-width=\"1\"/>\n",
       "<path d=\"M83 616Q83 624 89 630T99 636Q107 636 253 568T543 431T687 361Q694 356 694 346T687 331Q685 329 395 192L107 56H101Q83 58 83 76Q83 77 83 79Q82 86 98 95Q117 105 248 167Q326 204 378 228L626 346L360 472Q291 505 200 548Q112 589 98 597T83 616ZM674 172Q692 172 694 154Q694 142 687 137Q685 135 395 -2L107 -138H101Q83 -136 83 -118Q83 -106 96 -100Q100 -98 380 35T665 170T674 172Z\" id=\"E1-MJAMS-2A7E\" stroke-width=\"1\"/>\n",
       "<path d=\"M618 -943L612 -949H582L568 -943Q472 -903 411 -841T332 -703Q327 -682 327 -653T325 -350Q324 -28 323 -18Q317 24 301 61T264 124T221 171T179 205T147 225T132 234Q130 238 130 250Q130 255 130 258T131 264T132 267T134 269T139 272T144 275Q207 308 256 367Q310 436 323 519Q324 529 325 851Q326 1124 326 1154T332 1205Q369 1358 566 1443L582 1450H612L618 1444V1429Q618 1413 616 1411L608 1406Q599 1402 585 1393T552 1372T515 1343T479 1305T449 1257T429 1200Q425 1180 425 1152T423 851Q422 579 422 549T416 498Q407 459 388 424T346 364T297 318T250 284T214 264T197 254L188 251L205 242Q290 200 345 138T416 3Q421 -18 421 -48T423 -349Q423 -397 423 -472Q424 -677 428 -694Q429 -697 429 -699Q434 -722 443 -743T465 -782T491 -816T519 -845T548 -868T574 -886T595 -899T610 -908L616 -910Q618 -912 618 -928V-943Z\" id=\"E1-MJSZ3-7B\" stroke-width=\"1\"/>\n",
       "</defs>\n",
       "<g aria-hidden=\"true\" fill=\"currentColor\" stroke=\"currentColor\" stroke-width=\"0\" transform=\"matrix(1 0 0 -1 0 0)\">\n",
       " <use x=\"0\" xlink:href=\"#E1-MJMATHI-66\" y=\"0\"/>\n",
       " <use x=\"550\" xlink:href=\"#E1-MJMAIN-28\" y=\"0\"/>\n",
       " <use x=\"940\" xlink:href=\"#E1-MJMATHI-78\" y=\"0\"/>\n",
       " <use x=\"1512\" xlink:href=\"#E1-MJMAIN-29\" y=\"0\"/>\n",
       " <use x=\"2179\" xlink:href=\"#E1-MJMAIN-3D\" y=\"0\"/>\n",
       "<g transform=\"translate(3236,0)\">\n",
       " <use xlink:href=\"#E1-MJSZ3-7B\"/>\n",
       "<g transform=\"translate(917,0)\">\n",
       "<g transform=\"translate(-11,0)\">\n",
       " <use x=\"0\" xlink:href=\"#E1-MJMAIN-30\" y=\"550\"/>\n",
       " <use x=\"0\" xlink:href=\"#E1-MJMATHI-78\" y=\"-650\"/>\n",
       "</g>\n",
       "<g transform=\"translate(1562,0)\">\n",
       "<g transform=\"translate(0,550)\">\n",
       " <use x=\"0\" xlink:href=\"#E1-MJMATHI-78\" y=\"0\"/>\n",
       " <use x=\"850\" xlink:href=\"#E1-MJMAIN-3C\" y=\"0\"/>\n",
       " <use x=\"1906\" xlink:href=\"#E1-MJMAIN-30\" y=\"0\"/>\n",
       "</g>\n",
       "<g transform=\"translate(0,-650)\">\n",
       " <use x=\"0\" xlink:href=\"#E1-MJMATHI-78\" y=\"0\"/>\n",
       " <use x=\"850\" xlink:href=\"#E1-MJAMS-2A7E\" y=\"0\"/>\n",
       " <use x=\"1906\" xlink:href=\"#E1-MJMAIN-30\" y=\"0\"/>\n",
       "</g>\n",
       "</g>\n",
       "</g>\n",
       "</g>\n",
       "</g>\n",
       "</svg>"
      ],
      "text/plain": [
       "<IPython.core.display.SVG object>"
      ]
     },
     "metadata": {},
     "output_type": "display_data"
    }
   ],
   "source": [
    "display(SVG(filename='img\\ReLU_formula.svg'))"
   ]
  },
  {
   "cell_type": "code",
   "execution_count": 85,
   "id": "d225b921",
   "metadata": {},
   "outputs": [
    {
     "data": {
      "image/png": "[encoded data removed]",
      "text/plain": [
       "<IPython.core.display.Image object>"
      ]
     },
     "execution_count": 85,
     "metadata": {
      "image/png": {
       "height": 300,
       "width": 300
      }
     },
     "output_type": "execute_result"
    }
   ],
   "source": [
    "Image(filename =\"img\\sigmoid_activation_fun.png\", width=300, height=300)"
   ]
  },
  {
   "cell_type": "code",
   "execution_count": 86,
   "id": "7afca52c",
   "metadata": {},
   "outputs": [
    {
     "data": {
      "image/svg+xml": [
       "<svg aria-labelledby=\"MathJax-SVG-1-Title\" focusable=\"false\" height=\"5.509ex\" role=\"img\" style=\"vertical-align: -2.171ex;\" viewBox=\"0 -1437.2 10099.4 2372\" width=\"23.457ex\" xmlns=\"http://www.w3.org/2000/svg\" xmlns:xlink=\"http://www.w3.org/1999/xlink\">\n",
       "<title id=\"MathJax-SVG-1-Title\">{\\displaystyle f(x)=\\sigma (x)={\\frac {1}{1+e^{-x}}}}</title>\n",
       "<defs aria-hidden=\"true\">\n",
       "<path d=\"M118 -162Q120 -162 124 -164T135 -167T147 -168Q160 -168 171 -155T187 -126Q197 -99 221 27T267 267T289 382V385H242Q195 385 192 387Q188 390 188 397L195 425Q197 430 203 430T250 431Q298 431 298 432Q298 434 307 482T319 540Q356 705 465 705Q502 703 526 683T550 630Q550 594 529 578T487 561Q443 561 443 603Q443 622 454 636T478 657L487 662Q471 668 457 668Q445 668 434 658T419 630Q412 601 403 552T387 469T380 433Q380 431 435 431Q480 431 487 430T498 424Q499 420 496 407T491 391Q489 386 482 386T428 385H372L349 263Q301 15 282 -47Q255 -132 212 -173Q175 -205 139 -205Q107 -205 81 -186T55 -132Q55 -95 76 -78T118 -61Q162 -61 162 -103Q162 -122 151 -136T127 -157L118 -162Z\" id=\"E1-MJMATHI-66\" stroke-width=\"1\"/>\n",
       "<path d=\"M94 250Q94 319 104 381T127 488T164 576T202 643T244 695T277 729T302 750H315H319Q333 750 333 741Q333 738 316 720T275 667T226 581T184 443T167 250T184 58T225 -81T274 -167T316 -220T333 -241Q333 -250 318 -250H315H302L274 -226Q180 -141 137 -14T94 250Z\" id=\"E1-MJMAIN-28\" stroke-width=\"1\"/>\n",
       "<path d=\"M52 289Q59 331 106 386T222 442Q257 442 286 424T329 379Q371 442 430 442Q467 442 494 420T522 361Q522 332 508 314T481 292T458 288Q439 288 427 299T415 328Q415 374 465 391Q454 404 425 404Q412 404 406 402Q368 386 350 336Q290 115 290 78Q290 50 306 38T341 26Q378 26 414 59T463 140Q466 150 469 151T485 153H489Q504 153 504 145Q504 144 502 134Q486 77 440 33T333 -11Q263 -11 227 52Q186 -10 133 -10H127Q78 -10 57 16T35 71Q35 103 54 123T99 143Q142 143 142 101Q142 81 130 66T107 46T94 41L91 40Q91 39 97 36T113 29T132 26Q168 26 194 71Q203 87 217 139T245 247T261 313Q266 340 266 352Q266 380 251 392T217 404Q177 404 142 372T93 290Q91 281 88 280T72 278H58Q52 284 52 289Z\" id=\"E1-MJMATHI-78\" stroke-width=\"1\"/>\n",
       "<path d=\"M60 749L64 750Q69 750 74 750H86L114 726Q208 641 251 514T294 250Q294 182 284 119T261 12T224 -76T186 -143T145 -194T113 -227T90 -246Q87 -249 86 -250H74Q66 -250 63 -250T58 -247T55 -238Q56 -237 66 -225Q221 -64 221 250T66 725Q56 737 55 738Q55 746 60 749Z\" id=\"E1-MJMAIN-29\" stroke-width=\"1\"/>\n",
       "<path d=\"M56 347Q56 360 70 367H707Q722 359 722 347Q722 336 708 328L390 327H72Q56 332 56 347ZM56 153Q56 168 72 173H708Q722 163 722 153Q722 140 707 133H70Q56 140 56 153Z\" id=\"E1-MJMAIN-3D\" stroke-width=\"1\"/>\n",
       "<path d=\"M184 -11Q116 -11 74 34T31 147Q31 247 104 333T274 430Q275 431 414 431H552Q553 430 555 429T559 427T562 425T565 422T567 420T569 416T570 412T571 407T572 401Q572 357 507 357Q500 357 490 357T476 358H416L421 348Q439 310 439 263Q439 153 359 71T184 -11ZM361 278Q361 358 276 358Q152 358 115 184Q114 180 114 178Q106 141 106 117Q106 67 131 47T188 26Q242 26 287 73Q316 103 334 153T356 233T361 278Z\" id=\"E1-MJMATHI-3C3\" stroke-width=\"1\"/>\n",
       "<path d=\"M213 578L200 573Q186 568 160 563T102 556H83V602H102Q149 604 189 617T245 641T273 663Q275 666 285 666Q294 666 302 660V361L303 61Q310 54 315 52T339 48T401 46H427V0H416Q395 3 257 3Q121 3 100 0H88V46H114Q136 46 152 46T177 47T193 50T201 52T207 57T213 61V578Z\" id=\"E1-MJMAIN-31\" stroke-width=\"1\"/>\n",
       "<path d=\"M56 237T56 250T70 270H369V420L370 570Q380 583 389 583Q402 583 409 568V270H707Q722 262 722 250T707 230H409V-68Q401 -82 391 -82H389H387Q375 -82 369 -68V230H70Q56 237 56 250Z\" id=\"E1-MJMAIN-2B\" stroke-width=\"1\"/>\n",
       "<path d=\"M39 168Q39 225 58 272T107 350T174 402T244 433T307 442H310Q355 442 388 420T421 355Q421 265 310 237Q261 224 176 223Q139 223 138 221Q138 219 132 186T125 128Q125 81 146 54T209 26T302 45T394 111Q403 121 406 121Q410 121 419 112T429 98T420 82T390 55T344 24T281 -1T205 -11Q126 -11 83 42T39 168ZM373 353Q367 405 305 405Q272 405 244 391T199 357T170 316T154 280T149 261Q149 260 169 260Q282 260 327 284T373 353Z\" id=\"E1-MJMATHI-65\" stroke-width=\"1\"/>\n",
       "<path d=\"M84 237T84 250T98 270H679Q694 262 694 250T679 230H98Q84 237 84 250Z\" id=\"E1-MJMAIN-2212\" stroke-width=\"1\"/>\n",
       "</defs>\n",
       "<g aria-hidden=\"true\" fill=\"currentColor\" stroke=\"currentColor\" stroke-width=\"0\" transform=\"matrix(1 0 0 -1 0 0)\">\n",
       " <use x=\"0\" xlink:href=\"#E1-MJMATHI-66\" y=\"0\"/>\n",
       " <use x=\"550\" xlink:href=\"#E1-MJMAIN-28\" y=\"0\"/>\n",
       " <use x=\"940\" xlink:href=\"#E1-MJMATHI-78\" y=\"0\"/>\n",
       " <use x=\"1512\" xlink:href=\"#E1-MJMAIN-29\" y=\"0\"/>\n",
       " <use x=\"2179\" xlink:href=\"#E1-MJMAIN-3D\" y=\"0\"/>\n",
       " <use x=\"3236\" xlink:href=\"#E1-MJMATHI-3C3\" y=\"0\"/>\n",
       " <use x=\"3808\" xlink:href=\"#E1-MJMAIN-28\" y=\"0\"/>\n",
       " <use x=\"4198\" xlink:href=\"#E1-MJMATHI-78\" y=\"0\"/>\n",
       " <use x=\"4770\" xlink:href=\"#E1-MJMAIN-29\" y=\"0\"/>\n",
       " <use x=\"5437\" xlink:href=\"#E1-MJMAIN-3D\" y=\"0\"/>\n",
       "<g transform=\"translate(6494,0)\">\n",
       "<g transform=\"translate(120,0)\">\n",
       "<rect height=\"60\" stroke=\"none\" width=\"3365\" x=\"0\" y=\"220\"/>\n",
       " <use x=\"1432\" xlink:href=\"#E1-MJMAIN-31\" y=\"676\"/>\n",
       "<g transform=\"translate(60,-722)\">\n",
       " <use x=\"0\" xlink:href=\"#E1-MJMAIN-31\" y=\"0\"/>\n",
       " <use x=\"722\" xlink:href=\"#E1-MJMAIN-2B\" y=\"0\"/>\n",
       "<g transform=\"translate(1723,0)\">\n",
       " <use x=\"0\" xlink:href=\"#E1-MJMATHI-65\" y=\"0\"/>\n",
       "<g transform=\"translate(466,288)\">\n",
       " <use transform=\"scale(0.707)\" x=\"0\" xlink:href=\"#E1-MJMAIN-2212\" y=\"0\"/>\n",
       " <use transform=\"scale(0.707)\" x=\"778\" xlink:href=\"#E1-MJMATHI-78\" y=\"0\"/>\n",
       "</g>\n",
       "</g>\n",
       "</g>\n",
       "</g>\n",
       "</g>\n",
       "</g>\n",
       "</svg>"
      ],
      "text/plain": [
       "<IPython.core.display.SVG object>"
      ]
     },
     "metadata": {},
     "output_type": "display_data"
    }
   ],
   "source": [
    "display(SVG(filename='img\\sigmoid_formula.svg'))"
   ]
  },
  {
   "cell_type": "code",
   "execution_count": 64,
   "id": "1933b1d9",
   "metadata": {},
   "outputs": [],
   "source": [
    "network.compile(\n",
    "    loss='binary_crossentropy',\n",
    "    optimizer='rmsprop',\n",
    "    metrics=['accuracy']\n",
    ")"
   ]
  },
  {
   "cell_type": "code",
   "execution_count": 81,
   "id": "90b52d5a",
   "metadata": {},
   "outputs": [
    {
     "name": "stdout",
     "output_type": "stream",
     "text": [
      "Train on 25000 samples, validate on 25000 samples\n",
      "Epoch 1/3\n",
      "25000/25000 [==============================] - 1s 48us/step - loss: 0.0156 - accuracy: 0.9964 - val_loss: 1.5324 - val_accuracy: 0.8146\n",
      "Epoch 2/3\n",
      "25000/25000 [==============================] - 1s 48us/step - loss: 0.0139 - accuracy: 0.9976 - val_loss: 1.5876 - val_accuracy: 0.8120\n",
      "Epoch 3/3\n",
      "25000/25000 [==============================] - 1s 49us/step - loss: 0.0123 - accuracy: 0.9976 - val_loss: 1.7254 - val_accuracy: 0.8154\n"
     ]
    }
   ],
   "source": [
    "history = network.fit(\n",
    "    features_train,\n",
    "    y_train,\n",
    "    epochs=3,\n",
    "    verbose=1,\n",
    "    batch_size=100,\n",
    "    validation_data=(features_test, y_test)\n",
    ")"
   ]
  },
  {
   "cell_type": "code",
   "execution_count": null,
   "id": "b2e3f606",
   "metadata": {},
   "outputs": [],
   "source": []
  },
  {
   "cell_type": "code",
   "execution_count": null,
   "id": "9b462d07",
   "metadata": {},
   "outputs": [],
   "source": []
  },
  {
   "cell_type": "code",
   "execution_count": null,
   "id": "c78ca390",
   "metadata": {},
   "outputs": [],
   "source": []
  }
 ],
 "metadata": {
  "kernelspec": {
   "display_name": "Python 3",
   "language": "python",
   "name": "python3"
  },
  "language_info": {
   "codemirror_mode": {
    "name": "ipython",
    "version": 3
   },
   "file_extension": ".py",
   "mimetype": "text/x-python",
   "name": "python",
   "nbconvert_exporter": "python",
   "pygments_lexer": "ipython3",
   "version": "3.6.13"
  },
  "varInspector": {
   "cols": {
    "lenName": 16,
    "lenType": 16,
    "lenVar": 40
   },
   "kernels_config": {
    "python": {
     "delete_cmd_postfix": "",
     "delete_cmd_prefix": "del ",
     "library": "var_list.py",
     "varRefreshCmd": "print(var_dic_list())"
    },
    "r": {
     "delete_cmd_postfix": ") ",
     "delete_cmd_prefix": "rm(",
     "library": "var_list.r",
     "varRefreshCmd": "cat(var_dic_list()) "
    }
   },
   "types_to_exclude": [
    "module",
    "function",
    "builtin_function_or_method",
    "instance",
    "_Feature"
   ],
   "window_display": false
  }
 },
 "nbformat": 4,
 "nbformat_minor": 5
}
